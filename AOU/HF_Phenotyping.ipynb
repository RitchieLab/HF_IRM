{
 "cells": [
  {
   "cell_type": "markdown",
   "metadata": {},
   "source": [
    "# load packages"
   ]
  },
  {
   "cell_type": "code",
   "execution_count": null,
   "metadata": {},
   "outputs": [],
   "source": [
    "import pandas as pd"
   ]
  },
  {
   "cell_type": "code",
   "execution_count": null,
   "metadata": {},
   "outputs": [],
   "source": [
    "import os"
   ]
  },
  {
   "cell_type": "code",
   "execution_count": null,
   "metadata": {},
   "outputs": [],
   "source": [
    "from datetime import datetime"
   ]
  },
  {
   "cell_type": "code",
   "execution_count": null,
   "metadata": {},
   "outputs": [],
   "source": [
    "from zoneinfo import ZoneInfo"
   ]
  },
  {
   "cell_type": "code",
   "execution_count": null,
   "metadata": {},
   "outputs": [],
   "source": [
    "import numpy as np"
   ]
  },
  {
   "cell_type": "code",
   "execution_count": null,
   "metadata": {},
   "outputs": [],
   "source": [
    "import matplotlib.pyplot as plt"
   ]
  },
  {
   "cell_type": "code",
   "execution_count": null,
   "metadata": {},
   "outputs": [],
   "source": [
    "import seaborn as sns"
   ]
  },
  {
   "cell_type": "code",
   "execution_count": null,
   "metadata": {},
   "outputs": [],
   "source": [
    "from scipy.stats import norm"
   ]
  },
  {
   "cell_type": "code",
   "execution_count": null,
   "metadata": {},
   "outputs": [],
   "source": [
    "from sklearn.preprocessing import MinMaxScaler"
   ]
  },
  {
   "cell_type": "markdown",
   "metadata": {},
   "source": [
    "# read in input files"
   ]
  },
  {
   "cell_type": "markdown",
   "metadata": {},
   "source": [
    "## zip code/SES"
   ]
  },
  {
   "cell_type": "code",
   "execution_count": null,
   "metadata": {},
   "outputs": [],
   "source": [
    "# This query represents dataset \"AOU v8 HF Clinical PGS\" for domain \"zip_code_socioeconomic\" and was generated for All of Us Controlled Tier Dataset v8\n",
    "dataset_62704170_zip_code_socioeconomic_sql = \"\"\"\n",
    "    SELECT\n",
    "        observation.person_id,\n",
    "        observation.observation_datetime,\n",
    "        zip_code.zip3_as_string as zip_code,\n",
    "        zip_code.fraction_assisted_income as assisted_income,\n",
    "        zip_code.fraction_high_school_edu as high_school_education,\n",
    "        zip_code.median_income,\n",
    "        zip_code.fraction_no_health_ins as no_health_insurance,\n",
    "        zip_code.fraction_poverty as poverty,\n",
    "        zip_code.fraction_vacant_housing as vacant_housing,\n",
    "        zip_code.deprivation_index,\n",
    "        zip_code.acs as american_community_survey_year \n",
    "    FROM\n",
    "        `\"\"\" + os.environ[\"WORKSPACE_CDR\"] + \"\"\".zip3_ses_map` zip_code \n",
    "    JOIN\n",
    "        `\"\"\" + os.environ[\"WORKSPACE_CDR\"] + \"\"\".observation` observation \n",
    "            ON CAST(SUBSTR(observation.value_as_string, 0, STRPOS(observation.value_as_string, '*') - 1) AS INT64) = zip_code.zip3  \n",
    "    WHERE\n",
    "        observation.PERSON_ID IN (SELECT\n",
    "            distinct person_id  \n",
    "        FROM\n",
    "            `\"\"\" + os.environ[\"WORKSPACE_CDR\"] + \"\"\".cb_search_person` cb_search_person  \n",
    "        WHERE\n",
    "            cb_search_person.person_id IN (SELECT\n",
    "                person_id \n",
    "            FROM\n",
    "                `\"\"\" + os.environ[\"WORKSPACE_CDR\"] + \"\"\".cb_search_person` p \n",
    "            WHERE\n",
    "                has_whole_genome_variant = 1 )  \n",
    "        UNION\n",
    "        DISTINCT SELECT\n",
    "            distinct person_id  \n",
    "        FROM\n",
    "            `\"\"\" + os.environ[\"WORKSPACE_CDR\"] + \"\"\".cb_search_person` cb_search_person  \n",
    "        WHERE\n",
    "            cb_search_person.person_id IN (SELECT\n",
    "                person_id \n",
    "            FROM\n",
    "                `\"\"\" + os.environ[\"WORKSPACE_CDR\"] + \"\"\".cb_search_person` p \n",
    "            WHERE\n",
    "                has_whole_genome_variant = 1 ) \n",
    "            AND cb_search_person.person_id IN (SELECT\n",
    "                criteria.person_id \n",
    "            FROM\n",
    "                (SELECT\n",
    "                    DISTINCT person_id, entry_date, concept_id \n",
    "                FROM\n",
    "                    `\"\"\" + os.environ[\"WORKSPACE_CDR\"] + \"\"\".cb_search_all_events` \n",
    "                WHERE\n",
    "                    (concept_id IN(SELECT\n",
    "                        DISTINCT c.concept_id \n",
    "                    FROM\n",
    "                        `\"\"\" + os.environ[\"WORKSPACE_CDR\"] + \"\"\".cb_criteria` c \n",
    "                    JOIN\n",
    "                        (SELECT\n",
    "                            CAST(cr.id as string) AS id       \n",
    "                        FROM\n",
    "                            `\"\"\" + os.environ[\"WORKSPACE_CDR\"] + \"\"\".cb_criteria` cr       \n",
    "                        WHERE\n",
    "                            concept_id IN (44833557, 44819695, 1569178, 35207674, 44823110, 44831230, 44819696, 44824235, 44819692, 44821950, 44819693, 44824250, 35207673, 35207669, 44820856)       \n",
    "                            AND full_text LIKE '%_rank1]%'      ) a \n",
    "                            ON (c.path LIKE CONCAT('%.', a.id, '.%') \n",
    "                            OR c.path LIKE CONCAT('%.', a.id) \n",
    "                            OR c.path LIKE CONCAT(a.id, '.%') \n",
    "                            OR c.path = a.id) \n",
    "                    WHERE\n",
    "                        is_standard = 0 \n",
    "                        AND is_selectable = 1) \n",
    "                    AND is_standard = 0 )) criteria ) ) \n",
    "        AND observation_source_concept_id = 1585250 \n",
    "        AND observation.value_as_string NOT LIKE 'Res%'\"\"\"\n",
    "\n",
    "zip_code_socioeconomic = pd.read_gbq(\n",
    "    dataset_62704170_zip_code_socioeconomic_sql,\n",
    "    dialect=\"standard\",\n",
    "    use_bqstorage_api=(\"BIGQUERY_STORAGE_API_ENABLED\" in os.environ),\n",
    "    progress_bar_type=\"tqdm_notebook\")\n",
    "\n",
    "print(len(zip_code_socioeconomic['person_id'].unique()))\n",
    "zip_code_socioeconomic.head(5)"
   ]
  },
  {
   "cell_type": "markdown",
   "metadata": {},
   "source": [
    "## demo"
   ]
  },
  {
   "cell_type": "code",
   "execution_count": null,
   "metadata": {},
   "outputs": [],
   "source": [
    "# This query represents dataset \"AOU v8 HF Clinical PGS\" for domain \"person\" and was generated for All of Us Controlled Tier Dataset v8\n",
    "dataset_62704170_person_sql = \"\"\"\n",
    "    SELECT\n",
    "        person.person_id,\n",
    "        person.birth_datetime as date_of_birth,\n",
    "        p_sex_at_birth_concept.concept_name as sex_at_birth \n",
    "    FROM\n",
    "        `\"\"\" + os.environ[\"WORKSPACE_CDR\"] + \"\"\".person` person \n",
    "    LEFT JOIN\n",
    "        `\"\"\" + os.environ[\"WORKSPACE_CDR\"] + \"\"\".concept` p_sex_at_birth_concept \n",
    "            ON person.sex_at_birth_concept_id = p_sex_at_birth_concept.concept_id  \n",
    "    WHERE\n",
    "        person.PERSON_ID IN (SELECT\n",
    "            distinct person_id  \n",
    "        FROM\n",
    "            `\"\"\" + os.environ[\"WORKSPACE_CDR\"] + \"\"\".cb_search_person` cb_search_person  \n",
    "        WHERE\n",
    "            cb_search_person.person_id IN (SELECT\n",
    "                person_id \n",
    "            FROM\n",
    "                `\"\"\" + os.environ[\"WORKSPACE_CDR\"] + \"\"\".cb_search_person` p \n",
    "            WHERE\n",
    "                has_whole_genome_variant = 1 )  \n",
    "        UNION\n",
    "        DISTINCT SELECT\n",
    "            distinct person_id  \n",
    "        FROM\n",
    "            `\"\"\" + os.environ[\"WORKSPACE_CDR\"] + \"\"\".cb_search_person` cb_search_person  \n",
    "        WHERE\n",
    "            cb_search_person.person_id IN (SELECT\n",
    "                person_id \n",
    "            FROM\n",
    "                `\"\"\" + os.environ[\"WORKSPACE_CDR\"] + \"\"\".cb_search_person` p \n",
    "            WHERE\n",
    "                has_whole_genome_variant = 1 ) \n",
    "            AND cb_search_person.person_id IN (SELECT\n",
    "                criteria.person_id \n",
    "            FROM\n",
    "                (SELECT\n",
    "                    DISTINCT person_id, entry_date, concept_id \n",
    "                FROM\n",
    "                    `\"\"\" + os.environ[\"WORKSPACE_CDR\"] + \"\"\".cb_search_all_events` \n",
    "                WHERE\n",
    "                    (concept_id IN(SELECT\n",
    "                        DISTINCT c.concept_id \n",
    "                    FROM\n",
    "                        `\"\"\" + os.environ[\"WORKSPACE_CDR\"] + \"\"\".cb_criteria` c \n",
    "                    JOIN\n",
    "                        (SELECT\n",
    "                            CAST(cr.id as string) AS id       \n",
    "                        FROM\n",
    "                            `\"\"\" + os.environ[\"WORKSPACE_CDR\"] + \"\"\".cb_criteria` cr       \n",
    "                        WHERE\n",
    "                            concept_id IN (44833557, 44819695, 1569178, 35207674, 44823110, 44831230, 44819696, 44824235, 44819692, 44821950, 44819693, 44824250, 35207673, 35207669, 44820856)       \n",
    "                            AND full_text LIKE '%_rank1]%'      ) a \n",
    "                            ON (c.path LIKE CONCAT('%.', a.id, '.%') \n",
    "                            OR c.path LIKE CONCAT('%.', a.id) \n",
    "                            OR c.path LIKE CONCAT(a.id, '.%') \n",
    "                            OR c.path = a.id) \n",
    "                    WHERE\n",
    "                        is_standard = 0 \n",
    "                        AND is_selectable = 1) \n",
    "                    AND is_standard = 0 )) criteria ) )\"\"\"\n",
    "\n",
    "demo = pd.read_gbq(\n",
    "    dataset_62704170_person_sql,\n",
    "    dialect=\"standard\",\n",
    "    use_bqstorage_api=(\"BIGQUERY_STORAGE_API_ENABLED\" in os.environ),\n",
    "    progress_bar_type=\"tqdm_notebook\")\n",
    "\n",
    "demo.head(5)"
   ]
  },
  {
   "cell_type": "markdown",
   "metadata": {},
   "source": [
    "## ICD"
   ]
  },
  {
   "cell_type": "code",
   "execution_count": null,
   "metadata": {},
   "outputs": [],
   "source": [
    "# This query represents dataset \"AOU v8 HF Clinical PGS\" for domain \"condition\" and was generated for All of Us Controlled Tier Dataset v8\n",
    "dataset_62704170_condition_sql = \"\"\"\n",
    "    SELECT\n",
    "        c_occurrence.person_id,\n",
    "        c_occurrence.condition_start_datetime,\n",
    "        c_source_concept.concept_code as source_concept_code,\n",
    "        c_source_concept.vocabulary_id as source_vocabulary \n",
    "    FROM\n",
    "        ( SELECT\n",
    "            * \n",
    "        FROM\n",
    "            `\"\"\" + os.environ[\"WORKSPACE_CDR\"] + \"\"\".condition_occurrence` c_occurrence \n",
    "        WHERE\n",
    "            (\n",
    "                condition_source_concept_id IN (SELECT\n",
    "                    DISTINCT c.concept_id \n",
    "                FROM\n",
    "                    `\"\"\" + os.environ[\"WORKSPACE_CDR\"] + \"\"\".cb_criteria` c \n",
    "                JOIN\n",
    "                    (SELECT\n",
    "                        CAST(cr.id as string) AS id       \n",
    "                    FROM\n",
    "                        `\"\"\" + os.environ[\"WORKSPACE_CDR\"] + \"\"\".cb_criteria` cr       \n",
    "                    WHERE\n",
    "                        concept_id IN (1326492, 1326493, 1326600, 1326601, 1326602, 1326603, 1326604, 1326605, 1326606, 1326607, 1326608, 1326609, 1567956, 1567958, 1567959, 1567960, 1567964, 1567965, 1567966, 1567969, 1567971, 1569178, 1569179, 1569180, 1571687, 35206881, 35206882, 35207669, 35207673, 35207674, 35207792, 35207793, 37200198, 37200199, 37200200, 37200201, 37200202, 37200203, 37200204, 37200205, 37200206, 37200207, 37200208, 37200209, 37200210, 37200211, 37200212, 37200213, 37200214, 37200215, 37200216, 37200217, 37200218, 37200219, 37200220, 37200221, 37200222, 37200223, 37200224, 37200225, 37200227, 37200228, 37200229, 37200230, 37200232, 37200233, 37200234, 37200235, 37200237, 37200238, 37200239, 37200240, 37200242, 37200243, 37200244, 37200245, 37200246, 37200247, 37200248, 37200249, 37200251, 37200252, 37200253, 37200254, 44819500, 44819501, 44819502, 44819503, 44819504, 44819692, 44819693, 44819695, 44819696, 44820682, 44820683, 44820684, 44820685, 44820856,\n",
    " 44820869, 44820870, 44821787, 44821950, 44822934, 44822935, 44822936, 44823110, 44823119, 44824071, 44824072, 44824073, 44824074, 44824235, 44824250, 44824251, 44825264, 44826459, 44826460, 44826461, 44826642, 44827615, 44827616, 44827617, 44827794, 44827795, 44827796, 44828793, 44828794, 44828795, 44829878, 44829879, 44829880, 44829881, 44829882, 44830086, 44831045, 44831046, 44831047, 44831230, 44831248, 44831249, 44831250, 44832190, 44832191, 44832192, 44832193, 44832194, 44832381, 44833365, 44833366, 44833367, 44833368, 44833557, 44833573, 44834548, 44834549, 44834732, 44835943, 44835944, 44836914, 44836915, 44836916, 44836917, 44836918, 45533019, 45533020, 45533021, 45533022, 45533023, 45533456, 45533457, 45537961, 45537962, 45542738, 45543182, 45547625, 45547626, 45547627, 45548022, 45552385, 45552386, 45557112, 45557113, 45561949, 45562355, 45566731, 45567180, 45567181, 45567896, 45576443, 45576878, 45581352, 45581353, 45581354, 45581355, 45582457, 45582458, 45586139, 45586140,\n",
    " 45586587, 45586588, 45587292, 45587293, 45591027, 45591029, 45591030, 45591031, 45591469, 45595797, 45595798, 45595799, 45600641, 45600642, 45601038, 45605401, 45605402, 45605403, 45605404, 45605405, 45606547)       \n",
    "                        AND full_text LIKE '%_rank1]%'      ) a \n",
    "                        ON (c.path LIKE CONCAT('%.', a.id, '.%') \n",
    "                        OR c.path LIKE CONCAT('%.', a.id) \n",
    "                        OR c.path LIKE CONCAT(a.id, '.%') \n",
    "                        OR c.path = a.id) \n",
    "                WHERE\n",
    "                    is_standard = 0 \n",
    "                    AND is_selectable = 1)\n",
    "            )  \n",
    "            AND (\n",
    "                c_occurrence.PERSON_ID IN (SELECT\n",
    "                    distinct person_id  \n",
    "                FROM\n",
    "                    `\"\"\" + os.environ[\"WORKSPACE_CDR\"] + \"\"\".cb_search_person` cb_search_person  \n",
    "                WHERE\n",
    "                    cb_search_person.person_id IN (SELECT\n",
    "                        person_id \n",
    "                    FROM\n",
    "                        `\"\"\" + os.environ[\"WORKSPACE_CDR\"] + \"\"\".cb_search_person` p \n",
    "                    WHERE\n",
    "                        has_whole_genome_variant = 1 )  \n",
    "                UNION\n",
    "                DISTINCT SELECT\n",
    "                    distinct person_id  \n",
    "                FROM\n",
    "                    `\"\"\" + os.environ[\"WORKSPACE_CDR\"] + \"\"\".cb_search_person` cb_search_person  \n",
    "                WHERE\n",
    "                    cb_search_person.person_id IN (SELECT\n",
    "                        person_id \n",
    "                    FROM\n",
    "                        `\"\"\" + os.environ[\"WORKSPACE_CDR\"] + \"\"\".cb_search_person` p \n",
    "                    WHERE\n",
    "                        has_whole_genome_variant = 1 ) \n",
    "                    AND cb_search_person.person_id IN (SELECT\n",
    "                        criteria.person_id \n",
    "                    FROM\n",
    "                        (SELECT\n",
    "                            DISTINCT person_id, entry_date, concept_id \n",
    "                        FROM\n",
    "                            `\"\"\" + os.environ[\"WORKSPACE_CDR\"] + \"\"\".cb_search_all_events` \n",
    "                        WHERE\n",
    "                            (concept_id IN(SELECT\n",
    "                                DISTINCT c.concept_id \n",
    "                            FROM\n",
    "                                `\"\"\" + os.environ[\"WORKSPACE_CDR\"] + \"\"\".cb_criteria` c \n",
    "                            JOIN\n",
    "                                (SELECT\n",
    "                                    CAST(cr.id as string) AS id       \n",
    "                                FROM\n",
    "                                    `\"\"\" + os.environ[\"WORKSPACE_CDR\"] + \"\"\".cb_criteria` cr       \n",
    "                                WHERE\n",
    "                                    concept_id IN (44833557, 44819695, 1569178, 35207674, 44823110, 44831230, 44819696, 44824235, 44819692, 44821950, 44819693, 44824250, 35207673, 35207669, 44820856)       \n",
    "                                    AND full_text LIKE '%_rank1]%'      ) a \n",
    "                                    ON (c.path LIKE CONCAT('%.', a.id, '.%') \n",
    "                                    OR c.path LIKE CONCAT('%.', a.id) \n",
    "                                    OR c.path LIKE CONCAT(a.id, '.%') \n",
    "                                    OR c.path = a.id) \n",
    "                            WHERE\n",
    "                                is_standard = 0 \n",
    "                                AND is_selectable = 1) \n",
    "                            AND is_standard = 0 )) criteria ) )\n",
    "            )\n",
    "        ) c_occurrence \n",
    "    LEFT JOIN\n",
    "        `\"\"\" + os.environ[\"WORKSPACE_CDR\"] + \"\"\".concept` c_source_concept \n",
    "            ON c_occurrence.condition_source_concept_id = c_source_concept.concept_id\"\"\"\n",
    "\n",
    "icd = pd.read_gbq(\n",
    "    dataset_62704170_condition_sql,\n",
    "    dialect=\"standard\",\n",
    "    use_bqstorage_api=(\"BIGQUERY_STORAGE_API_ENABLED\" in os.environ),\n",
    "    progress_bar_type=\"tqdm_notebook\")\n",
    "\n",
    "icd.head(5)"
   ]
  },
  {
   "cell_type": "markdown",
   "metadata": {},
   "source": [
    "## labs"
   ]
  },
  {
   "cell_type": "code",
   "execution_count": null,
   "metadata": {},
   "outputs": [],
   "source": [
    "# This query represents dataset \"AOU v8 HF Clinical PGS\" for domain \"measurement\" and was generated for All of Us Controlled Tier Dataset v8\n",
    "dataset_90496136_measurement_sql = \"\"\"\n",
    "    SELECT\n",
    "        measurement.person_id,\n",
    "        m_standard_concept.concept_name as standard_concept_name,\n",
    "        m_standard_concept.vocabulary_id as standard_vocabulary,\n",
    "        measurement.measurement_datetime,\n",
    "        measurement.value_as_number,\n",
    "        m_unit.concept_name as unit_concept_name,\n",
    "        measurement.unit_source_value \n",
    "    FROM\n",
    "        ( SELECT\n",
    "            * \n",
    "        FROM\n",
    "            `\"\"\" + os.environ[\"WORKSPACE_CDR\"] + \"\"\".measurement` measurement \n",
    "        WHERE\n",
    "            (\n",
    "                measurement_concept_id IN (SELECT\n",
    "                    DISTINCT c.concept_id \n",
    "                FROM\n",
    "                    `\"\"\" + os.environ[\"WORKSPACE_CDR\"] + \"\"\".cb_criteria` c \n",
    "                JOIN\n",
    "                    (SELECT\n",
    "                        CAST(cr.id as string) AS id       \n",
    "                    FROM\n",
    "                        `\"\"\" + os.environ[\"WORKSPACE_CDR\"] + \"\"\".cb_criteria` cr       \n",
    "                    WHERE\n",
    "                        concept_id IN (1002597, 1175729, 1175898, 1175959, 1176311, 1176351, 1616654, 1618572, 21490674, 21490675, 21490678, 21490680, 21490851, 21490852, 21490853, 21492239, 21492240, 21492241, 21492391, 21494214, 3000261, 3000333, 3000404, 3000483, 3000637, 3000845, 3000940, 3001308, 3001318, 3001501, 3001506, 3001810, 3001975, 3001978, 3002009, 3002109, 3002240, 3002310, 3002574, 3002598, 3002666, 3002698, 3002785, 3003169, 3003201, 3003309, 3003403, 3003412, 3003435, 3003453, 3003767, 3003932, 3003994, 3004049, 3004077, 3004117, 3004209, 3004249, 3004410, 3004501, 3004529, 3004629, 3005030, 3005131, 3005478, 3005570, 3005606, 3005673, 3005787, 3006717, 3006887, 3006893, 3007034, 3007070, 3007263, 3007295, 3007332, 3007696, 3007943, 3008103, 3008286, 3008631, 3008770, 3008804, 3009261, 3009395, 3009397, 3009414, 3009435, 3009582, 3009718, 3009877, 3009966, 3010115, 3010300, 3010617, 3010956, 3011088, 3011161, 3011163, 3011367, 3011424, 3011498, 3011884, 3011972,\n",
    " 3012278, 3012526, 3012789, 3012805, 3012888, 3013097, 3013104, 3013290, 3013473, 3013604, 3013668, 3013678, 3013702, 3013826, 3013940, 3014053, 3014305, 3014323, 3014600, 3014716, 3014737, 3015024, 3015178, 3015204, 3015544, 3015621, 3015739, 3015968, 3016083, 3016087, 3016159, 3016494, 3016699, 3016701, 3016798, 3016945, 3017188, 3017365, 3017490, 3017589, 3018056, 3018251, 3018336, 3018586, 3018592, 3018822, 3019013, 3019210, 3019240, 3019431, 3019464, 3019493, 3019575, 3019876, 3019955, 3019962, 3020044, 3020058, 3020107, 3020317, 3020345, 3020399, 3020491, 3020525, 3020632, 3020650, 3020869, 3021447, 3021513, 3021706, 3021737, 3021797, 3021860, 3021924, 3022038, 3022192, 3022268, 3022285, 3022314, 3022449, 3022548, 3022803, 3023024, 3023186, 3023243, 3023306, 3023386, 3023572, 3023574, 3023602, 3023752, 3023884, 3024047, 3024354, 3024629, 3024723, 3024762, 3025070, 3025202, 3025232, 3025398, 3025673, 3025839, 3025866, 3026041, 3026071, 3026300, 3026536, 3026677, 3026876, 3027198,\n",
    " 3027315, 3027457, 3027468, 3027598, 3027801, 3027936, 3027939, 3027946, 3027997, 3028074, 3028247, 3028288, 3028437, 3028626, 3028646, 3028737, 3028803, 3028827, 3028944, 3029071, 3029133, 3029139, 3029246, 3029306, 3029335, 3030177, 3030260, 3030416, 3030437, 3030441, 3030997, 3031203, 3031266, 3031412, 3031465, 3031581, 3031681, 3031775, 3031973, 3032230, 3032260, 3032693, 3032719, 3032759, 3032771, 3032779, 3032987, 3033203, 3033254, 3033408, 3033638, 3033819, 3034207, 3034530, 3034639, 3034703, 3034962, 3035009, 3035125, 3035214, 3035250, 3035352, 3035398, 3035729, 3035759, 3035817, 3035856, 3035858, 3035899, 3036283, 3036406, 3036671, 3036807, 3036895, 3037014, 3037110, 3037187, 3037292, 3037524, 3037653, 3038071, 3038515, 3038553, 3038920, 3038988, 3039422, 3039426, 3039720, 3039851, 3039873, 3039896, 3039986, 3040151, 3040324, 3040820, 3041024, 3041253, 3041290, 3042145, 3042216, 3042443, 3042462, 3042637, 3043687, 3044242, 3044491, 3045156, 3045566, 3045700, 3045800, 3045807,\n",
    " 3045989, 3046076, 3046405, 3046528, 3046549, 3046708, 3047111, 3048522, 3048865, 3049783, 3050630, 3050988, 3052202, 3052566, 3052598, 3053190, 3053286, 3053341, 36031550, 36032094, 36032229, 36032380, 36032416, 36032787, 36033366, 36033462, 36203185, 36204193, 36303264, 36304016, 36304326, 36304734, 36304833, 36305059, 36306043, 36716965, 37019625, 37019651, 37019808, 37019887, 37020015, 37020076, 37020303, 37020736, 37020823, 37020997, 37021192, 37021763, 37021905, 37021968, 37023397, 37024420, 37024641, 37024929, 37025002, 37025537, 37025901, 37025979, 37026560, 37026687, 37029357, 37029419, 37029979, 37030222, 37030259, 37030713, 37032253, 37032863, 37033044, 37033776, 37034437, 37034761, 37035033, 37035201, 37035650, 37037743, 37038593, 37038731, 37038784, 37039181, 37039374, 37040279, 37040418, 37040621, 37040744, 37040799, 37041042, 37042190, 37043257, 37043506, 37044332, 37045117, 37045382, 37045508, 37046668, 37047717, 37048053, 37048668, 37048990, 37051275, 37052309,\n",
    " 37053001, 37053214, 37053398, 37054380, 37055462, 37055869, 37056686, 37056793, 37057730, 37058704, 37058713, 37059330, 37059768, 37060498, 37060543, 37060570, 37060933, 37062148, 37063613, 37064187, 37064430, 37065054, 37065592, 37067978, 37068379, 37069481, 37071197, 37072167, 37072239, 37073196, 37073389, 37073694, 37074494, 37076636, 37076649, 37078231, 37078343, 37078789, 37078832, 37393576, 37398559, 37399119, 37399654, 4012477, 4012479, 4016950, 4017078, 4017083, 4017760, 4017787, 4018315, 4018317, 4018318, 4019543, 4027514, 4032789, 4036846, 4041556, 4041697, 4041698, 4042059, 4042066, 4042759, 40482666, 40482677, 40485039, 4055667, 4055668, 4055695, 4060832, 4060833, 4060834, 4068414, 40757369, 40757503, 40757565, 40758413, 40758569, 40758736, 40759156, 40759279, 40759280, 40760809, 40761610, 40762249, 40762352, 40762636, 40762637, 40762638, 40765014, 4076704, 40768039, 40771054, 40772572, 40782589, 40782761, 40785880, 40789378, 40795740, 40795800, 4094447, 4094581, 4097882,\n",
    " 4101713, 4108289, 4116187, 4120298, 4136579, 4143633, 4144235, 4149519, 4149883, 4151414, 4151548, 4152194, 4153111, 4154790, 4156660, 4182052, 4184637, 4191837, 4195214, 4195490, 4195503, 4197971, 4198718, 4198733, 4209122, 4218282, 4229586, 4230393, 4232915, 4236281, 4239021, 4245997, 4248524, 4248525, 4249006, 42537369, 4264765, 4268883, 42868678, 42868692, 4286945, 42869619, 42869628, 42869630, 4289453, 4292062, 4298391, 4298393, 4302410, 43054914, 43055485, 4331286, 4353851, 4354252, 4354254, 44786762, 44789315, 44789316, 44794807, 44812280, 44816672, 46235168, 46236280, 46236281, 46237026)       \n",
    "                        AND full_text LIKE '%_rank1]%'      ) a \n",
    "                        ON (c.path LIKE CONCAT('%.', a.id, '.%') \n",
    "                        OR c.path LIKE CONCAT('%.', a.id) \n",
    "                        OR c.path LIKE CONCAT(a.id, '.%') \n",
    "                        OR c.path = a.id) \n",
    "                WHERE\n",
    "                    is_standard = 1 \n",
    "                    AND is_selectable = 1) \n",
    "                OR  measurement_source_concept_id IN (SELECT\n",
    "                    DISTINCT c.concept_id \n",
    "                FROM\n",
    "                    `\"\"\" + os.environ[\"WORKSPACE_CDR\"] + \"\"\".cb_criteria` c \n",
    "                JOIN\n",
    "                    (SELECT\n",
    "                        CAST(cr.id as string) AS id       \n",
    "                    FROM\n",
    "                        `\"\"\" + os.environ[\"WORKSPACE_CDR\"] + \"\"\".cb_criteria` cr       \n",
    "                    WHERE\n",
    "                        concept_id IN (903106, 903107, 903109, 903110, 903113, 903114, 903115, 903116, 903118, 903124, 903129, 903130, 903132)       \n",
    "                        AND full_text LIKE '%_rank1]%'      ) a \n",
    "                        ON (c.path LIKE CONCAT('%.', a.id, '.%') \n",
    "                        OR c.path LIKE CONCAT('%.', a.id) \n",
    "                        OR c.path LIKE CONCAT(a.id, '.%') \n",
    "                        OR c.path = a.id) \n",
    "                WHERE\n",
    "                    is_standard = 0 \n",
    "                    AND is_selectable = 1)\n",
    "            )  \n",
    "            AND (\n",
    "                measurement.PERSON_ID IN (SELECT\n",
    "                    distinct person_id  \n",
    "                FROM\n",
    "                    `\"\"\" + os.environ[\"WORKSPACE_CDR\"] + \"\"\".cb_search_person` cb_search_person  \n",
    "                WHERE\n",
    "                    cb_search_person.person_id IN (SELECT\n",
    "                        person_id \n",
    "                    FROM\n",
    "                        `\"\"\" + os.environ[\"WORKSPACE_CDR\"] + \"\"\".cb_search_person` p \n",
    "                    WHERE\n",
    "                        has_whole_genome_variant = 1 )  \n",
    "                UNION\n",
    "                DISTINCT SELECT\n",
    "                    distinct person_id  \n",
    "                FROM\n",
    "                    `\"\"\" + os.environ[\"WORKSPACE_CDR\"] + \"\"\".cb_search_person` cb_search_person  \n",
    "                WHERE\n",
    "                    cb_search_person.person_id IN (SELECT\n",
    "                        person_id \n",
    "                    FROM\n",
    "                        `\"\"\" + os.environ[\"WORKSPACE_CDR\"] + \"\"\".cb_search_person` p \n",
    "                    WHERE\n",
    "                        has_whole_genome_variant = 1 ) \n",
    "                    AND cb_search_person.person_id IN (SELECT\n",
    "                        criteria.person_id \n",
    "                    FROM\n",
    "                        (SELECT\n",
    "                            DISTINCT person_id, entry_date, concept_id \n",
    "                        FROM\n",
    "                            `\"\"\" + os.environ[\"WORKSPACE_CDR\"] + \"\"\".cb_search_all_events` \n",
    "                        WHERE\n",
    "                            (concept_id IN(SELECT\n",
    "                                DISTINCT c.concept_id \n",
    "                            FROM\n",
    "                                `\"\"\" + os.environ[\"WORKSPACE_CDR\"] + \"\"\".cb_criteria` c \n",
    "                            JOIN\n",
    "                                (SELECT\n",
    "                                    CAST(cr.id as string) AS id       \n",
    "                                FROM\n",
    "                                    `\"\"\" + os.environ[\"WORKSPACE_CDR\"] + \"\"\".cb_criteria` cr       \n",
    "                                WHERE\n",
    "                                    concept_id IN (44833557, 44819695, 1569178, 35207674, 44823110, 44831230, 44819696, 44824235, 44819692, 44821950, 44819693, 44824250, 35207673, 35207669, 44820856)       \n",
    "                                    AND full_text LIKE '%_rank1]%'      ) a \n",
    "                                    ON (c.path LIKE CONCAT('%.', a.id, '.%') \n",
    "                                    OR c.path LIKE CONCAT('%.', a.id) \n",
    "                                    OR c.path LIKE CONCAT(a.id, '.%') \n",
    "                                    OR c.path = a.id) \n",
    "                            WHERE\n",
    "                                is_standard = 0 \n",
    "                                AND is_selectable = 1) \n",
    "                            AND is_standard = 0 )) criteria ) )\n",
    "            )\n",
    "        ) measurement \n",
    "    LEFT JOIN\n",
    "        `\"\"\" + os.environ[\"WORKSPACE_CDR\"] + \"\"\".concept` m_standard_concept \n",
    "            ON measurement.measurement_concept_id = m_standard_concept.concept_id \n",
    "    LEFT JOIN\n",
    "        `\"\"\" + os.environ[\"WORKSPACE_CDR\"] + \"\"\".concept` m_unit \n",
    "            ON measurement.unit_concept_id = m_unit.concept_id\"\"\"\n",
    "\n",
    "labs = pd.read_gbq(\n",
    "    dataset_90496136_measurement_sql,\n",
    "    dialect=\"standard\",\n",
    "    use_bqstorage_api=(\"BIGQUERY_STORAGE_API_ENABLED\" in os.environ),\n",
    "    progress_bar_type=\"tqdm_notebook\")\n",
    "\n",
    "labs.head(5)"
   ]
  },
  {
   "cell_type": "markdown",
   "metadata": {},
   "source": [
    "## observation"
   ]
  },
  {
   "cell_type": "code",
   "execution_count": null,
   "metadata": {},
   "outputs": [],
   "source": [
    "# This query represents dataset \"AOU v8 HF Clinical PGS\" for domain \"observation\" and was generated for All of Us Controlled Tier Dataset v8\n",
    "dataset_63000091_observation_sql = \"\"\"\n",
    "    SELECT\n",
    "        observation.person_id,\n",
    "        observation.observation_concept_id,\n",
    "        o_standard_concept.concept_name as standard_concept_name,\n",
    "        o_standard_concept.concept_code as standard_concept_code,\n",
    "        o_standard_concept.vocabulary_id as standard_vocabulary,\n",
    "        observation.observation_datetime,\n",
    "        observation.value_as_number,\n",
    "        observation.value_as_string,\n",
    "        o_unit.concept_name as unit_concept_name,\n",
    "        observation.observation_source_value,\n",
    "        o_source_concept.concept_name as source_concept_name,\n",
    "        o_source_concept.concept_code as source_concept_code,\n",
    "        observation.unit_source_value \n",
    "    FROM\n",
    "        ( SELECT\n",
    "            * \n",
    "        FROM\n",
    "            `\"\"\" + os.environ[\"WORKSPACE_CDR\"] + \"\"\".observation` observation \n",
    "        WHERE\n",
    "            (\n",
    "                observation_concept_id IN (21492409, 21492410, 21492411, 21492412, 21492413, 21492414, 21492415, 21493945, 2617330, 2617331, 2617829, 2721640, 2721670, 3018063, 3043579, 38001390, 38001391, 4015401, 40217103, 40217330, 40217341, 4027529, 4031367, 4031370, 40483697, 4052051, 4053609, 4053842, 4063124, 40664614, 40664668, 40664817, 4069297, 4074782, 40766231, 40766232, 40766311, 40766360, 40766642, 40766646, 4083596, 4090847, 4098471, 4132133, 4151486, 4165523, 4165539, 4182465, 4182573, 4193014, 4195380, 4206526, 4213783, 4224317, 4237536, 42528763, 42528764, 4261613, 4267497, 4268546, 4270273, 4278461, 4278980, 4282779, 43021337, 4303438, 4304362, 43054909, 4305714, 4307293, 4310138, 4337839, 4338966, 43533208, 443359, 44786552, 44786668, 44792317, 44808782, 45890719, 762525, 763402, 763736, 765735, 801308, 915749) \n",
    "                OR  observation_source_concept_id IN (1585375, 1585741, 1585857, 1585860, 1585864, 1585867, 1585870, 1585873, 1585940, 1586159, 1586162, 1586166, 1586169, 1586174, 1586177, 1586182, 1586185, 40192384, 40192386, 40192400, 40192404, 40192410, 40192411, 40192412, 40192414, 40192417, 40192420, 40192431, 40192436, 40192437, 40192440, 40192456, 40192457, 40192458, 40192469, 40192476, 40192492, 40192493, 40192499, 40192500, 40192522)\n",
    "            )  \n",
    "            AND (\n",
    "                observation.PERSON_ID IN (SELECT\n",
    "                    distinct person_id  \n",
    "                FROM\n",
    "                    `\"\"\" + os.environ[\"WORKSPACE_CDR\"] + \"\"\".cb_search_person` cb_search_person  \n",
    "                WHERE\n",
    "                    cb_search_person.person_id IN (SELECT\n",
    "                        person_id \n",
    "                    FROM\n",
    "                        `\"\"\" + os.environ[\"WORKSPACE_CDR\"] + \"\"\".cb_search_person` p \n",
    "                    WHERE\n",
    "                        has_whole_genome_variant = 1 )  \n",
    "                UNION\n",
    "                DISTINCT SELECT\n",
    "                    distinct person_id  \n",
    "                FROM\n",
    "                    `\"\"\" + os.environ[\"WORKSPACE_CDR\"] + \"\"\".cb_search_person` cb_search_person  \n",
    "                WHERE\n",
    "                    cb_search_person.person_id IN (SELECT\n",
    "                        person_id \n",
    "                    FROM\n",
    "                        `\"\"\" + os.environ[\"WORKSPACE_CDR\"] + \"\"\".cb_search_person` p \n",
    "                    WHERE\n",
    "                        has_whole_genome_variant = 1 ) \n",
    "                    AND cb_search_person.person_id IN (SELECT\n",
    "                        criteria.person_id \n",
    "                    FROM\n",
    "                        (SELECT\n",
    "                            DISTINCT person_id, entry_date, concept_id \n",
    "                        FROM\n",
    "                            `\"\"\" + os.environ[\"WORKSPACE_CDR\"] + \"\"\".cb_search_all_events` \n",
    "                        WHERE\n",
    "                            (concept_id IN(SELECT\n",
    "                                DISTINCT c.concept_id \n",
    "                            FROM\n",
    "                                `\"\"\" + os.environ[\"WORKSPACE_CDR\"] + \"\"\".cb_criteria` c \n",
    "                            JOIN\n",
    "                                (SELECT\n",
    "                                    CAST(cr.id as string) AS id       \n",
    "                                FROM\n",
    "                                    `\"\"\" + os.environ[\"WORKSPACE_CDR\"] + \"\"\".cb_criteria` cr       \n",
    "                                WHERE\n",
    "                                    concept_id IN (44833557, 44819695, 1569178, 35207674, 44823110, 44831230, 44819696, 44824235, 44819692, 44821950, 44819693, 44824250, 35207673, 35207669, 44820856)       \n",
    "                                    AND full_text LIKE '%_rank1]%'      ) a \n",
    "                                    ON (c.path LIKE CONCAT('%.', a.id, '.%') \n",
    "                                    OR c.path LIKE CONCAT('%.', a.id) \n",
    "                                    OR c.path LIKE CONCAT(a.id, '.%') \n",
    "                                    OR c.path = a.id) \n",
    "                            WHERE\n",
    "                                is_standard = 0 \n",
    "                                AND is_selectable = 1) \n",
    "                            AND is_standard = 0 )) criteria ) )\n",
    "            )\n",
    "        ) observation \n",
    "    LEFT JOIN\n",
    "        `\"\"\" + os.environ[\"WORKSPACE_CDR\"] + \"\"\".concept` o_standard_concept \n",
    "            ON observation.observation_concept_id = o_standard_concept.concept_id \n",
    "    LEFT JOIN\n",
    "        `\"\"\" + os.environ[\"WORKSPACE_CDR\"] + \"\"\".concept` o_unit \n",
    "            ON observation.unit_concept_id = o_unit.concept_id \n",
    "    LEFT JOIN\n",
    "        `\"\"\" + os.environ[\"WORKSPACE_CDR\"] + \"\"\".concept` o_source_concept \n",
    "            ON observation.observation_source_concept_id = o_source_concept.concept_id\"\"\"\n",
    "\n",
    "observation = pd.read_gbq(\n",
    "    dataset_63000091_observation_sql,\n",
    "    dialect=\"standard\",\n",
    "    use_bqstorage_api=(\"BIGQUERY_STORAGE_API_ENABLED\" in os.environ),\n",
    "    progress_bar_type=\"tqdm_notebook\")\n",
    "\n",
    "observation.head()"
   ]
  },
  {
   "cell_type": "markdown",
   "metadata": {},
   "source": [
    "## survey"
   ]
  },
  {
   "cell_type": "code",
   "execution_count": null,
   "metadata": {},
   "outputs": [],
   "source": [
    "# This query represents dataset \"AOU v8 HF Clinical PGS\" for domain \"survey\" and was generated for All of Us Controlled Tier Dataset v8\n",
    "dataset_63000091_survey_sql = \"\"\"\n",
    "    SELECT\n",
    "        answer.person_id,\n",
    "        answer.survey_datetime,\n",
    "        answer.survey,\n",
    "        answer.question_concept_id,\n",
    "        answer.question,\n",
    "        answer.answer_concept_id,\n",
    "        answer.answer,\n",
    "        answer.survey_version_concept_id,\n",
    "        answer.survey_version_name  \n",
    "    FROM\n",
    "        `\"\"\" + os.environ[\"WORKSPACE_CDR\"] + \"\"\".ds_survey` answer   \n",
    "    WHERE\n",
    "        (\n",
    "            question_concept_id IN (1585375, 1585741, 1585857, 1585860, 1585864, 1585867, 1585870, 1585873, 1585940, 1586159, 1586162, 1586166, 1586169, 1586174, 1586177, 1586182, 1586185, 40192384, 40192386, 40192400, 40192404, 40192410, 40192411, 40192412, 40192414, 40192417, 40192420, 40192431, 40192436, 40192437, 40192440, 40192456, 40192457, 40192458, 40192469, 40192476, 40192492, 40192493, 40192499, 40192500, 40192522)\n",
    "        )  \n",
    "        AND (\n",
    "            answer.PERSON_ID IN (SELECT\n",
    "                distinct person_id  \n",
    "            FROM\n",
    "                `\"\"\" + os.environ[\"WORKSPACE_CDR\"] + \"\"\".cb_search_person` cb_search_person  \n",
    "            WHERE\n",
    "                cb_search_person.person_id IN (SELECT\n",
    "                    person_id \n",
    "                FROM\n",
    "                    `\"\"\" + os.environ[\"WORKSPACE_CDR\"] + \"\"\".cb_search_person` p \n",
    "                WHERE\n",
    "                    has_whole_genome_variant = 1 )  \n",
    "            UNION\n",
    "            DISTINCT SELECT\n",
    "                distinct person_id  \n",
    "            FROM\n",
    "                `\"\"\" + os.environ[\"WORKSPACE_CDR\"] + \"\"\".cb_search_person` cb_search_person  \n",
    "            WHERE\n",
    "                cb_search_person.person_id IN (SELECT\n",
    "                    person_id \n",
    "                FROM\n",
    "                    `\"\"\" + os.environ[\"WORKSPACE_CDR\"] + \"\"\".cb_search_person` p \n",
    "                WHERE\n",
    "                    has_whole_genome_variant = 1 ) \n",
    "                AND cb_search_person.person_id IN (SELECT\n",
    "                    criteria.person_id \n",
    "                FROM\n",
    "                    (SELECT\n",
    "                        DISTINCT person_id, entry_date, concept_id \n",
    "                    FROM\n",
    "                        `\"\"\" + os.environ[\"WORKSPACE_CDR\"] + \"\"\".cb_search_all_events` \n",
    "                    WHERE\n",
    "                        (concept_id IN(SELECT\n",
    "                            DISTINCT c.concept_id \n",
    "                        FROM\n",
    "                            `\"\"\" + os.environ[\"WORKSPACE_CDR\"] + \"\"\".cb_criteria` c \n",
    "                        JOIN\n",
    "                            (SELECT\n",
    "                                CAST(cr.id as string) AS id       \n",
    "                            FROM\n",
    "                                `\"\"\" + os.environ[\"WORKSPACE_CDR\"] + \"\"\".cb_criteria` cr       \n",
    "                            WHERE\n",
    "                                concept_id IN (44833557, 44819695, 1569178, 35207674, 44823110, 44831230, 44819696, 44824235, 44819692, 44821950, 44819693, 44824250, 35207673, 35207669, 44820856)       \n",
    "                                AND full_text LIKE '%_rank1]%'      ) a \n",
    "                                ON (c.path LIKE CONCAT('%.', a.id, '.%') \n",
    "                                OR c.path LIKE CONCAT('%.', a.id) \n",
    "                                OR c.path LIKE CONCAT(a.id, '.%') \n",
    "                                OR c.path = a.id) \n",
    "                        WHERE\n",
    "                            is_standard = 0 \n",
    "                            AND is_selectable = 1) \n",
    "                        AND is_standard = 0 )) criteria ) )\n",
    "        )\"\"\"\n",
    "\n",
    "survey = pd.read_gbq(\n",
    "    dataset_63000091_survey_sql,\n",
    "    dialect=\"standard\",\n",
    "    use_bqstorage_api=(\"BIGQUERY_STORAGE_API_ENABLED\" in os.environ),\n",
    "    progress_bar_type=\"tqdm_notebook\")\n",
    "\n",
    "survey.head(5)"
   ]
  },
  {
   "cell_type": "markdown",
   "metadata": {},
   "source": [
    "## PGS"
   ]
  },
  {
   "cell_type": "code",
   "execution_count": null,
   "metadata": {},
   "outputs": [],
   "source": [
    "pgs = pd.read_csv('AOU/score/AOU_pgs.txt.gz', sep = '\\t', usecols = ['IID', 'Z_norm2'], low_memory = False)\n",
    "print(len(pgs.index))\n",
    "pgs.head()"
   ]
  },
  {
   "cell_type": "markdown",
   "metadata": {},
   "source": [
    "# clean demo df"
   ]
  },
  {
   "cell_type": "markdown",
   "metadata": {},
   "source": [
    "## filter to males and females"
   ]
  },
  {
   "cell_type": "code",
   "execution_count": null,
   "metadata": {},
   "outputs": [],
   "source": [
    "demo_sex = demo[demo['sex_at_birth'].isin(['Male', 'Female'])]\n",
    "demo_sex['sex_at_birth'].unique()"
   ]
  },
  {
   "cell_type": "markdown",
   "metadata": {},
   "source": [
    "## recode sex column"
   ]
  },
  {
   "cell_type": "code",
   "execution_count": null,
   "metadata": {},
   "outputs": [],
   "source": [
    "demo_sex['sex_at_birth'] = demo_sex['sex_at_birth'].str.replace('Male','1')\n",
    "demo_sex['sex_at_birth'] = demo_sex['sex_at_birth'].str.replace('Female','2')\n",
    "demo_sex['sex_at_birth'].unique()"
   ]
  },
  {
   "cell_type": "markdown",
   "metadata": {},
   "source": [
    "## rename sex column"
   ]
  },
  {
   "cell_type": "code",
   "execution_count": null,
   "metadata": {},
   "outputs": [],
   "source": [
    "demo_sex.rename(columns = {'sex_at_birth' : 'SEX'}, inplace = True)\n",
    "demo_sex.head()"
   ]
  },
  {
   "cell_type": "markdown",
   "metadata": {},
   "source": [
    "## convert DOB column to datetime"
   ]
  },
  {
   "cell_type": "code",
   "execution_count": null,
   "metadata": {},
   "outputs": [],
   "source": [
    "demo_sex['date_of_birth']=pd.to_datetime(demo_sex['date_of_birth'])"
   ]
  },
  {
   "cell_type": "markdown",
   "metadata": {},
   "source": [
    "# clean icd df"
   ]
  },
  {
   "cell_type": "markdown",
   "metadata": {},
   "source": [
    "## split hf and t2d dfs"
   ]
  },
  {
   "cell_type": "code",
   "execution_count": null,
   "metadata": {},
   "outputs": [],
   "source": [
    "hf = icd[icd['source_concept_code'].str.contains('428|I50|I11|I13|404|402')]\n",
    "print(hf['source_concept_code'].unique())\n",
    "print(len(hf['person_id'].unique()))\n",
    "hf.head()"
   ]
  },
  {
   "cell_type": "code",
   "execution_count": null,
   "metadata": {},
   "outputs": [],
   "source": [
    "t2d = icd[icd['source_concept_code'].str.contains('250|E11|O24')]\n",
    "print(t2d['source_concept_code'].unique())\n",
    "print(len(t2d['person_id'].unique()))\n",
    "t2d.head()"
   ]
  },
  {
   "cell_type": "markdown",
   "metadata": {},
   "source": [
    "## check source vocabulary"
   ]
  },
  {
   "cell_type": "code",
   "execution_count": null,
   "metadata": {},
   "outputs": [],
   "source": [
    "hf['source_vocabulary'].unique()"
   ]
  },
  {
   "cell_type": "code",
   "execution_count": null,
   "metadata": {},
   "outputs": [],
   "source": [
    "t2d['source_vocabulary'].unique()"
   ]
  },
  {
   "cell_type": "markdown",
   "metadata": {},
   "source": [
    "## rule of two"
   ]
  },
  {
   "cell_type": "markdown",
   "metadata": {},
   "source": [
    "### create id lists"
   ]
  },
  {
   "cell_type": "code",
   "execution_count": null,
   "metadata": {},
   "outputs": [],
   "source": [
    "hf_id_list = hf['person_id'].unique().tolist()\n",
    "len(hf_id_list)"
   ]
  },
  {
   "cell_type": "code",
   "execution_count": null,
   "metadata": {},
   "outputs": [],
   "source": [
    "t2d_id_list = t2d['person_id'].unique().tolist()\n",
    "len(t2d_id_list)"
   ]
  },
  {
   "cell_type": "markdown",
   "metadata": {},
   "source": [
    "### for loop to identify rule of 2 HF cases"
   ]
  },
  {
   "cell_type": "code",
   "execution_count": null,
   "metadata": {},
   "outputs": [],
   "source": [
    "hf_two_instances = []\n",
    "for id in hf_id_list:\n",
    "    id_df = hf[hf['person_id'].isin([id])]\n",
    "    id_df.drop_duplicates(inplace = True)\n",
    "    id_df.reset_index(inplace = True, drop = True)\n",
    "    if len(id_df.index) >= 2:\n",
    "        hf_two_instances.append(id)"
   ]
  },
  {
   "cell_type": "markdown",
   "metadata": {},
   "source": [
    "### for loop to identify rule of 2 T2D cases"
   ]
  },
  {
   "cell_type": "code",
   "execution_count": null,
   "metadata": {},
   "outputs": [],
   "source": [
    "t2d_two_instances = []\n",
    "for id in t2d_id_list:\n",
    "    id_df = t2d[t2d['person_id'].isin([id])]\n",
    "    id_df.drop_duplicates(inplace = True)\n",
    "    id_df.reset_index(inplace = True, drop = True)\n",
    "    if len(id_df.index) >= 2:\n",
    "        t2d_two_instances.append(id)"
   ]
  },
  {
   "cell_type": "markdown",
   "metadata": {},
   "source": [
    "### filter dfs to rule of two cases only"
   ]
  },
  {
   "cell_type": "code",
   "execution_count": null,
   "metadata": {},
   "outputs": [],
   "source": [
    "hf_two = hf[hf['person_id'].isin(hf_two_instances)]\n",
    "print(len(hf['person_id'].unique()))\n",
    "print(len(hf_two['person_id'].unique()))\n",
    "print(len(hf_two_instances))\n",
    "hf_two.head()"
   ]
  },
  {
   "cell_type": "code",
   "execution_count": null,
   "metadata": {},
   "outputs": [],
   "source": [
    "t2d_two = t2d[t2d['person_id'].isin(t2d_two_instances)]\n",
    "print(len(t2d['person_id'].unique()))\n",
    "print(len(t2d_two['person_id'].unique()))\n",
    "print(len(t2d_two_instances))\n",
    "t2d_two.head()"
   ]
  },
  {
   "cell_type": "markdown",
   "metadata": {},
   "source": [
    "## drop extra columns"
   ]
  },
  {
   "cell_type": "code",
   "execution_count": null,
   "metadata": {},
   "outputs": [],
   "source": [
    "hf_two.drop(columns = ['source_concept_code', 'source_vocabulary'], inplace = True)\n",
    "hf_two.head()"
   ]
  },
  {
   "cell_type": "code",
   "execution_count": null,
   "metadata": {},
   "outputs": [],
   "source": [
    "t2d_two.drop(columns = ['condition_start_datetime', 'source_concept_code', 'source_vocabulary'], inplace = True)\n",
    "t2d_two.head()"
   ]
  },
  {
   "cell_type": "markdown",
   "metadata": {},
   "source": [
    "## get first occurance for hf"
   ]
  },
  {
   "cell_type": "code",
   "execution_count": null,
   "metadata": {},
   "outputs": [],
   "source": [
    "hf_two['condition_start_datetime'] = pd.to_datetime(hf_two['condition_start_datetime'])\n",
    "hf_two.sort_values(by = ['person_id', 'condition_start_datetime'], inplace = True)\n",
    "hf_two.drop_duplicates(subset = 'person_id', keep = 'first', inplace = True)\n",
    "print(len(hf_two.index))\n",
    "hf_two.head()"
   ]
  },
  {
   "cell_type": "markdown",
   "metadata": {},
   "source": [
    "## drop duplicate ids for t2d"
   ]
  },
  {
   "cell_type": "code",
   "execution_count": null,
   "metadata": {},
   "outputs": [],
   "source": [
    "t2d_two.drop_duplicates(inplace = True)\n",
    "print(len(t2d_two.index))"
   ]
  },
  {
   "cell_type": "markdown",
   "metadata": {},
   "source": [
    "## merge hf df with demo df"
   ]
  },
  {
   "cell_type": "code",
   "execution_count": null,
   "metadata": {},
   "outputs": [],
   "source": [
    "hf_demo = hf_two.merge(demo_sex, on = 'person_id', how = 'inner')\n",
    "print(len(hf_demo.index))\n",
    "hf_demo.head()"
   ]
  },
  {
   "cell_type": "markdown",
   "metadata": {},
   "source": [
    "## calculate age at first occurance"
   ]
  },
  {
   "cell_type": "code",
   "execution_count": null,
   "metadata": {},
   "outputs": [],
   "source": [
    "hf_demo['AGE'] = hf_demo['condition_start_datetime'] - hf_demo['date_of_birth']\n",
    "hf_demo['AGE'] = hf_demo['AGE'].astype(str).str.replace(r' .*', '', regex = True)\n",
    "hf_demo['AGE'] = hf_demo['AGE'].astype(float)\n",
    "hf_demo['AGE'] = hf_demo['AGE']/365.25\n",
    "hf_demo.head()"
   ]
  },
  {
   "cell_type": "markdown",
   "metadata": {},
   "source": [
    "## drop DOB and condition start time columns from hf df"
   ]
  },
  {
   "cell_type": "code",
   "execution_count": null,
   "metadata": {},
   "outputs": [],
   "source": [
    "hf_demo.drop(columns = ['date_of_birth'], inplace = True)\n",
    "hf_demo.rename(columns = {'condition_start_datetime' : 'HF_DATE'}, inplace = True)\n",
    "hf_demo.head()"
   ]
  },
  {
   "cell_type": "markdown",
   "metadata": {},
   "source": [
    "## add case columns"
   ]
  },
  {
   "cell_type": "code",
   "execution_count": null,
   "metadata": {},
   "outputs": [],
   "source": [
    "hf_demo['HF'] = 1\n",
    "hf_demo.head()"
   ]
  },
  {
   "cell_type": "code",
   "execution_count": null,
   "metadata": {},
   "outputs": [],
   "source": [
    "t2d_two['T2D'] = 1\n",
    "t2d_two.head()"
   ]
  },
  {
   "cell_type": "markdown",
   "metadata": {},
   "source": [
    "# create hf controls dataframe"
   ]
  },
  {
   "cell_type": "markdown",
   "metadata": {},
   "source": [
    "## remove individuals with hf icd code"
   ]
  },
  {
   "cell_type": "code",
   "execution_count": null,
   "metadata": {},
   "outputs": [],
   "source": [
    "hf_controls = demo_sex[~demo_sex['person_id'].isin(hf['person_id'])]\n",
    "print(len(hf_controls.index))\n",
    "hf_controls.head()"
   ]
  },
  {
   "cell_type": "markdown",
   "metadata": {},
   "source": [
    "## calculate age at data release"
   ]
  },
  {
   "cell_type": "code",
   "execution_count": null,
   "metadata": {},
   "outputs": [],
   "source": [
    "hf_controls['HF_DATE'] = pd.to_datetime('2023-10-01')\n",
    "hf_controls['AGE'] = hf_controls['HF_DATE'] - hf_controls['date_of_birth'].dt.tz_localize(None)\n",
    "hf_controls['AGE'] = hf_controls['AGE'].astype(str).str.replace(' days', '')\n",
    "hf_controls['AGE'] = hf_controls['AGE'].astype(float)\n",
    "hf_controls['AGE'] = hf_controls['AGE'] / 365.25\n",
    "hf_controls.head()"
   ]
  },
  {
   "cell_type": "markdown",
   "metadata": {},
   "source": [
    "## drop dob column"
   ]
  },
  {
   "cell_type": "code",
   "execution_count": null,
   "metadata": {},
   "outputs": [],
   "source": [
    "hf_controls.drop(columns = ['date_of_birth'], inplace = True)\n",
    "hf_controls.head()"
   ]
  },
  {
   "cell_type": "markdown",
   "metadata": {},
   "source": [
    "## add HF column"
   ]
  },
  {
   "cell_type": "code",
   "execution_count": null,
   "metadata": {},
   "outputs": [],
   "source": [
    "hf_controls['HF'] = 0\n",
    "hf_controls.head()"
   ]
  },
  {
   "cell_type": "markdown",
   "metadata": {},
   "source": [
    "# merge hf cases and controls"
   ]
  },
  {
   "cell_type": "markdown",
   "metadata": {},
   "source": [
    "## merge"
   ]
  },
  {
   "cell_type": "code",
   "execution_count": null,
   "metadata": {},
   "outputs": [],
   "source": [
    "hf_case_control = pd.concat([hf_demo, hf_controls], axis = 0)\n",
    "print(len(hf_case_control.index))\n",
    "print(hf_case_control['HF'].value_counts())\n",
    "hf_case_control.head()"
   ]
  },
  {
   "cell_type": "markdown",
   "metadata": {},
   "source": [
    "# merge w t2d df"
   ]
  },
  {
   "cell_type": "markdown",
   "metadata": {},
   "source": [
    "## merge"
   ]
  },
  {
   "cell_type": "code",
   "execution_count": null,
   "metadata": {},
   "outputs": [],
   "source": [
    "hf_t2d = hf_case_control.merge(t2d_two, on = 'person_id', how = 'left')\n",
    "hf_t2d['T2D'] = hf_t2d['T2D'].fillna(0)\n",
    "print(len(hf_t2d.index))\n",
    "print(hf_t2d['T2D'].value_counts())\n",
    "hf_t2d.head()"
   ]
  },
  {
   "cell_type": "markdown",
   "metadata": {},
   "source": [
    "## identify individuals w one t2d icd code and set column as missing"
   ]
  },
  {
   "cell_type": "code",
   "execution_count": null,
   "metadata": {},
   "outputs": [],
   "source": [
    "hf_t2d_one = hf_t2d[hf_t2d['person_id'].isin(t2d['person_id'])]\n",
    "hf_t2d_one = hf_t2d_one[~hf_t2d_one['person_id'].isin(t2d_two['person_id'])]\n",
    "print(len(hf_t2d_one.index))\n",
    "hf_t2d_one.head()"
   ]
  },
  {
   "cell_type": "code",
   "execution_count": null,
   "metadata": {},
   "outputs": [],
   "source": [
    "hf_t2d_one['T2D'] = hf_t2d_one['T2D'].replace(0.0, np.nan)\n",
    "print(hf_t2d_one['T2D'].unique())\n",
    "hf_t2d_one.head()"
   ]
  },
  {
   "cell_type": "code",
   "execution_count": null,
   "metadata": {},
   "outputs": [],
   "source": [
    "hf_t2d_no_one = hf_t2d[~hf_t2d['person_id'].isin(hf_t2d_one['person_id'])]\n",
    "print(len(hf_t2d_no_one.index))"
   ]
  },
  {
   "cell_type": "code",
   "execution_count": null,
   "metadata": {},
   "outputs": [],
   "source": [
    "hf_t2d_fixed = pd.concat([hf_t2d_no_one, hf_t2d_one], axis = 0)\n",
    "print(len(hf_t2d_fixed.index))\n",
    "print(hf_t2d_fixed['T2D'].value_counts(dropna=False))\n",
    "hf_t2d_fixed.head()"
   ]
  },
  {
   "cell_type": "markdown",
   "metadata": {},
   "source": [
    "## remove decimal place from t2d column"
   ]
  },
  {
   "cell_type": "code",
   "execution_count": null,
   "metadata": {},
   "outputs": [],
   "source": [
    "hf_t2d_fixed['T2D'] = hf_t2d_fixed['T2D'].astype('Int64')\n",
    "print(hf_t2d_fixed['T2D'].value_counts(dropna = False))\n",
    "hf_t2d_fixed.head()"
   ]
  },
  {
   "cell_type": "markdown",
   "metadata": {},
   "source": [
    "# clean labs df"
   ]
  },
  {
   "cell_type": "markdown",
   "metadata": {},
   "source": [
    "## create median absolute deviance function"
   ]
  },
  {
   "cell_type": "code",
   "execution_count": null,
   "metadata": {},
   "outputs": [],
   "source": [
    "def mad_filter(df, threshold = 5):\n",
    "    values = df['value_as_number'].dropna()\n",
    "    \n",
    "    # Compute median and MAD\n",
    "    median = values.median()\n",
    "    mad = np.median(np.abs(values - median))\n",
    "    \n",
    "    # Define limits\n",
    "    lower_limit = median - threshold * mad\n",
    "    upper_limit = median + threshold * mad\n",
    "\n",
    "    # Filter and add top/bottom limits\n",
    "    filtered_df = df[(df['value_as_number'] >= lower_limit) & (df['value_as_number'] <= upper_limit)].copy()\n",
    "\n",
    "    return filtered_df"
   ]
  },
  {
   "cell_type": "markdown",
   "metadata": {},
   "source": [
    "## subset HF dateframe w just date and id"
   ]
  },
  {
   "cell_type": "code",
   "execution_count": null,
   "metadata": {},
   "outputs": [],
   "source": [
    "hf_date = hf_t2d_fixed[['person_id', 'HF_DATE']]"
   ]
  },
  {
   "cell_type": "markdown",
   "metadata": {},
   "source": [
    "## triglyerides"
   ]
  },
  {
   "cell_type": "markdown",
   "metadata": {},
   "source": [
    "### filter by name of measurement"
   ]
  },
  {
   "cell_type": "code",
   "execution_count": null,
   "metadata": {},
   "outputs": [],
   "source": [
    "trig = labs[labs['standard_concept_name'].str.contains('triglyceride', case = False)]\n",
    "print(trig['standard_concept_name'].unique())"
   ]
  },
  {
   "cell_type": "code",
   "execution_count": null,
   "metadata": {},
   "outputs": [],
   "source": [
    "trig = trig[~trig['standard_concept_name'].str.contains('Cholesterol|VLDL|Chylomicrons|LDL|IDL|Percentile|Lipids|Pleural|Peritoneal|Specimen|HDL|DBS|Fluid|Blood|Triglycerides', case = False)]\n",
    "print(trig['standard_concept_name'].unique())"
   ]
  },
  {
   "cell_type": "code",
   "execution_count": null,
   "metadata": {},
   "outputs": [],
   "source": [
    "print(len(trig.index))\n",
    "print(len(trig['person_id'].unique()))"
   ]
  },
  {
   "cell_type": "markdown",
   "metadata": {},
   "source": [
    "### apply MAD function"
   ]
  },
  {
   "cell_type": "code",
   "execution_count": null,
   "metadata": {},
   "outputs": [],
   "source": [
    "trig_normal = mad_filter(trig)\n",
    "print(len(trig_normal['person_id'].unique()))\n",
    "print(trig_normal['value_as_number'].describe().apply(lambda x: f'{x:,.2f}'))\n",
    "trig_normal.head()"
   ]
  },
  {
   "cell_type": "markdown",
   "metadata": {},
   "source": [
    "### remove negative and zero values"
   ]
  },
  {
   "cell_type": "code",
   "execution_count": null,
   "metadata": {},
   "outputs": [],
   "source": [
    "trig_positive = trig_normal[trig_normal['value_as_number'] > 0]\n",
    "print(len(trig_positive['person_id'].unique()))\n",
    "print(trig_positive['value_as_number'].describe().apply(lambda x: f'{x:,.2f}'))"
   ]
  },
  {
   "cell_type": "markdown",
   "metadata": {},
   "source": [
    "### filter by date"
   ]
  },
  {
   "cell_type": "code",
   "execution_count": null,
   "metadata": {},
   "outputs": [],
   "source": [
    "trig_date = trig_positive.merge(hf_date, on = 'person_id', how = 'inner')\n",
    "trig_date['DIFF'] = pd.to_datetime(trig_date['HF_DATE'], utc = True) - trig_date['measurement_datetime']\n",
    "trig_date['DIFF'] = trig_date['DIFF'].astype(str).str.replace(r' days.*','', regex = True)\n",
    "trig_date['DIFF'] = trig_date['DIFF'].astype(float)\n",
    "print(len(trig_sub.index))\n",
    "print(len(trig_date.index))\n",
    "trig_date.head()"
   ]
  },
  {
   "cell_type": "code",
   "execution_count": null,
   "metadata": {},
   "outputs": [],
   "source": [
    "trig_first = trig_date[trig_date['DIFF'] >= 0]\n",
    "trig_first.sort_values(by = ['person_id', 'DIFF'], inplace = True)\n",
    "print(len(trig_first.index))\n",
    "trig_first.drop_duplicates(subset = ['person_id'], keep = 'first', inplace = True)\n",
    "print(len(trig_first.index))\n",
    "print(trig_first['value_as_number'].describe().apply(lambda x: f'{x:,.2f}'))"
   ]
  },
  {
   "cell_type": "markdown",
   "metadata": {},
   "source": [
    "### remove extra columns and rename triglyeride column"
   ]
  },
  {
   "cell_type": "code",
   "execution_count": null,
   "metadata": {},
   "outputs": [],
   "source": [
    "trig_sub = trig_first[['person_id', 'value_as_number']]\n",
    "trig_sub.rename(columns = {'value_as_number' : 'TRIG'}, inplace = True)\n",
    "trig_sub.head()"
   ]
  },
  {
   "cell_type": "markdown",
   "metadata": {},
   "source": [
    "### merge with hf df"
   ]
  },
  {
   "cell_type": "code",
   "execution_count": null,
   "metadata": {},
   "outputs": [],
   "source": [
    "hf_trig = hf_t2d_fixed.merge(trig_sub, on = 'person_id', how = 'left')\n",
    "print(len(hf_trig.index))\n",
    "print(len(hf_trig[hf_trig['TRIG'].isna() == True ]))\n",
    "hf_trig.head()"
   ]
  },
  {
   "cell_type": "markdown",
   "metadata": {},
   "source": [
    "## ldl"
   ]
  },
  {
   "cell_type": "markdown",
   "metadata": {},
   "source": [
    "### filter by measurement name"
   ]
  },
  {
   "cell_type": "code",
   "execution_count": null,
   "metadata": {},
   "outputs": [],
   "source": [
    "ldl = labs[labs['standard_concept_name'].str.contains('low|density|lipoprotein|ldl|cholesterol', case = False)]\n",
    "ldl['standard_concept_name'].unique()"
   ]
  },
  {
   "cell_type": "code",
   "execution_count": null,
   "metadata": {},
   "outputs": [],
   "source": [
    "ldl = ldl[~ldl['standard_concept_name'].str.contains('HDL|VLDL|subparticle|alpha|Percentile|Triglyceride|mutation|^High|oxidized|dense|total|narrow|fluid|1|2|3|4', case = False)]\n",
    "ldl['standard_concept_name'].unique()"
   ]
  },
  {
   "cell_type": "code",
   "execution_count": null,
   "metadata": {},
   "outputs": [],
   "source": [
    "ldl = ldl[~ldl['standard_concept_name'].str.contains('measurement|pre|Calculated|lipid|DBS|Identifier', case = False)]\n",
    "ldl['standard_concept_name'].unique()"
   ]
  },
  {
   "cell_type": "code",
   "execution_count": null,
   "metadata": {},
   "outputs": [],
   "source": [
    "print(len(ldl['person_id'].unique()))\n",
    "print(ldl['value_as_number'].describe().apply(lambda x: f'{x:,.2f}'))"
   ]
  },
  {
   "cell_type": "markdown",
   "metadata": {},
   "source": [
    "### apply MAD"
   ]
  },
  {
   "cell_type": "code",
   "execution_count": null,
   "metadata": {},
   "outputs": [],
   "source": [
    "ldl_normal = mad_filter(ldl)\n",
    "print(len(ldl_normal['person_id'].unique()))\n",
    "print(ldl_normal['value_as_number'].describe().apply(lambda x: f'{x:,.2f}'))\n",
    "ldl_normal.head()"
   ]
  },
  {
   "cell_type": "markdown",
   "metadata": {},
   "source": [
    "### remove negative and zero labs"
   ]
  },
  {
   "cell_type": "code",
   "execution_count": null,
   "metadata": {},
   "outputs": [],
   "source": [
    "ldl_positive = ldl_normal[ldl_normal['value_as_number'] > 0]\n",
    "print(len(ldl_positive['person_id'].unique()))\n",
    "print(ldl_positive['value_as_number'].describe().apply(lambda x: f'{x:,.2f}'))"
   ]
  },
  {
   "cell_type": "markdown",
   "metadata": {},
   "source": [
    "### filter by date"
   ]
  },
  {
   "cell_type": "code",
   "execution_count": null,
   "metadata": {},
   "outputs": [],
   "source": [
    "ldl_date = ldl_positive.merge(hf_date, on = 'person_id', how = 'inner')\n",
    "ldl_date['DIFF'] = pd.to_datetime(ldl_date['HF_DATE'], utc = True) - ldl_date['measurement_datetime']\n",
    "ldl_date['DIFF'] = ldl_date['DIFF'].astype(str).str.replace(r' days.*','', regex = True)\n",
    "ldl_date['DIFF'] = ldl_date['DIFF'].astype(float)\n",
    "\n",
    "ldl_first = ldl_date[ldl_date['DIFF'] >= 0]\n",
    "ldl_first.sort_values(by = ['person_id', 'DIFF'], inplace = True)\n",
    "ldl_first.drop_duplicates(subset = ['person_id'], keep = 'first', inplace = True)\n",
    "print(len(ldl_first.index))\n",
    "print(ldl_first['value_as_number'].describe().apply(lambda x: f'{x:,.2f}'))"
   ]
  },
  {
   "cell_type": "markdown",
   "metadata": {},
   "source": [
    "### remove extra columns & rename"
   ]
  },
  {
   "cell_type": "code",
   "execution_count": null,
   "metadata": {},
   "outputs": [],
   "source": [
    "ldl_sub = ldl_first[['person_id', 'value_as_number']]\n",
    "ldl_sub.rename(columns = {'value_as_number' : 'LDL'}, inplace = True)\n",
    "ldl_sub.head()"
   ]
  },
  {
   "cell_type": "markdown",
   "metadata": {},
   "source": [
    "### merge w hf df"
   ]
  },
  {
   "cell_type": "code",
   "execution_count": null,
   "metadata": {},
   "outputs": [],
   "source": [
    "hf_ldl = hf_trig.merge(ldl_sub, on = 'person_id', how = 'left')\n",
    "print(len(hf_ldl.index))\n",
    "print(len(hf_ldl[hf_ldl['LDL'].isna() == True ]))\n",
    "hf_ldl.head()"
   ]
  },
  {
   "cell_type": "markdown",
   "metadata": {},
   "source": [
    "## hdl"
   ]
  },
  {
   "cell_type": "markdown",
   "metadata": {},
   "source": [
    "### filter by measurement name"
   ]
  },
  {
   "cell_type": "code",
   "execution_count": null,
   "metadata": {},
   "outputs": [],
   "source": [
    "hdl = labs[labs['standard_concept_name'].str.contains('high|density|lipoprotein|hdl|cholesterol', case = False)]\n",
    "hdl['standard_concept_name'].unique()"
   ]
  },
  {
   "cell_type": "code",
   "execution_count": null,
   "metadata": {},
   "outputs": [],
   "source": [
    "hdl = hdl[~hdl['standard_concept_name'].str.contains('LDL|Triglyceride|measurement|beta|Ratio|Percentile|total|non|3|subparticle|2|length|Presence|electroph', case = False)]\n",
    "hdl['standard_concept_name'].unique()"
   ]
  },
  {
   "cell_type": "code",
   "execution_count": null,
   "metadata": {},
   "outputs": [],
   "source": [
    "print(hdl['value_as_number'].describe().apply(lambda x: f'{x:,.2f}'))\n",
    "print(len(hdl['person_id'].unique()))"
   ]
  },
  {
   "cell_type": "markdown",
   "metadata": {},
   "source": [
    "### apply mad"
   ]
  },
  {
   "cell_type": "code",
   "execution_count": null,
   "metadata": {},
   "outputs": [],
   "source": [
    "hdl_normal = mad_filter(hdl)\n",
    "print(len(hdl_normal['person_id'].unique()))\n",
    "print(hdl_normal['value_as_number'].describe().apply(lambda x: f'{x:,.2f}'))\n",
    "hdl_normal.head()"
   ]
  },
  {
   "cell_type": "markdown",
   "metadata": {},
   "source": [
    "### remove values less than zero"
   ]
  },
  {
   "cell_type": "code",
   "execution_count": null,
   "metadata": {},
   "outputs": [],
   "source": [
    "hdl_positive = hdl_normal[hdl_normal['value_as_number'] > 0]\n",
    "print(len(hdl_positive['person_id'].unique()))\n",
    "print(hdl_positive['value_as_number'].describe().apply(lambda x: f'{x:,.2f}'))"
   ]
  },
  {
   "cell_type": "markdown",
   "metadata": {},
   "source": [
    "### filter by date"
   ]
  },
  {
   "cell_type": "code",
   "execution_count": null,
   "metadata": {},
   "outputs": [],
   "source": [
    "hdl_date = hdl_positive.merge(hf_date, on = 'person_id', how = 'inner')\n",
    "hdl_date['DIFF'] = pd.to_datetime(hdl_date['HF_DATE'], utc = True) - hdl_date['measurement_datetime']\n",
    "hdl_date['DIFF'] = hdl_date['DIFF'].astype(str).str.replace(r' days.*','', regex = True)\n",
    "hdl_date['DIFF'] = hdl_date['DIFF'].astype(float)\n",
    "\n",
    "hdl_first = hdl_date[hdl_date['DIFF'] >= 0]\n",
    "hdl_first.sort_values(by = ['person_id', 'DIFF'], inplace = True)\n",
    "hdl_first.drop_duplicates(subset = ['person_id'], keep = 'first', inplace = True)\n",
    "print(len(hdl_first.index))\n",
    "print(hdl_first['value_as_number'].describe().apply(lambda x: f'{x:,.2f}'))"
   ]
  },
  {
   "cell_type": "markdown",
   "metadata": {},
   "source": [
    "### remove extra columns and rename"
   ]
  },
  {
   "cell_type": "code",
   "execution_count": null,
   "metadata": {},
   "outputs": [],
   "source": [
    "hdl_sub = hdl_first[['person_id', 'value_as_number']]\n",
    "hdl_sub.rename(columns = {'value_as_number' : 'HDL'}, inplace = True)\n",
    "hdl_sub.head()"
   ]
  },
  {
   "cell_type": "markdown",
   "metadata": {},
   "source": [
    "### merge w hf df"
   ]
  },
  {
   "cell_type": "code",
   "execution_count": null,
   "metadata": {},
   "outputs": [],
   "source": [
    "hf_hdl = hf_ldl.merge(hdl_sub, on = 'person_id', how = 'left')\n",
    "print(len(hf_hdl.index))\n",
    "print(len(hf_hdl[hf_hdl['HDL'].isna() == True ]))\n",
    "hf_hdl.head()"
   ]
  },
  {
   "cell_type": "markdown",
   "metadata": {},
   "source": [
    "## glucose"
   ]
  },
  {
   "cell_type": "markdown",
   "metadata": {},
   "source": [
    "### filter by measurement name"
   ]
  },
  {
   "cell_type": "code",
   "execution_count": null,
   "metadata": {},
   "outputs": [],
   "source": [
    "glucose = labs[labs['standard_concept_name'].str.contains('glucose', case = False)]\n",
    "glucose['standard_concept_name'].unique()"
   ]
  },
  {
   "cell_type": "code",
   "execution_count": null,
   "metadata": {},
   "outputs": [],
   "source": [
    "glucose = glucose[~glucose['standard_concept_name'].str.contains('Enzymatic|DBS|Presence|measurement|Cerebral|time|tolerance|Laboratory|level|Ratio|PO|Insulin|meter|Self-monitoring|fluid|qualitative|Specimen|Entitic|test|Urine|Blood', case = False)]\n",
    "glucose['standard_concept_name'].unique()"
   ]
  },
  {
   "cell_type": "code",
   "execution_count": null,
   "metadata": {},
   "outputs": [],
   "source": [
    "print(glucose['value_as_number'].describe().apply(lambda x: f'{x:,.2f}'))\n",
    "print(len(glucose['person_id'].unique()))"
   ]
  },
  {
   "cell_type": "markdown",
   "metadata": {},
   "source": [
    "### filter by non-fasting- higher sample size"
   ]
  },
  {
   "cell_type": "code",
   "execution_count": null,
   "metadata": {},
   "outputs": [],
   "source": [
    "not_fasting = glucose[glucose['standard_concept_name'].isin(['Glucose [Mass/volume] in Serum or Plasma',\n",
    "                                                                       'Glucose [Moles/volume] in Serum or Plasma'])]\n",
    "print(len(not_fasting['person_id'].unique()))\n",
    "print(not_fasting['value_as_number'].describe().apply(lambda x: f'{x:,.2f}'))"
   ]
  },
  {
   "cell_type": "markdown",
   "metadata": {},
   "source": [
    "### apply MAD filter"
   ]
  },
  {
   "cell_type": "code",
   "execution_count": null,
   "metadata": {},
   "outputs": [],
   "source": [
    "glucose_normal = mad_filter(not_fasting)\n",
    "print(len(glucose_normal['person_id'].unique()))\n",
    "print(glucose_normal['value_as_number'].describe().apply(lambda x: f'{x:,.2f}'))\n",
    "glucose_normal.head()"
   ]
  },
  {
   "cell_type": "markdown",
   "metadata": {},
   "source": [
    "### filter by date"
   ]
  },
  {
   "cell_type": "code",
   "execution_count": null,
   "metadata": {},
   "outputs": [],
   "source": [
    "glucose_date = glucose_normal.merge(hf_date, on = 'person_id', how = 'inner')\n",
    "glucose_date['DIFF'] = pd.to_datetime(glucose_date['HF_DATE'], utc = True) - glucose_date['measurement_datetime']\n",
    "glucose_date['DIFF'] = glucose_date['DIFF'].astype(str).str.replace(r' days.*','', regex = True)\n",
    "glucose_date['DIFF'] = glucose_date['DIFF'].astype(float)\n",
    "\n",
    "glucose_first = glucose_date[glucose_date['DIFF'] >= 0]\n",
    "glucose_first.sort_values(by = ['person_id', 'DIFF'], inplace = True)\n",
    "glucose_first.drop_duplicates(subset = ['person_id'], keep = 'first', inplace = True)\n",
    "print(len(glucose_first.index))\n",
    "print(glucose_first['value_as_number'].describe().apply(lambda x: f'{x:,.2f}'))"
   ]
  },
  {
   "cell_type": "markdown",
   "metadata": {},
   "source": [
    "### remove extra columns and rename"
   ]
  },
  {
   "cell_type": "code",
   "execution_count": null,
   "metadata": {},
   "outputs": [],
   "source": [
    "glucose_sub = glucose_first[['person_id', 'value_as_number']]\n",
    "glucose_sub.rename(columns = {'value_as_number' : 'GLUCOSE'}, inplace = True)\n",
    "glucose_sub.head()"
   ]
  },
  {
   "cell_type": "markdown",
   "metadata": {},
   "source": [
    "### merge w hf df"
   ]
  },
  {
   "cell_type": "code",
   "execution_count": null,
   "metadata": {},
   "outputs": [],
   "source": [
    "hf_glucose = hf_hdl.merge(glucose_sub, on = 'person_id', how = 'left')\n",
    "print(len(hf_glucose.index))\n",
    "print(len(hf_glucose[hf_glucose['GLUCOSE'].isna() == True ]))\n",
    "hf_glucose.head()"
   ]
  },
  {
   "cell_type": "markdown",
   "metadata": {},
   "source": [
    "## hba1c"
   ]
  },
  {
   "cell_type": "markdown",
   "metadata": {},
   "source": [
    "### filter by measurement name"
   ]
  },
  {
   "cell_type": "code",
   "execution_count": null,
   "metadata": {},
   "outputs": [],
   "source": [
    "hba1c = labs[labs['standard_concept_name'].str.contains('hba1c|hemoglobin|a1c', case = False)]\n",
    "hba1c['standard_concept_name'].unique()"
   ]
  },
  {
   "cell_type": "code",
   "execution_count": null,
   "metadata": {},
   "outputs": [],
   "source": [
    "hba1c = hba1c[hba1c['standard_concept_name'].str.contains('A1c/')]\n",
    "hba1c['standard_concept_name'].unique()"
   ]
  },
  {
   "cell_type": "code",
   "execution_count": null,
   "metadata": {},
   "outputs": [],
   "source": [
    "print(hba1c['value_as_number'].describe().apply(lambda x: f'{x:,.2f}'))\n",
    "print(len(hba1c['person_id'].unique()))"
   ]
  },
  {
   "cell_type": "markdown",
   "metadata": {},
   "source": [
    "### apply MAD"
   ]
  },
  {
   "cell_type": "code",
   "execution_count": null,
   "metadata": {},
   "outputs": [],
   "source": [
    "hba1c_normal = mad_filter(hba1c)\n",
    "print(len(hba1c_normal['person_id'].unique()))\n",
    "print(hba1c_normal['value_as_number'].describe().apply(lambda x: f'{x:,.2f}'))\n",
    "hba1c_normal.head()"
   ]
  },
  {
   "cell_type": "markdown",
   "metadata": {},
   "source": [
    "### filter by date"
   ]
  },
  {
   "cell_type": "code",
   "execution_count": null,
   "metadata": {},
   "outputs": [],
   "source": [
    "hba1c_date = hba1c_normal.merge(hf_date, on = 'person_id', how = 'inner')\n",
    "hba1c_date['DIFF'] = pd.to_datetime(hba1c_date['HF_DATE'], utc = True) - hba1c_date['measurement_datetime']\n",
    "hba1c_date['DIFF'] = hba1c_date['DIFF'].astype(str).str.replace(r' days.*','', regex = True)\n",
    "hba1c_date['DIFF'] = hba1c_date['DIFF'].astype(float)\n",
    "\n",
    "hba1c_first = hba1c_date[hba1c_date['DIFF'] >= 0]\n",
    "hba1c_first.sort_values(by = ['person_id', 'DIFF'], inplace = True)\n",
    "hba1c_first.drop_duplicates(subset = ['person_id'], keep = 'first', inplace = True)\n",
    "print(len(hba1c_first.index))\n",
    "print(hba1c_first['value_as_number'].describe().apply(lambda x: f'{x:,.2f}'))"
   ]
  },
  {
   "cell_type": "markdown",
   "metadata": {},
   "source": [
    "### remove extra columns and rename"
   ]
  },
  {
   "cell_type": "code",
   "execution_count": null,
   "metadata": {},
   "outputs": [],
   "source": [
    "hba1c_sub = hba1c_first[['person_id', 'value_as_number']]\n",
    "hba1c_sub.rename(columns = {'value_as_number' : 'HbA1c'}, inplace = True)\n",
    "hba1c_sub.head()"
   ]
  },
  {
   "cell_type": "markdown",
   "metadata": {},
   "source": [
    "### merge w hf df"
   ]
  },
  {
   "cell_type": "code",
   "execution_count": null,
   "metadata": {},
   "outputs": [],
   "source": [
    "hf_hba1c = hf_glucose.merge(hba1c_sub, on = 'person_id', how = 'left')\n",
    "print(len(hf_hba1c.index))\n",
    "print(len(hf_hba1c[hf_hba1c['HbA1c'].isna() == True ]))\n",
    "hf_hba1c.head()"
   ]
  },
  {
   "cell_type": "markdown",
   "metadata": {},
   "source": [
    "## systolic blood pressure"
   ]
  },
  {
   "cell_type": "markdown",
   "metadata": {},
   "source": [
    "### filter by measurement name"
   ]
  },
  {
   "cell_type": "code",
   "execution_count": null,
   "metadata": {},
   "outputs": [],
   "source": [
    "systolic = labs[labs['standard_concept_name'].str.contains('systolic|pressure', case = False)]\n",
    "systolic['standard_concept_name'].unique()"
   ]
  },
  {
   "cell_type": "code",
   "execution_count": null,
   "metadata": {},
   "outputs": [],
   "source": [
    "systolic = systolic[~systolic['standard_concept_name'].str.contains('diastolic|oxygen|carbon|invasive|Cuff|venous|Arterial|Type|ventricular|toe|Mean|Artery|Atrial|panel|Aorta|taking', case = False)]\n",
    "systolic['standard_concept_name'].unique()"
   ]
  },
  {
   "cell_type": "code",
   "execution_count": null,
   "metadata": {},
   "outputs": [],
   "source": [
    "systolic = systolic[~systolic['standard_concept_name'].isin(['Sitting blood pressure',\n",
    "                                                             'Standing blood pressure'])]\n",
    "systolic['standard_concept_name'].unique()"
   ]
  },
  {
   "cell_type": "code",
   "execution_count": null,
   "metadata": {},
   "outputs": [],
   "source": [
    "print(systolic['value_as_number'].describe().apply(lambda x: f'{x:,.2f}'))\n",
    "print(len(systolic['person_id'].unique()))"
   ]
  },
  {
   "cell_type": "markdown",
   "metadata": {},
   "source": [
    "### apply MAD"
   ]
  },
  {
   "cell_type": "code",
   "execution_count": null,
   "metadata": {},
   "outputs": [],
   "source": [
    "systolic_normal = mad_filter(systolic)\n",
    "print(len(systolic_normal['person_id'].unique()))\n",
    "print(systolic_normal['value_as_number'].describe().apply(lambda x: f'{x:,.2f}'))\n",
    "systolic_normal.head()"
   ]
  },
  {
   "cell_type": "markdown",
   "metadata": {},
   "source": [
    "### filter by date"
   ]
  },
  {
   "cell_type": "code",
   "execution_count": null,
   "metadata": {},
   "outputs": [],
   "source": [
    "systolic_date = systolic_normal.merge(hf_date, on = 'person_id', how = 'inner')\n",
    "systolic_date['DIFF'] = pd.to_datetime(systolic_date['HF_DATE'], utc = True) - systolic_date['measurement_datetime']\n",
    "systolic_date['DIFF'] = systolic_date['DIFF'].astype(str).str.replace(r' days.*','', regex = True)\n",
    "systolic_date['DIFF'] = systolic_date['DIFF'].astype(float)\n",
    "\n",
    "systolic_first = systolic_date[systolic_date['DIFF'] >= 0]\n",
    "systolic_first.sort_values(by = ['person_id', 'DIFF'], inplace = True)\n",
    "systolic_first.drop_duplicates(subset = ['person_id'], keep = 'first', inplace = True)\n",
    "print(len(systolic_first.index))\n",
    "print(systolic_first['value_as_number'].describe().apply(lambda x: f'{x:,.2f}'))"
   ]
  },
  {
   "cell_type": "markdown",
   "metadata": {},
   "source": [
    "### remove extra columns and rename"
   ]
  },
  {
   "cell_type": "code",
   "execution_count": null,
   "metadata": {},
   "outputs": [],
   "source": [
    "systolic_sub = systolic_first[['person_id', 'value_as_number']]\n",
    "systolic_sub.rename(columns = {'value_as_number' : 'SBP'}, inplace = True)\n",
    "systolic_sub.head()"
   ]
  },
  {
   "cell_type": "markdown",
   "metadata": {},
   "source": [
    "### merge w hf df"
   ]
  },
  {
   "cell_type": "code",
   "execution_count": null,
   "metadata": {},
   "outputs": [],
   "source": [
    "hf_systolic = hf_hba1c.merge(systolic_sub, on = 'person_id', how = 'left')\n",
    "print(len(hf_systolic.index))\n",
    "print(len(hf_systolic[hf_systolic['SBP'].isna() == True ]))\n",
    "hf_systolic.head()"
   ]
  },
  {
   "cell_type": "markdown",
   "metadata": {},
   "source": [
    "## diastolic blood pressure"
   ]
  },
  {
   "cell_type": "markdown",
   "metadata": {},
   "source": [
    "### filter by measurement name"
   ]
  },
  {
   "cell_type": "code",
   "execution_count": null,
   "metadata": {},
   "outputs": [],
   "source": [
    "diastolic = labs[labs['standard_concept_name'].str.contains('diastolic', case = False)]\n",
    "diastolic['standard_concept_name'].unique()"
   ]
  },
  {
   "cell_type": "code",
   "execution_count": null,
   "metadata": {},
   "outputs": [],
   "source": [
    "diastolic = diastolic[~diastolic['standard_concept_name'].str.contains('artery|systolic|arterial|Invasive', case = False)]\n",
    "diastolic['standard_concept_name'].unique()"
   ]
  },
  {
   "cell_type": "code",
   "execution_count": null,
   "metadata": {},
   "outputs": [],
   "source": [
    "print(diastolic['value_as_number'].describe().apply(lambda x: f'{x:,.2f}'))\n",
    "print(len(diastolic['person_id'].unique()))"
   ]
  },
  {
   "cell_type": "markdown",
   "metadata": {},
   "source": [
    "### apply mad filter"
   ]
  },
  {
   "cell_type": "code",
   "execution_count": null,
   "metadata": {},
   "outputs": [],
   "source": [
    "diastolic_normal = mad_filter(diastolic)\n",
    "print(len(diastolic_normal['person_id'].unique()))\n",
    "print(diastolic_normal['value_as_number'].describe().apply(lambda x: f'{x:,.2f}'))\n",
    "diastolic_normal.head()"
   ]
  },
  {
   "cell_type": "markdown",
   "metadata": {},
   "source": [
    "### filter by date"
   ]
  },
  {
   "cell_type": "code",
   "execution_count": null,
   "metadata": {},
   "outputs": [],
   "source": [
    "diastolic_date = diastolic_normal.merge(hf_date, on = 'person_id', how = 'inner')\n",
    "diastolic_date['DIFF'] = pd.to_datetime(diastolic_date['HF_DATE'], utc = True) - diastolic_date['measurement_datetime']\n",
    "diastolic_date['DIFF'] = diastolic_date['DIFF'].astype(str).str.replace(r' days.*','', regex = True)\n",
    "diastolic_date['DIFF'] = diastolic_date['DIFF'].astype(float)\n",
    "\n",
    "diastolic_first = diastolic_date[diastolic_date['DIFF'] >= 0]\n",
    "diastolic_first.sort_values(by = ['person_id', 'DIFF'], inplace = True)\n",
    "diastolic_first.drop_duplicates(subset = ['person_id'], keep = 'first', inplace = True)\n",
    "print(len(diastolic_first.index))\n",
    "print(diastolic_first['value_as_number'].describe().apply(lambda x: f'{x:,.2f}'))"
   ]
  },
  {
   "cell_type": "markdown",
   "metadata": {},
   "source": [
    "### remove extra columns and rename"
   ]
  },
  {
   "cell_type": "code",
   "execution_count": null,
   "metadata": {},
   "outputs": [],
   "source": [
    "diastolic_sub = diastolic_first[['person_id', 'value_as_number']]\n",
    "diastolic_sub.rename(columns = {'value_as_number' : 'DBP'}, inplace = True)\n",
    "diastolic_sub.head()"
   ]
  },
  {
   "cell_type": "markdown",
   "metadata": {},
   "source": [
    "### merge w hf df"
   ]
  },
  {
   "cell_type": "code",
   "execution_count": null,
   "metadata": {},
   "outputs": [],
   "source": [
    "hf_diastolic = hf_systolic.merge(diastolic_sub, on = 'person_id', how = 'left')\n",
    "print(len(hf_diastolic.index))\n",
    "print(len(hf_diastolic[hf_diastolic['DBP'].isna() == True ]))\n",
    "hf_diastolic.head()"
   ]
  },
  {
   "cell_type": "markdown",
   "metadata": {},
   "source": [
    "## bmi"
   ]
  },
  {
   "cell_type": "markdown",
   "metadata": {},
   "source": [
    "### filter by measurement name"
   ]
  },
  {
   "cell_type": "code",
   "execution_count": null,
   "metadata": {},
   "outputs": [],
   "source": [
    "bmi = labs[labs['standard_concept_name'].str.contains('BMI|Body', case = False)]\n",
    "bmi['standard_concept_name'].unique()"
   ]
  },
  {
   "cell_type": "code",
   "execution_count": null,
   "metadata": {},
   "outputs": [],
   "source": [
    "bmi = bmi[~bmi['standard_concept_name'].str.contains('fluid', case = False)]\n",
    "bmi['standard_concept_name'].unique()"
   ]
  },
  {
   "cell_type": "code",
   "execution_count": null,
   "metadata": {},
   "outputs": [],
   "source": [
    "print(bmi['value_as_number'].describe().apply(lambda x: f'{x:,.2f}'))\n",
    "print(len(bmi['person_id'].unique()))"
   ]
  },
  {
   "cell_type": "markdown",
   "metadata": {},
   "source": [
    "### apply MAD filter"
   ]
  },
  {
   "cell_type": "code",
   "execution_count": null,
   "metadata": {},
   "outputs": [],
   "source": [
    "bmi_normal = mad_filter(bmi)\n",
    "print(len(bmi_normal['person_id'].unique()))\n",
    "print(bmi_normal['value_as_number'].describe().apply(lambda x: f'{x:,.2f}'))\n",
    "bmi_normal.head()"
   ]
  },
  {
   "cell_type": "markdown",
   "metadata": {},
   "source": [
    "### filter by date"
   ]
  },
  {
   "cell_type": "code",
   "execution_count": null,
   "metadata": {},
   "outputs": [],
   "source": [
    "bmi_date = bmi_normal.merge(hf_date, on = 'person_id', how = 'inner')\n",
    "bmi_date['DIFF'] = pd.to_datetime(bmi_date['HF_DATE'], utc = True) - bmi_date['measurement_datetime']\n",
    "bmi_date['DIFF'] = bmi_date['DIFF'].astype(str).str.replace(r' days.*','', regex = True)\n",
    "bmi_date['DIFF'] = bmi_date['DIFF'].astype(float)\n",
    "\n",
    "bmi_first = bmi_date[bmi_date['DIFF'] >= 0]\n",
    "bmi_first.sort_values(by = ['person_id', 'DIFF'], inplace = True)\n",
    "bmi_first.drop_duplicates(subset = ['person_id'], keep = 'first', inplace = True)\n",
    "print(len(bmi_first.index))\n",
    "print(bmi_first['value_as_number'].describe().apply(lambda x: f'{x:,.2f}'))"
   ]
  },
  {
   "cell_type": "markdown",
   "metadata": {},
   "source": [
    "### remove extra columns and rename"
   ]
  },
  {
   "cell_type": "code",
   "execution_count": null,
   "metadata": {},
   "outputs": [],
   "source": [
    "bmi_sub = bmi_first[['person_id', 'value_as_number']]\n",
    "bmi_sub.rename(columns = {'value_as_number' : 'BMI'}, inplace = True)\n",
    "bmi_sub.head()"
   ]
  },
  {
   "cell_type": "markdown",
   "metadata": {},
   "source": [
    "### merge w hf df"
   ]
  },
  {
   "cell_type": "code",
   "execution_count": null,
   "metadata": {},
   "outputs": [],
   "source": [
    "hf_bmi = hf_diastolic.merge(bmi_sub, on = 'person_id', how = 'left')\n",
    "print(len(hf_bmi.index))\n",
    "print(len(hf_bmi[hf_bmi['BMI'].isna() == True ]))\n",
    "hf_bmi.head()"
   ]
  },
  {
   "cell_type": "markdown",
   "metadata": {},
   "source": [
    "# clean observations data"
   ]
  },
  {
   "cell_type": "markdown",
   "metadata": {},
   "source": [
    "## neighborhood"
   ]
  },
  {
   "cell_type": "markdown",
   "metadata": {},
   "source": [
    "### encoding\n",
    "**My neighborhood has several free or low-cost recreation facilities, such as parks, walking trails, bike paths, recreation centers, playgrounds, public swimming pools, etc [PhenX]**\n",
    "- 'LA15237-3' : 3 (Strongly agree)\n",
    "- 'LA15235-7' : 2 (Somewhat agree)\n",
    "- 'LA15236-5' : 0 (Strongly disagree)\n",
    "- 'LA15234-0' : 1 (Somewhat disagree)\n",
    "- 'PMI_Skip' : np.nan (Missing)\n",
    "\n",
    "**How much you agree or disagree that there is too much drug use in your neighborhood?**\n",
    "- 'LA15236-5' : 3 (Strongly disagree)\n",
    "- 'LA15773-7' : 2 (Disagree)\n",
    "- 'LA15774-5' : 1 (Agree)\n",
    "- 'PMI_Skip' : np.nan (Missing)\n",
    "- 'LA15237-3' : 0 (Strongly agree)\n",
    "\n",
    "**My neighborhood is safe from crime [PhenX]**\n",
    "- 'LA15774-5' : 2 (Agree)\n",
    "- 'LA15237-3' : 3 (Strongly agree)\n",
    "- 'LA15773-7' : 1 (Disagree)\n",
    "- 'PMI_Skip' : np.nan (Missing)\n",
    "- 'LA15236-5' : 0 (Strongly disagree)\n",
    "\n",
    "**People in this neighborhood can be trusted [PhenX]**\n",
    "- 'LA15774-5' : 3 (Agree)\n",
    "- 'LA15237-3' : 4 (Strongly agree)\n",
    "- 'LA15773-7' : 1 (Disagree)\n",
    "- 'PMI_Skip' : np.nan (Missing)\n",
    "- 'LA15236-5' : 0 (Strongly disagree)\n",
    "- 'LA15240-7' : 2 (Neither agree nor disagree)\n",
    "\n",
    "**How much you agree or disagree that there are lot of abandoned buildings in your neighborhood?**\n",
    "- 'LA15236-5' : 3 (Strongly disagree)\n",
    "- 'LA15773-7' : 2 (Disagree)\n",
    "- 'LA15774-5' : 1 (Agree)\n",
    "- 'PMI_Skip' : np.nan (Missing)\n",
    "- 'LA15237-3' : 0 (Strongly agree)\n",
    "\n",
    "**How much you agree or disagree that there is too much alcohol use in your neighborhood?**\n",
    "- 'LA15236-5' : 3 (Strongly disagree)\n",
    "- 'LA15773-7' : 2 (Disagree)\n",
    "- 'LA15774-5' : 1 (Agree)\n",
    "- 'PMI_Skip' : np.nan (Missing)\n",
    "- 'LA15237-3' : 0 (Strongly agree)\n",
    "\n",
    "**How much you agree or disagree that vandalism is common in your neighborhood?**\n",
    "- 'LA15236-5' : 3 (Strongly disagree)\n",
    "- 'LA15773-7' : 2 (Disagree)\n",
    "- 'LA15774-5' : 1 (Agree)\n",
    "- 'PMI_Skip' : np.nan (Missing)\n",
    "- 'LA15237-3' : 0 (Strongly agree)\n",
    "\n",
    "**There are sidewalks on most of the streets in my neighborhood [PhenX]**\n",
    "- 'LA15237-3' : 3 (Strongly agree)\n",
    "- 'LA15236-5' : 0 (Strongly disagree)\n",
    "- 'LA15235-7' : 2 (Somewhat agree)\n",
    "- 'LA15234-0' : 1 (Somewhat disagree)\n",
    "- 'SDOH_9' : np.nan (don't know what this means so setting it as missing)\n",
    "- 'PMI_Skip' : np.nan (Missing)\n",
    "\n",
    "**There are facilities to bicycle in or near my neighborhood, such as special lanes, separate paths or trails, shared use paths for cycles and pedestrians [PhenX]**\n",
    "- 'LA15237-3' : 3 (Strongly agree)\n",
    "- 'LA15235-7' : 2 (Somewhat agree)\n",
    "- 'LA15236-5' : 0 (Strongly disagree)\n",
    "- 'LA15234-0' : 1 (Somewhat disagree)\n",
    "- 'PMI_Skip' : np.nan (Missing)\n",
    "- 'SDOH_9' : np.nan (don't know what this means so setting it as missing)\n",
    "\n",
    "**How much you agree or disagree that your neighborhood is clean?**\n",
    "- 'LA15774-5' : 2 (Agree)\n",
    "- 'LA15237-3' : 3 (Strongly agree)\n",
    "- 'LA15773-7' : 1 (Disagree)\n",
    "- 'PMI_Skip' : np.nan (Missing)\n",
    "- 'LA15236-5' : 0 (Strongly disagree)\n",
    "\n",
    "**How much you agree or disagree that in your neighborhood people watch out for each other?**\n",
    "- 'LA15774-5' : 2 (Agree)\n",
    "- 'LA15237-3' : 3 (Strongly agree)\n",
    "- 'LA15773-7' : 1 (Disagree)\n",
    "- 'LA15236-5' : 0 (Strongly disagree)\n",
    "- 'PMI_Skip' : np.nan (Missing)\n",
    "\n",
    "**What is the main type of housing in your neighborhood [PhenX]**\n",
    "- 'LA15229-0' : 4 (Detached single-family housing)\n",
    "- 'LA15231-6' : 2 (Mix of single-family residences and townhouses, row houses, apartments, or condos)\n",
    "- 'LA30308-3' : 3 (Duplex/townhouse)\n",
    "- 'LA15232-4' : 1 (Apartments or condos of 4-12 stories)\n",
    "- 'LA15233-2' : 0 (Apartments or condos of more than 12 stories)\n",
    "- 'PMI_Skip' : np.nan (Missing)\n",
    "\n",
    "**People in this neighborhood generally don't get along with each other [PhenX]**\n",
    "- 'LA15774-5' : 1 (Agree)\n",
    "- 'LA15237-3' : 0 (Strongly agree)\n",
    "- 'LA15240-7' : 2 (Neither agree nor disagree)\n",
    "- 'LA15773-7' : 3 (Disagree)\n",
    "- 'PMI_Skip' : np.nan (Missing)\n",
    "- 'LA15236-5' : 4 (Strongly disagree)\n",
    "\n",
    "**How much you agree or disagree that there is a lot of graffiti in your neighborhood?**\n",
    "- 'LA15236-5' : 3 (Strongly disagree)\n",
    "- 'LA15773-7' : 2 (Disagree)\n",
    "- 'LA15774-5' : 1 (Agree)\n",
    "- 'LA15237-3' : 0 (Strongly agree)\n",
    "- 'PMI_Skip' : np.nan (Missing)\n",
    "\n",
    "**How much you agree or disagree that your neighborhood is noisy?**\n",
    "- 'LA15236-5' : 3 (Strongly disagree)\n",
    "- 'LA15773-7' : 2 (Disagree)\n",
    "- 'LA15774-5' : 1 (Agree)\n",
    "- 'LA15237-3' : 0 (Strongly agree)\n",
    "- 'PMI_Skip' : np.nan (Missing)\n",
    "\n",
    "**The crime rate in my neighborhood makes it unsafe to go on walks at night [PhenX]**\n",
    "- 'LA15236-5' : 3 (Strongly disagree)\n",
    "- 'LA15234-0' : 2 (Somewhat disagree)\n",
    "- 'LA15235-7' : 1 (Somewhat agree)\n",
    "- 'LA15237-3' : 0 (Strongly agree)\n",
    "- 'PMI_Skip' : np.nan (Missing)\n",
    "\n",
    "**How much you agree or disagree that people in your neighborhood take good care of their houses and apartments?**\n",
    "- 'LA15774-5' : 2 (Agree)\n",
    "- 'LA15237-3' : 3 (Strongly agree)\n",
    "- 'LA15773-7' : 1 (Disagree)\n",
    "- 'LA15236-5' : 0 (Strongly disagree)\n",
    "- 'PMI_Skip' : np.nan (Missing)\n",
    "\n",
    "**How much you agree or disagree that there is a lot of crime in your neighborhood?**\n",
    "- 'LA15236-5' : 3 (Strongly disagree)\n",
    "- 'LA15773-7' : 2 (Disagree)\n",
    "- 'LA15774-5' : 1 (Agree)\n",
    "- 'PMI_Skip' : np.nan (Missing)\n",
    "- 'LA15237-3' : 0 (Strongly agree)\n",
    "\n",
    "**The crime rate in my neighborhood makes it unsafe to go on walks during the day. Would you say that you...**\n",
    "- 'LA15236-5' : 3 (Strongly disagree)\n",
    "- 'LA15234-0' : 2 (Somewhat disagree)\n",
    "- 'PMI_Skip' : np.nan (Missing)\n",
    "- 'LA15235-7' : 1 (Somewhat agree)\n",
    "- 'LA15237-3' : 0 (Strongly agree)\n",
    "\n",
    "**How much you agree or disagree that people in your neighborhood share the same values?**\n",
    "- 'LA15240-7' : 2 (Neither agree nor disagree)\n",
    "- 'LA15774-5' : 3 (Agree)\n",
    "- 'LA15237-3' : 4 (Strongly agree)\n",
    "- 'LA15773-7' : 1 (Disagree)\n",
    "- 'PMI_Skip' : np.nan (Missing)\n",
    "- 'LA15236-5' : 0 (Strongly disagree)\n",
    "\n",
    "**How much you agree or disagree that there are too many people hanging around on the streets near your home?**\n",
    "- 'LA15236-5' : 3 (Strongly disagree)\n",
    "- 'LA15773-7' : 2 (Disagree)\n",
    "- 'LA15774-5' : 1 (Agree)\n",
    "- 'PMI_Skip' : np.nan (Missing)\n",
    "- 'LA15237-3' : 0 (Strongly agree)\n",
    "\n",
    "**How much you agree or disagree that you are always having trouble with your neighbors?**\n",
    "- 'LA15236-5' : 3 (Strongly disagree)\n",
    "- 'LA15773-7' : 2 (Disagree)\n",
    "- 'PMI_Skip' : np.nan (Missing)\n",
    "- 'LA15774-5' : 1 (Agree)\n",
    "- 'LA15237-3' : 0 (Strongly agree)\n",
    "\n",
    "**Many shops, stores, markets, or other places to buy things I need are within easy walking distance of my home [PhenX]**\n",
    "- 'LA15236-5' : 0 (Strongly disagree)\n",
    "- 'LA15237-3' : 3 (Strongly agree)\n",
    "- 'LA15235-7' : 2 (Somewhat agree)\n",
    "- 'LA15234-0' : 1 (Somewhat disagree)\n",
    "- 'PMI_Skip' : np.nan (Missing)\n",
    "\n",
    "**It is within a 10-15 minute walk to a transit stop, such as bus, train, trolley, or tram, from my home [PhenX]**\n",
    "- 'LA15237-3' : 3 (Strongly agree)\n",
    "- 'LA15236-5' : 0 (Strongly disagree)\n",
    "- 'LA15235-7' : 2 (Somewhat agree)\n",
    "- 'LA15234-0' : 1 (Somewhat disagree)\n",
    "- 'PMI_Skip' : np.nan (Missing)"
   ]
  },
  {
   "cell_type": "markdown",
   "metadata": {},
   "source": [
    "### filter oberservations df to neighborhood"
   ]
  },
  {
   "cell_type": "code",
   "execution_count": null,
   "metadata": {},
   "outputs": [],
   "source": [
    "neighbor_obs = observation[observation['standard_concept_name'].str.contains('neighbor|transit|store|street')]\n",
    "neighbor_obs['standard_concept_name'].unique()"
   ]
  },
  {
   "cell_type": "markdown",
   "metadata": {},
   "source": [
    "### free amenities"
   ]
  },
  {
   "cell_type": "code",
   "execution_count": null,
   "metadata": {},
   "outputs": [],
   "source": [
    "neighbor_obs_sub = neighbor_obs[neighbor_obs['standard_concept_name'].isin(['My neighborhood has several free or low-cost recreation facilities, such as parks, walking trails, bike paths, recreation centers, playgrounds, public swimming pools, etc [PhenX]'])]\n",
    "print(neighbor_obs_sub['standard_concept_code'].unique())\n",
    "print(neighbor_obs_sub['standard_vocabulary'].unique())\n",
    "neighbor_obs_sub['value_as_string'].value_counts()"
   ]
  },
  {
   "cell_type": "code",
   "execution_count": null,
   "metadata": {},
   "outputs": [],
   "source": [
    "neighbor_obs_sub.rename(columns = {'value_as_string' : 'NEIGHBORHOOD_FREE_AMENITIES'}, inplace = True)\n",
    "neighbor_obs_sub = neighbor_obs_sub[['person_id', 'NEIGHBORHOOD_FREE_AMENITIES']]\n",
    "neighbor_obs_sub['NEIGHBORHOOD_FREE_AMENITIES'] = neighbor_obs_sub['NEIGHBORHOOD_FREE_AMENITIES'].replace({'LA15237-3' : 3,\n",
    "                                                                                                         'LA15235-7' : 2,\n",
    "                                                                                                         'LA15236-5' : 0,\n",
    "                                                                                                         'LA15234-0' : 1,\n",
    "                                                                                                         'PMI_Skip' : np.nan})\n",
    "neighbor_obs_sub['NEIGHBORHOOD_FREE_AMENITIES'] = neighbor_obs_sub['NEIGHBORHOOD_FREE_AMENITIES'].astype('Int64')\n",
    "print(neighbor_obs_sub['NEIGHBORHOOD_FREE_AMENITIES'].unique())\n",
    "neighbor_obs_sub.head()"
   ]
  },
  {
   "cell_type": "code",
   "execution_count": null,
   "metadata": {},
   "outputs": [],
   "source": [
    "neighbor_obs_clean = neighbor_obs_sub"
   ]
  },
  {
   "cell_type": "markdown",
   "metadata": {},
   "source": [
    "### drug use"
   ]
  },
  {
   "cell_type": "code",
   "execution_count": null,
   "metadata": {},
   "outputs": [],
   "source": [
    "neighbor_obs_sub = neighbor_obs[neighbor_obs['standard_concept_name'].isin(['How much you agree or disagree that there is too much drug use in your neighborhood?'])]\n",
    "print(neighbor_obs_sub['standard_concept_code'].unique())\n",
    "print(neighbor_obs_sub['standard_vocabulary'].unique())\n",
    "neighbor_obs_sub['value_as_string'].value_counts()"
   ]
  },
  {
   "cell_type": "code",
   "execution_count": null,
   "metadata": {},
   "outputs": [],
   "source": [
    "neighbor_obs_sub.rename(columns = {'value_as_string' : 'NEIGHBORHOOD_DRUG_USE'}, inplace = True)\n",
    "neighbor_obs_sub = neighbor_obs_sub[['person_id', 'NEIGHBORHOOD_DRUG_USE']]\n",
    "neighbor_obs_sub['NEIGHBORHOOD_DRUG_USE'] = neighbor_obs_sub['NEIGHBORHOOD_DRUG_USE'].replace({'LA15236-5' : 3,\n",
    "                                                                                               'LA15773-7' : 2,\n",
    "                                                                                               'LA15774-5' : 1,\n",
    "                                                                                               'PMI_Skip' : np.nan,\n",
    "                                                                                               'LA15237-3' : 0})\n",
    "neighbor_obs_sub['NEIGHBORHOOD_DRUG_USE'] = neighbor_obs_sub['NEIGHBORHOOD_DRUG_USE'].astype('Int64')\n",
    "print(neighbor_obs_sub['NEIGHBORHOOD_DRUG_USE'].unique())\n",
    "neighbor_obs_sub.head()"
   ]
  },
  {
   "cell_type": "code",
   "execution_count": null,
   "metadata": {},
   "outputs": [],
   "source": [
    "neighbor_obs_clean = neighbor_obs_clean.merge(neighbor_obs_sub, on = 'person_id', how = 'outer')\n",
    "neighbor_obs_clean.head()"
   ]
  },
  {
   "cell_type": "markdown",
   "metadata": {},
   "source": [
    "### safe from crime"
   ]
  },
  {
   "cell_type": "code",
   "execution_count": null,
   "metadata": {},
   "outputs": [],
   "source": [
    "neighbor_obs_sub = neighbor_obs[neighbor_obs['standard_concept_name'].isin(['My neighborhood is safe from crime [PhenX]'])]\n",
    "print(neighbor_obs_sub['standard_concept_code'].unique())\n",
    "print(neighbor_obs_sub['standard_vocabulary'].unique())\n",
    "neighbor_obs_sub ['value_as_string'].value_counts()"
   ]
  },
  {
   "cell_type": "code",
   "execution_count": null,
   "metadata": {},
   "outputs": [],
   "source": [
    "neighbor_obs_sub.rename(columns = {'value_as_string' : 'NEIGHBORHOOD_SAFE_CRIME'}, inplace = True)\n",
    "neighbor_obs_sub = neighbor_obs_sub[['person_id', 'NEIGHBORHOOD_SAFE_CRIME']]\n",
    "neighbor_obs_sub['NEIGHBORHOOD_SAFE_CRIME'] = neighbor_obs_sub['NEIGHBORHOOD_SAFE_CRIME'].replace({'LA15774-5' : 2,\n",
    "                                                                                                   'LA15237-3' : 3,\n",
    "                                                                                                   'LA15773-7' : 1,\n",
    "                                                                                                   'PMI_Skip' : np.nan,\n",
    "                                                                                                   'LA15236-5' : 0})\n",
    "neighbor_obs_sub['NEIGHBORHOOD_SAFE_CRIME'] = neighbor_obs_sub['NEIGHBORHOOD_SAFE_CRIME'].astype('Int64')\n",
    "print(neighbor_obs_sub['NEIGHBORHOOD_SAFE_CRIME'].unique())\n",
    "neighbor_obs_sub.head()"
   ]
  },
  {
   "cell_type": "code",
   "execution_count": null,
   "metadata": {},
   "outputs": [],
   "source": [
    "neighbor_obs_clean = neighbor_obs_clean.merge(neighbor_obs_sub, on = 'person_id', how = 'outer')\n",
    "neighbor_obs_clean.head()"
   ]
  },
  {
   "cell_type": "markdown",
   "metadata": {},
   "source": [
    "### neighborhood trust"
   ]
  },
  {
   "cell_type": "code",
   "execution_count": null,
   "metadata": {},
   "outputs": [],
   "source": [
    "neighbor_obs_sub = neighbor_obs[neighbor_obs['standard_concept_name'].isin(['People in this neighborhood can be trusted [PhenX]'])]\n",
    "print(neighbor_obs_sub['standard_concept_code'].unique())\n",
    "print(neighbor_obs_sub['standard_vocabulary'].unique())\n",
    "neighbor_obs_sub ['value_as_string'].value_counts()"
   ]
  },
  {
   "cell_type": "code",
   "execution_count": null,
   "metadata": {},
   "outputs": [],
   "source": [
    "neighbor_obs_sub.rename(columns = {'value_as_string' : 'NEIGHBORHOOD_TRUST'}, inplace = True)\n",
    "neighbor_obs_sub = neighbor_obs_sub[['person_id', 'NEIGHBORHOOD_TRUST']]\n",
    "neighbor_obs_sub['NEIGHBORHOOD_TRUST'] = neighbor_obs_sub['NEIGHBORHOOD_TRUST'].replace({'LA15774-5' : 3,\n",
    "                                                                                         'LA15237-3' : 4,\n",
    "                                                                                         'LA15773-7' : 1,\n",
    "                                                                                         'PMI_Skip' : np.nan,\n",
    "                                                                                         'LA15236-5' : 0,\n",
    "                                                                                         'LA15240-7' : 2})\n",
    "neighbor_obs_sub['NEIGHBORHOOD_TRUST'] = neighbor_obs_sub['NEIGHBORHOOD_TRUST'].astype('Int64')\n",
    "print(neighbor_obs_sub['NEIGHBORHOOD_TRUST'].unique())\n",
    "neighbor_obs_sub.head()"
   ]
  },
  {
   "cell_type": "code",
   "execution_count": null,
   "metadata": {},
   "outputs": [],
   "source": [
    "neighbor_obs_clean = neighbor_obs_clean.merge(neighbor_obs_sub, on = 'person_id', how = 'outer')\n",
    "neighbor_obs_clean.head()"
   ]
  },
  {
   "cell_type": "markdown",
   "metadata": {},
   "source": [
    "### abandoned buildings"
   ]
  },
  {
   "cell_type": "code",
   "execution_count": null,
   "metadata": {},
   "outputs": [],
   "source": [
    "neighbor_obs_sub = neighbor_obs[neighbor_obs['standard_concept_name'].isin(['How much you agree or disagree that there are lot of abandoned buildings in your neighborhood?'])]\n",
    "print(neighbor_obs_sub['standard_concept_code'].unique())\n",
    "print(neighbor_obs_sub['standard_vocabulary'].unique())\n",
    "neighbor_obs_sub ['value_as_string'].value_counts()"
   ]
  },
  {
   "cell_type": "code",
   "execution_count": null,
   "metadata": {},
   "outputs": [],
   "source": [
    "neighbor_obs_sub.rename(columns = {'value_as_string' : 'NEIGHBORHOOD_BUILDING'}, inplace = True)\n",
    "neighbor_obs_sub = neighbor_obs_sub[['person_id', 'NEIGHBORHOOD_BUILDING']]\n",
    "neighbor_obs_sub['NEIGHBORHOOD_BUILDING'] = neighbor_obs_sub['NEIGHBORHOOD_BUILDING'].replace({'LA15236-5' : 3,\n",
    "                                                                                               'LA15773-7' : 2,\n",
    "                                                                                               'LA15774-5' : 1,\n",
    "                                                                                               'PMI_Skip' : np.nan,\n",
    "                                                                                               'LA15237-3' : 0})\n",
    "neighbor_obs_sub['NEIGHBORHOOD_BUILDING'] = neighbor_obs_sub['NEIGHBORHOOD_BUILDING'].astype('Int64')\n",
    "print(neighbor_obs_sub['NEIGHBORHOOD_BUILDING'].unique())\n",
    "neighbor_obs_sub.head()"
   ]
  },
  {
   "cell_type": "code",
   "execution_count": null,
   "metadata": {},
   "outputs": [],
   "source": [
    "neighbor_obs_clean = neighbor_obs_clean.merge(neighbor_obs_sub, on = 'person_id', how = 'outer')\n",
    "neighbor_obs_clean.head()"
   ]
  },
  {
   "cell_type": "markdown",
   "metadata": {},
   "source": [
    "### alcohol use"
   ]
  },
  {
   "cell_type": "code",
   "execution_count": null,
   "metadata": {},
   "outputs": [],
   "source": [
    "neighbor_obs_sub = neighbor_obs[neighbor_obs['standard_concept_name'].isin(['How much you agree or disagree that there is too much alcohol use in your neighborhood?'])]\n",
    "print(neighbor_obs_sub['standard_concept_code'].unique())\n",
    "print(neighbor_obs_sub['standard_vocabulary'].unique())\n",
    "neighbor_obs_sub ['value_as_string'].value_counts()"
   ]
  },
  {
   "cell_type": "code",
   "execution_count": null,
   "metadata": {},
   "outputs": [],
   "source": [
    "neighbor_obs_sub.rename(columns = {'value_as_string' : 'NEIGHBORHOOD_ALCOHOL'}, inplace = True)\n",
    "neighbor_obs_sub = neighbor_obs_sub[['person_id', 'NEIGHBORHOOD_ALCOHOL']]\n",
    "neighbor_obs_sub['NEIGHBORHOOD_ALCOHOL'] = neighbor_obs_sub['NEIGHBORHOOD_ALCOHOL'].replace({'LA15236-5' : 3,\n",
    "                                                                                             'LA15773-7' : 2,\n",
    "                                                                                             'LA15774-5' : 1,\n",
    "                                                                                             'PMI_Skip' : np.nan,\n",
    "                                                                                             'LA15237-3' : 0})\n",
    "neighbor_obs_sub['NEIGHBORHOOD_ALCOHOL'] = neighbor_obs_sub['NEIGHBORHOOD_ALCOHOL'].astype('Int64')\n",
    "print(neighbor_obs_sub['NEIGHBORHOOD_ALCOHOL'].unique())\n",
    "neighbor_obs_sub.head()"
   ]
  },
  {
   "cell_type": "code",
   "execution_count": null,
   "metadata": {},
   "outputs": [],
   "source": [
    "neighbor_obs_clean = neighbor_obs_clean.merge(neighbor_obs_sub, on = 'person_id', how = 'outer')\n",
    "neighbor_obs_clean.head()"
   ]
  },
  {
   "cell_type": "markdown",
   "metadata": {},
   "source": [
    "### vandalism"
   ]
  },
  {
   "cell_type": "code",
   "execution_count": null,
   "metadata": {},
   "outputs": [],
   "source": [
    "neighbor_obs_sub = neighbor_obs[neighbor_obs['standard_concept_name'].isin(['How much you agree or disagree that vandalism is common in your neighborhood?'])]\n",
    "print(neighbor_obs_sub['standard_concept_code'].unique())\n",
    "print(neighbor_obs_sub['standard_vocabulary'].unique())\n",
    "neighbor_obs_sub ['value_as_string'].value_counts()"
   ]
  },
  {
   "cell_type": "code",
   "execution_count": null,
   "metadata": {},
   "outputs": [],
   "source": [
    "neighbor_obs_sub.rename(columns = {'value_as_string' : 'NEIGHBORHOOD_VANDALISM'}, inplace = True)\n",
    "neighbor_obs_sub = neighbor_obs_sub[['person_id', 'NEIGHBORHOOD_VANDALISM']]\n",
    "neighbor_obs_sub['NEIGHBORHOOD_VANDALISM'] = neighbor_obs_sub['NEIGHBORHOOD_VANDALISM'].replace({'LA15236-5' : 3,\n",
    "                                                                                             'LA15773-7' : 2,\n",
    "                                                                                             'LA15774-5' : 1,\n",
    "                                                                                             'PMI_Skip' : np.nan,\n",
    "                                                                                             'LA15237-3' : 0})\n",
    "neighbor_obs_sub['NEIGHBORHOOD_VANDALISM'] = neighbor_obs_sub['NEIGHBORHOOD_VANDALISM'].astype('Int64')\n",
    "print(neighbor_obs_sub['NEIGHBORHOOD_VANDALISM'].unique())\n",
    "neighbor_obs_sub.head()"
   ]
  },
  {
   "cell_type": "code",
   "execution_count": null,
   "metadata": {},
   "outputs": [],
   "source": [
    "neighbor_obs_clean = neighbor_obs_clean.merge(neighbor_obs_sub, on = 'person_id', how = 'outer')\n",
    "neighbor_obs_clean.head()"
   ]
  },
  {
   "cell_type": "markdown",
   "metadata": {},
   "source": [
    "### sidewalks"
   ]
  },
  {
   "cell_type": "code",
   "execution_count": null,
   "metadata": {},
   "outputs": [],
   "source": [
    "neighbor_obs_sub = neighbor_obs[neighbor_obs['standard_concept_name'].isin(['There are sidewalks on most of the streets in my neighborhood [PhenX]'])]\n",
    "print(neighbor_obs_sub['standard_concept_code'].unique())\n",
    "print(neighbor_obs_sub['standard_vocabulary'].unique())\n",
    "neighbor_obs_sub ['value_as_string'].value_counts()"
   ]
  },
  {
   "cell_type": "code",
   "execution_count": null,
   "metadata": {},
   "outputs": [],
   "source": [
    "neighbor_obs_sub.rename(columns = {'value_as_string' : 'NEIGHBORHOOD_SIDEWALK'}, inplace = True)\n",
    "neighbor_obs_sub = neighbor_obs_sub[['person_id', 'NEIGHBORHOOD_SIDEWALK']]\n",
    "neighbor_obs_sub['NEIGHBORHOOD_SIDEWALK'] = neighbor_obs_sub['NEIGHBORHOOD_SIDEWALK'].replace({'LA15237-3' : 3,\n",
    "                                                                                               'LA15236-5' : 0,\n",
    "                                                                                               'LA15235-7' : 2,\n",
    "                                                                                               'LA15234-0' : 1,\n",
    "                                                                                               'SDOH_9' : np.nan,\n",
    "                                                                                               'PMI_Skip' : np.nan})\n",
    "neighbor_obs_sub['NEIGHBORHOOD_SIDEWALK'] = neighbor_obs_sub['NEIGHBORHOOD_SIDEWALK'].astype('Int64')\n",
    "print(neighbor_obs_sub['NEIGHBORHOOD_SIDEWALK'].unique())\n",
    "neighbor_obs_sub.head()"
   ]
  },
  {
   "cell_type": "code",
   "execution_count": null,
   "metadata": {},
   "outputs": [],
   "source": [
    "neighbor_obs_clean = neighbor_obs_clean.merge(neighbor_obs_sub, on = 'person_id', how = 'outer')\n",
    "neighbor_obs_clean.head()"
   ]
  },
  {
   "cell_type": "markdown",
   "metadata": {},
   "source": [
    "### bike"
   ]
  },
  {
   "cell_type": "code",
   "execution_count": null,
   "metadata": {},
   "outputs": [],
   "source": [
    "neighbor_obs_sub = neighbor_obs[neighbor_obs['standard_concept_name'].isin(['There are facilities to bicycle in or near my neighborhood, such as special lanes, separate paths or trails, shared use paths for cycles and pedestrians [PhenX]'])]\n",
    "print(neighbor_obs_sub['standard_concept_code'].unique())\n",
    "print(neighbor_obs_sub['standard_vocabulary'].unique())\n",
    "neighbor_obs_sub ['value_as_string'].value_counts()"
   ]
  },
  {
   "cell_type": "code",
   "execution_count": null,
   "metadata": {},
   "outputs": [],
   "source": [
    "neighbor_obs_sub.rename(columns = {'value_as_string' : 'NEIGHBORHOOD_BIKE'}, inplace = True)\n",
    "neighbor_obs_sub = neighbor_obs_sub[['person_id', 'NEIGHBORHOOD_BIKE']]\n",
    "neighbor_obs_sub['NEIGHBORHOOD_BIKE'] = neighbor_obs_sub['NEIGHBORHOOD_BIKE'].replace({'LA15237-3' : 3,\n",
    "                                                                                               'LA15236-5' : 0,\n",
    "                                                                                               'LA15235-7' : 2,\n",
    "                                                                                               'LA15234-0' : 1,\n",
    "                                                                                               'SDOH_9' : np.nan,\n",
    "                                                                                               'PMI_Skip' : np.nan})\n",
    "neighbor_obs_sub['NEIGHBORHOOD_BIKE'] = neighbor_obs_sub['NEIGHBORHOOD_BIKE'].astype('Int64')\n",
    "print(neighbor_obs_sub['NEIGHBORHOOD_BIKE'].unique())\n",
    "neighbor_obs_sub.head()"
   ]
  },
  {
   "cell_type": "code",
   "execution_count": null,
   "metadata": {},
   "outputs": [],
   "source": [
    "neighbor_obs_clean = neighbor_obs_clean.merge(neighbor_obs_sub, on = 'person_id', how = 'outer')\n",
    "neighbor_obs_clean.head()"
   ]
  },
  {
   "cell_type": "markdown",
   "metadata": {},
   "source": [
    "### clean"
   ]
  },
  {
   "cell_type": "code",
   "execution_count": null,
   "metadata": {},
   "outputs": [],
   "source": [
    "neighbor_obs_sub = neighbor_obs[neighbor_obs['standard_concept_name'].isin(['How much you agree or disagree that your neighborhood is clean?'])]\n",
    "print(neighbor_obs_sub['standard_concept_code'].unique())\n",
    "print(neighbor_obs_sub['standard_vocabulary'].unique())\n",
    "neighbor_obs_sub ['value_as_string'].value_counts()"
   ]
  },
  {
   "cell_type": "code",
   "execution_count": null,
   "metadata": {},
   "outputs": [],
   "source": [
    "neighbor_obs_sub.rename(columns = {'value_as_string' : 'NEIGHBORHOOD_CLEAN'}, inplace = True)\n",
    "neighbor_obs_sub = neighbor_obs_sub[['person_id', 'NEIGHBORHOOD_CLEAN']]\n",
    "neighbor_obs_sub['NEIGHBORHOOD_CLEAN'] = neighbor_obs_sub['NEIGHBORHOOD_CLEAN'].replace({'LA15774-5' : 2,\n",
    "                                                                                       'LA15237-3' : 3,\n",
    "                                                                                       'LA15773-7' : 1,\n",
    "                                                                                       'PMI_Skip' : np.nan,\n",
    "                                                                                       'LA15236-5' : 0})\n",
    "neighbor_obs_sub['NEIGHBORHOOD_CLEAN'] = neighbor_obs_sub['NEIGHBORHOOD_CLEAN'].astype('Int64')\n",
    "print(neighbor_obs_sub['NEIGHBORHOOD_CLEAN'].unique())\n",
    "neighbor_obs_sub.head()"
   ]
  },
  {
   "cell_type": "code",
   "execution_count": null,
   "metadata": {},
   "outputs": [],
   "source": [
    "neighbor_obs_clean = neighbor_obs_clean.merge(neighbor_obs_sub, on = 'person_id', how = 'outer')\n",
    "neighbor_obs_clean.head()"
   ]
  },
  {
   "cell_type": "markdown",
   "metadata": {},
   "source": [
    "### watch out for others"
   ]
  },
  {
   "cell_type": "code",
   "execution_count": null,
   "metadata": {},
   "outputs": [],
   "source": [
    "neighbor_obs_sub = neighbor_obs[neighbor_obs['standard_concept_name'].isin(['How much you agree or disagree that in your neighborhood people watch out for each other?'])]\n",
    "print(neighbor_obs_sub['standard_concept_code'].unique())\n",
    "print(neighbor_obs_sub['standard_vocabulary'].unique())\n",
    "neighbor_obs_sub ['value_as_string'].value_counts()"
   ]
  },
  {
   "cell_type": "code",
   "execution_count": null,
   "metadata": {},
   "outputs": [],
   "source": [
    "neighbor_obs_sub.rename(columns = {'value_as_string' : 'NEIGHBORHOOD_WATCH'}, inplace = True)\n",
    "neighbor_obs_sub = neighbor_obs_sub[['person_id', 'NEIGHBORHOOD_WATCH']]\n",
    "neighbor_obs_sub['NEIGHBORHOOD_WATCH'] = neighbor_obs_sub['NEIGHBORHOOD_WATCH'].replace({'LA15774-5' : 2,\n",
    "                                                                                       'LA15237-3' : 3,\n",
    "                                                                                       'LA15773-7' : 1,\n",
    "                                                                                       'PMI_Skip' : np.nan,\n",
    "                                                                                       'LA15236-5' : 0})\n",
    "neighbor_obs_sub['NEIGHBORHOOD_WATCH'] = neighbor_obs_sub['NEIGHBORHOOD_WATCH'].astype('Int64')\n",
    "print(neighbor_obs_sub['NEIGHBORHOOD_WATCH'].unique())\n",
    "neighbor_obs_sub.head()"
   ]
  },
  {
   "cell_type": "code",
   "execution_count": null,
   "metadata": {},
   "outputs": [],
   "source": [
    "neighbor_obs_clean = neighbor_obs_clean.merge(neighbor_obs_sub, on = 'person_id', how = 'outer')\n",
    "neighbor_obs_clean.head()"
   ]
  },
  {
   "cell_type": "markdown",
   "metadata": {},
   "source": [
    "### housing"
   ]
  },
  {
   "cell_type": "code",
   "execution_count": null,
   "metadata": {},
   "outputs": [],
   "source": [
    "neighbor_obs_sub = neighbor_obs[neighbor_obs['standard_concept_name'].isin(['What is the main type of housing in your neighborhood [PhenX]'])]\n",
    "print(neighbor_obs_sub['standard_concept_code'].unique())\n",
    "print(neighbor_obs_sub['standard_vocabulary'].unique())\n",
    "neighbor_obs_sub ['value_as_string'].value_counts()"
   ]
  },
  {
   "cell_type": "code",
   "execution_count": null,
   "metadata": {},
   "outputs": [],
   "source": [
    "neighbor_obs_sub.rename(columns = {'value_as_string' : 'NEIGHBORHOOD_HOUSING'}, inplace = True)\n",
    "neighbor_obs_sub = neighbor_obs_sub[['person_id', 'NEIGHBORHOOD_HOUSING']]\n",
    "neighbor_obs_sub['NEIGHBORHOOD_HOUSING'] = neighbor_obs_sub['NEIGHBORHOOD_HOUSING'].replace({'LA15229-0' : 4,\n",
    "                                                                                             'LA15231-6' : 2,\n",
    "                                                                                             'LA30308-3' : 3,\n",
    "                                                                                             'LA15232-4' : 1,\n",
    "                                                                                             'LA15233-2' : 0,\n",
    "                                                                                             'PMI_Skip' : np.nan})\n",
    "neighbor_obs_sub['NEIGHBORHOOD_HOUSING'] = neighbor_obs_sub['NEIGHBORHOOD_HOUSING'].astype('Int64')\n",
    "print(neighbor_obs_sub['NEIGHBORHOOD_HOUSING'].unique())\n",
    "neighbor_obs_sub.head()"
   ]
  },
  {
   "cell_type": "code",
   "execution_count": null,
   "metadata": {},
   "outputs": [],
   "source": [
    "neighbor_obs_clean = neighbor_obs_clean.merge(neighbor_obs_sub, on = 'person_id', how = 'outer')\n",
    "neighbor_obs_clean.head()"
   ]
  },
  {
   "cell_type": "markdown",
   "metadata": {},
   "source": [
    "### get along"
   ]
  },
  {
   "cell_type": "code",
   "execution_count": null,
   "metadata": {},
   "outputs": [],
   "source": [
    "neighbor_obs_sub = neighbor_obs[neighbor_obs['standard_concept_name'].isin(['People in this neighborhood generally don\\'t get along with each other [PhenX]'])]\n",
    "print(neighbor_obs_sub['standard_concept_code'].unique())\n",
    "print(neighbor_obs_sub['standard_vocabulary'].unique())\n",
    "neighbor_obs_sub ['value_as_string'].value_counts()"
   ]
  },
  {
   "cell_type": "code",
   "execution_count": null,
   "metadata": {},
   "outputs": [],
   "source": [
    "neighbor_obs_sub.rename(columns = {'value_as_string' : 'NEIGHBORHOOD_GET_ALONG'}, inplace = True)\n",
    "neighbor_obs_sub = neighbor_obs_sub[['person_id', 'NEIGHBORHOOD_GET_ALONG']]\n",
    "neighbor_obs_sub['NEIGHBORHOOD_GET_ALONG'] = neighbor_obs_sub['NEIGHBORHOOD_GET_ALONG'].replace({'LA15774-5' : 1,\n",
    "                                                                                                 'LA15237-3' : 0,\n",
    "                                                                                                 'LA15240-7' : 2,\n",
    "                                                                                                 'LA15773-7' : 3,\n",
    "                                                                                                 'PMI_Skip' : np.nan,\n",
    "                                                                                                 'LA15236-5' : 4 })\n",
    "neighbor_obs_sub['NEIGHBORHOOD_GET_ALONG'] = neighbor_obs_sub['NEIGHBORHOOD_GET_ALONG'].astype('Int64')\n",
    "print(neighbor_obs_sub['NEIGHBORHOOD_GET_ALONG'].unique())\n",
    "neighbor_obs_sub.head()"
   ]
  },
  {
   "cell_type": "code",
   "execution_count": null,
   "metadata": {},
   "outputs": [],
   "source": [
    "neighbor_obs_clean = neighbor_obs_clean.merge(neighbor_obs_sub, on = 'person_id', how = 'outer')\n",
    "neighbor_obs_clean.head()"
   ]
  },
  {
   "cell_type": "markdown",
   "metadata": {},
   "source": [
    "### grafitti"
   ]
  },
  {
   "cell_type": "code",
   "execution_count": null,
   "metadata": {},
   "outputs": [],
   "source": [
    "neighbor_obs_sub = neighbor_obs[neighbor_obs['standard_concept_name'].isin(['How much you agree or disagree that there is a lot of graffiti in your neighborhood?'])]\n",
    "print(neighbor_obs_sub['standard_concept_code'].unique())\n",
    "print(neighbor_obs_sub['standard_vocabulary'].unique())\n",
    "neighbor_obs_sub ['value_as_string'].value_counts()"
   ]
  },
  {
   "cell_type": "code",
   "execution_count": null,
   "metadata": {},
   "outputs": [],
   "source": [
    "neighbor_obs_sub.rename(columns = {'value_as_string' : 'NEIGHBORHOOD_GRAFFITI'}, inplace = True)\n",
    "neighbor_obs_sub = neighbor_obs_sub[['person_id', 'NEIGHBORHOOD_GRAFFITI']]\n",
    "neighbor_obs_sub['NEIGHBORHOOD_GRAFFITI'] = neighbor_obs_sub['NEIGHBORHOOD_GRAFFITI'].replace({'LA15236-5' : 3,\n",
    "                                                                                               'LA15773-7' : 2,\n",
    "                                                                                               'LA15774-5' : 1,\n",
    "                                                                                               'LA15237-3' : 0,\n",
    "                                                                                               'PMI_Skip' : np.nan})\n",
    "neighbor_obs_sub['NEIGHBORHOOD_GRAFFITI'] = neighbor_obs_sub['NEIGHBORHOOD_GRAFFITI'].astype('Int64')\n",
    "print(neighbor_obs_sub['NEIGHBORHOOD_GRAFFITI'].unique())\n",
    "neighbor_obs_sub.head()"
   ]
  },
  {
   "cell_type": "code",
   "execution_count": null,
   "metadata": {},
   "outputs": [],
   "source": [
    "neighbor_obs_clean = neighbor_obs_clean.merge(neighbor_obs_sub, on = 'person_id', how = 'outer')\n",
    "neighbor_obs_clean.head()"
   ]
  },
  {
   "cell_type": "markdown",
   "metadata": {},
   "source": [
    "### noise"
   ]
  },
  {
   "cell_type": "code",
   "execution_count": null,
   "metadata": {},
   "outputs": [],
   "source": [
    "neighbor_obs_sub = neighbor_obs[neighbor_obs['standard_concept_name'].isin(['How much you agree or disagree that your neighborhood is noisy?'])]\n",
    "print(neighbor_obs_sub['standard_concept_code'].unique())\n",
    "print(neighbor_obs_sub['standard_vocabulary'].unique())\n",
    "neighbor_obs_sub ['value_as_string'].value_counts()"
   ]
  },
  {
   "cell_type": "code",
   "execution_count": null,
   "metadata": {},
   "outputs": [],
   "source": [
    "neighbor_obs_sub.rename(columns = {'value_as_string' : 'NEIGHBORHOOD_NOISE'}, inplace = True)\n",
    "neighbor_obs_sub = neighbor_obs_sub[['person_id', 'NEIGHBORHOOD_NOISE']]\n",
    "neighbor_obs_sub['NEIGHBORHOOD_NOISE'] = neighbor_obs_sub['NEIGHBORHOOD_NOISE'].replace({'LA15236-5' : 3,\n",
    "                                                                                         'LA15773-7' : 2,\n",
    "                                                                                         'LA15774-5' : 1,\n",
    "                                                                                         'LA15237-3' : 0,\n",
    "                                                                                         'PMI_Skip' : np.nan})\n",
    "neighbor_obs_sub['NEIGHBORHOOD_NOISE'] = neighbor_obs_sub['NEIGHBORHOOD_NOISE'].astype('Int64')\n",
    "print(neighbor_obs_sub['NEIGHBORHOOD_NOISE'].unique())\n",
    "neighbor_obs_sub.head()"
   ]
  },
  {
   "cell_type": "code",
   "execution_count": null,
   "metadata": {},
   "outputs": [],
   "source": [
    "neighbor_obs_clean = neighbor_obs_clean.merge(neighbor_obs_sub, on = 'person_id', how = 'outer')\n",
    "neighbor_obs_clean.head()"
   ]
  },
  {
   "cell_type": "markdown",
   "metadata": {},
   "source": [
    "### unsafe to walk at  night"
   ]
  },
  {
   "cell_type": "code",
   "execution_count": null,
   "metadata": {},
   "outputs": [],
   "source": [
    "neighbor_obs_sub = neighbor_obs[neighbor_obs['standard_concept_name'].isin(['The crime rate in my neighborhood makes it unsafe to go on walks at night [PhenX]'])]\n",
    "print(neighbor_obs_sub['standard_concept_code'].unique())\n",
    "print(neighbor_obs_sub['standard_vocabulary'].unique())\n",
    "neighbor_obs_sub ['value_as_string'].value_counts()"
   ]
  },
  {
   "cell_type": "code",
   "execution_count": null,
   "metadata": {},
   "outputs": [],
   "source": [
    "neighbor_obs_sub.rename(columns = {'value_as_string' : 'NEIGHBORHOOD_UNSAFE_WALK'}, inplace = True)\n",
    "neighbor_obs_sub = neighbor_obs_sub[['person_id', 'NEIGHBORHOOD_UNSAFE_WALK']]\n",
    "neighbor_obs_sub['NEIGHBORHOOD_UNSAFE_WALK'] = neighbor_obs_sub['NEIGHBORHOOD_UNSAFE_WALK'].replace({'LA15236-5' : 3,\n",
    "                                                                                                     'LA15234-0' : 2,\n",
    "                                                                                                     'LA15235-7' : 1,\n",
    "                                                                                                     'LA15237-3' : 0,\n",
    "                                                                                                     'PMI_Skip' : np.nan})\n",
    "neighbor_obs_sub['NEIGHBORHOOD_UNSAFE_WALK'] = neighbor_obs_sub['NEIGHBORHOOD_UNSAFE_WALK'].astype('Int64')\n",
    "print(neighbor_obs_sub['NEIGHBORHOOD_UNSAFE_WALK'].unique())\n",
    "neighbor_obs_sub.head()"
   ]
  },
  {
   "cell_type": "code",
   "execution_count": null,
   "metadata": {},
   "outputs": [],
   "source": [
    "neighbor_obs_clean = neighbor_obs_clean.merge(neighbor_obs_sub, on = 'person_id', how = 'outer')\n",
    "neighbor_obs_clean.head()"
   ]
  },
  {
   "cell_type": "markdown",
   "metadata": {},
   "source": [
    "### take good care of homes"
   ]
  },
  {
   "cell_type": "code",
   "execution_count": null,
   "metadata": {},
   "outputs": [],
   "source": [
    "neighbor_obs_sub = neighbor_obs[neighbor_obs['standard_concept_name'].isin(['How much you agree or disagree that people in your neighborhood take good care of their houses and apartments?'])]\n",
    "print(neighbor_obs_sub['standard_concept_code'].unique())\n",
    "print(neighbor_obs_sub['standard_vocabulary'].unique())\n",
    "neighbor_obs_sub ['value_as_string'].value_counts()"
   ]
  },
  {
   "cell_type": "code",
   "execution_count": null,
   "metadata": {},
   "outputs": [],
   "source": [
    "neighbor_obs_sub.rename(columns = {'value_as_string' : 'NEIGHBORHOOD_CARE'}, inplace = True)\n",
    "neighbor_obs_sub = neighbor_obs_sub[['person_id', 'NEIGHBORHOOD_CARE']]\n",
    "neighbor_obs_sub['NEIGHBORHOOD_CARE'] = neighbor_obs_sub['NEIGHBORHOOD_CARE'].replace({'LA15774-5' : 2,\n",
    "                                                                                       'LA15237-3' : 3,\n",
    "                                                                                       'LA15773-7' : 1,\n",
    "                                                                                       'LA15236-5' : 0,\n",
    "                                                                                       'PMI_Skip' : np.nan})\n",
    "neighbor_obs_sub['NEIGHBORHOOD_CARE'] = neighbor_obs_sub['NEIGHBORHOOD_CARE'].astype('Int64')\n",
    "print(neighbor_obs_sub['NEIGHBORHOOD_CARE'].unique())\n",
    "neighbor_obs_sub.head()"
   ]
  },
  {
   "cell_type": "code",
   "execution_count": null,
   "metadata": {},
   "outputs": [],
   "source": [
    "neighbor_obs_clean = neighbor_obs_clean.merge(neighbor_obs_sub, on = 'person_id', how = 'outer')\n",
    "neighbor_obs_clean.head()"
   ]
  },
  {
   "cell_type": "markdown",
   "metadata": {},
   "source": [
    "### a lot of crime"
   ]
  },
  {
   "cell_type": "code",
   "execution_count": null,
   "metadata": {},
   "outputs": [],
   "source": [
    "neighbor_obs_sub = neighbor_obs[neighbor_obs['standard_concept_name'].isin(['How much you agree or disagree that there is a lot of crime in your neighborhood?'])]\n",
    "print(neighbor_obs_sub['standard_concept_code'].unique())\n",
    "print(neighbor_obs_sub['standard_vocabulary'].unique())\n",
    "neighbor_obs_sub ['value_as_string'].value_counts()"
   ]
  },
  {
   "cell_type": "code",
   "execution_count": null,
   "metadata": {},
   "outputs": [],
   "source": [
    "neighbor_obs_sub.rename(columns = {'value_as_string' : 'NEIGHBORHOOD_ALOT_CRIME'}, inplace = True)\n",
    "neighbor_obs_sub = neighbor_obs_sub[['person_id', 'NEIGHBORHOOD_ALOT_CRIME']]\n",
    "neighbor_obs_sub['NEIGHBORHOOD_ALOT_CRIME'] = neighbor_obs_sub['NEIGHBORHOOD_ALOT_CRIME'].replace({'LA15236-5' : 3,\n",
    "                                                                                                   'LA15773-7' : 2,\n",
    "                                                                                                   'LA15774-5' : 1,\n",
    "                                                                                                   'PMI_Skip' : np.nan,\n",
    "                                                                                                   'LA15237-3' : 0})\n",
    "neighbor_obs_sub['NEIGHBORHOOD_ALOT_CRIME'] = neighbor_obs_sub['NEIGHBORHOOD_ALOT_CRIME'].astype('Int64')\n",
    "print(neighbor_obs_sub['NEIGHBORHOOD_ALOT_CRIME'].unique())\n",
    "neighbor_obs_sub.head()"
   ]
  },
  {
   "cell_type": "code",
   "execution_count": null,
   "metadata": {},
   "outputs": [],
   "source": [
    "neighbor_obs_clean = neighbor_obs_clean.merge(neighbor_obs_sub, on = 'person_id', how = 'outer')\n",
    "neighbor_obs_clean.head()"
   ]
  },
  {
   "cell_type": "markdown",
   "metadata": {},
   "source": [
    "### crime rate makes it unsafe to walk during the day"
   ]
  },
  {
   "cell_type": "code",
   "execution_count": null,
   "metadata": {},
   "outputs": [],
   "source": [
    "neighbor_obs_sub = neighbor_obs[neighbor_obs['standard_concept_name'].isin(['The crime rate in my neighborhood makes it unsafe to go on walks during the day. Would you say that you...'])]\n",
    "print(neighbor_obs_sub['standard_concept_code'].unique())\n",
    "print(neighbor_obs_sub['standard_vocabulary'].unique())\n",
    "neighbor_obs_sub ['value_as_string'].value_counts()"
   ]
  },
  {
   "cell_type": "code",
   "execution_count": null,
   "metadata": {},
   "outputs": [],
   "source": [
    "neighbor_obs_sub.rename(columns = {'value_as_string' : 'NEIGHBORHOOD_CRIME_WALK'}, inplace = True)\n",
    "neighbor_obs_sub = neighbor_obs_sub[['person_id', 'NEIGHBORHOOD_CRIME_WALK']]\n",
    "neighbor_obs_sub['NEIGHBORHOOD_CRIME_WALK'] = neighbor_obs_sub['NEIGHBORHOOD_CRIME_WALK'].replace({'LA15236-5' : 3,\n",
    "                                                                                                   'LA15234-0' : 2,\n",
    "                                                                                                   'PMI_Skip' : np.nan,\n",
    "                                                                                                   'LA15235-7' : 1,\n",
    "                                                                                                   'LA15237-3' : 0})\n",
    "neighbor_obs_sub['NEIGHBORHOOD_CRIME_WALK'] = neighbor_obs_sub['NEIGHBORHOOD_CRIME_WALK'].astype('Int64')\n",
    "print(neighbor_obs_sub['NEIGHBORHOOD_CRIME_WALK'].unique())\n",
    "neighbor_obs_sub.head()"
   ]
  },
  {
   "cell_type": "code",
   "execution_count": null,
   "metadata": {},
   "outputs": [],
   "source": [
    "neighbor_obs_clean = neighbor_obs_clean.merge(neighbor_obs_sub, on = 'person_id', how = 'outer')\n",
    "neighbor_obs_clean.head()"
   ]
  },
  {
   "cell_type": "markdown",
   "metadata": {},
   "source": [
    "### share same values"
   ]
  },
  {
   "cell_type": "code",
   "execution_count": null,
   "metadata": {},
   "outputs": [],
   "source": [
    "neighbor_obs_sub = neighbor_obs[neighbor_obs['standard_concept_name'].isin(['How much you agree or disagree that people in your neighborhood share the same values?'])]\n",
    "print(neighbor_obs_sub['standard_concept_code'].unique())\n",
    "print(neighbor_obs_sub['standard_vocabulary'].unique())\n",
    "neighbor_obs_sub ['value_as_string'].value_counts()"
   ]
  },
  {
   "cell_type": "code",
   "execution_count": null,
   "metadata": {},
   "outputs": [],
   "source": [
    "neighbor_obs_sub.rename(columns = {'value_as_string' : 'NEIGHBORHOOD_SAME_VALUES'}, inplace = True)\n",
    "neighbor_obs_sub = neighbor_obs_sub[['person_id', 'NEIGHBORHOOD_SAME_VALUES']]\n",
    "neighbor_obs_sub['NEIGHBORHOOD_SAME_VALUES'] = neighbor_obs_sub['NEIGHBORHOOD_SAME_VALUES'].replace({'LA15240-7' : 2,\n",
    "                                                                                                     'LA15774-5' : 3,\n",
    "                                                                                                     'LA15237-3' : 4,\n",
    "                                                                                                     'LA15773-7' : 1,\n",
    "                                                                                                     'PMI_Skip' : np.nan,\n",
    "                                                                                                     'LA15236-5' : 0})\n",
    "neighbor_obs_sub['NEIGHBORHOOD_SAME_VALUES'] = neighbor_obs_sub['NEIGHBORHOOD_SAME_VALUES'].astype('Int64')\n",
    "print(neighbor_obs_sub['NEIGHBORHOOD_SAME_VALUES'].unique())\n",
    "neighbor_obs_sub.head()"
   ]
  },
  {
   "cell_type": "code",
   "execution_count": null,
   "metadata": {},
   "outputs": [],
   "source": [
    "neighbor_obs_clean = neighbor_obs_clean.merge(neighbor_obs_sub, on = 'person_id', how = 'outer')\n",
    "neighbor_obs_clean.head()"
   ]
  },
  {
   "cell_type": "markdown",
   "metadata": {},
   "source": [
    "### people hanging around"
   ]
  },
  {
   "cell_type": "code",
   "execution_count": null,
   "metadata": {},
   "outputs": [],
   "source": [
    "neighbor_obs_sub = neighbor_obs[neighbor_obs['standard_concept_name'].isin(['How much you agree or disagree that there are too many people hanging around on the streets near your home?'])]\n",
    "print(neighbor_obs_sub['standard_concept_code'].unique())\n",
    "print(neighbor_obs_sub['standard_vocabulary'].unique())\n",
    "neighbor_obs_sub ['value_as_string'].value_counts()"
   ]
  },
  {
   "cell_type": "code",
   "execution_count": null,
   "metadata": {},
   "outputs": [],
   "source": [
    "neighbor_obs_sub.rename(columns = {'value_as_string' : 'NEIGHBORHOOD_PPL_HANGING_AROUND'}, inplace = True)\n",
    "neighbor_obs_sub = neighbor_obs_sub[['person_id', 'NEIGHBORHOOD_PPL_HANGING_AROUND']]\n",
    "neighbor_obs_sub['NEIGHBORHOOD_PPL_HANGING_AROUND'] = neighbor_obs_sub['NEIGHBORHOOD_PPL_HANGING_AROUND'].replace({'LA15236-5' : 3,\n",
    "                                                                                                     'LA15773-7' : 2,\n",
    "                                                                                                     'LA15774-5' : 1,\n",
    "                                                                                                     'PMI_Skip' : np.nan,\n",
    "                                                                                                     'LA15237-3' : 0})\n",
    "neighbor_obs_sub['NEIGHBORHOOD_PPL_HANGING_AROUND'] = neighbor_obs_sub['NEIGHBORHOOD_PPL_HANGING_AROUND'].astype('Int64')\n",
    "print(neighbor_obs_sub['NEIGHBORHOOD_PPL_HANGING_AROUND'].unique())\n",
    "neighbor_obs_sub.head()"
   ]
  },
  {
   "cell_type": "code",
   "execution_count": null,
   "metadata": {},
   "outputs": [],
   "source": [
    "neighbor_obs_clean = neighbor_obs_clean.merge(neighbor_obs_sub, on = 'person_id', how = 'outer')\n",
    "neighbor_obs_clean.head()"
   ]
  },
  {
   "cell_type": "markdown",
   "metadata": {},
   "source": [
    "### trouble with neighbors"
   ]
  },
  {
   "cell_type": "code",
   "execution_count": null,
   "metadata": {},
   "outputs": [],
   "source": [
    "neighbor_obs_sub = neighbor_obs[neighbor_obs['standard_concept_name'].isin(['How much you agree or disagree that you are always having trouble with your neighbors?'])]\n",
    "print(neighbor_obs_sub['standard_concept_code'].unique())\n",
    "print(neighbor_obs_sub['standard_vocabulary'].unique())\n",
    "neighbor_obs_sub ['value_as_string'].value_counts()"
   ]
  },
  {
   "cell_type": "code",
   "execution_count": null,
   "metadata": {},
   "outputs": [],
   "source": [
    "neighbor_obs_sub.rename(columns = {'value_as_string' : 'NEIGHBORHOOD_TROUBLE'}, inplace = True)\n",
    "neighbor_obs_sub = neighbor_obs_sub[['person_id', 'NEIGHBORHOOD_TROUBLE']]\n",
    "neighbor_obs_sub['NEIGHBORHOOD_TROUBLE'] = neighbor_obs_sub['NEIGHBORHOOD_TROUBLE'].replace({'LA15236-5' : 3,\n",
    "                                                                                                     'LA15773-7' : 2,\n",
    "                                                                                                     'PMI_Skip' : np.nan,\n",
    "                                                                                                     'LA15774-5' : 1,\n",
    "                                                                                                     'LA15237-3' : 0})\n",
    "neighbor_obs_sub['NEIGHBORHOOD_TROUBLE'] = neighbor_obs_sub['NEIGHBORHOOD_TROUBLE'].astype('Int64')\n",
    "print(neighbor_obs_sub['NEIGHBORHOOD_TROUBLE'].unique())\n",
    "neighbor_obs_sub.head()"
   ]
  },
  {
   "cell_type": "code",
   "execution_count": null,
   "metadata": {},
   "outputs": [],
   "source": [
    "neighbor_obs_clean = neighbor_obs_clean.merge(neighbor_obs_sub, on = 'person_id', how = 'outer')\n",
    "neighbor_obs_clean.head()"
   ]
  },
  {
   "cell_type": "markdown",
   "metadata": {},
   "source": [
    "### stores within walking distance"
   ]
  },
  {
   "cell_type": "code",
   "execution_count": null,
   "metadata": {},
   "outputs": [],
   "source": [
    "neighbor_obs_sub = neighbor_obs[neighbor_obs['standard_concept_name'].isin(['Many shops, stores, markets, or other places to buy things I need are within easy walking distance of my home [PhenX]'])]\n",
    "print(neighbor_obs_sub['standard_concept_code'].unique())\n",
    "print(neighbor_obs_sub['standard_vocabulary'].unique())\n",
    "neighbor_obs_sub ['value_as_string'].value_counts()"
   ]
  },
  {
   "cell_type": "code",
   "execution_count": null,
   "metadata": {},
   "outputs": [],
   "source": [
    "neighbor_obs_sub.rename(columns = {'value_as_string' : 'NEIGHBORHOOD_STORES'}, inplace = True)\n",
    "neighbor_obs_sub = neighbor_obs_sub[['person_id', 'NEIGHBORHOOD_STORES']]\n",
    "neighbor_obs_sub['NEIGHBORHOOD_STORES'] = neighbor_obs_sub['NEIGHBORHOOD_STORES'].replace({'LA15236-5' : 0,\n",
    "                                                                                           'LA15237-3' : 3,\n",
    "                                                                                           'LA15235-7' : 2,\n",
    "                                                                                           'LA15234-0' : 1,\n",
    "                                                                                           'PMI_Skip' : np.nan})\n",
    "neighbor_obs_sub['NEIGHBORHOOD_STORES'] = neighbor_obs_sub['NEIGHBORHOOD_STORES'].astype('Int64')\n",
    "print(neighbor_obs_sub['NEIGHBORHOOD_STORES'].unique())\n",
    "neighbor_obs_sub.head()"
   ]
  },
  {
   "cell_type": "code",
   "execution_count": null,
   "metadata": {},
   "outputs": [],
   "source": [
    "neighbor_obs_clean = neighbor_obs_clean.merge(neighbor_obs_sub, on = 'person_id', how = 'outer')\n",
    "neighbor_obs_clean.head()"
   ]
  },
  {
   "cell_type": "markdown",
   "metadata": {},
   "source": [
    "### transit within walking distance"
   ]
  },
  {
   "cell_type": "code",
   "execution_count": null,
   "metadata": {},
   "outputs": [],
   "source": [
    "neighbor_obs_sub = neighbor_obs[neighbor_obs['standard_concept_name'].isin(['It is within a 10-15 minute walk to a transit stop, such as bus, train, trolley, or tram, from my home [PhenX]'])]\n",
    "print(neighbor_obs_sub['standard_concept_code'].unique())\n",
    "print(neighbor_obs_sub['standard_vocabulary'].unique())\n",
    "neighbor_obs_sub ['value_as_string'].value_counts()"
   ]
  },
  {
   "cell_type": "code",
   "execution_count": null,
   "metadata": {},
   "outputs": [],
   "source": [
    "neighbor_obs_sub.rename(columns = {'value_as_string' : 'NEIGHBORHOOD_TRANSIT'}, inplace = True)\n",
    "neighbor_obs_sub = neighbor_obs_sub[['person_id', 'NEIGHBORHOOD_TRANSIT']]\n",
    "neighbor_obs_sub['NEIGHBORHOOD_TRANSIT'] = neighbor_obs_sub['NEIGHBORHOOD_TRANSIT'].replace({'LA15237-3' : 3,\n",
    "                                                                                             'LA15236-5' : 0,\n",
    "                                                                                             'LA15235-7' : 2,\n",
    "                                                                                             'LA15234-0' : 1,\n",
    "                                                                                             'PMI_Skip' : np.nan})\n",
    "neighbor_obs_sub['NEIGHBORHOOD_TRANSIT'] = neighbor_obs_sub['NEIGHBORHOOD_TRANSIT'].astype('Int64')\n",
    "print(neighbor_obs_sub['NEIGHBORHOOD_TRANSIT'].unique())\n",
    "neighbor_obs_sub.head()"
   ]
  },
  {
   "cell_type": "code",
   "execution_count": null,
   "metadata": {},
   "outputs": [],
   "source": [
    "neighbor_obs_clean = neighbor_obs_clean.merge(neighbor_obs_sub, on = 'person_id', how = 'outer')\n",
    "neighbor_obs_clean.head()"
   ]
  },
  {
   "cell_type": "markdown",
   "metadata": {},
   "source": [
    "### merge"
   ]
  },
  {
   "cell_type": "code",
   "execution_count": null,
   "metadata": {},
   "outputs": [],
   "source": [
    "print(len(neighbor_obs_clean.index))\n",
    "print(len(neighbor_obs_clean['person_id'].unique()))"
   ]
  },
  {
   "cell_type": "code",
   "execution_count": null,
   "metadata": {},
   "outputs": [],
   "source": [
    "hf_neighbor_obs = hf_bmi.merge(neighbor_obs_clean, how = 'left', on = 'person_id')\n",
    "print(len(hf_neighbor_obs.index))\n",
    "hf_neighbor_obs.head()"
   ]
  },
  {
   "cell_type": "markdown",
   "metadata": {},
   "source": [
    "## physical activity"
   ]
  },
  {
   "cell_type": "markdown",
   "metadata": {},
   "source": [
    "### encoding\n",
    "**Level of physical activity**\n",
    "- 'LA6751-7' : 1 (moderate)\n",
    "- 'LA32775-1' : 0 (sedentary)\n",
    "- 'LA20166-7' : 2 (vigorous exercise intensity)\n",
    "\n",
    "**To what extent are you able to carry out your everyday physical activities such as walking, climbing stairs, carrying groceries, or moving a chair [PROMIS]**\n",
    "- 'LA13937-0' : 4 (completely)\n",
    "- 'LA13938-8 ' : 3 (mostly)\n",
    "- 'LA13939-6' : 2 (moderately)\n",
    "- 'LA13940-4' : 1 (a little)\n",
    "- 'LA6568-5' : 0 (not at all)\n",
    "- 'PMI_Skip' : np.nan (missing)\n",
    "\n",
    "**Physical activity**\n",
    "* skipping, can't understand response codes and only ~100 people have this\n",
    "\n",
    "**Leisure physical activity**\n",
    "* skipping, only one response code which is no matching concept and only ~5 people have this"
   ]
  },
  {
   "cell_type": "markdown",
   "metadata": {},
   "source": [
    "### filter observation df to physical activity"
   ]
  },
  {
   "cell_type": "code",
   "execution_count": null,
   "metadata": {},
   "outputs": [],
   "source": [
    "physical_obs = observation[observation['standard_concept_name'].str.contains('physical|activity|activities', case = False)]\n",
    "physical_obs['standard_concept_name'].unique()"
   ]
  },
  {
   "cell_type": "code",
   "execution_count": null,
   "metadata": {},
   "outputs": [],
   "source": [
    "physical_obs = physical_obs[~physical_obs['standard_concept_name'].str.contains('Counseling|evaluation|initial|advice', case = False)]\n",
    "physical_obs['standard_concept_name'].unique()"
   ]
  },
  {
   "cell_type": "markdown",
   "metadata": {},
   "source": [
    "### everyday physical activity"
   ]
  },
  {
   "cell_type": "code",
   "execution_count": null,
   "metadata": {},
   "outputs": [],
   "source": [
    "physical_obs_sub = physical_obs[physical_obs['standard_concept_name'].isin(['To what extent are you able to carry out your everyday physical activities such as walking, climbing stairs, carrying groceries, or moving a chair [PROMIS]'])]\n",
    "print(physical_obs_sub['standard_concept_code'].unique())\n",
    "print(physical_obs_sub['standard_vocabulary'].unique())\n",
    "physical_obs_sub ['value_as_string'].value_counts()"
   ]
  },
  {
   "cell_type": "markdown",
   "metadata": {},
   "source": [
    "#### compare values before and after dx"
   ]
  },
  {
   "cell_type": "code",
   "execution_count": null,
   "metadata": {},
   "outputs": [],
   "source": [
    "print(len(physical_obs_sub.index))\n",
    "pa_plot_df = physical_obs_sub.copy()\n",
    "hf_date = pheno[['person_id', 'HF_DATE', 'HF']]\n",
    "pa_plot_df = pa_plot_df.merge(hf_date, on = 'person_id', how = 'inner')\n",
    "pa_plot_df['DIFF'] = pd.to_datetime(pa_plot_df['HF_DATE'], format = 'ISO8601', utc = True) - pa_plot_df['observation_datetime']\n",
    "pa_plot_df['DIFF'] = pa_plot_df['DIFF'].astype(str).str.replace(r' days.*','', regex = True)\n",
    "pa_plot_df['DIFF'] = pa_plot_df['DIFF'].astype(float)\n",
    "\n",
    "pa_plot_df.sort_values(by = ['person_id', 'DIFF'], inplace = True)\n",
    "#pa_plot_df.drop_duplicates(subset = ['person_id'], keep = 'first', inplace = True)\n",
    "print(len(pa_plot_df.index))\n",
    "\n",
    "\n",
    "pa_plot_df = pa_plot_df.rename(columns = {'value_as_string' : 'PA_EVERYDAY'})\n",
    "pa_plot_df['PA_EVERYDAY'] = pa_plot_df['PA_EVERYDAY'].replace({'LA13937-0' : 4,\n",
    "                                                                           'LA13938-8' : 3,\n",
    "                                                                           'LA13939-6' : 2,\n",
    "                                                                           'LA13940-4' : 1,\n",
    "                                                                           'LA6568-5' : 0,\n",
    "                                                                           'PMI_Skip' : np.nan})\n",
    "pa_plot_before = pa_plot_df[pa_plot_df['DIFF'] >= 0]\n",
    "pa_plot_after = pa_plot_df[pa_plot_df['DIFF'] < 0]\n",
    "pa_before_mean = pa_plot_before['PA_EVERYDAY'].mean()\n",
    "pa_after_mean = pa_plot_after['PA_EVERYDAY'].mean()\n",
    "\n",
    "sns.kdeplot(pa_plot_after, x = 'PA_EVERYDAY', label = f\"Values after HF dx (mean = {pa_after_mean:.2f})\")\n",
    "sns.kdeplot(pa_plot_before, x = 'PA_EVERYDAY', label = f\"Values before HF dx (mean = {pa_before_mean:.2f})\")\n",
    "plt.xlabel(\"Everyday Physical Activity\")\n",
    "plt.ylabel(\"Density\")\n",
    "plt.title(\"AOU Everyday Physical Activity Values Before and After HF dx\")\n",
    "plt.legend()\n",
    "plt.savefig(\"AOU.PA_everyday.before_after_HF_dx.png\", dpi = 300)\n",
    "plt.show()"
   ]
  },
  {
   "cell_type": "code",
   "execution_count": null,
   "metadata": {},
   "outputs": [],
   "source": [
    "fig, axes = plt.subplots(3, 3, figsize = (18, 18))\n",
    "axes = axes.flatten()\n",
    "\n",
    "# BMI\n",
    "sns.kdeplot(bmi_plot_after, x = 'value_as_number', label = f\"Values after HF dx (mean = {bmi_after_mean:.2f})\", ax = axes[0])\n",
    "sns.kdeplot(bmi_plot_before, x = 'value_as_number', label = f\"Values before HF dx (mean = {bmi_before_mean:.2f})\", ax = axes[0])\n",
    "axes[0].set_title(\"AOU BMI Values Before and After HF dx\")\n",
    "axes[0].set_xlabel(\"BMI\")\n",
    "axes[0].set_ylabel(\"Density\")\n",
    "axes[0].legend(loc = 'upper right')\n",
    "\n",
    "# DBP\n",
    "sns.kdeplot(diastolic_plot_after, x = 'value_as_number', label = f\"Values after HF dx (mean = {diastolic_after_mean:.2f})\", ax = axes[1])\n",
    "sns.kdeplot(diastolic_plot_before, x = 'value_as_number', label = f\"Values before HF dx (mean = {diastolic_before_mean:.2f})\", ax = axes[1])\n",
    "axes[1].set_title(\"AOU Diastolic Blood Pressure Values Before and After HF dx\")\n",
    "axes[1].set_xlabel(\"Diastolic Blood Pressure\")\n",
    "axes[1].set_ylabel(\"Density\")\n",
    "axes[1].legend()\n",
    "\n",
    "# PA\n",
    "sns.kdeplot(pa_plot_after, x = 'PA_EVERYDAY', label = f\"Values after HF dx (mean = {pa_after_mean:.2f})\", ax = axes[2])\n",
    "sns.kdeplot(pa_plot_before, x = 'PA_EVERYDAY', label = f\"Values before HF dx (mean = {pa_before_mean:.2f})\", ax = axes[2])\n",
    "axes[2].set_title(\"AOU Everyday Physical Activity Values Before and After HF dx\")\n",
    "axes[2].set_xlabel(\"Everyday Physical Activity\")\n",
    "axes[2].set_ylabel(\"Density\")\n",
    "axes[2].legend(loc = 'upper right')\n",
    "\n",
    "# Glucose\n",
    "sns.kdeplot(glucose_plot_after, x = 'value_as_number', label = f\"Values after HF dx (mean = {glucose_after_mean:.2f})\", ax = axes[3])\n",
    "sns.kdeplot(glucose_plot_before, x = 'value_as_number', label = f\"Values before HF dx (mean = {glucose_before_mean:.2f})\", ax = axes[3])\n",
    "axes[3].set_title(\"AOU Glucose Values Before and After HF dx\")\n",
    "axes[3].set_xlabel(\"Glucose\")\n",
    "axes[3].set_ylabel(\"Density\")\n",
    "axes[3].legend()\n",
    "\n",
    "# HbA1c\n",
    "sns.kdeplot(hba1c_plot_after, x = 'value_as_number', label = f\"Values after HF dx (mean = {hba1c_after_mean:.2f})\", ax = axes[4])\n",
    "sns.kdeplot(hba1c_plot_before, x = 'value_as_number', label = f\"Values before HF dx (mean = {hba1c_before_mean:.2f})\", ax = axes[4])\n",
    "axes[4].set_title(\"AOU HbA1c Values Before and After HF dx\")\n",
    "axes[4].set_xlabel(\"HbA1c\")\n",
    "axes[4].set_ylabel(\"Density\")\n",
    "axes[4].legend()\n",
    "\n",
    "# HDL\n",
    "sns.kdeplot(hdl_plot_after, x = 'value_as_number', label = f\"Values after HF dx (mean = {hdl_after_mean:.2f})\", ax = axes[5])\n",
    "sns.kdeplot(hdl_plot_before, x = 'value_as_number', label = f\"Values before HF dx (mean = {hdl_before_mean:.2f})\", ax = axes[5])\n",
    "axes[5].set_title(\"AOU HDL Values Before and After HF dx\")\n",
    "axes[5].set_xlabel(\"HDL\")\n",
    "axes[5].set_ylabel(\"Density\")\n",
    "axes[5].legend(loc = 'upper right')\n",
    "\n",
    "# LDL\n",
    "sns.kdeplot(ldl_plot_after, x = 'value_as_number', label = f\"Values after HF dx (mean = {ldl_after_mean:.2f})\", ax = axes[6])\n",
    "sns.kdeplot(ldl_plot_before, x = 'value_as_number', label = f\"Values before HF dx (mean = {ldl_before_mean:.2f})\", ax = axes[6])\n",
    "axes[6].set_title(\"AOU LDL Values Before and After HF dx\")\n",
    "axes[6].set_xlabel(\"LDL\")\n",
    "axes[6].set_ylabel(\"Density\")\n",
    "axes[6].legend()\n",
    "\n",
    "# SBP\n",
    "sns.kdeplot(systolic_plot_after, x = 'value_as_number', label = f\"Values after HF dx (mean = {systolic_after_mean:.2f})\", ax = axes[7])\n",
    "sns.kdeplot(systolic_plot_before, x = 'value_as_number', label = f\"Values before HF dx (mean = {systolic_before_mean:.2f})\", ax = axes[7])\n",
    "axes[7].set_title(\"AOU Systolic Blood Pressure Values Before and After HF dx\")\n",
    "axes[7].set_xlabel(\"Systolic Blood Pressure\")\n",
    "axes[7].set_ylabel(\"Density\")\n",
    "axes[7].legend()\n",
    "\n",
    "# Trig\n",
    "sns.kdeplot(trig_plot_after, x = 'value_as_number', label = f\"Values after HF dx (mean = {trig_after_mean:.2f})\", ax = axes[8])\n",
    "sns.kdeplot(trig_plot_before, x = 'value_as_number', label = f\"Values before HF dx (mean = {trig_before_mean:.2f})\", ax = axes[8])\n",
    "axes[8].set_title(\"AOU Triglyceride Values Before and After HF dx\")\n",
    "axes[8].set_xlabel(\"Triglyceride\")\n",
    "axes[8].set_ylabel(\"Density\")\n",
    "axes[8].legend()\n",
    "\n",
    "plt.tight_layout()\n",
    "plt.savefig(\"AOU.all_variables.before_after_HF_dx.png\", dpi = 300)\n",
    "plt.show()"
   ]
  },
  {
   "cell_type": "markdown",
   "metadata": {},
   "source": [
    "#### finish cleaning"
   ]
  },
  {
   "cell_type": "code",
   "execution_count": null,
   "metadata": {},
   "outputs": [],
   "source": [
    "print(len(physical_obs_sub.index))\n",
    "physical_obs_sub = physical_obs_sub.merge(hf_date, on = 'person_id', how = 'inner')\n",
    "physical_obs_sub['DIFF'] = pd.to_datetime(physical_obs_sub['HF_DATE'], utc = True) - physical_obs_sub['observation_datetime']\n",
    "physical_obs_sub['DIFF'] = physical_obs_sub['DIFF'].astype(str).str.replace(r' days.*','', regex = True)\n",
    "physical_obs_sub['DIFF'] = physical_obs_sub['DIFF'].astype(float)\n",
    "\n",
    "physical_obs_sub = physical_obs_sub[physical_obs_sub['DIFF'] >= 0]\n",
    "physical_obs_sub.sort_values(by = ['person_id', 'DIFF'], inplace = True)\n",
    "physical_obs_sub.drop_duplicates(subset = ['person_id'], keep = 'first', inplace = True)\n",
    "print(len(physical_obs_sub.index))"
   ]
  },
  {
   "cell_type": "code",
   "execution_count": null,
   "metadata": {},
   "outputs": [],
   "source": [
    "physical_obs_sub.rename(columns = {'value_as_string' : 'PA_EVERYDAY'}, inplace = True)\n",
    "physical_obs_sub = physical_obs_sub[['person_id', 'PA_EVERYDAY']]\n",
    "physical_obs_sub['PA_EVERYDAY'] = physical_obs_sub['PA_EVERYDAY'].replace({'LA13937-0' : 4,\n",
    "                                                                           'LA13938-8' : 3,\n",
    "                                                                           'LA13939-6' : 2,\n",
    "                                                                           'LA13940-4' : 1,\n",
    "                                                                           'LA6568-5' : 0,\n",
    "                                                                           'PMI_Skip' : np.nan})\n",
    "physical_obs_sub['PA_EVERYDAY'] = physical_obs_sub['PA_EVERYDAY'].astype('Int64')\n",
    "print(physical_obs_sub['PA_EVERYDAY'].unique())\n",
    "physical_obs_sub.head()"
   ]
  },
  {
   "cell_type": "markdown",
   "metadata": {},
   "source": [
    "### merge"
   ]
  },
  {
   "cell_type": "code",
   "execution_count": null,
   "metadata": {},
   "outputs": [],
   "source": [
    "print(len(physical_obs_sub['person_id'].unique()))\n",
    "print(len(physical_obs_sub.index))"
   ]
  },
  {
   "cell_type": "code",
   "execution_count": null,
   "metadata": {},
   "outputs": [],
   "source": [
    "hf_physical_obs = hf_neighbor_obs.merge(physical_obs_sub, on = 'person_id', how = 'left')\n",
    "print(len(hf_physical_obs.index))\n",
    "hf_physical_obs.head()"
   ]
  },
  {
   "cell_type": "markdown",
   "metadata": {},
   "source": [
    "## nutrition"
   ]
  },
  {
   "cell_type": "markdown",
   "metadata": {},
   "source": [
    "### encoding\n",
    "**Noncompliance with dietary regimen**\n",
    "* skipping bc this is an icd code\n",
    "\n",
    "**Nutritional status**\n",
    "* skipping bc snomed code means bmi and only 15 people\n",
    "\n",
    "**Nutritional observable**\n",
    "* skipping bc only 5 people have this\n",
    "\n",
    "**Nutritional finding**\n",
    "* skipping bc only 22 people have this\n",
    "\n",
    "**Finding of nutritional status**\n",
    "* skipping bc all missing"
   ]
  },
  {
   "cell_type": "markdown",
   "metadata": {},
   "source": [
    "### filter observation df to nutrition"
   ]
  },
  {
   "cell_type": "code",
   "execution_count": null,
   "metadata": {},
   "outputs": [],
   "source": [
    "nutrition_obs = observation[observation['standard_concept_name'].str.contains('dietary|dietitian|nutrition|nutritional|diet', case = False)]\n",
    "nutrition_obs['standard_concept_name'].unique()"
   ]
  },
  {
   "cell_type": "code",
   "execution_count": null,
   "metadata": {},
   "outputs": [],
   "source": [
    "nutrition_obs = nutrition_obs[~nutrition_obs['standard_concept_name'].str.contains('disorders|deficiency|monitoring|referral|assessment|counseling|alteration|impaired|referral|dosages', case = False)]\n",
    "nutrition_obs['standard_concept_name'].unique()"
   ]
  },
  {
   "cell_type": "markdown",
   "metadata": {},
   "source": [
    "## smoking"
   ]
  },
  {
   "cell_type": "markdown",
   "metadata": {},
   "source": [
    "### encoding\n",
    "- 0 = non-smoker\n",
    "- 1 = former smoker\n",
    "- 2 = current smoker\n",
    "\n",
    "**Cigarette smoking tobacco**\n",
    "- skipped, because all no matching concept\n",
    "\n",
    "**How many cigarettes do you smoke per day now [PhenX]**\n",
    "- value as number > 0 : 2 (smoker)\n",
    "- value as number = 0 : 0 (nonsmoker or former)\n",
    "\n",
    "**Cigar Smoking: Current Cigar Frequency**\n",
    "- 'LA6568-5' : 0 (Not at all)\n",
    "- 'LA15776-0' : 2 (Some days)\n",
    "- 'LA14799-3' : 2 (Every day)\n",
    "- 'PMI_Skip' : np.nan (missing)\n",
    "\n",
    "**Do you now smoke cigarettes every day, some days, or not at all [PhenX]**\n",
    "- 'LA6568-5' : 0 (Not at all)\n",
    "- 'LA14799-3' : 2 (Every day)\n",
    "- 'LA15776-0' : 2 (Some days)\n",
    "- 'PMI_Skip' : np.nan (missing)\n",
    "\n",
    "**Cigar Smoking: Cigar Smoke Participant**\n",
    "- 'LA32-8' : 0 (No)\n",
    "- 'LA33-6' : 2 (Yes)\n",
    "- 'PMI_Skip' : np.nan (missing)\n",
    "\n",
    "**Tobacco smoking status**\n",
    "- [r'^\\d.*','No matching concept',r'OMOP.*'] : np.nan (missing)\n",
    "- 'LA18978-9' : 0 (Never smoker)\n",
    "- 'LA18979-7' : np.nan (Smoker, current status unknown)\n",
    "- 'LA18980-5' : np.nan (Unknown if ever smoked)\n",
    "- 'LA15920-4' : 1 (Former smoker)\n",
    "- 'LA18976-3' : 2 (Current every day smoker)\n",
    "- 'LA18977-1' : 2 (Current some day smoker)\n",
    "- 'LA18982-1' : np.nan (Light tobacco smoker)\n",
    "- 'LA18981-3' : np.nan (Heavy tobacco smoker)\n",
    "\n",
    "**Smoked at least 100 cigarettes in entire life**\n",
    "- 'LA32-8' : 0 (No)\n",
    "- 'LA33-6' : 2 (Yes)\n",
    "- 'PMI_Skip' : np.nan (missing)\n",
    "\n",
    "**Pipe smoking tobacco**\n",
    "- skipped due to no values\n",
    "\n",
    "**Cigar smoking tobacco**\n",
    "- skipped due to no values\n",
    "\n",
    "**Attempt Quit Smoking: Completely Quit Age**\n",
    "- value as number < AGE = 1 (former smoker)\n",
    "- value as number > AGE = 2 (current smoker)\n",
    "\n",
    "**Date quit tobacco smoking**\n",
    "- skipping- only 500 values and numbers make no sense"
   ]
  },
  {
   "cell_type": "markdown",
   "metadata": {},
   "source": [
    "### filter observation df to smoking"
   ]
  },
  {
   "cell_type": "code",
   "execution_count": null,
   "metadata": {},
   "outputs": [],
   "source": [
    "smoking_obs = observation[observation['standard_concept_name'].str.contains('smoking|smoke|smoked', case = False)]\n",
    "smoking_obs['standard_concept_name'].unique()"
   ]
  },
  {
   "cell_type": "code",
   "execution_count": null,
   "metadata": {},
   "outputs": [],
   "source": [
    "smoking_obs = smoking_obs[~smoking_obs['standard_concept_name'].str.contains('wake|serious|old|verbal|Hookah|Electronic|counseling|months|anesthesia|products|second|Family|duration', case = False)]\n",
    "smoking_obs['standard_concept_name'].unique()"
   ]
  },
  {
   "cell_type": "markdown",
   "metadata": {},
   "source": [
    "### cigs per day now"
   ]
  },
  {
   "cell_type": "code",
   "execution_count": null,
   "metadata": {},
   "outputs": [],
   "source": [
    "smoking_obs_sub = smoking_obs[smoking_obs['standard_concept_name'].isin(['How many cigarettes do you smoke per day now [PhenX]'])]\n",
    "print(smoking_obs_sub['standard_concept_code'].unique())\n",
    "print(smoking_obs_sub['standard_vocabulary'].unique())\n",
    "smoking_obs_sub ['value_as_number'].describe()"
   ]
  },
  {
   "cell_type": "code",
   "execution_count": null,
   "metadata": {},
   "outputs": [],
   "source": [
    "smoking_obs_sub.rename(columns = {'value_as_number' : 'SMOKING_CIGS_DAY'}, inplace = True)\n",
    "smoking_obs_sub = smoking_obs_sub[['person_id', 'SMOKING_CIGS_DAY']]\n",
    "smoking_obs_sub['SMOKING_CIGS_DAY'] = np.where(smoking_obs_sub['SMOKING_CIGS_DAY'] > 0, 2, 0)\n",
    "smoking_obs_sub['SMOKING_CIGS_DAY'] = smoking_obs_sub['SMOKING_CIGS_DAY'].astype('Int64')\n",
    "print(smoking_obs_sub['SMOKING_CIGS_DAY'].value_counts())\n",
    "print(len(smoking_obs_sub.index))\n",
    "print(len(smoking_obs_sub['person_id'].unique()))\n",
    "smoking_obs_sub.head()"
   ]
  },
  {
   "cell_type": "code",
   "execution_count": null,
   "metadata": {},
   "outputs": [],
   "source": [
    "smoking_obs_clean = smoking_obs_sub"
   ]
  },
  {
   "cell_type": "markdown",
   "metadata": {},
   "source": [
    "### cigar smoking frequency"
   ]
  },
  {
   "cell_type": "code",
   "execution_count": null,
   "metadata": {},
   "outputs": [],
   "source": [
    "smoking_obs_sub = smoking_obs[smoking_obs['standard_concept_name'].isin(['Cigar Smoking: Current Cigar Frequency'])]\n",
    "print(smoking_obs_sub['standard_concept_code'].unique())\n",
    "print(smoking_obs_sub['standard_vocabulary'].unique())\n",
    "smoking_obs_sub ['value_as_string'].value_counts()"
   ]
  },
  {
   "cell_type": "code",
   "execution_count": null,
   "metadata": {},
   "outputs": [],
   "source": [
    "smoking_obs_sub.rename(columns = {'value_as_string' : 'SMOKING_CIGAR_FREQ'}, inplace = True)\n",
    "smoking_obs_sub = smoking_obs_sub[['person_id', 'SMOKING_CIGAR_FREQ']]\n",
    "smoking_obs_sub['SMOKING_CIGAR_FREQ'] = smoking_obs_sub['SMOKING_CIGAR_FREQ'].replace({'LA6568-5' : 0,\n",
    "                                                                                       'LA15776-0' : 2,\n",
    "                                                                                       'LA14799-3' : 2,\n",
    "                                                                                       'PMI_Skip' : np.nan})\n",
    "smoking_obs_sub['SMOKING_CIGAR_FREQ'] = smoking_obs_sub['SMOKING_CIGAR_FREQ'].astype('Int64')\n",
    "print(smoking_obs_sub['SMOKING_CIGAR_FREQ'].value_counts())\n",
    "print(len(smoking_obs_sub.index))\n",
    "print(len(smoking_obs_sub['person_id'].unique()))\n",
    "smoking_obs_sub.head()"
   ]
  },
  {
   "cell_type": "code",
   "execution_count": null,
   "metadata": {},
   "outputs": [],
   "source": [
    "smoking_obs_clean = smoking_obs_clean.merge(smoking_obs_sub, on = 'person_id', how = 'outer')\n",
    "smoking_obs_clean.head()"
   ]
  },
  {
   "cell_type": "markdown",
   "metadata": {},
   "source": [
    "### cig freq"
   ]
  },
  {
   "cell_type": "code",
   "execution_count": null,
   "metadata": {},
   "outputs": [],
   "source": [
    "smoking_obs_sub = smoking_obs[smoking_obs['standard_concept_name'].isin(['Do you now smoke cigarettes every day, some days, or not at all [PhenX]'])]\n",
    "print(smoking_obs_sub['standard_concept_code'].unique())\n",
    "print(smoking_obs_sub['standard_vocabulary'].unique())\n",
    "smoking_obs_sub ['value_as_string'].value_counts()"
   ]
  },
  {
   "cell_type": "code",
   "execution_count": null,
   "metadata": {},
   "outputs": [],
   "source": [
    "smoking_obs_sub.rename(columns = {'value_as_string' : 'SMOKING_CIG_FREQ'}, inplace = True)\n",
    "smoking_obs_sub = smoking_obs_sub[['person_id', 'SMOKING_CIG_FREQ']]\n",
    "smoking_obs_sub['SMOKING_CIG_FREQ'] = smoking_obs_sub['SMOKING_CIG_FREQ'].replace({'LA6568-5' : 0,\n",
    "                                                                                   'LA15776-0' : 2,\n",
    "                                                                                   'LA14799-3' : 2,\n",
    "                                                                                   'PMI_Skip' : np.nan})\n",
    "smoking_obs_sub['SMOKING_CIG_FREQ'] = smoking_obs_sub['SMOKING_CIG_FREQ'].astype('Int64')\n",
    "print(smoking_obs_sub['SMOKING_CIG_FREQ'].value_counts())\n",
    "print(len(smoking_obs_sub.index))\n",
    "print(len(smoking_obs_sub['person_id'].unique()))\n",
    "smoking_obs_sub.head()"
   ]
  },
  {
   "cell_type": "code",
   "execution_count": null,
   "metadata": {},
   "outputs": [],
   "source": [
    "smoking_obs_clean = smoking_obs_clean.merge(smoking_obs_sub, on = 'person_id', how = 'outer')\n",
    "smoking_obs_clean.head()"
   ]
  },
  {
   "cell_type": "markdown",
   "metadata": {},
   "source": [
    "### cigar smoking participant"
   ]
  },
  {
   "cell_type": "code",
   "execution_count": null,
   "metadata": {},
   "outputs": [],
   "source": [
    "smoking_obs_sub = smoking_obs[smoking_obs['standard_concept_name'].isin(['Cigar Smoking: Cigar Smoke Participant'])]\n",
    "print(smoking_obs_sub['standard_concept_code'].unique())\n",
    "print(smoking_obs_sub['standard_vocabulary'].unique())\n",
    "smoking_obs_sub ['value_as_string'].value_counts()"
   ]
  },
  {
   "cell_type": "code",
   "execution_count": null,
   "metadata": {},
   "outputs": [],
   "source": [
    "smoking_obs_sub.rename(columns = {'value_as_string' : 'SMOKING_CIGAR'}, inplace = True)\n",
    "smoking_obs_sub = smoking_obs_sub[['person_id', 'SMOKING_CIGAR']]\n",
    "smoking_obs_sub['SMOKING_CIGAR'] = smoking_obs_sub['SMOKING_CIGAR'].replace({'LA32-8' : 0,\n",
    "                                                                             'LA33-6' : 2,\n",
    "                                                                             'PMI_Skip' : np.nan})\n",
    "smoking_obs_sub['SMOKING_CIGAR'] = smoking_obs_sub['SMOKING_CIGAR'].astype('Int64')\n",
    "print(smoking_obs_sub['SMOKING_CIGAR'].value_counts())\n",
    "print(len(smoking_obs_sub.index))\n",
    "print(len(smoking_obs_sub['person_id'].unique()))\n",
    "smoking_obs_sub.head()"
   ]
  },
  {
   "cell_type": "code",
   "execution_count": null,
   "metadata": {},
   "outputs": [],
   "source": [
    "smoking_obs_clean = smoking_obs_clean.merge(smoking_obs_sub, on = 'person_id', how = 'outer')\n",
    "smoking_obs_clean.head()"
   ]
  },
  {
   "cell_type": "markdown",
   "metadata": {},
   "source": [
    "### tobacco smoking status"
   ]
  },
  {
   "cell_type": "code",
   "execution_count": null,
   "metadata": {},
   "outputs": [],
   "source": [
    "smoking_obs_sub = smoking_obs[smoking_obs['standard_concept_name'].isin(['Tobacco smoking status'])]\n",
    "print(smoking_obs_sub['standard_concept_code'].unique())\n",
    "print(smoking_obs_sub['standard_vocabulary'].unique())\n",
    "smoking_obs_sub ['value_as_string'].value_counts()"
   ]
  },
  {
   "cell_type": "code",
   "execution_count": null,
   "metadata": {},
   "outputs": [],
   "source": [
    "smoking_obs_sub.rename(columns = {'value_as_string' : 'SMOKING_TOBACCO'}, inplace = True)\n",
    "smoking_obs_sub = smoking_obs_sub[['person_id', 'SMOKING_TOBACCO', 'observation_datetime']]\n",
    "smoking_obs_sub['observation_datetime'] = pd.to_datetime(smoking_obs_sub['observation_datetime'])\n",
    "smoking_obs_sub['SMOKING_TOBACCO'] = smoking_obs_sub['SMOKING_TOBACCO'].replace([r'^\\d.*','No matching concept',r'OMOP.*'], np.nan, regex = True)\n",
    "smoking_obs_sub['SMOKING_TOBACCO'] = smoking_obs_sub['SMOKING_TOBACCO'].replace({'LA18978-9' : 0,\n",
    "                                                                                 'LA18979-7' : np.nan,\n",
    "                                                                                 'LA18980-5' : np.nan,\n",
    "                                                                                 'LA15920-4' : 1,\n",
    "                                                                                 'LA18976-3' : 2,\n",
    "                                                                                 'LA18977-1' : 2,\n",
    "                                                                                 'LA18982-1' : np.nan,\n",
    "                                                                                 'LA18981-3' : np.nan})\n",
    "print(len(smoking_obs_sub.index))\n",
    "print(len(smoking_obs_sub['person_id'].unique()))"
   ]
  },
  {
   "cell_type": "code",
   "execution_count": null,
   "metadata": {},
   "outputs": [],
   "source": [
    "no_na = smoking_obs_sub.dropna(subset = ['SMOKING_TOBACCO'])"
   ]
  },
  {
   "cell_type": "code",
   "execution_count": null,
   "metadata": {},
   "outputs": [],
   "source": [
    "test1 = smoking_obs_sub[smoking_obs_sub['person_id'].duplicated(keep = 'last')].sort_values(by = 'person_id')\n",
    "print(len(test1.index))"
   ]
  },
  {
   "cell_type": "code",
   "execution_count": null,
   "metadata": {},
   "outputs": [],
   "source": [
    "test2 = smoking_obs_sub[smoking_obs_sub[['person_id', 'SMOKING_TOBACCO']].duplicated(keep = 'last')].sort_values(by = 'person_id')\n",
    "print(len(test2.index))"
   ]
  },
  {
   "cell_type": "code",
   "execution_count": null,
   "metadata": {},
   "outputs": [],
   "source": [
    "test3 = test1[~test1['person_id'].isin(test2['person_id'])].sort_values(by = 'person_id')\n",
    "print(len(test3.index))"
   ]
  },
  {
   "cell_type": "code",
   "execution_count": null,
   "metadata": {},
   "outputs": [],
   "source": [
    "test4 = smoking_obs_sub[smoking_obs_sub['person_id'].isin(test3['person_id'])].sort_values(by = 'person_id')\n",
    "print(len(test4.index))"
   ]
  },
  {
   "cell_type": "code",
   "execution_count": null,
   "metadata": {},
   "outputs": [],
   "source": [
    "hf_pgs_no_missing = pd.read_csv('HF_Clinical_PGS.phenotype.no_missing.variable_transformation.csv')"
   ]
  },
  {
   "cell_type": "code",
   "execution_count": null,
   "metadata": {},
   "outputs": [],
   "source": [
    "test5 = hf_pgs_no_missing[hf_pgs_no_missing['person_id'].isin(test3['person_id'])]\n",
    "print(len(test5.index))"
   ]
  },
  {
   "cell_type": "code",
   "execution_count": null,
   "metadata": {},
   "outputs": [],
   "source": [
    "smoking_obs_sub[smoking_obs_sub[['person_id', 'SMOKING_TOBACCO']].duplicated(keep = 'last')].sort_values(by = 'person_id')['SMOKING_TOBACCO'].value_counts(dropna = False)"
   ]
  },
  {
   "cell_type": "code",
   "execution_count": null,
   "metadata": {},
   "outputs": [],
   "source": [
    "smoking_obs_sub.rename(columns = {'value_as_string' : 'SMOKING_TOBACCO'}, inplace = True)\n",
    "smoking_obs_sub = smoking_obs_sub[['person_id', 'SMOKING_TOBACCO', 'observation_datetime']]\n",
    "smoking_obs_sub['observation_datetime'] = pd.to_datetime(smoking_obs_sub['observation_datetime'])\n",
    "smoking_obs_sub['SMOKING_TOBACCO'] = smoking_obs_sub['SMOKING_TOBACCO'].replace([r'^\\d.*','No matching concept',r'OMOP.*'], np.nan, regex = True)\n",
    "smoking_obs_sub['SMOKING_TOBACCO'] = smoking_obs_sub['SMOKING_TOBACCO'].replace({'LA18978-9' : 0,\n",
    "                                                                                 'LA18979-7' : np.nan,\n",
    "                                                                                 'LA18980-5' : np.nan,\n",
    "                                                                                 'LA15920-4' : 1,\n",
    "                                                                                 'LA18976-3' : 2,\n",
    "                                                                                 'LA18977-1' : 2,\n",
    "                                                                                 'LA18982-1' : np.nan,\n",
    "                                                                                 'LA18981-3' : np.nan})\n",
    "smoking_obs_sub.sort_values(by = ['person_id', 'observation_datetime'], inplace = True, ascending = False)\n",
    "print(len(smoking_obs_sub.index))\n",
    "smoking_obs_sub.drop_duplicates(subset = 'person_id', keep = 'first', inplace = True)\n",
    "print(len(smoking_obs_sub.index))\n",
    "smoking_obs_sub.drop(columns = ['observation_datetime'], inplace = True)\n",
    "smoking_obs_sub['SMOKING_TOBACCO'] = smoking_obs_sub['SMOKING_TOBACCO'].astype('Int64')\n",
    "print(smoking_obs_sub['SMOKING_TOBACCO'].value_counts(dropna = False))\n",
    "print(len(smoking_obs_sub.index))\n",
    "print(len(smoking_obs_sub['person_id'].unique()))\n",
    "smoking_obs_sub.head()"
   ]
  },
  {
   "cell_type": "code",
   "execution_count": null,
   "metadata": {},
   "outputs": [],
   "source": [
    "smoking_obs_clean = smoking_obs_clean.merge(smoking_obs_sub, on = 'person_id', how = 'outer')\n",
    "smoking_obs_clean.head()"
   ]
  },
  {
   "cell_type": "markdown",
   "metadata": {},
   "source": [
    "### at least 100 cigs in life"
   ]
  },
  {
   "cell_type": "code",
   "execution_count": null,
   "metadata": {},
   "outputs": [],
   "source": [
    "smoking_obs_sub = smoking_obs[smoking_obs['standard_concept_name'].isin(['Smoked at least 100 cigarettes in entire life'])]\n",
    "print(smoking_obs_sub['standard_concept_code'].unique())\n",
    "print(smoking_obs_sub['standard_vocabulary'].unique())\n",
    "smoking_obs_sub ['value_as_string'].value_counts()"
   ]
  },
  {
   "cell_type": "code",
   "execution_count": null,
   "metadata": {},
   "outputs": [],
   "source": [
    "smoking_obs_sub.rename(columns = {'value_as_string' : 'SMOKING_100_CIGS'}, inplace = True)\n",
    "smoking_obs_sub = smoking_obs_sub[['person_id', 'SMOKING_100_CIGS']]\n",
    "smoking_obs_sub['SMOKING_100_CIGS'] = smoking_obs_sub['SMOKING_100_CIGS'].replace({'LA32-8' : 0,\n",
    "                                                                                   'LA33-6' : 2,\n",
    "                                                                                   'PMI_Skip' : np.nan})\n",
    "smoking_obs_sub['SMOKING_100_CIGS'] = smoking_obs_sub['SMOKING_100_CIGS'].astype('Int64')\n",
    "print(smoking_obs_sub['SMOKING_100_CIGS'].value_counts())\n",
    "print(len(smoking_obs_sub.index))\n",
    "print(len(smoking_obs_sub['person_id'].unique()))\n",
    "smoking_obs_sub.head()"
   ]
  },
  {
   "cell_type": "code",
   "execution_count": null,
   "metadata": {},
   "outputs": [],
   "source": [
    "smoking_obs_clean = smoking_obs_clean.merge(smoking_obs_sub, on = 'person_id', how = 'outer')\n",
    "smoking_obs_clean.head()"
   ]
  },
  {
   "cell_type": "markdown",
   "metadata": {},
   "source": [
    "### completely quit age"
   ]
  },
  {
   "cell_type": "code",
   "execution_count": null,
   "metadata": {},
   "outputs": [],
   "source": [
    "smoking_obs_sub = smoking_obs[smoking_obs['standard_concept_name'].isin(['Attempt Quit Smoking: Completely Quit Age'])]\n",
    "print(smoking_obs_sub['standard_concept_code'].unique())\n",
    "print(smoking_obs_sub['standard_vocabulary'].unique())\n",
    "smoking_obs_sub ['value_as_number'].describe().apply(lambda x: f'{x:,.2f}')"
   ]
  },
  {
   "cell_type": "code",
   "execution_count": null,
   "metadata": {},
   "outputs": [],
   "source": [
    "print(len(smoking_obs_sub.index))\n",
    "print(len(smoking_obs_sub['person_id'].unique()))"
   ]
  },
  {
   "cell_type": "code",
   "execution_count": null,
   "metadata": {},
   "outputs": [],
   "source": [
    "age_df = hf_case_control[['person_id', 'AGE']]\n",
    "print(len(age_df.index))\n",
    "smoking_obs_age = age_df.merge(smoking_obs_sub, on = 'person_id', how = 'inner')\n",
    "print(len(smoking_obs_age.index))"
   ]
  },
  {
   "cell_type": "code",
   "execution_count": null,
   "metadata": {},
   "outputs": [],
   "source": [
    "smoking_obs_age = smoking_obs_age[['person_id', 'value_as_number', 'AGE']]\n",
    "smoking_obs_age['SMOKING_QUIT_AGE'] = np.where(smoking_obs_age['value_as_number'] < smoking_obs_age['AGE'], 1, 2)\n",
    "smoking_obs_age['SMOKING_QUIT_AGE'] = smoking_obs_age['SMOKING_QUIT_AGE'].astype('Int64')\n",
    "smoking_obs_age.drop(columns = ['AGE', 'value_as_number'], inplace = True)\n",
    "print(smoking_obs_age['SMOKING_QUIT_AGE'].value_counts())\n",
    "print(len(smoking_obs_age.index))\n",
    "print(len(smoking_obs_age['person_id'].unique()))\n",
    "smoking_obs_age.head()"
   ]
  },
  {
   "cell_type": "code",
   "execution_count": null,
   "metadata": {},
   "outputs": [],
   "source": [
    "smoking_obs_clean = smoking_obs_clean.merge(smoking_obs_age, on = 'person_id', how = 'outer')\n",
    "smoking_obs_clean.head()"
   ]
  },
  {
   "cell_type": "markdown",
   "metadata": {},
   "source": [
    "### date quit smoking"
   ]
  },
  {
   "cell_type": "code",
   "execution_count": null,
   "metadata": {},
   "outputs": [],
   "source": [
    "smoking_obs_sub = smoking_obs[smoking_obs['standard_concept_name'].isin(['Date quit tobacco smoking'])]\n",
    "print(smoking_obs_sub['standard_concept_code'].unique())\n",
    "print(smoking_obs_sub['standard_vocabulary'].unique())\n",
    "print(len(smoking_obs_sub.index))\n",
    "print(len(smoking_obs_sub['person_id'].unique()))\n",
    "print(smoking_obs_sub ['value_as_number'].describe().apply(lambda x: f'{x:,.2f}'))\n",
    "smoking_obs_sub ['value_as_string'].value_counts()"
   ]
  },
  {
   "cell_type": "markdown",
   "metadata": {},
   "source": [
    "### create combined column and subset"
   ]
  },
  {
   "cell_type": "code",
   "execution_count": null,
   "metadata": {},
   "outputs": [],
   "source": [
    "former_smoker = smoking_obs_clean[(smoking_obs_clean['SMOKING_TOBACCO'] == 1) | (smoking_obs_clean['SMOKING_QUIT_AGE'] == 1)]\n",
    "print(len(former_smoker.index))\n",
    "former_smoker[['SMOKING_TOBACCO', 'SMOKING_QUIT_AGE']].value_counts(dropna = False)"
   ]
  },
  {
   "cell_type": "code",
   "execution_count": null,
   "metadata": {},
   "outputs": [],
   "source": [
    "former_smoker = former_smoker[((former_smoker['SMOKING_TOBACCO'].isna() == True) | (former_smoker['SMOKING_TOBACCO'] == 1)) & ((former_smoker['SMOKING_QUIT_AGE'].isna() == True) | (former_smoker['SMOKING_QUIT_AGE'] == 1))]\n",
    "print(len(former_smoker.index))\n",
    "print(former_smoker[['SMOKING_TOBACCO', 'SMOKING_QUIT_AGE']].value_counts(dropna = False))\n",
    "former_smoker['SMOKING'] = 1\n",
    "former_smoker.head()"
   ]
  },
  {
   "cell_type": "code",
   "execution_count": null,
   "metadata": {},
   "outputs": [],
   "source": [
    "smoking_cols = [col for col in smoking_obs_clean.columns if col.startswith('SMOKING_')]\n",
    "print(smoking_cols)\n",
    "no_former_smoker = smoking_obs_clean[~smoking_obs_clean['person_id'].isin(former_smoker['person_id'])]\n",
    "print(len(no_former_smoker.index))\n",
    "no_former_smoker['SMOKING'] = no_former_smoker[smoking_cols].sum(axis=1)\n",
    "print(no_former_smoker['SMOKING'].value_counts(dropna = False))\n",
    "no_former_smoker.head()"
   ]
  },
  {
   "cell_type": "code",
   "execution_count": null,
   "metadata": {},
   "outputs": [],
   "source": [
    "no_former_smoker['SMOKING'] = np.where(no_former_smoker['SMOKING']> 0, 2, 0)\n",
    "no_former_smoker['SMOKING'] = no_former_smoker['SMOKING'].astype('Int64')\n",
    "print(no_former_smoker['SMOKING'].value_counts(dropna = False))"
   ]
  },
  {
   "cell_type": "code",
   "execution_count": null,
   "metadata": {},
   "outputs": [],
   "source": [
    "smoking_obs_clean_final = pd.concat([no_former_smoker, former_smoker], axis = 0)\n",
    "print(len(smoking_obs_clean_final.index))\n",
    "smoking_obs_clean_final['SMOKING'].value_counts(dropna = False)"
   ]
  },
  {
   "cell_type": "code",
   "execution_count": null,
   "metadata": {},
   "outputs": [],
   "source": [
    "smoking_obs_clean_sub = smoking_obs_clean_final[['person_id', 'SMOKING']]\n",
    "smoking_obs_clean_sub.head()"
   ]
  },
  {
   "cell_type": "markdown",
   "metadata": {},
   "source": [
    "### merge"
   ]
  },
  {
   "cell_type": "code",
   "execution_count": null,
   "metadata": {},
   "outputs": [],
   "source": [
    "print(len(smoking_obs_clean_sub['person_id'].unique()))\n",
    "print(len(smoking_obs_clean_sub.index))"
   ]
  },
  {
   "cell_type": "code",
   "execution_count": null,
   "metadata": {},
   "outputs": [],
   "source": [
    "hf_smoking_obs = hf_physical_obs.merge(smoking_obs_clean_sub, on = 'person_id', how = 'left')\n",
    "print(len(hf_smoking_obs.index))\n",
    "print(hf_smoking_obs['SMOKING'].value_counts(dropna = False))\n",
    "hf_smoking_obs.head()"
   ]
  },
  {
   "cell_type": "markdown",
   "metadata": {},
   "source": [
    "## income"
   ]
  },
  {
   "cell_type": "markdown",
   "metadata": {},
   "source": [
    "### encoding\n",
    "\n",
    "**Financially poor**\n",
    "- skipping due to no real value and low count\n",
    "\n",
    "**Total combined household income range in last year**\n",
    "- 'AnnualIncome_less10k' : 0\n",
    "- 'AnnualIncome_10k25k' : 1\n",
    "- 'AnnualIncome_25k35k' : 2\n",
    "- 'AnnualIncome_35k50k' : 3\n",
    "- 'AnnualIncome_50k75k' : 4\n",
    "- 'AnnualIncome_75k100k' : 5\n",
    "- 'AnnualIncome_100k150k' : 6\n",
    "- 'AnnualIncome_150k200k' : 7\n",
    "- 'AnnualIncome_more200k' : 8\n",
    "- 'PMI_Skip' : np.nan\n",
    "\n",
    "**Low income**\n",
    "- skipping due to no real value and low count"
   ]
  },
  {
   "cell_type": "markdown",
   "metadata": {},
   "source": [
    "### filter observation df to income"
   ]
  },
  {
   "cell_type": "code",
   "execution_count": null,
   "metadata": {},
   "outputs": [],
   "source": [
    "income_obs = observation[observation['standard_concept_name'].str.contains('income|Financially|financial', case = False)]\n",
    "income_obs['standard_concept_name'].unique()"
   ]
  },
  {
   "cell_type": "markdown",
   "metadata": {},
   "source": [
    "### total combined household income"
   ]
  },
  {
   "cell_type": "code",
   "execution_count": null,
   "metadata": {},
   "outputs": [],
   "source": [
    "income_obs_sub = income_obs[income_obs['standard_concept_name'].isin(['Total combined household income range in last year'])]\n",
    "print(income_obs_sub['standard_concept_code'].unique())\n",
    "print(income_obs_sub['standard_vocabulary'].unique())\n",
    "income_obs_sub ['value_as_string'].value_counts()"
   ]
  },
  {
   "cell_type": "code",
   "execution_count": null,
   "metadata": {},
   "outputs": [],
   "source": [
    "income_obs_sub.rename(columns = {'value_as_string' : 'INCOME_ANNUAL_HOUSEHOLD'}, inplace = True)\n",
    "income_obs_sub = income_obs_sub[['person_id', 'INCOME_ANNUAL_HOUSEHOLD']]\n",
    "income_obs_sub['INCOME_ANNUAL_HOUSEHOLD'] = income_obs_sub['INCOME_ANNUAL_HOUSEHOLD'].replace({'AnnualIncome_less10k' : 0,\n",
    "                                                                                               'AnnualIncome_10k25k' : 1,\n",
    "                                                                                               'AnnualIncome_25k35k' : 2,\n",
    "                                                                                               'AnnualIncome_35k50k' : 3,\n",
    "                                                                                               'AnnualIncome_50k75k' : 4,\n",
    "                                                                                               'AnnualIncome_75k100k' : 5,\n",
    "                                                                                               'AnnualIncome_100k150k' : 6,\n",
    "                                                                                               'AnnualIncome_150k200k' : 7,\n",
    "                                                                                               'AnnualIncome_more200k' : 8,\n",
    "                                                                                               'PMI_Skip' : np.nan})\n",
    "income_obs_sub['INCOME_ANNUAL_HOUSEHOLD'] = income_obs_sub['INCOME_ANNUAL_HOUSEHOLD'].astype('Int64')\n",
    "print(income_obs_sub['INCOME_ANNUAL_HOUSEHOLD'].value_counts())\n",
    "print(len(income_obs_sub.index))\n",
    "print(len(income_obs_sub['person_id'].unique()))\n",
    "income_obs_sub.head()"
   ]
  },
  {
   "cell_type": "code",
   "execution_count": null,
   "metadata": {},
   "outputs": [],
   "source": [
    "income_obs_clean = income_obs_sub"
   ]
  },
  {
   "cell_type": "markdown",
   "metadata": {},
   "source": [
    "### merge"
   ]
  },
  {
   "cell_type": "code",
   "execution_count": null,
   "metadata": {},
   "outputs": [],
   "source": [
    "income_obs_clean.rename(columns = {'INCOME_ANNUAL_HOUSEHOLD' : 'INCOME'}, inplace = True)\n",
    "income_obs_clean.head()"
   ]
  },
  {
   "cell_type": "code",
   "execution_count": null,
   "metadata": {},
   "outputs": [],
   "source": [
    "print(len(income_obs_clean['person_id'].unique()))\n",
    "print(len(income_obs_clean.index))"
   ]
  },
  {
   "cell_type": "code",
   "execution_count": null,
   "metadata": {},
   "outputs": [],
   "source": [
    "hf_income_obs = hf_smoking_obs.merge(income_obs_clean, on = 'person_id', how = 'left')\n",
    "print(len(hf_income_obs.index))\n",
    "print(hf_income_obs['INCOME'].value_counts(dropna = False))\n",
    "hf_income_obs.head()"
   ]
  },
  {
   "cell_type": "markdown",
   "metadata": {},
   "source": [
    "## education"
   ]
  },
  {
   "cell_type": "markdown",
   "metadata": {},
   "source": [
    "### encoding\n",
    "**What is the highest grade or level of schooling you completed [SAMHSA]**\n",
    "- skipping bc values make no sense\n",
    "\n",
    "**Education and/or schooling finding**\n",
    "- skipping bc values make no sense\n",
    "\n",
    "**Lack of education**\n",
    "- skipping bc no values\n",
    "\n",
    "**Highest level of education**\n",
    "- 'LA15609-3' : 3 (3rd grade)\n",
    "- 'LA15611-9' : 5 (5th grade)\n",
    "- 'LA15612-7' : 6 (6th grade)\n",
    "- 'LA15613-5' : 7 (7th grade)\n",
    "- 'LA15614-3' : 8 (8th grade)\n",
    "- 'LA15615-0' : 9 (9th grade)\n",
    "- 'LA15616-8' : 10 (10th grade)\n",
    "- 'LA15617-6' : 11 (11th grade)\n",
    "- 'LA15618-4' : 12 (12th grade, no diploma)\n",
    "- 'LA15564-0' : 13 (High school graduate)\n",
    "- 'LA15619-2' : 13 (GED or equivalent)\n",
    "- 'LA12457-0' : 13 (High school graduate or GED completed)\n",
    "- 'LA15620-0' : 14 (Some college, no degree)\n",
    "- 'LA15622-6' : 15 (Associate degree, academic program)\n",
    "- 'LA15621-8' : 15 (Associate degree, occupational, technical, or vocational program)\n",
    "- 'LA40-1' : np.nan (Some college)\n",
    "- 'LA12460-4' : 16 (Bachelor's degree (e.g., BA, AB, BS))\n",
    "- 'LA42-7' : 17 np.nan\n",
    "- 'LA12461-2' : 17 (Master's degree (e.g., MA, MS, MEng, MEd, MSW, MBA))\n",
    "- 'LA12462-0' : 18 (Doctorate)\n",
    "- 'LA15625-9' : 18 (Professional school degree)\n",
    "- 'No matching concept' : np.nan (missing)\n",
    "\n",
    "**Years of education [#] - Reported**\n",
    "- number of years\n",
    "\n",
    "**Staff education**\n",
    "- skipped\n",
    "\n",
    "**Received doctorate education**\n",
    "- skipped\n"
   ]
  },
  {
   "cell_type": "markdown",
   "metadata": {},
   "source": [
    "### filter observation df to education"
   ]
  },
  {
   "cell_type": "code",
   "execution_count": null,
   "metadata": {},
   "outputs": [],
   "source": [
    "education_obs = observation[observation['standard_concept_name'].str.contains('education|grade', case = False)]\n",
    "education_obs['standard_concept_name'].unique()"
   ]
  },
  {
   "cell_type": "code",
   "execution_count": null,
   "metadata": {},
   "outputs": [],
   "source": [
    "education_obs = education_obs[~education_obs['standard_concept_name'].str.contains('problem|program|explicit|screenings|waiver|iep|Health', case = False)]\n",
    "education_obs['standard_concept_name'].unique()"
   ]
  },
  {
   "cell_type": "markdown",
   "metadata": {},
   "source": [
    "### highest level of education"
   ]
  },
  {
   "cell_type": "code",
   "execution_count": null,
   "metadata": {},
   "outputs": [],
   "source": [
    "education_obs_sub = education_obs[education_obs['standard_concept_name'].isin(['Highest level of education'])]\n",
    "print(education_obs_sub['standard_concept_code'].unique())\n",
    "print(education_obs_sub['standard_vocabulary'].unique())\n",
    "education_obs_sub ['value_as_string'].value_counts()"
   ]
  },
  {
   "cell_type": "code",
   "execution_count": null,
   "metadata": {},
   "outputs": [],
   "source": [
    "education_obs_sub.rename(columns = {'value_as_string' : 'EDUCATION_HIGHEST'}, inplace = True)\n",
    "education_obs_sub = education_obs_sub[['person_id', 'EDUCATION_HIGHEST', 'observation_datetime']]\n",
    "education_obs_sub['observation_datetime'] = pd.to_datetime(education_obs_sub['observation_datetime'])\n",
    "education_obs_sub.sort_values(by = ['person_id', 'observation_datetime'], inplace = True, ascending = False)\n",
    "print(len(education_obs_sub.index))\n",
    "education_obs_sub.drop_duplicates(subset = 'person_id', keep = 'first', inplace = True)\n",
    "print(len(education_obs_sub.index))\n",
    "education_obs_sub.drop(columns = ['observation_datetime'], inplace = True)\n",
    "education_obs_sub['EDUCATION_HIGHEST'] = education_obs_sub['EDUCATION_HIGHEST'].replace({'LA15609-3' : 3,\n",
    "                                                                                         'LA15611-9' : 5,\n",
    "                                                                                         'LA15612-7' : 6,\n",
    "                                                                                         'LA15613-5' : 7,\n",
    "                                                                                         'LA15614-3' : 8,\n",
    "                                                                                         'LA15615-0' : 9,\n",
    "                                                                                         'LA15616-8' : 10,\n",
    "                                                                                         'LA15617-6' : 11,\n",
    "                                                                                         'LA15618-4' : 12,\n",
    "                                                                                         'LA15564-0' : 13,\n",
    "                                                                                         'LA15619-2' : 13,\n",
    "                                                                                         'LA12457-0' : 13,\n",
    "                                                                                         'LA15620-0' : 14,\n",
    "                                                                                         'LA15622-6' : 15,\n",
    "                                                                                         'LA15621-8' : 15,\n",
    "                                                                                         'LA40-1' : np.nan,\n",
    "                                                                                         'LA12460-4' : 16,\n",
    "                                                                                         'LA42-7' : np.nan,\n",
    "                                                                                         'LA12461-2' : 17,\n",
    "                                                                                         'LA12462-0' : 18,\n",
    "                                                                                         'LA15625-9' : 18,\n",
    "                                                                                         'No matching concept' : np.nan})\n",
    "education_obs_sub['EDUCATION_HIGHEST'] = education_obs_sub['EDUCATION_HIGHEST'].astype('Int64')\n",
    "print(education_obs_sub['EDUCATION_HIGHEST'].value_counts())\n",
    "print(len(education_obs_sub.index))\n",
    "print(len(education_obs_sub['person_id'].unique()))\n",
    "education_obs_sub.head()"
   ]
  },
  {
   "cell_type": "code",
   "execution_count": null,
   "metadata": {},
   "outputs": [],
   "source": [
    "education_obs_clean = education_obs_sub"
   ]
  },
  {
   "cell_type": "markdown",
   "metadata": {},
   "source": [
    "### years of education"
   ]
  },
  {
   "cell_type": "code",
   "execution_count": null,
   "metadata": {},
   "outputs": [],
   "source": [
    "education_obs_sub = education_obs[education_obs['standard_concept_name'].isin(['Years of education [#] - Reported'])]\n",
    "print(education_obs_sub['standard_concept_code'].unique())\n",
    "print(education_obs_sub['standard_vocabulary'].unique())\n",
    "education_obs_sub['value_as_number'].value_counts()"
   ]
  },
  {
   "cell_type": "code",
   "execution_count": null,
   "metadata": {},
   "outputs": [],
   "source": [
    "education_obs_sub.rename(columns = {'value_as_number' : 'EDUCATION_YEARS'}, inplace = True)\n",
    "education_obs_sub = education_obs_sub[['person_id', 'EDUCATION_YEARS', 'observation_datetime']]\n",
    "education_obs_sub['observation_datetime'] = pd.to_datetime(education_obs_sub['observation_datetime'])\n",
    "education_obs_sub.sort_values(by = ['person_id', 'observation_datetime'], inplace = True, ascending = False)\n",
    "print(len(education_obs_sub.index))\n",
    "education_obs_sub.drop_duplicates(subset = 'person_id', keep = 'first', inplace = True)\n",
    "print(len(education_obs_sub.index))\n",
    "education_obs_sub.drop(columns = ['observation_datetime'], inplace = True)\n",
    "education_obs_sub['EDUCATION_YEARS'] = education_obs_sub['EDUCATION_YEARS'].astype('Int64')\n",
    "print(education_obs_sub['EDUCATION_YEARS'].value_counts())\n",
    "print(len(education_obs_sub.index))\n",
    "print(len(education_obs_sub['person_id'].unique()))\n",
    "education_obs_sub.head()"
   ]
  },
  {
   "cell_type": "code",
   "execution_count": null,
   "metadata": {},
   "outputs": [],
   "source": [
    "education_obs_clean = education_obs_clean.merge(education_obs_sub, on = 'person_id', how = 'outer')\n",
    "education_obs_clean.head()"
   ]
  },
  {
   "cell_type": "markdown",
   "metadata": {},
   "source": [
    "### merge"
   ]
  },
  {
   "cell_type": "code",
   "execution_count": null,
   "metadata": {},
   "outputs": [],
   "source": [
    "print(len(education_obs_clean['person_id'].unique()))\n",
    "print(len(education_obs_clean.index))"
   ]
  },
  {
   "cell_type": "code",
   "execution_count": null,
   "metadata": {},
   "outputs": [],
   "source": [
    "hf_education_obs = hf_income_obs.merge(education_obs_clean, on = 'person_id', how = 'left')\n",
    "print(len(hf_education_obs.index))\n",
    "print(hf_education_obs['INCOME'].value_counts(dropna = False))\n",
    "hf_education_obs.head()"
   ]
  },
  {
   "cell_type": "markdown",
   "metadata": {},
   "source": [
    "## single living status"
   ]
  },
  {
   "cell_type": "markdown",
   "metadata": {},
   "source": [
    "### encoding\n",
    "**Marital status**\n",
    "- skipping bc codes make no sense\n",
    "\n",
    "**Marital status [NHANES]**\n",
    "- 'LA48-4' : 0 (Married)\n",
    "- 'LA17717-2' : 1 (Single)\n",
    "- 'LA47-6' : 1 (Never married)\n",
    "- 'LA51-8' : 1 (Divorced)\n",
    "- 'LA49-2' : 1 (Widowed)\n",
    "- 'LA15605-1' : 0 (Living with partner)\n",
    "- 'No matching concept': np.nan (missing)\n",
    "- 'LA10058-8': np.nan (Patient refused)\n",
    "- 'LA4288-2' : 1 (Separated)\n",
    "- 'LA4489-6': np.nan (unknown)\n",
    "- 'LA30381-0' : 0 (Significant other)\n",
    "- 'LA46-8' : np.nan (Other)\n",
    "- 'LA22700-1' : 0 (Domestic partner)\n",
    "- 'LA22697-9' : 1 (Legally separated)\n",
    "\n",
    "**Marital status and living arrangements - Reported**\n",
    "- skipping, most answers make no sense!\n",
    "\n",
    "**Divorced**\n",
    "- skipping, no answer\n",
    "\n",
    "**Single person**\n",
    "- skipping, question makes no sense!"
   ]
  },
  {
   "cell_type": "markdown",
   "metadata": {},
   "source": [
    "### filter observation df to single living status"
   ]
  },
  {
   "cell_type": "code",
   "execution_count": null,
   "metadata": {},
   "outputs": [],
   "source": [
    "single_obs = observation[observation['standard_concept_name'].str.contains('marital|divorced|single', case = False)]\n",
    "single_obs['standard_concept_name'].unique()"
   ]
  },
  {
   "cell_type": "code",
   "execution_count": null,
   "metadata": {},
   "outputs": [],
   "source": [
    "single_obs = single_obs[~single_obs['standard_concept_name'].str.contains('homeless|unknown|Deprecated|conflict|problems', case = False)]\n",
    "single_obs['standard_concept_name'].unique()"
   ]
  },
  {
   "cell_type": "markdown",
   "metadata": {},
   "source": [
    "### marital status"
   ]
  },
  {
   "cell_type": "code",
   "execution_count": null,
   "metadata": {},
   "outputs": [],
   "source": [
    "single_obs_sub = single_obs[single_obs['standard_concept_name'].isin(['Marital status [NHANES]'])]\n",
    "print(single_obs_sub['standard_concept_code'].unique())\n",
    "print(single_obs_sub['standard_vocabulary'].unique())\n",
    "single_obs_sub ['value_as_string'].value_counts()"
   ]
  },
  {
   "cell_type": "code",
   "execution_count": null,
   "metadata": {},
   "outputs": [],
   "source": [
    "single_obs_sub.rename(columns = {'value_as_string' : 'SINGLE_STATUS'}, inplace = True)\n",
    "single_obs_sub = single_obs_sub[['person_id', 'SINGLE_STATUS', 'observation_datetime']]\n",
    "single_obs_sub['observation_datetime'] = pd.to_datetime(single_obs_sub['observation_datetime'])\n",
    "single_obs_sub.sort_values(by = ['person_id', 'observation_datetime'], inplace = True, ascending = False)\n",
    "print(len(single_obs_sub.index))\n",
    "single_obs_sub.drop_duplicates(subset = 'person_id', keep = 'first', inplace = True)\n",
    "print(len(single_obs_sub.index))\n",
    "single_obs_sub.drop(columns = ['observation_datetime'], inplace = True)\n",
    "single_obs_sub['SINGLE_STATUS'] = single_obs_sub['SINGLE_STATUS'].replace({'LA48-4' : 0,\n",
    "                                                                           'LA17717-2' : 1,\n",
    "                                                                           'LA47-6' : 1,\n",
    "                                                                           'LA51-8' : 1,\n",
    "                                                                           'LA49-2' : 1,\n",
    "                                                                           'LA15605-1' : 0,\n",
    "                                                                           'No matching concept': np.nan,\n",
    "                                                                           'LA10058-8': np.nan,\n",
    "                                                                           'LA4288-2' : 1,\n",
    "                                                                           'LA4489-6': np.nan,\n",
    "                                                                           'LA30381-0' : 0,\n",
    "                                                                           'LA46-8' : np.nan,\n",
    "                                                                           'LA22700-1' : 0,\n",
    "                                                                           'LA22697-9' : 1})\n",
    "single_obs_sub['SINGLE_STATUS'] = single_obs_sub['SINGLE_STATUS'].astype('Int64')\n",
    "print(single_obs_sub['SINGLE_STATUS'].value_counts())\n",
    "print(len(single_obs_sub.index))\n",
    "print(len(single_obs_sub['person_id'].unique()))\n",
    "single_obs_sub.head()"
   ]
  },
  {
   "cell_type": "code",
   "execution_count": null,
   "metadata": {},
   "outputs": [],
   "source": [
    "single_obs_clean = single_obs_sub"
   ]
  },
  {
   "cell_type": "markdown",
   "metadata": {},
   "source": [
    "### merge"
   ]
  },
  {
   "cell_type": "code",
   "execution_count": null,
   "metadata": {},
   "outputs": [],
   "source": [
    "print(len(single_obs_clean['person_id'].unique()))\n",
    "print(len(single_obs_clean.index))"
   ]
  },
  {
   "cell_type": "code",
   "execution_count": null,
   "metadata": {},
   "outputs": [],
   "source": [
    "hf_single_obs = hf_education_obs.merge(single_obs_clean, on = 'person_id', how = 'left')\n",
    "print(len(hf_single_obs.index))\n",
    "print(hf_single_obs['SINGLE_STATUS'].value_counts(dropna = False))\n",
    "hf_single_obs.head()"
   ]
  },
  {
   "cell_type": "markdown",
   "metadata": {},
   "source": [
    "# clean survey data"
   ]
  },
  {
   "cell_type": "markdown",
   "metadata": {},
   "source": [
    "## smoking"
   ]
  },
  {
   "cell_type": "markdown",
   "metadata": {},
   "source": [
    "### encoding\n",
    "- 0 = nonsmoker\n",
    "- 1 = former smoker\n",
    "- 2 = current smoker\n",
    "\n",
    "**Smoking: Number Of Years**\n",
    "- 'PMI: Dont Know' : np.nan (missing)\n",
    "- 'PMI: Skip' : np.nan (missing)\n",
    "- 'PMI: Prefer Not To Answer' : np.nan (missing)\n",
    "- 0 = nonsmoker\n",
    "- \\> 0 = smoker\n",
    "\n",
    "**Smoking: Smoke Frequency**\n",
    "- 'Smoke Frequency: Not At All' : 0\n",
    "- 'Smoke Frequency: Every Day' : 2\n",
    "- 'Smoke Frequency: Some Days' : 2\n",
    "- 'PMI: Skip' : np.nan (missing)\n",
    "- 'PMI: Prefer Not To Answer' : np.nan (missing)\n",
    "- 'PMI: Dont Know' : np.nan (missing)\n",
    "\n",
    "**Smoking: 100 Cigs Lifetime**\n",
    "- '100 Cigs Lifetime: No' : 0\n",
    "- '100 Cigs Lifetime: Yes' : 2\n",
    "- 'PMI: Skip' : np.nan (missing)\n",
    "- 'PMI: Prefer Not To Answer' : np.nan (missing)\n",
    "- 'PMI: Dont Know' : np.nan (missing)\n",
    "\n",
    "**Cigar Smoking: Cigar Smoke Participant**\n",
    "- 'Cigar Smoke Participant: No' : 0\n",
    "- 'Cigar Smoke Participant: Yes' : 2\n",
    "- 'PMI: Skip' : np.nan (missing)\n",
    "- 'PMI: Prefer Not To Answer' : np.nan (missing)\n",
    "- 'PMI: Dont Know' : np.nan (missing)\n",
    "\n",
    "**Cigar Smoking: Current Cigar Frequency**\n",
    "- 'Current Cigar Frequency: Not At All' : 0\n",
    "- 'Current Cigar Frequency: Some Days' : 2\n",
    "- 'Current Cigar Frequency: Every Day' : 2\n",
    "- 'PMI: Skip' : np.nan (missing)\n",
    "- 'PMI: Prefer Not To Answer' : np.nan (missing)\n",
    "- 'PMI: Dont Know' : np.nan (missing)\n",
    "\n",
    "**Smoking: Current Daily Cigarette Number**\n",
    "- 'PMI: Dont Know' : np.nan (missing)\n",
    "- 'PMI: Skip' : np.nan (missing)\n",
    "- 'PMI: Prefer Not To Answer' : np.nan (missing)\n",
    "- 0 = nonsmoker\n",
    "- \\> 0 = smoker\n",
    "\n",
    "**Attempt Quit Smoking: Completely Quit Age**\n",
    "- quit age > AGE : 2\n",
    "- quit age < AGE : 1"
   ]
  },
  {
   "cell_type": "markdown",
   "metadata": {},
   "source": [
    "### filter survey data to smoking"
   ]
  },
  {
   "cell_type": "code",
   "execution_count": null,
   "metadata": {},
   "outputs": [],
   "source": [
    "smoking_survey = survey[survey['question'].str.contains('smoking', case = False)]\n",
    "smoking_survey['question'].unique()"
   ]
  },
  {
   "cell_type": "code",
   "execution_count": null,
   "metadata": {},
   "outputs": [],
   "source": [
    "smoking_survey = smoking_survey[~smoking_survey['question'].str.contains('serious|starting|hookah|electronic', case = False)]\n",
    "smoking_survey['question'].unique()"
   ]
  },
  {
   "cell_type": "markdown",
   "metadata": {},
   "source": [
    "### Smoking: Number Of Years"
   ]
  },
  {
   "cell_type": "code",
   "execution_count": null,
   "metadata": {},
   "outputs": [],
   "source": [
    "smoking_survey_sub = smoking_survey[smoking_survey['question'].isin(['Smoking: Number Of Years'])]\n",
    "print(smoking_survey_sub[smoking_survey_sub['answer'].str.contains('PMI')]['answer'].value_counts())\n",
    "smoking_survey_sub[~smoking_survey_sub['answer'].str.contains('PMI')]['answer'].astype(int).describe()"
   ]
  },
  {
   "cell_type": "code",
   "execution_count": null,
   "metadata": {},
   "outputs": [],
   "source": [
    "smoking_survey_sub.rename(columns = {'answer' : 'SMOKING_YEARS'}, inplace = True)\n",
    "smoking_survey_sub = smoking_survey_sub[['person_id', 'SMOKING_YEARS']]\n",
    "smoking_survey_sub['SMOKING_YEARS'] = smoking_survey_sub['SMOKING_YEARS'].replace({'PMI: Dont Know' : np.nan,\n",
    "                                                                                   'PMI: Skip' : np.nan,\n",
    "                                                                                   'PMI: Prefer Not To Answer' : np.nan})\n",
    "smoking_survey_sub['SMOKING_YEARS'] = smoking_survey_sub['SMOKING_YEARS'].astype('Int64')\n",
    "smoking_survey_sub['SMOKING_YEARS'] = smoking_survey_sub['SMOKING_YEARS'].apply(lambda x: 2 if pd.notna(x) and x > 0 else (0 if pd.notna(x) else pd.NA)).astype(\"Int64\")\n",
    "smoking_survey_sub['SMOKING_YEARS'] = smoking_survey_sub['SMOKING_YEARS'].astype('Int64')\n",
    "print(smoking_survey_sub['SMOKING_YEARS'].value_counts(dropna = False))\n",
    "print(len(smoking_survey_sub.index))\n",
    "print(len(smoking_survey_sub['person_id'].unique()))\n",
    "smoking_survey_sub.head()"
   ]
  },
  {
   "cell_type": "code",
   "execution_count": null,
   "metadata": {},
   "outputs": [],
   "source": [
    "smoking_survey_clean = smoking_survey_sub"
   ]
  },
  {
   "cell_type": "markdown",
   "metadata": {},
   "source": [
    "### smoke frequency"
   ]
  },
  {
   "cell_type": "code",
   "execution_count": null,
   "metadata": {},
   "outputs": [],
   "source": [
    "smoking_survey_sub = smoking_survey[smoking_survey['question'].isin(['Smoking: Smoke Frequency'])]\n",
    "print(smoking_survey_sub['answer'].value_counts())"
   ]
  },
  {
   "cell_type": "code",
   "execution_count": null,
   "metadata": {},
   "outputs": [],
   "source": [
    "smoking_survey_sub.rename(columns = {'answer' : 'SMOKING_FREQ'}, inplace = True)\n",
    "smoking_survey_sub = smoking_survey_sub[['person_id', 'SMOKING_FREQ']]\n",
    "smoking_survey_sub['SMOKING_FREQ'] = smoking_survey_sub['SMOKING_FREQ'].replace({'Smoke Frequency: Not At All' : 0,\n",
    "                                                                                   'Smoke Frequency: Every Day' : 2,\n",
    "                                                                                   'Smoke Frequency: Some Days' : 2,\n",
    "                                                                                   'PMI: Skip' : np.nan,\n",
    "                                                                                   'PMI: Prefer Not To Answer' : np.nan,\n",
    "                                                                                   'PMI: Dont Know' : np.nan})\n",
    "smoking_survey_sub['SMOKING_FREQ'] = smoking_survey_sub['SMOKING_FREQ'].astype('Int64')\n",
    "print(smoking_survey_sub['SMOKING_FREQ'].value_counts(dropna = False))\n",
    "print(len(smoking_survey_sub.index))\n",
    "print(len(smoking_survey_sub['person_id'].unique()))\n",
    "smoking_survey_sub.head()"
   ]
  },
  {
   "cell_type": "code",
   "execution_count": null,
   "metadata": {},
   "outputs": [],
   "source": [
    "smoking_survey_clean = smoking_survey_clean.merge(smoking_survey_sub, on = 'person_id', how = 'outer')\n",
    "smoking_survey_clean.head()"
   ]
  },
  {
   "cell_type": "markdown",
   "metadata": {},
   "source": [
    "### 100 cigs"
   ]
  },
  {
   "cell_type": "code",
   "execution_count": null,
   "metadata": {},
   "outputs": [],
   "source": [
    "smoking_survey_sub = smoking_survey[smoking_survey['question'].isin(['Smoking: 100 Cigs Lifetime'])]\n",
    "print(smoking_survey_sub['answer'].value_counts())"
   ]
  },
  {
   "cell_type": "code",
   "execution_count": null,
   "metadata": {},
   "outputs": [],
   "source": [
    "smoking_survey_sub.rename(columns = {'answer' : 'SMOKING_100_CIGS'}, inplace = True)\n",
    "smoking_survey_sub = smoking_survey_sub[['person_id', 'SMOKING_100_CIGS']]\n",
    "smoking_survey_sub['SMOKING_100_CIGS'] = smoking_survey_sub['SMOKING_100_CIGS'].replace({'100 Cigs Lifetime: No' : 0,\n",
    "                                                                                         '100 Cigs Lifetime: Yes' : 2,\n",
    "                                                                                         'PMI: Skip' : np.nan,\n",
    "                                                                                         'PMI: Prefer Not To Answer' : np.nan,\n",
    "                                                                                         'PMI: Dont Know' : np.nan})\n",
    "smoking_survey_sub['SMOKING_100_CIGS'] = smoking_survey_sub['SMOKING_100_CIGS'].astype('Int64')\n",
    "print(smoking_survey_sub['SMOKING_100_CIGS'].value_counts(dropna = False))\n",
    "print(len(smoking_survey_sub.index))\n",
    "print(len(smoking_survey_sub['person_id'].unique()))\n",
    "smoking_survey_sub.head()"
   ]
  },
  {
   "cell_type": "code",
   "execution_count": null,
   "metadata": {},
   "outputs": [],
   "source": [
    "smoking_survey_clean = smoking_survey_clean.merge(smoking_survey_sub, on = 'person_id', how = 'outer')\n",
    "smoking_survey_clean.head()"
   ]
  },
  {
   "cell_type": "markdown",
   "metadata": {},
   "source": [
    "### cigar smoke participant"
   ]
  },
  {
   "cell_type": "code",
   "execution_count": null,
   "metadata": {},
   "outputs": [],
   "source": [
    "smoking_survey_sub = smoking_survey[smoking_survey['question'].isin(['Cigar Smoking: Cigar Smoke Participant'])]\n",
    "print(smoking_survey_sub['answer'].value_counts())"
   ]
  },
  {
   "cell_type": "code",
   "execution_count": null,
   "metadata": {},
   "outputs": [],
   "source": [
    "smoking_survey_sub.rename(columns = {'answer' : 'SMOKING_CIGAR'}, inplace = True)\n",
    "smoking_survey_sub = smoking_survey_sub[['person_id', 'SMOKING_CIGAR']]\n",
    "smoking_survey_sub['SMOKING_CIGAR'] = smoking_survey_sub['SMOKING_CIGAR'].replace({'Cigar Smoke Participant: No' : 0,\n",
    "                                                                                   'Cigar Smoke Participant: Yes' : 2,\n",
    "                                                                                   'PMI: Skip' : np.nan,\n",
    "                                                                                   'PMI: Prefer Not To Answer' : np.nan,\n",
    "                                                                                   'PMI: Dont Know' : np.nan})\n",
    "smoking_survey_sub['SMOKING_CIGAR'] = smoking_survey_sub['SMOKING_CIGAR'].astype('Int64')\n",
    "print(smoking_survey_sub['SMOKING_CIGAR'].value_counts(dropna = False))\n",
    "print(len(smoking_survey_sub.index))\n",
    "print(len(smoking_survey_sub['person_id'].unique()))\n",
    "smoking_survey_sub.head()"
   ]
  },
  {
   "cell_type": "code",
   "execution_count": null,
   "metadata": {},
   "outputs": [],
   "source": [
    "smoking_survey_clean = smoking_survey_clean.merge(smoking_survey_sub, on = 'person_id', how = 'outer')\n",
    "smoking_survey_clean.head()"
   ]
  },
  {
   "cell_type": "markdown",
   "metadata": {},
   "source": [
    "### cigar freq"
   ]
  },
  {
   "cell_type": "code",
   "execution_count": null,
   "metadata": {},
   "outputs": [],
   "source": [
    "smoking_survey_sub = smoking_survey[smoking_survey['question'].isin(['Cigar Smoking: Current Cigar Frequency'])]\n",
    "print(smoking_survey_sub['answer'].value_counts())"
   ]
  },
  {
   "cell_type": "code",
   "execution_count": null,
   "metadata": {},
   "outputs": [],
   "source": [
    "smoking_survey_sub.rename(columns = {'answer' : 'SMOKING_CIGAR_FREQ'}, inplace = True)\n",
    "smoking_survey_sub = smoking_survey_sub[['person_id', 'SMOKING_CIGAR_FREQ']]\n",
    "smoking_survey_sub['SMOKING_CIGAR_FREQ'] = smoking_survey_sub['SMOKING_CIGAR_FREQ'].replace({'Current Cigar Frequency: Not At All' : 0,\n",
    "                                                                                   'Current Cigar Frequency: Some Days' : 2,\n",
    "                                                                                   'Current Cigar Frequency: Every Day' : 2,\n",
    "                                                                                   'PMI: Skip' : np.nan,\n",
    "                                                                                   'PMI: Prefer Not To Answer' : np.nan,\n",
    "                                                                                   'PMI: Dont Know' : np.nan})\n",
    "smoking_survey_sub['SMOKING_CIGAR_FREQ'] = smoking_survey_sub['SMOKING_CIGAR_FREQ'].astype('Int64')\n",
    "print(smoking_survey_sub['SMOKING_CIGAR_FREQ'].value_counts(dropna = False))\n",
    "print(len(smoking_survey_sub.index))\n",
    "print(len(smoking_survey_sub['person_id'].unique()))\n",
    "smoking_survey_sub.head()"
   ]
  },
  {
   "cell_type": "code",
   "execution_count": null,
   "metadata": {},
   "outputs": [],
   "source": [
    "smoking_survey_clean = smoking_survey_clean.merge(smoking_survey_sub, on = 'person_id', how = 'outer')\n",
    "smoking_survey_clean.head()"
   ]
  },
  {
   "cell_type": "markdown",
   "metadata": {},
   "source": [
    "### daily cig number"
   ]
  },
  {
   "cell_type": "code",
   "execution_count": null,
   "metadata": {},
   "outputs": [],
   "source": [
    "smoking_survey_sub = smoking_survey[smoking_survey['question'].isin(['Smoking: Current Daily Cigarette Number'])]\n",
    "print(smoking_survey_sub[smoking_survey_sub['answer'].str.contains('PMI')]['answer'].value_counts())\n",
    "smoking_survey_sub[~smoking_survey_sub['answer'].str.contains('PMI')]['answer'].astype(int).describe()"
   ]
  },
  {
   "cell_type": "code",
   "execution_count": null,
   "metadata": {},
   "outputs": [],
   "source": [
    "smoking_survey_sub.rename(columns = {'answer' : 'SMOKING_CIG_DAILY'}, inplace = True)\n",
    "smoking_survey_sub = smoking_survey_sub[['person_id', 'SMOKING_CIG_DAILY']]\n",
    "smoking_survey_sub['SMOKING_CIG_DAILY'] = smoking_survey_sub['SMOKING_CIG_DAILY'].replace({'PMI: Dont Know' : np.nan,\n",
    "                                                                                   'PMI: Skip' : np.nan,\n",
    "                                                                                   'PMI: Prefer Not To Answer' : np.nan})\n",
    "smoking_survey_sub['SMOKING_CIG_DAILY'] = smoking_survey_sub['SMOKING_CIG_DAILY'].astype('Int64')\n",
    "smoking_survey_sub['SMOKING_CIG_DAILY'] = smoking_survey_sub['SMOKING_CIG_DAILY'].apply(lambda x: 2 if pd.notna(x) and x > 0 else (0 if pd.notna(x) else pd.NA)).astype(\"Int64\")\n",
    "smoking_survey_sub['SMOKING_CIG_DAILY'] = smoking_survey_sub['SMOKING_CIG_DAILY'].astype('Int64')\n",
    "print(smoking_survey_sub['SMOKING_CIG_DAILY'].value_counts(dropna = False))\n",
    "print(len(smoking_survey_sub.index))\n",
    "print(len(smoking_survey_sub['person_id'].unique()))\n",
    "smoking_survey_sub.head()"
   ]
  },
  {
   "cell_type": "code",
   "execution_count": null,
   "metadata": {},
   "outputs": [],
   "source": [
    "smoking_survey_clean = smoking_survey_clean.merge(smoking_survey_sub, on = 'person_id', how = 'outer')\n",
    "smoking_survey_clean.head()"
   ]
  },
  {
   "cell_type": "markdown",
   "metadata": {},
   "source": [
    "### age completely quit smoking"
   ]
  },
  {
   "cell_type": "code",
   "execution_count": null,
   "metadata": {},
   "outputs": [],
   "source": [
    "smoking_survey_sub = smoking_survey[smoking_survey['question'].isin(['Attempt Quit Smoking: Completely Quit Age'])]\n",
    "print(smoking_survey_sub[smoking_survey_sub['answer'].str.contains('PMI')]['answer'].value_counts())\n",
    "smoking_survey_sub[~smoking_survey_sub['answer'].str.contains('PMI')]['answer'].astype(int).describe()"
   ]
  },
  {
   "cell_type": "code",
   "execution_count": null,
   "metadata": {},
   "outputs": [],
   "source": [
    "print(len(smoking_survey_sub.index))\n",
    "print(len(smoking_survey_sub['person_id'].unique()))"
   ]
  },
  {
   "cell_type": "code",
   "execution_count": null,
   "metadata": {},
   "outputs": [],
   "source": [
    "smoking_survey_age = age_df.merge(smoking_survey_sub, on = 'person_id', how = 'inner')\n",
    "print(len(smoking_survey_age.index))"
   ]
  },
  {
   "cell_type": "code",
   "execution_count": null,
   "metadata": {},
   "outputs": [],
   "source": [
    "smoking_survey_age = smoking_survey_age[['person_id', 'answer', 'AGE']]\n",
    "smoking_survey_age['answer'] = smoking_survey_age['answer'].replace({'PMI: Dont Know' : np.nan,\n",
    "                                                                                   'PMI: Skip' : np.nan,\n",
    "                                                                                   'PMI: Prefer Not To Answer' : np.nan})\n",
    "smoking_survey_age['answer'] = smoking_survey_age['answer'].astype('Int64')\n",
    "smoking_survey_age_no_missing = smoking_survey_age[smoking_survey_age['answer'].isna() == False]\n",
    "smoking_survey_age_missing = smoking_survey_age[smoking_survey_age['answer'].isna() == True]\n",
    "smoking_survey_age_missing['SMOKING_QUIT_AGE'] = np.nan\n",
    "smoking_survey_age_no_missing['SMOKING_QUIT_AGE'] = np.where(smoking_survey_age_no_missing['answer'] < smoking_survey_age_no_missing['AGE'], 1, 2)\n",
    "smoking_survey_age_no_missing['SMOKING_QUIT_AGE'] = smoking_survey_age_no_missing['SMOKING_QUIT_AGE'].astype('Int64')\n",
    "smoking_survey_age = pd.concat([smoking_survey_age_no_missing, smoking_survey_age_missing])\n",
    "smoking_survey_age.drop(columns = ['answer', 'AGE'], inplace = True)\n",
    "print(smoking_survey_age['SMOKING_QUIT_AGE'].value_counts(dropna = False))\n",
    "print(len(smoking_survey_age.index))\n",
    "print(len(smoking_survey_age['person_id'].unique()))\n",
    "smoking_survey_age.head()"
   ]
  },
  {
   "cell_type": "code",
   "execution_count": null,
   "metadata": {},
   "outputs": [],
   "source": [
    "smoking_survey_clean = smoking_survey_clean.merge(smoking_survey_age, on = 'person_id', how = 'outer')\n",
    "smoking_survey_clean.head()"
   ]
  },
  {
   "cell_type": "markdown",
   "metadata": {},
   "source": [
    "### create combined column"
   ]
  },
  {
   "cell_type": "code",
   "execution_count": null,
   "metadata": {},
   "outputs": [],
   "source": [
    "former_smoker = smoking_obs_clean[smoking_obs_clean['SMOKING_QUIT_AGE'] == 1]\n",
    "print(len(former_smoker.index))\n",
    "print(former_smoker['SMOKING_QUIT_AGE'].value_counts(dropna = False))\n",
    "former_smoker['SMOKING_SURVEY'] = 1"
   ]
  },
  {
   "cell_type": "code",
   "execution_count": null,
   "metadata": {},
   "outputs": [],
   "source": [
    "smoking_cols = [col for col in smoking_survey_clean.columns if col.startswith('SMOKING_')]\n",
    "print(smoking_cols)\n",
    "no_former_smoker = smoking_survey_clean[~smoking_survey_clean['person_id'].isin(former_smoker['person_id'])]\n",
    "print(len(no_former_smoker.index))\n",
    "no_former_smoker['SMOKING_SURVEY'] = no_former_smoker[smoking_cols].sum(axis=1)\n",
    "print(no_former_smoker['SMOKING_SURVEY'].value_counts(dropna = False))\n",
    "no_former_smoker.head()"
   ]
  },
  {
   "cell_type": "code",
   "execution_count": null,
   "metadata": {},
   "outputs": [],
   "source": [
    "no_former_smoker['SMOKING_SURVEY'] = np.where(no_former_smoker['SMOKING_SURVEY']> 0, 2, 0)\n",
    "no_former_smoker['SMOKING_SURVEY'] = no_former_smoker['SMOKING_SURVEY'].astype('Int64')\n",
    "print(no_former_smoker['SMOKING_SURVEY'].value_counts(dropna = False))"
   ]
  },
  {
   "cell_type": "code",
   "execution_count": null,
   "metadata": {},
   "outputs": [],
   "source": [
    "smoking_survey_clean_final = pd.concat([no_former_smoker, former_smoker], axis = 0)\n",
    "print(len(smoking_survey_clean_final.index))\n",
    "smoking_survey_clean_final['SMOKING_SURVEY'].value_counts(dropna = False)"
   ]
  },
  {
   "cell_type": "code",
   "execution_count": null,
   "metadata": {},
   "outputs": [],
   "source": [
    "smoking_survey_clean_sub = smoking_survey_clean_final[['person_id', 'SMOKING_SURVEY']]\n",
    "smoking_survey_clean_sub.head()"
   ]
  },
  {
   "cell_type": "markdown",
   "metadata": {},
   "source": [
    "### merge"
   ]
  },
  {
   "cell_type": "code",
   "execution_count": null,
   "metadata": {},
   "outputs": [],
   "source": [
    "smoking_obs_survey = smoking_obs_clean_sub.merge(smoking_survey_clean_sub, on = 'person_id', how = 'left')\n",
    "print(len(smoking_obs_survey.index))\n",
    "print(smoking_obs_survey[['SMOKING','SMOKING_SURVEY']].value_counts(dropna = False))\n",
    "smoking_obs_survey.head()"
   ]
  },
  {
   "cell_type": "code",
   "execution_count": null,
   "metadata": {},
   "outputs": [],
   "source": [
    "smoking_obs_survey.rename(columns = {'SMOKING' : 'SMOKING_OBS'}, inplace = True)"
   ]
  },
  {
   "cell_type": "code",
   "execution_count": null,
   "metadata": {},
   "outputs": [],
   "source": [
    "former_smoker = smoking_obs_survey[((smoking_obs_survey['SMOKING_OBS'] == 1) | (smoking_obs_survey['SMOKING_OBS'].isna() == True)) & ((smoking_obs_survey['SMOKING_SURVEY'] == 1) | (smoking_obs_survey['SMOKING_SURVEY'].isna() == True) | (smoking_obs_survey['SMOKING_SURVEY'] == 0))]\n",
    "print(len(former_smoker.index))\n",
    "former_smoker['SMOKING'] = 1\n",
    "former_smoker[['SMOKING_OBS','SMOKING_SURVEY']].value_counts(dropna = False)"
   ]
  },
  {
   "cell_type": "code",
   "execution_count": null,
   "metadata": {},
   "outputs": [],
   "source": [
    "nonsmoker = smoking_obs_survey[((smoking_obs_survey['SMOKING_OBS'] == 0) | (smoking_obs_survey['SMOKING_OBS'].isna() == True)) & ((smoking_obs_survey['SMOKING_SURVEY'] == 0) | (smoking_obs_survey['SMOKING_SURVEY'].isna() == True))]\n",
    "print(len(nonsmoker.index))\n",
    "nonsmoker['SMOKING'] = 0\n",
    "nonsmoker[['SMOKING_OBS','SMOKING_SURVEY']].value_counts(dropna = False)"
   ]
  },
  {
   "cell_type": "code",
   "execution_count": null,
   "metadata": {},
   "outputs": [],
   "source": [
    "current_smoker = smoking_obs_survey[~smoking_obs_survey['person_id'].isin(former_smoker['person_id'])]\n",
    "current_smoker = current_smoker[~current_smoker['person_id'].isin(nonsmoker['person_id'])]\n",
    "current_smoker['SMOKING'] = 2\n",
    "print(len(current_smoker.index))"
   ]
  },
  {
   "cell_type": "code",
   "execution_count": null,
   "metadata": {},
   "outputs": [],
   "source": [
    "smoking_final = pd.concat([former_smoker, nonsmoker, current_smoker], axis = 0)\n",
    "smoking_final = smoking_final[['person_id', 'SMOKING']]\n",
    "print(len(smoking_final.index))\n",
    "smoking_final['SMOKING'].value_counts(dropna = False)"
   ]
  },
  {
   "cell_type": "markdown",
   "metadata": {},
   "source": [
    "### merge"
   ]
  },
  {
   "cell_type": "code",
   "execution_count": null,
   "metadata": {},
   "outputs": [],
   "source": [
    "hf_smoking = hf_education_obs.drop(columns = ['SMOKING'])\n",
    "hf_smoking = hf_smoking.merge(smoking_final, on = 'person_id', how = 'left')\n",
    "print(len(hf_smoking.index))\n",
    "print(hf_smoking['SMOKING'].isna().sum())"
   ]
  },
  {
   "cell_type": "markdown",
   "metadata": {},
   "source": [
    "## income"
   ]
  },
  {
   "cell_type": "markdown",
   "metadata": {},
   "source": [
    "### encoding\n",
    "**Income: Annual Income**\n",
    "- 'PMI: Prefer Not To Answer' : np.nan\n",
    "- 'PMI: Skip' : np.nan\n",
    "- 'Annual Income: less 10k' : 0\n",
    "- 'Annual Income: 10k 25k' : 1\n",
    "- 'Annual Income: 25k 35k' : 2\n",
    "- 'Annual Income: 35k 50k' : 3\n",
    "- 'Annual Income: 50k 75k' : 4\n",
    "- 'Annual Income: 75k 100k' : 5\n",
    "- 'Annual Income: 100k 150k' : 6\n",
    "- 'Annual Income: 150k 200k' : 7\n",
    "- 'Annual Income: more 200k' : 8"
   ]
  },
  {
   "cell_type": "markdown",
   "metadata": {},
   "source": [
    "### filter survey data to income"
   ]
  },
  {
   "cell_type": "code",
   "execution_count": null,
   "metadata": {},
   "outputs": [],
   "source": [
    "income_survey = survey[survey['question'].str.contains('income', case = False)]\n",
    "income_survey['question'].unique()"
   ]
  },
  {
   "cell_type": "markdown",
   "metadata": {},
   "source": [
    "### annual income"
   ]
  },
  {
   "cell_type": "code",
   "execution_count": null,
   "metadata": {},
   "outputs": [],
   "source": [
    "income_survey_sub = income_survey[income_survey['question'].isin(['Income: Annual Income'])]\n",
    "income_survey_sub['answer'].value_counts()"
   ]
  },
  {
   "cell_type": "code",
   "execution_count": null,
   "metadata": {},
   "outputs": [],
   "source": [
    "income_survey_sub.rename(columns = {'answer' : 'INCOME_ANNUAL_SURVEY'}, inplace = True)\n",
    "income_survey_sub = income_survey_sub[['person_id', 'INCOME_ANNUAL_SURVEY']]\n",
    "income_survey_sub['INCOME_ANNUAL_SURVEY'] = income_survey_sub['INCOME_ANNUAL_SURVEY'].replace({'PMI: Prefer Not To Answer' : np.nan,\n",
    "                                                                                               'PMI: Skip' : np.nan,\n",
    "                                                                                               'Annual Income: less 10k' : 0,\n",
    "                                                                                               'Annual Income: 10k 25k' : 1,\n",
    "                                                                                               'Annual Income: 25k 35k' : 2,\n",
    "                                                                                               'Annual Income: 35k 50k' : 3,\n",
    "                                                                                               'Annual Income: 50k 75k' : 4,\n",
    "                                                                                               'Annual Income: 75k 100k' : 5,\n",
    "                                                                                               'Annual Income: 100k 150k' : 6,\n",
    "                                                                                               'Annual Income: 150k 200k' : 7,\n",
    "                                                                                               'Annual Income: more 200k' : 8})\n",
    "income_survey_sub['INCOME_ANNUAL_SURVEY'] = income_survey_sub['INCOME_ANNUAL_SURVEY'].astype('Int64')\n",
    "income_survey_sub['INCOME_ANNUAL_SURVEY'] = income_survey_sub['INCOME_ANNUAL_SURVEY'].astype('Int64')\n",
    "print(income_survey_sub['INCOME_ANNUAL_SURVEY'].value_counts(dropna = False))\n",
    "print(len(income_survey_sub.index))\n",
    "print(len(income_survey_sub['person_id'].unique()))\n",
    "income_survey_sub.head()"
   ]
  },
  {
   "cell_type": "code",
   "execution_count": null,
   "metadata": {},
   "outputs": [],
   "source": [
    "income_survey_clean = income_survey_sub"
   ]
  },
  {
   "cell_type": "markdown",
   "metadata": {},
   "source": [
    "### merge"
   ]
  },
  {
   "cell_type": "code",
   "execution_count": null,
   "metadata": {},
   "outputs": [],
   "source": [
    "hf_income_survey = hf_smoking.merge(income_survey_clean, on = 'person_id', how = 'left')\n",
    "print(len(hf_income_survey.index))\n",
    "print(hf_income_survey['INCOME_ANNUAL_SURVEY'].value_counts(dropna = False))\n",
    "hf_income_survey.head()"
   ]
  },
  {
   "cell_type": "markdown",
   "metadata": {},
   "source": [
    "## education"
   ]
  },
  {
   "cell_type": "markdown",
   "metadata": {},
   "source": [
    "### encoding\n",
    "**Education Level: Highest Grade**\n",
    "- 'Highest Grade: Never Attended' : 0\n",
    "- 'Highest Grade: One Through Four' : 1\n",
    "- 'Highest Grade: Five Through Eight' : 2\n",
    "- 'Highest Grade: Nine Through Eleven' : 3\n",
    "- 'Highest Grade: Twelve Or GED' : 4\n",
    "- 'Highest Grade: College One to Three' : 5\n",
    "- 'Highest Grade: College Graduate' : 6\n",
    "- 'Highest Grade: Advanced Degree' : 7\n",
    "- 'PMI: Skip' : np.nan\n",
    "- 'PMI: Prefer Not To Answer' : np.nan"
   ]
  },
  {
   "cell_type": "markdown",
   "metadata": {},
   "source": [
    "### filter survey data to education"
   ]
  },
  {
   "cell_type": "code",
   "execution_count": null,
   "metadata": {},
   "outputs": [],
   "source": [
    "education_survey = survey[survey['question'].str.contains('education', case = False)]\n",
    "education_survey['question'].unique()"
   ]
  },
  {
   "cell_type": "markdown",
   "metadata": {},
   "source": [
    "### highest level education"
   ]
  },
  {
   "cell_type": "code",
   "execution_count": null,
   "metadata": {},
   "outputs": [],
   "source": [
    "education_survey_sub = education_survey[education_survey['question'].isin(['Education Level: Highest Grade'])]\n",
    "education_survey_sub['answer'].value_counts()"
   ]
  },
  {
   "cell_type": "code",
   "execution_count": null,
   "metadata": {},
   "outputs": [],
   "source": [
    "education_survey_sub.rename(columns = {'answer' : 'EDUCATION_HIGHEST_SURVEY'}, inplace = True)\n",
    "education_survey_sub = education_survey_sub[['person_id', 'EDUCATION_HIGHEST_SURVEY']]\n",
    "education_survey_sub['EDUCATION_HIGHEST_SURVEY'] = education_survey_sub['EDUCATION_HIGHEST_SURVEY'].replace({'Highest Grade: Never Attended' : 0,\n",
    "                                                                                                             'Highest Grade: One Through Four' : 1,\n",
    "                                                                                                             'Highest Grade: Five Through Eight' : 2,\n",
    "                                                                                                             'Highest Grade: Nine Through Eleven' : 3,\n",
    "                                                                                                             'Highest Grade: Twelve Or GED' : 4,\n",
    "                                                                                                             'Highest Grade: College One to Three' : 5,\n",
    "                                                                                                             'Highest Grade: College Graduate' : 6,\n",
    "                                                                                                             'Highest Grade: Advanced Degree' : 7,\n",
    "                                                                                                             'PMI: Skip' : np.nan,\n",
    "                                                                                                             'PMI: Prefer Not To Answer' : np.nan})\n",
    "education_survey_sub['EDUCATION_HIGHEST_SURVEY'] = education_survey_sub['EDUCATION_HIGHEST_SURVEY'].astype('Int64')\n",
    "print(education_survey_sub['EDUCATION_HIGHEST_SURVEY'].value_counts(dropna = False))\n",
    "print(len(education_survey_sub.index))\n",
    "print(len(education_survey_sub['person_id'].unique()))\n",
    "education_survey_sub.head()"
   ]
  },
  {
   "cell_type": "code",
   "execution_count": null,
   "metadata": {},
   "outputs": [],
   "source": [
    "education_survey_clean = education_survey_sub"
   ]
  },
  {
   "cell_type": "markdown",
   "metadata": {},
   "source": [
    "### merge"
   ]
  },
  {
   "cell_type": "code",
   "execution_count": null,
   "metadata": {},
   "outputs": [],
   "source": [
    "hf_education_survey = hf_income_survey.merge(education_survey_clean, on = 'person_id', how = 'left')\n",
    "print(len(hf_education_survey.index))\n",
    "print(hf_education_survey['EDUCATION_HIGHEST_SURVEY'].value_counts(dropna = False))\n",
    "hf_education_survey.head()"
   ]
  },
  {
   "cell_type": "markdown",
   "metadata": {},
   "source": [
    "## neighborhood"
   ]
  },
  {
   "cell_type": "markdown",
   "metadata": {},
   "source": [
    "### encoding\n",
    "**What is the main type of housing in your neighborhood?**\n",
    "- 'Detached single-family housing' : 4\n",
    "- 'Mix of single-family residences and townhouses' : 2\n",
    "- 'Townhouses' : 3\n",
    "- 'Apartments or condos of 4-12 stories' : 1\n",
    "- 'Apartments or condos of more than 12 stories' : 0\n",
    "- 'PMI: Dont Know' : np.nan\n",
    "- 'PMI: Skip' : np.nan\n",
    "\n",
    "**How much you agree or disagree that your neighborhood is safe?**\n",
    "- 'Agree' : 2,\n",
    "- 'Strongly agree' : 3,\n",
    "- 'Disagree' : 1,\n",
    "- 'PMI: Skip' : np.nan,\n",
    "- 'Strongly disagree' : 0\n",
    "\n",
    "**How much you agree or disagree that your neighborhood is clean?**\n",
    "- 'Agree' : 2\n",
    "- 'Strongly agree' : 3\n",
    "- 'Disagree' : 1\n",
    "- 'PMI: Skip': np.nan,\n",
    "- 'Strongly disagree' : 0\n",
    "\n",
    "**How much you agree or disagree that your neighborhood is noisy?**\n",
    "- 'Agree' : 1,\n",
    "- 'Strongly agree' : 0,\n",
    "- 'Disagree' : 2,\n",
    "- 'PMI: Skip': np.nan,\n",
    "- 'Strongly disagree' : 3\n",
    "\n",
    "**How much you agree or disagree that vandalism is common in your neighborhood?**\n",
    "- 'Agree' : 1,\n",
    "- 'Strongly agree' : 0,\n",
    "- 'Disagree' : 2,\n",
    "- 'PMI: Skip': np.nan,\n",
    "- 'Strongly disagree' : 3\n",
    "\n",
    "**How much you agree or disagree that people in your neighborhood can be trusted?**\n",
    "- 'Agree' : 3,\n",
    "- 'Neutral (neither agree nor disagree)' : 2,\n",
    "- 'Strongly agree' : 4,\n",
    "- 'Disagree' : 1\n",
    "- 'PMI: Skip' : np.nan,\n",
    "- 'Strongly disagree' : 0\n",
    "\n",
    "**How much you agree or disagree that there is a lot of crime in your neighborhood?**\n",
    "- 'Agree' : 1,\n",
    "- 'Strongly agree' : 0,\n",
    "- 'Disagree' : 2,\n",
    "- 'PMI: Skip': np.nan,\n",
    "- 'Strongly disagree' : 3\n",
    "\n",
    "**How much you agree or disagree that there is a lot of graffiti in your neighborhood?**\n",
    "- 'Agree' : 1,\n",
    "- 'Strongly agree' : 0,\n",
    "- 'Disagree' : 2,\n",
    "- 'PMI: Skip': np.nan,\n",
    "- 'Strongly disagree' : 3\n",
    "\n",
    "**How much you agree or disagree that there is too much drug use in your neighborhood?**\n",
    "- 'Agree' : 1,\n",
    "- 'Strongly agree' : 0,\n",
    "- 'Disagree' : 2,\n",
    "- 'PMI: Skip': np.nan,\n",
    "- 'Strongly disagree' : 3\n",
    "\n",
    "**How much you agree or disagree that people in your neighborhood share the same values?**\n",
    "- 'Agree' : 3,\n",
    "- 'Neutral (neither agree nor disagree)' : 2,\n",
    "- 'Strongly agree' : 4,\n",
    "- 'Disagree' : 1,\n",
    "- 'PMI: Skip' : np.nan,\n",
    "- 'Strongly disagree' : 0\n",
    "\n",
    "**How much you agree or disagree that there is too much alcohol use in your neighborhood?**\n",
    "- 'Agree' : 1,\n",
    "- 'Strongly agree' : 0,\n",
    "- 'Disagree' : 2,\n",
    "- 'PMI: Skip': np.nan,\n",
    "- 'Strongly disagree' : 3\n",
    "\n",
    "**There are sidewalks on most of the streets in my neighborhood. Would you say that you...**\n",
    "- 'Strongly agree' : 3,\n",
    "- 'Strongly disagree' : 0,\n",
    "- 'Somewhat agree' : 2,\n",
    "- 'Somewhat disagree' : 1,\n",
    "- 'Does not apply to my neighborhood' : np.nan\n",
    "- 'PMI: Skip': np.nan,\n",
    "- 'PMI: Dont Know': np.nan\n",
    "\n",
    "**How much you agree or disagree that in your neighborhood people watch out for each other?**\n",
    "- 'Agree' : 3,\n",
    "- 'Neutral (neither agree nor disagree)' : 2,\n",
    "- 'Strongly agree' : 4,\n",
    "- 'Disagree' : 1,\n",
    "- 'PMI: Skip' : np.nan,\n",
    "- 'Strongly disagree' : 0\n",
    "\n",
    "**How much you agree or disagree that there are lot of abandoned buildings in your neighborhood?**\n",
    "- 'Agree' : 1,\n",
    "- 'Strongly agree' : 0,\n",
    "- 'Disagree' : 2,\n",
    "- 'PMI: Skip': np.nan,\n",
    "- 'Strongly disagree' : 3\n",
    "\n",
    "**How much you agree or disagree that people in your neighborhood generally get along with each other?**\n",
    "- 'Agree' : 3,\n",
    "- 'Neutral (neither agree nor disagree)' : 2,\n",
    "- 'Strongly agree' : 4,\n",
    "- 'Disagree' : 1,\n",
    "- 'PMI: Skip' : np.nan,\n",
    "- 'Strongly disagree' : 0\n",
    "\n",
    "**The crime rate in my neighborhood makes it unsafe to go on walks at night. Would you say that you...**\n",
    "- 'Strongly agree' : 0,\n",
    "- 'Strongly disagree' : 3,\n",
    "- 'Somewhat agree' : 1,\n",
    "- 'Somewhat disagree' : 2,\n",
    "- 'PMI: Skip': np.nan,\n",
    "- 'PMI: Dont Know': np.nan\n",
    "\n",
    "**The crime rate in my neighborhood makes it unsafe to go on walks during the day. Would you say that you...**\n",
    "- 'Strongly agree' : 0,\n",
    "- 'Strongly disagree' : 3,\n",
    "- 'Somewhat agree' : 1,\n",
    "- 'Somewhat disagree' : 2,\n",
    "- 'PMI: Skip': np.nan,\n",
    "- 'PMI: Dont Know': np.nan\n",
    "\n",
    "**How much you agree or disagree that people in your neighborhood take good care of their houses and apartments?**\n",
    "- 'Agree' : 2,\n",
    "- 'Strongly agree' : 3,\n",
    "- 'Disagree' : 1,\n",
    "- 'PMI: Skip': np.nan,\n",
    "- 'Strongly disagree' : 0\n",
    "\n",
    "**There are facilities to bicycle in or near my neighborhood, such as special lanes, separate paths or trails, or shared use paths for cycles and pedestrians. Would you say that you...**\n",
    "- 'Strongly agree' : 3,\n",
    "- 'Strongly disagree' : 0,\n",
    "- 'Somewhat agree' : 2,\n",
    "- 'Somewhat disagree' : 1,\n",
    "- 'Does not apply to my neighborhood' : np.nan,\n",
    "- 'PMI: Skip': np.nan,\n",
    "- 'PMI: Dont Know': np.nan\n",
    "\n",
    "**My neighborhood has several free or low-cost recreation facilities, such as parks, walking trails, bike paths, recreation centers, playgrounds, public swimming pools, etc. Would you say that you...**\n",
    "- 'Strongly agree' : 3,\n",
    "- 'Strongly disagree' : 0,\n",
    "- 'Somewhat agree' : 2,\n",
    "- 'Somewhat disagree' : 1,\n",
    "- 'PMI: Skip': np.nan,\n",
    "- 'PMI: Dont Know': np.nan\n",
    "\n",
    "**How much you agree or disagree that there are too many people hanging around on the streets near your home?**\n",
    "- 'Strongly disagree' : 3,\n",
    "- 'Disagree' : 2,\n",
    "- 'Agree' : 1,\n",
    "- 'PMI: Skip' : np.nan,\n",
    "- 'Strongly agree' : 0\n",
    "\n",
    "**How much you agree or disagree that you are always having trouble with your neighbors?**\n",
    "- 'Strongly disagree' : 3,\n",
    "- 'Disagree' : 2,\n",
    "- 'PMI: Skip' : np.nan,\n",
    "- 'Agree' : 1,\n",
    "- 'Strongly agree' : 0\n",
    "\n",
    "**Many shops, stores, markets or other places to buy things I need are within easy walking distance of my home. Would you say that you...**\n",
    "- 'Strongly disagree' : 0,\n",
    "- 'Strongly agree' : 3,\n",
    "- 'Somewhat agree' : 2,\n",
    "- 'Somewhat disagree' : 1,\n",
    "- 'PMI: Skip' : np.nan,\n",
    "- 'PMI: Dont Know': np.nan\n",
    "\n",
    "**It is within a 10-15 minute walk to a transit stop (such as bus, train, trolley, or tram) from my home. Would you say that you...**\n",
    "- 'Strongly disagree' : 0,\n",
    "- 'Strongly agree' : 3,\n",
    "- 'Somewhat agree' : 2,\n",
    "- 'Somewhat disagree' : 1,\n",
    "- 'PMI: Skip' : np.nan\n",
    "- 'PMI: Dont Know': np.nan"
   ]
  },
  {
   "cell_type": "markdown",
   "metadata": {},
   "source": [
    "### filter survey data to neighborhood"
   ]
  },
  {
   "cell_type": "code",
   "execution_count": null,
   "metadata": {},
   "outputs": [],
   "source": [
    "neighbor_survey = survey[survey['question'].str.contains('neighbor|transit|store|street', case = False)]\n",
    "neighbor_survey['question'].unique()"
   ]
  },
  {
   "cell_type": "markdown",
   "metadata": {},
   "source": [
    "### type of housing"
   ]
  },
  {
   "cell_type": "code",
   "execution_count": null,
   "metadata": {},
   "outputs": [],
   "source": [
    "neighbor_survey_sub = neighbor_survey[neighbor_survey['question'].isin(['What is the main type of housing in your neighborhood?'])]\n",
    "neighbor_survey_sub['answer'].value_counts()"
   ]
  },
  {
   "cell_type": "code",
   "execution_count": null,
   "metadata": {},
   "outputs": [],
   "source": [
    "neighbor_survey_sub.rename(columns = {'answer' : 'NEIGHBORHOOD_HOUSING_SURVEY'}, inplace = True)\n",
    "neighbor_survey_sub = neighbor_survey_sub[['person_id', 'NEIGHBORHOOD_HOUSING_SURVEY']]\n",
    "neighbor_survey_sub['NEIGHBORHOOD_HOUSING_SURVEY'] = neighbor_survey_sub['NEIGHBORHOOD_HOUSING_SURVEY'].replace({'Detached single-family housing' : 4,\n",
    "                                                                                                                 'Mix of single-family residences and townhouses' : 2,\n",
    "                                                                                                                 'Townhouses' : 3,\n",
    "                                                                                                                 'Apartments or condos of 4-12 stories' : 1,\n",
    "                                                                                                                 'Apartments or condos of more than 12 stories' : 0,\n",
    "                                                                                                                 'PMI: Dont Know' : np.nan,\n",
    "                                                                                                                 'PMI: Skip' : np.nan})\n",
    "neighbor_survey_sub['NEIGHBORHOOD_HOUSING_SURVEY'] = neighbor_survey_sub['NEIGHBORHOOD_HOUSING_SURVEY'].astype('Int64')\n",
    "print(neighbor_survey_sub['NEIGHBORHOOD_HOUSING_SURVEY'].value_counts(dropna = False))\n",
    "print(len(neighbor_survey_sub.index))\n",
    "print(len(neighbor_survey_sub['person_id'].unique()))\n",
    "neighbor_survey_sub.head()"
   ]
  },
  {
   "cell_type": "code",
   "execution_count": null,
   "metadata": {},
   "outputs": [],
   "source": [
    "neighbor_survey_clean = neighbor_survey_sub"
   ]
  },
  {
   "cell_type": "markdown",
   "metadata": {},
   "source": [
    "### safe"
   ]
  },
  {
   "cell_type": "code",
   "execution_count": null,
   "metadata": {},
   "outputs": [],
   "source": [
    "neighbor_survey_sub = neighbor_survey[neighbor_survey['question'].isin(['How much you agree or disagree that your neighborhood is safe?'])]\n",
    "neighbor_survey_sub['answer'].value_counts()"
   ]
  },
  {
   "cell_type": "code",
   "execution_count": null,
   "metadata": {},
   "outputs": [],
   "source": [
    "neighbor_survey_sub.rename(columns = {'answer' : 'NEIGHBORHOOD_SAFE_SURVEY'}, inplace = True)\n",
    "neighbor_survey_sub = neighbor_survey_sub[['person_id', 'NEIGHBORHOOD_SAFE_SURVEY']]\n",
    "neighbor_survey_sub['NEIGHBORHOOD_SAFE_SURVEY'] = neighbor_survey_sub['NEIGHBORHOOD_SAFE_SURVEY'].replace({'Agree' : 2,\n",
    "                                                                                                           'Strongly agree' : 3,\n",
    "                                                                                                           'Disagree' : 1,\n",
    "                                                                                                           'PMI: Skip' : np.nan,\n",
    "                                                                                                           'Strongly disagree' : 0})\n",
    "neighbor_survey_sub['NEIGHBORHOOD_SAFE_SURVEY'] = neighbor_survey_sub['NEIGHBORHOOD_SAFE_SURVEY'].astype('Int64')\n",
    "print(neighbor_survey_sub['NEIGHBORHOOD_SAFE_SURVEY'].value_counts(dropna = False))\n",
    "print(len(neighbor_survey_sub.index))\n",
    "print(len(neighbor_survey_sub['person_id'].unique()))\n",
    "neighbor_survey_sub.head()"
   ]
  },
  {
   "cell_type": "code",
   "execution_count": null,
   "metadata": {},
   "outputs": [],
   "source": [
    "neighbor_survey_clean = neighbor_survey_clean.merge(neighbor_survey_sub, on = 'person_id', how = 'outer')\n",
    "neighbor_survey_clean.head()"
   ]
  },
  {
   "cell_type": "markdown",
   "metadata": {},
   "source": [
    "### clean"
   ]
  },
  {
   "cell_type": "code",
   "execution_count": null,
   "metadata": {},
   "outputs": [],
   "source": [
    "neighbor_survey_sub = neighbor_survey[neighbor_survey['question'].isin(['How much you agree or disagree that your neighborhood is clean?'])]\n",
    "neighbor_survey_sub['answer'].value_counts()"
   ]
  },
  {
   "cell_type": "code",
   "execution_count": null,
   "metadata": {},
   "outputs": [],
   "source": [
    "neighbor_survey_sub.rename(columns = {'answer' : 'NEIGHBORHOOD_CLEAN_SURVEY'}, inplace = True)\n",
    "neighbor_survey_sub = neighbor_survey_sub[['person_id', 'NEIGHBORHOOD_CLEAN_SURVEY']]\n",
    "neighbor_survey_sub['NEIGHBORHOOD_CLEAN_SURVEY'] = neighbor_survey_sub['NEIGHBORHOOD_CLEAN_SURVEY'].replace({'Agree' : 2,\n",
    "                                                                                                           'Strongly agree' : 3,\n",
    "                                                                                                           'Disagree' : 1,\n",
    "                                                                                                           'PMI: Skip': np.nan,\n",
    "                                                                                                           'Strongly disagree' : 0})\n",
    "neighbor_survey_sub['NEIGHBORHOOD_CLEAN_SURVEY'] = neighbor_survey_sub['NEIGHBORHOOD_CLEAN_SURVEY'].astype('Int64')\n",
    "print(neighbor_survey_sub['NEIGHBORHOOD_CLEAN_SURVEY'].value_counts(dropna = False))\n",
    "print(len(neighbor_survey_sub.index))\n",
    "print(len(neighbor_survey_sub['person_id'].unique()))\n",
    "neighbor_survey_sub.head()"
   ]
  },
  {
   "cell_type": "code",
   "execution_count": null,
   "metadata": {},
   "outputs": [],
   "source": [
    "neighbor_survey_clean = neighbor_survey_clean.merge(neighbor_survey_sub, on = 'person_id', how = 'outer')\n",
    "neighbor_survey_clean.head()"
   ]
  },
  {
   "cell_type": "markdown",
   "metadata": {},
   "source": [
    "### noisy"
   ]
  },
  {
   "cell_type": "code",
   "execution_count": null,
   "metadata": {},
   "outputs": [],
   "source": [
    "neighbor_survey_sub = neighbor_survey[neighbor_survey['question'].isin(['How much you agree or disagree that your neighborhood is noisy?'])]\n",
    "neighbor_survey_sub['answer'].value_counts()"
   ]
  },
  {
   "cell_type": "code",
   "execution_count": null,
   "metadata": {},
   "outputs": [],
   "source": [
    "neighbor_survey_sub.rename(columns = {'answer' : 'NEIGHBORHOOD_NOISE_SURVEY'}, inplace = True)\n",
    "neighbor_survey_sub = neighbor_survey_sub[['person_id', 'NEIGHBORHOOD_NOISE_SURVEY']]\n",
    "neighbor_survey_sub['NEIGHBORHOOD_NOISE_SURVEY'] = neighbor_survey_sub['NEIGHBORHOOD_NOISE_SURVEY'].replace({'Agree' : 1,\n",
    "                                                                                                             'Strongly agree' : 0,\n",
    "                                                                                                             'Disagree' : 2,\n",
    "                                                                                                             'PMI: Skip': np.nan,\n",
    "                                                                                                             'Strongly disagree' : 3})\n",
    "neighbor_survey_sub['NEIGHBORHOOD_NOISE_SURVEY'] = neighbor_survey_sub['NEIGHBORHOOD_NOISE_SURVEY'].astype('Int64')\n",
    "print(neighbor_survey_sub['NEIGHBORHOOD_NOISE_SURVEY'].value_counts(dropna = False))\n",
    "print(len(neighbor_survey_sub.index))\n",
    "print(len(neighbor_survey_sub['person_id'].unique()))\n",
    "neighbor_survey_sub.head()"
   ]
  },
  {
   "cell_type": "code",
   "execution_count": null,
   "metadata": {},
   "outputs": [],
   "source": [
    "neighbor_survey_clean = neighbor_survey_clean.merge(neighbor_survey_sub, on = 'person_id', how = 'outer')\n",
    "neighbor_survey_clean.head()"
   ]
  },
  {
   "cell_type": "markdown",
   "metadata": {},
   "source": [
    "### vandalism"
   ]
  },
  {
   "cell_type": "code",
   "execution_count": null,
   "metadata": {},
   "outputs": [],
   "source": [
    "neighbor_survey_sub = neighbor_survey[neighbor_survey['question'].isin(['How much you agree or disagree that vandalism is common in your neighborhood?'])]\n",
    "neighbor_survey_sub['answer'].value_counts()"
   ]
  },
  {
   "cell_type": "code",
   "execution_count": null,
   "metadata": {},
   "outputs": [],
   "source": [
    "neighbor_survey_sub.rename(columns = {'answer' : 'NEIGHBORHOOD_VANDALISM_SURVEY'}, inplace = True)\n",
    "neighbor_survey_sub = neighbor_survey_sub[['person_id', 'NEIGHBORHOOD_VANDALISM_SURVEY']]\n",
    "neighbor_survey_sub['NEIGHBORHOOD_VANDALISM_SURVEY'] = neighbor_survey_sub['NEIGHBORHOOD_VANDALISM_SURVEY'].replace({'Agree' : 1,\n",
    "                                                                                                             'Strongly agree' : 0,\n",
    "                                                                                                             'Disagree' : 2,\n",
    "                                                                                                             'PMI: Skip': np.nan,\n",
    "                                                                                                             'Strongly disagree' : 3})\n",
    "neighbor_survey_sub['NEIGHBORHOOD_VANDALISM_SURVEY'] = neighbor_survey_sub['NEIGHBORHOOD_VANDALISM_SURVEY'].astype('Int64')\n",
    "print(neighbor_survey_sub['NEIGHBORHOOD_VANDALISM_SURVEY'].value_counts(dropna = False))\n",
    "print(len(neighbor_survey_sub.index))\n",
    "print(len(neighbor_survey_sub['person_id'].unique()))\n",
    "neighbor_survey_sub.head()"
   ]
  },
  {
   "cell_type": "code",
   "execution_count": null,
   "metadata": {},
   "outputs": [],
   "source": [
    "neighbor_survey_clean = neighbor_survey_clean.merge(neighbor_survey_sub, on = 'person_id', how = 'outer')\n",
    "neighbor_survey_clean.head()"
   ]
  },
  {
   "cell_type": "markdown",
   "metadata": {},
   "source": [
    "### people can be trusted"
   ]
  },
  {
   "cell_type": "code",
   "execution_count": null,
   "metadata": {},
   "outputs": [],
   "source": [
    "neighbor_survey_sub = neighbor_survey[neighbor_survey['question'].isin(['How much you agree or disagree that people in your neighborhood can be trusted?'])]\n",
    "neighbor_survey_sub['answer'].value_counts()"
   ]
  },
  {
   "cell_type": "code",
   "execution_count": null,
   "metadata": {},
   "outputs": [],
   "source": [
    "neighbor_survey_sub.rename(columns = {'answer' : 'NEIGHBORHOOD_TRUST_SURVEY'}, inplace = True)\n",
    "neighbor_survey_sub = neighbor_survey_sub[['person_id', 'NEIGHBORHOOD_TRUST_SURVEY']]\n",
    "neighbor_survey_sub['NEIGHBORHOOD_TRUST_SURVEY'] = neighbor_survey_sub['NEIGHBORHOOD_TRUST_SURVEY'].replace({'Agree' : 3,\n",
    "                                                                                                             'Neutral (neither agree nor disagree)' : 2,\n",
    "                                                                                                             'Strongly agree' : 4,\n",
    "                                                                                                             'Disagree' : 1,\n",
    "                                                                                                             'PMI: Skip' : np.nan,\n",
    "                                                                                                             'Strongly disagree' : 0})\n",
    "neighbor_survey_sub['NEIGHBORHOOD_TRUST_SURVEY'] = neighbor_survey_sub['NEIGHBORHOOD_TRUST_SURVEY'].astype('Int64')\n",
    "print(neighbor_survey_sub['NEIGHBORHOOD_TRUST_SURVEY'].value_counts(dropna = False))\n",
    "print(len(neighbor_survey_sub.index))\n",
    "print(len(neighbor_survey_sub['person_id'].unique()))\n",
    "neighbor_survey_sub.head()"
   ]
  },
  {
   "cell_type": "code",
   "execution_count": null,
   "metadata": {},
   "outputs": [],
   "source": [
    "neighbor_survey_clean = neighbor_survey_clean.merge(neighbor_survey_sub, on = 'person_id', how = 'outer')\n",
    "neighbor_survey_clean.head()"
   ]
  },
  {
   "cell_type": "markdown",
   "metadata": {},
   "source": [
    "### a lot of crime"
   ]
  },
  {
   "cell_type": "code",
   "execution_count": null,
   "metadata": {},
   "outputs": [],
   "source": [
    "neighbor_survey_sub = neighbor_survey[neighbor_survey['question'].isin(['How much you agree or disagree that there is a lot of crime in your neighborhood?'])]\n",
    "neighbor_survey_sub['answer'].value_counts()"
   ]
  },
  {
   "cell_type": "code",
   "execution_count": null,
   "metadata": {},
   "outputs": [],
   "source": [
    "neighbor_survey_sub.rename(columns = {'answer' : 'NEIGHBORHOOD_ALOT_CRIME_SURVEY'}, inplace = True)\n",
    "neighbor_survey_sub = neighbor_survey_sub[['person_id', 'NEIGHBORHOOD_ALOT_CRIME_SURVEY']]\n",
    "neighbor_survey_sub['NEIGHBORHOOD_ALOT_CRIME_SURVEY'] = neighbor_survey_sub['NEIGHBORHOOD_ALOT_CRIME_SURVEY'].replace({'Agree' : 1,\n",
    "                                                                                                                       'Strongly agree' : 0,\n",
    "                                                                                                                       'Disagree' : 2,\n",
    "                                                                                                                       'PMI: Skip': np.nan,\n",
    "                                                                                                                       'Strongly disagree' : 3})\n",
    "neighbor_survey_sub['NEIGHBORHOOD_ALOT_CRIME_SURVEY'] = neighbor_survey_sub['NEIGHBORHOOD_ALOT_CRIME_SURVEY'].astype('Int64')\n",
    "print(neighbor_survey_sub['NEIGHBORHOOD_ALOT_CRIME_SURVEY'].value_counts(dropna = False))\n",
    "print(len(neighbor_survey_sub.index))\n",
    "print(len(neighbor_survey_sub['person_id'].unique()))\n",
    "neighbor_survey_sub.head()"
   ]
  },
  {
   "cell_type": "code",
   "execution_count": null,
   "metadata": {},
   "outputs": [],
   "source": [
    "neighbor_survey_clean = neighbor_survey_clean.merge(neighbor_survey_sub, on = 'person_id', how = 'outer')\n",
    "neighbor_survey_clean.head()"
   ]
  },
  {
   "cell_type": "markdown",
   "metadata": {},
   "source": [
    "### graffiti"
   ]
  },
  {
   "cell_type": "code",
   "execution_count": null,
   "metadata": {},
   "outputs": [],
   "source": [
    "neighbor_survey_sub = neighbor_survey[neighbor_survey['question'].isin(['How much you agree or disagree that there is a lot of graffiti in your neighborhood?'])]\n",
    "neighbor_survey_sub['answer'].value_counts()"
   ]
  },
  {
   "cell_type": "code",
   "execution_count": null,
   "metadata": {},
   "outputs": [],
   "source": [
    "neighbor_survey_sub.rename(columns = {'answer' : 'NEIGHBORHOOD_GRAFFITI_SURVEY'}, inplace = True)\n",
    "neighbor_survey_sub = neighbor_survey_sub[['person_id', 'NEIGHBORHOOD_GRAFFITI_SURVEY']]\n",
    "neighbor_survey_sub['NEIGHBORHOOD_GRAFFITI_SURVEY'] = neighbor_survey_sub['NEIGHBORHOOD_GRAFFITI_SURVEY'].replace({'Agree' : 1,\n",
    "                                                                                                                       'Strongly agree' : 0,\n",
    "                                                                                                                       'Disagree' : 2,\n",
    "                                                                                                                       'PMI: Skip': np.nan,\n",
    "                                                                                                                       'Strongly disagree' : 3})\n",
    "neighbor_survey_sub['NEIGHBORHOOD_GRAFFITI_SURVEY'] = neighbor_survey_sub['NEIGHBORHOOD_GRAFFITI_SURVEY'].astype('Int64')\n",
    "print(neighbor_survey_sub['NEIGHBORHOOD_GRAFFITI_SURVEY'].value_counts(dropna = False))\n",
    "print(len(neighbor_survey_sub.index))\n",
    "print(len(neighbor_survey_sub['person_id'].unique()))\n",
    "neighbor_survey_sub.head()"
   ]
  },
  {
   "cell_type": "code",
   "execution_count": null,
   "metadata": {},
   "outputs": [],
   "source": [
    "neighbor_survey_clean = neighbor_survey_clean.merge(neighbor_survey_sub, on = 'person_id', how = 'outer')\n",
    "neighbor_survey_clean.head()"
   ]
  },
  {
   "cell_type": "markdown",
   "metadata": {},
   "source": [
    "### drug use"
   ]
  },
  {
   "cell_type": "code",
   "execution_count": null,
   "metadata": {},
   "outputs": [],
   "source": [
    "neighbor_survey_sub = neighbor_survey[neighbor_survey['question'].isin(['How much you agree or disagree that there is too much drug use in your neighborhood?'])]\n",
    "neighbor_survey_sub['answer'].value_counts()"
   ]
  },
  {
   "cell_type": "code",
   "execution_count": null,
   "metadata": {},
   "outputs": [],
   "source": [
    "neighbor_survey_sub.rename(columns = {'answer' : 'NEIGHBORHOOD_DRUG_USE_SURVEY'}, inplace = True)\n",
    "neighbor_survey_sub = neighbor_survey_sub[['person_id', 'NEIGHBORHOOD_DRUG_USE_SURVEY']]\n",
    "neighbor_survey_sub['NEIGHBORHOOD_DRUG_USE_SURVEY'] = neighbor_survey_sub['NEIGHBORHOOD_DRUG_USE_SURVEY'].replace({'Agree' : 1,\n",
    "                                                                                                                       'Strongly agree' : 0,\n",
    "                                                                                                                       'Disagree' : 2,\n",
    "                                                                                                                       'PMI: Skip': np.nan,\n",
    "                                                                                                                       'Strongly disagree' : 3})\n",
    "neighbor_survey_sub['NEIGHBORHOOD_DRUG_USE_SURVEY'] = neighbor_survey_sub['NEIGHBORHOOD_DRUG_USE_SURVEY'].astype('Int64')\n",
    "print(neighbor_survey_sub['NEIGHBORHOOD_DRUG_USE_SURVEY'].value_counts(dropna = False))\n",
    "print(len(neighbor_survey_sub.index))\n",
    "print(len(neighbor_survey_sub['person_id'].unique()))\n",
    "neighbor_survey_sub.head()"
   ]
  },
  {
   "cell_type": "code",
   "execution_count": null,
   "metadata": {},
   "outputs": [],
   "source": [
    "neighbor_survey_clean = neighbor_survey_clean.merge(neighbor_survey_sub, on = 'person_id', how = 'outer')\n",
    "neighbor_survey_clean.head()"
   ]
  },
  {
   "cell_type": "markdown",
   "metadata": {},
   "source": [
    "### share same values"
   ]
  },
  {
   "cell_type": "code",
   "execution_count": null,
   "metadata": {},
   "outputs": [],
   "source": [
    "neighbor_survey_sub = neighbor_survey[neighbor_survey['question'].isin(['How much you agree or disagree that people in your neighborhood share the same values?'])]\n",
    "neighbor_survey_sub['answer'].value_counts()"
   ]
  },
  {
   "cell_type": "code",
   "execution_count": null,
   "metadata": {},
   "outputs": [],
   "source": [
    "neighbor_survey_sub.rename(columns = {'answer' : 'NEIGHBORHOOD_SAME_VALUES_SURVEY'}, inplace = True)\n",
    "neighbor_survey_sub = neighbor_survey_sub[['person_id', 'NEIGHBORHOOD_SAME_VALUES_SURVEY']]\n",
    "neighbor_survey_sub['NEIGHBORHOOD_SAME_VALUES_SURVEY'] = neighbor_survey_sub['NEIGHBORHOOD_SAME_VALUES_SURVEY'].replace({'Agree' : 3,\n",
    "                                                                                                                         'Neutral (neither agree nor disagree)' : 2,\n",
    "                                                                                                                         'Strongly agree' : 4,\n",
    "                                                                                                                         'Disagree' : 1,\n",
    "                                                                                                                         'PMI: Skip' : np.nan,\n",
    "                                                                                                                         'Strongly disagree' : 0})\n",
    "neighbor_survey_sub['NEIGHBORHOOD_SAME_VALUES_SURVEY'] = neighbor_survey_sub['NEIGHBORHOOD_SAME_VALUES_SURVEY'].astype('Int64')\n",
    "print(neighbor_survey_sub['NEIGHBORHOOD_SAME_VALUES_SURVEY'].value_counts(dropna = False))\n",
    "print(len(neighbor_survey_sub.index))\n",
    "print(len(neighbor_survey_sub['person_id'].unique()))\n",
    "neighbor_survey_sub.head()"
   ]
  },
  {
   "cell_type": "code",
   "execution_count": null,
   "metadata": {},
   "outputs": [],
   "source": [
    "neighbor_survey_clean = neighbor_survey_clean.merge(neighbor_survey_sub, on = 'person_id', how = 'outer')\n",
    "neighbor_survey_clean.head()"
   ]
  },
  {
   "cell_type": "markdown",
   "metadata": {},
   "source": [
    "### alcohol use"
   ]
  },
  {
   "cell_type": "code",
   "execution_count": null,
   "metadata": {},
   "outputs": [],
   "source": [
    "neighbor_survey_sub = neighbor_survey[neighbor_survey['question'].isin(['How much you agree or disagree that there is too much alcohol use in your neighborhood?'])]\n",
    "neighbor_survey_sub['answer'].value_counts()"
   ]
  },
  {
   "cell_type": "code",
   "execution_count": null,
   "metadata": {},
   "outputs": [],
   "source": [
    "neighbor_survey_sub.rename(columns = {'answer' : 'NEIGHBORHOOD_ALCOHOL_SURVEY'}, inplace = True)\n",
    "neighbor_survey_sub = neighbor_survey_sub[['person_id', 'NEIGHBORHOOD_ALCOHOL_SURVEY']]\n",
    "neighbor_survey_sub['NEIGHBORHOOD_ALCOHOL_SURVEY'] = neighbor_survey_sub['NEIGHBORHOOD_ALCOHOL_SURVEY'].replace({'Agree' : 1,\n",
    "                                                                                                                         'Strongly agree' : 0,\n",
    "                                                                                                                         'Disagree' : 2,\n",
    "                                                                                                                         'PMI: Skip': np.nan,\n",
    "                                                                                                                         'Strongly disagree' : 3})\n",
    "neighbor_survey_sub['NEIGHBORHOOD_ALCOHOL_SURVEY'] = neighbor_survey_sub['NEIGHBORHOOD_ALCOHOL_SURVEY'].astype('Int64')\n",
    "print(neighbor_survey_sub['NEIGHBORHOOD_ALCOHOL_SURVEY'].value_counts(dropna = False))\n",
    "print(len(neighbor_survey_sub.index))\n",
    "print(len(neighbor_survey_sub['person_id'].unique()))\n",
    "neighbor_survey_sub.head()"
   ]
  },
  {
   "cell_type": "code",
   "execution_count": null,
   "metadata": {},
   "outputs": [],
   "source": [
    "neighbor_survey_clean = neighbor_survey_clean.merge(neighbor_survey_sub, on = 'person_id', how = 'outer')\n",
    "neighbor_survey_clean.head()"
   ]
  },
  {
   "cell_type": "markdown",
   "metadata": {},
   "source": [
    "### sidewalks"
   ]
  },
  {
   "cell_type": "code",
   "execution_count": null,
   "metadata": {},
   "outputs": [],
   "source": [
    "neighbor_survey_sub = neighbor_survey[neighbor_survey['question'].isin(['There are sidewalks on most of the streets in my neighborhood. Would you say that you...'])]\n",
    "neighbor_survey_sub['answer'].value_counts()"
   ]
  },
  {
   "cell_type": "code",
   "execution_count": null,
   "metadata": {},
   "outputs": [],
   "source": [
    "neighbor_survey_sub.rename(columns = {'answer' : 'NEIGHBORHOOD_SIDEWALK_SURVEY'}, inplace = True)\n",
    "neighbor_survey_sub = neighbor_survey_sub[['person_id', 'NEIGHBORHOOD_SIDEWALK_SURVEY']]\n",
    "neighbor_survey_sub['NEIGHBORHOOD_SIDEWALK_SURVEY'] = neighbor_survey_sub['NEIGHBORHOOD_SIDEWALK_SURVEY'].replace({'Strongly agree' : 3,\n",
    "                                                                                                                   'Strongly disagree' : 0,\n",
    "                                                                                                                   'Somewhat agree' : 2,\n",
    "                                                                                                                   'Somewhat disagree' : 1,\n",
    "                                                                                                                   'Does not apply to my neighborhood' : np.nan,\n",
    "                                                                                                                   'PMI: Skip': np.nan,\n",
    "                                                                                                                   'PMI: Dont Know': np.nan})\n",
    "neighbor_survey_sub['NEIGHBORHOOD_SIDEWALK_SURVEY'] = neighbor_survey_sub['NEIGHBORHOOD_SIDEWALK_SURVEY'].astype('Int64')\n",
    "print(neighbor_survey_sub['NEIGHBORHOOD_SIDEWALK_SURVEY'].value_counts(dropna = False))\n",
    "print(len(neighbor_survey_sub.index))\n",
    "print(len(neighbor_survey_sub['person_id'].unique()))\n",
    "neighbor_survey_sub.head()"
   ]
  },
  {
   "cell_type": "code",
   "execution_count": null,
   "metadata": {},
   "outputs": [],
   "source": [
    "neighbor_survey_clean = neighbor_survey_clean.merge(neighbor_survey_sub, on = 'person_id', how = 'outer')\n",
    "neighbor_survey_clean.head()"
   ]
  },
  {
   "cell_type": "markdown",
   "metadata": {},
   "source": [
    "### people watch out for each other"
   ]
  },
  {
   "cell_type": "code",
   "execution_count": null,
   "metadata": {},
   "outputs": [],
   "source": [
    "neighbor_survey_sub = neighbor_survey[neighbor_survey['question'].isin(['How much you agree or disagree that in your neighborhood people watch out for each other?'])]\n",
    "neighbor_survey_sub['answer'].value_counts()"
   ]
  },
  {
   "cell_type": "code",
   "execution_count": null,
   "metadata": {},
   "outputs": [],
   "source": [
    "neighbor_survey_sub.rename(columns = {'answer' : 'NEIGHBORHOOD_WATCH_SURVEY'}, inplace = True)\n",
    "neighbor_survey_sub = neighbor_survey_sub[['person_id', 'NEIGHBORHOOD_WATCH_SURVEY']]\n",
    "neighbor_survey_sub['NEIGHBORHOOD_WATCH_SURVEY'] = neighbor_survey_sub['NEIGHBORHOOD_WATCH_SURVEY'].replace({'Agree' : 3,\n",
    "                                                                                                             'Neutral (neither agree nor disagree)' : 2,\n",
    "                                                                                                             'Strongly agree' : 4,\n",
    "                                                                                                             'Disagree' : 1,\n",
    "                                                                                                             'PMI: Skip' : np.nan,\n",
    "                                                                                                             'Strongly disagree' : 0})\n",
    "neighbor_survey_sub['NEIGHBORHOOD_WATCH_SURVEY'] = neighbor_survey_sub['NEIGHBORHOOD_WATCH_SURVEY'].astype('Int64')\n",
    "print(neighbor_survey_sub['NEIGHBORHOOD_WATCH_SURVEY'].value_counts(dropna = False))\n",
    "print(len(neighbor_survey_sub.index))\n",
    "print(len(neighbor_survey_sub['person_id'].unique()))\n",
    "neighbor_survey_sub.head()"
   ]
  },
  {
   "cell_type": "code",
   "execution_count": null,
   "metadata": {},
   "outputs": [],
   "source": [
    "neighbor_survey_clean = neighbor_survey_clean.merge(neighbor_survey_sub, on = 'person_id', how = 'outer')\n",
    "neighbor_survey_clean.head()"
   ]
  },
  {
   "cell_type": "markdown",
   "metadata": {},
   "source": [
    "### abandoned buildings"
   ]
  },
  {
   "cell_type": "code",
   "execution_count": null,
   "metadata": {},
   "outputs": [],
   "source": [
    "neighbor_survey_sub = neighbor_survey[neighbor_survey['question'].isin(['How much you agree or disagree that there are lot of abandoned buildings in your neighborhood?'])]\n",
    "neighbor_survey_sub['answer'].value_counts()"
   ]
  },
  {
   "cell_type": "code",
   "execution_count": null,
   "metadata": {},
   "outputs": [],
   "source": [
    "neighbor_survey_sub.rename(columns = {'answer' : 'NEIGHBORHOOD_BUILDING_SURVEY'}, inplace = True)\n",
    "neighbor_survey_sub = neighbor_survey_sub[['person_id', 'NEIGHBORHOOD_BUILDING_SURVEY']]\n",
    "neighbor_survey_sub['NEIGHBORHOOD_BUILDING_SURVEY'] = neighbor_survey_sub['NEIGHBORHOOD_BUILDING_SURVEY'].replace({'Agree' : 1,\n",
    "                                                                                                                   'Strongly agree' : 0,\n",
    "                                                                                                                   'Disagree' : 2,\n",
    "                                                                                                                   'PMI: Skip': np.nan,\n",
    "                                                                                                                   'Strongly disagree' : 3})\n",
    "neighbor_survey_sub['NEIGHBORHOOD_BUILDING_SURVEY'] = neighbor_survey_sub['NEIGHBORHOOD_BUILDING_SURVEY'].astype('Int64')\n",
    "print(neighbor_survey_sub['NEIGHBORHOOD_BUILDING_SURVEY'].value_counts(dropna = False))\n",
    "print(len(neighbor_survey_sub.index))\n",
    "print(len(neighbor_survey_sub['person_id'].unique()))\n",
    "neighbor_survey_sub.head()"
   ]
  },
  {
   "cell_type": "code",
   "execution_count": null,
   "metadata": {},
   "outputs": [],
   "source": [
    "neighbor_survey_clean = neighbor_survey_clean.merge(neighbor_survey_sub, on = 'person_id', how = 'outer')\n",
    "neighbor_survey_clean.head()"
   ]
  },
  {
   "cell_type": "markdown",
   "metadata": {},
   "source": [
    "### get along"
   ]
  },
  {
   "cell_type": "code",
   "execution_count": null,
   "metadata": {},
   "outputs": [],
   "source": [
    "neighbor_survey_sub = neighbor_survey[neighbor_survey['question'].isin(['How much you agree or disagree that people in your neighborhood generally get along with each other?'])]\n",
    "neighbor_survey_sub['answer'].value_counts()"
   ]
  },
  {
   "cell_type": "code",
   "execution_count": null,
   "metadata": {},
   "outputs": [],
   "source": [
    "neighbor_survey_sub.rename(columns = {'answer' : 'NEIGHBORHOOD_GET_ALONG_SURVEY'}, inplace = True)\n",
    "neighbor_survey_sub = neighbor_survey_sub[['person_id', 'NEIGHBORHOOD_GET_ALONG_SURVEY']]\n",
    "neighbor_survey_sub['NEIGHBORHOOD_GET_ALONG_SURVEY'] = neighbor_survey_sub['NEIGHBORHOOD_GET_ALONG_SURVEY'].replace({'Agree' : 3,\n",
    "                                                                                                                     'Neutral (neither agree nor disagree)' : 2,\n",
    "                                                                                                                     'Strongly agree' : 4,\n",
    "                                                                                                                     'Disagree' : 1,\n",
    "                                                                                                                     'PMI: Skip' : np.nan,\n",
    "                                                                                                                     'Strongly disagree' : 0})\n",
    "neighbor_survey_sub['NEIGHBORHOOD_GET_ALONG_SURVEY'] = neighbor_survey_sub['NEIGHBORHOOD_GET_ALONG_SURVEY'].astype('Int64')\n",
    "print(neighbor_survey_sub['NEIGHBORHOOD_GET_ALONG_SURVEY'].value_counts(dropna = False))\n",
    "print(len(neighbor_survey_sub.index))\n",
    "print(len(neighbor_survey_sub['person_id'].unique()))\n",
    "neighbor_survey_sub.head()"
   ]
  },
  {
   "cell_type": "code",
   "execution_count": null,
   "metadata": {},
   "outputs": [],
   "source": [
    "neighbor_survey_clean = neighbor_survey_clean.merge(neighbor_survey_sub, on = 'person_id', how = 'outer')\n",
    "neighbor_survey_clean.head()"
   ]
  },
  {
   "cell_type": "markdown",
   "metadata": {},
   "source": [
    "### unsafe to walk at night"
   ]
  },
  {
   "cell_type": "code",
   "execution_count": null,
   "metadata": {},
   "outputs": [],
   "source": [
    "neighbor_survey_sub = neighbor_survey[neighbor_survey['question'].isin(['The crime rate in my neighborhood makes it unsafe to go on walks at night. Would you say that you...'])]\n",
    "neighbor_survey_sub['answer'].value_counts()"
   ]
  },
  {
   "cell_type": "code",
   "execution_count": null,
   "metadata": {},
   "outputs": [],
   "source": [
    "neighbor_survey_sub.rename(columns = {'answer' : 'NEIGHBORHOOD_UNSAFE_WALK_SURVEY'}, inplace = True)\n",
    "neighbor_survey_sub = neighbor_survey_sub[['person_id', 'NEIGHBORHOOD_UNSAFE_WALK_SURVEY']]\n",
    "neighbor_survey_sub['NEIGHBORHOOD_UNSAFE_WALK_SURVEY'] = neighbor_survey_sub['NEIGHBORHOOD_UNSAFE_WALK_SURVEY'].replace({'Strongly agree' : 0,\n",
    "                                                                                                                         'Strongly disagree' : 3,\n",
    "                                                                                                                         'Somewhat agree' : 1,\n",
    "                                                                                                                         'Somewhat disagree' : 2,\n",
    "                                                                                                                         'PMI: Skip': np.nan,\n",
    "                                                                                                                         'PMI: Dont Know': np.nan})\n",
    "neighbor_survey_sub['NEIGHBORHOOD_UNSAFE_WALK_SURVEY'] = neighbor_survey_sub['NEIGHBORHOOD_UNSAFE_WALK_SURVEY'].astype('Int64')\n",
    "print(neighbor_survey_sub['NEIGHBORHOOD_UNSAFE_WALK_SURVEY'].value_counts(dropna = False))\n",
    "print(len(neighbor_survey_sub.index))\n",
    "print(len(neighbor_survey_sub['person_id'].unique()))\n",
    "neighbor_survey_sub.head()"
   ]
  },
  {
   "cell_type": "code",
   "execution_count": null,
   "metadata": {},
   "outputs": [],
   "source": [
    "neighbor_survey_clean = neighbor_survey_clean.merge(neighbor_survey_sub, on = 'person_id', how = 'outer')\n",
    "neighbor_survey_clean.head()"
   ]
  },
  {
   "cell_type": "markdown",
   "metadata": {},
   "source": [
    "### unsafe to walk during the day due to crime"
   ]
  },
  {
   "cell_type": "code",
   "execution_count": null,
   "metadata": {},
   "outputs": [],
   "source": [
    "neighbor_survey_sub = neighbor_survey[neighbor_survey['question'].isin(['The crime rate in my neighborhood makes it unsafe to go on walks during the day. Would you say that you...'])]\n",
    "neighbor_survey_sub['answer'].value_counts()"
   ]
  },
  {
   "cell_type": "code",
   "execution_count": null,
   "metadata": {},
   "outputs": [],
   "source": [
    "neighbor_survey_sub.rename(columns = {'answer' : 'NEIGHBORHOOD_CRIME_WALK_SURVEY'}, inplace = True)\n",
    "neighbor_survey_sub = neighbor_survey_sub[['person_id', 'NEIGHBORHOOD_CRIME_WALK_SURVEY']]\n",
    "neighbor_survey_sub['NEIGHBORHOOD_CRIME_WALK_SURVEY'] = neighbor_survey_sub['NEIGHBORHOOD_CRIME_WALK_SURVEY'].replace({'Strongly agree' : 0,\n",
    "                                                                                                                         'Strongly disagree' : 3,\n",
    "                                                                                                                         'Somewhat agree' : 1,\n",
    "                                                                                                                         'Somewhat disagree' : 2,\n",
    "                                                                                                                         'PMI: Skip': np.nan,\n",
    "                                                                                                                         'PMI: Dont Know': np.nan})\n",
    "neighbor_survey_sub['NEIGHBORHOOD_CRIME_WALK_SURVEY'] = neighbor_survey_sub['NEIGHBORHOOD_CRIME_WALK_SURVEY'].astype('Int64')\n",
    "print(neighbor_survey_sub['NEIGHBORHOOD_CRIME_WALK_SURVEY'].value_counts(dropna = False))\n",
    "print(len(neighbor_survey_sub.index))\n",
    "print(len(neighbor_survey_sub['person_id'].unique()))\n",
    "neighbor_survey_sub.head()"
   ]
  },
  {
   "cell_type": "code",
   "execution_count": null,
   "metadata": {},
   "outputs": [],
   "source": [
    "neighbor_survey_clean = neighbor_survey_clean.merge(neighbor_survey_sub, on = 'person_id', how = 'outer')\n",
    "neighbor_survey_clean.head()"
   ]
  },
  {
   "cell_type": "markdown",
   "metadata": {},
   "source": [
    "### take care of homes"
   ]
  },
  {
   "cell_type": "code",
   "execution_count": null,
   "metadata": {},
   "outputs": [],
   "source": [
    "neighbor_survey_sub = neighbor_survey[neighbor_survey['question'].isin(['How much you agree or disagree that people in your neighborhood take good care of their houses and apartments?'])]\n",
    "neighbor_survey_sub['answer'].value_counts()"
   ]
  },
  {
   "cell_type": "code",
   "execution_count": null,
   "metadata": {},
   "outputs": [],
   "source": [
    "neighbor_survey_sub.rename(columns = {'answer' : 'NEIGHBORHOOD_CARE_SURVEY'}, inplace = True)\n",
    "neighbor_survey_sub = neighbor_survey_sub[['person_id', 'NEIGHBORHOOD_CARE_SURVEY']]\n",
    "neighbor_survey_sub['NEIGHBORHOOD_CARE_SURVEY'] = neighbor_survey_sub['NEIGHBORHOOD_CARE_SURVEY'].replace({'Agree' : 2,\n",
    "                                                                                                           'Strongly agree' : 3,\n",
    "                                                                                                           'Disagree' : 1,\n",
    "                                                                                                           'PMI: Skip': np.nan,\n",
    "                                                                                                           'Strongly disagree' : 0})\n",
    "neighbor_survey_sub['NEIGHBORHOOD_CARE_SURVEY'] = neighbor_survey_sub['NEIGHBORHOOD_CARE_SURVEY'].astype('Int64')\n",
    "print(neighbor_survey_sub['NEIGHBORHOOD_CARE_SURVEY'].value_counts(dropna = False))\n",
    "print(len(neighbor_survey_sub.index))\n",
    "print(len(neighbor_survey_sub['person_id'].unique()))\n",
    "neighbor_survey_sub.head()"
   ]
  },
  {
   "cell_type": "code",
   "execution_count": null,
   "metadata": {},
   "outputs": [],
   "source": [
    "neighbor_survey_clean = neighbor_survey_clean.merge(neighbor_survey_sub, on = 'person_id', how = 'outer')\n",
    "neighbor_survey_clean.head()"
   ]
  },
  {
   "cell_type": "markdown",
   "metadata": {},
   "source": [
    "### bike facilities"
   ]
  },
  {
   "cell_type": "code",
   "execution_count": null,
   "metadata": {},
   "outputs": [],
   "source": [
    "neighbor_survey_sub = neighbor_survey[neighbor_survey['question'].isin(['There are facilities to bicycle in or near my neighborhood, such as special lanes, separate paths or trails, or shared use paths for cycles and pedestrians. Would you say that you...'])]\n",
    "neighbor_survey_sub['answer'].value_counts()"
   ]
  },
  {
   "cell_type": "code",
   "execution_count": null,
   "metadata": {},
   "outputs": [],
   "source": [
    "neighbor_survey_sub.rename(columns = {'answer' : 'NEIGHBORHOOD_BIKE_SURVEY'}, inplace = True)\n",
    "neighbor_survey_sub = neighbor_survey_sub[['person_id', 'NEIGHBORHOOD_BIKE_SURVEY']]\n",
    "neighbor_survey_sub['NEIGHBORHOOD_BIKE_SURVEY'] = neighbor_survey_sub['NEIGHBORHOOD_BIKE_SURVEY'].replace({'Strongly agree' : 3,\n",
    "                                                                                                           'Strongly disagree' : 0,\n",
    "                                                                                                           'Somewhat agree' : 2,\n",
    "                                                                                                           'Somewhat disagree' : 1,\n",
    "                                                                                                           'Does not apply to my neighborhood' : np.nan,\n",
    "                                                                                                           'PMI: Skip': np.nan,\n",
    "                                                                                                           'PMI: Dont Know': np.nan})\n",
    "neighbor_survey_sub['NEIGHBORHOOD_BIKE_SURVEY'] = neighbor_survey_sub['NEIGHBORHOOD_BIKE_SURVEY'].astype('Int64')\n",
    "print(neighbor_survey_sub['NEIGHBORHOOD_BIKE_SURVEY'].value_counts(dropna = False))\n",
    "print(len(neighbor_survey_sub.index))\n",
    "print(len(neighbor_survey_sub['person_id'].unique()))\n",
    "neighbor_survey_sub.head()"
   ]
  },
  {
   "cell_type": "code",
   "execution_count": null,
   "metadata": {},
   "outputs": [],
   "source": [
    "neighbor_survey_clean = neighbor_survey_clean.merge(neighbor_survey_sub, on = 'person_id', how = 'outer')\n",
    "neighbor_survey_clean.head()"
   ]
  },
  {
   "cell_type": "markdown",
   "metadata": {},
   "source": [
    "### free recreational amenities"
   ]
  },
  {
   "cell_type": "code",
   "execution_count": null,
   "metadata": {},
   "outputs": [],
   "source": [
    "neighbor_survey_sub = neighbor_survey[neighbor_survey['question'].isin(['My neighborhood has several free or low-cost recreation facilities, such as parks, walking trails, bike paths, recreation centers, playgrounds, public swimming pools, etc. Would you say that you...'])]\n",
    "neighbor_survey_sub['answer'].value_counts()"
   ]
  },
  {
   "cell_type": "code",
   "execution_count": null,
   "metadata": {},
   "outputs": [],
   "source": [
    "neighbor_survey_sub.rename(columns = {'answer' : 'NEIGHBORHOOD_FREE_AMENITIES_SURVEY'}, inplace = True)\n",
    "neighbor_survey_sub = neighbor_survey_sub[['person_id', 'NEIGHBORHOOD_FREE_AMENITIES_SURVEY']]\n",
    "neighbor_survey_sub['NEIGHBORHOOD_FREE_AMENITIES_SURVEY'] = neighbor_survey_sub['NEIGHBORHOOD_FREE_AMENITIES_SURVEY'].replace({'Strongly agree' : 3,\n",
    "                                                                                                           'Strongly disagree' : 0,\n",
    "                                                                                                           'Somewhat agree' : 2,\n",
    "                                                                                                           'Somewhat disagree' : 1,\n",
    "                                                                                                           'PMI: Skip': np.nan,\n",
    "                                                                                                           'PMI: Dont Know': np.nan})\n",
    "neighbor_survey_sub['NEIGHBORHOOD_FREE_AMENITIES_SURVEY'] = neighbor_survey_sub['NEIGHBORHOOD_FREE_AMENITIES_SURVEY'].astype('Int64')\n",
    "print(neighbor_survey_sub['NEIGHBORHOOD_FREE_AMENITIES_SURVEY'].value_counts(dropna = False))\n",
    "print(len(neighbor_survey_sub.index))\n",
    "print(len(neighbor_survey_sub['person_id'].unique()))\n",
    "neighbor_survey_sub.head()"
   ]
  },
  {
   "cell_type": "code",
   "execution_count": null,
   "metadata": {},
   "outputs": [],
   "source": [
    "neighbor_survey_clean = neighbor_survey_clean.merge(neighbor_survey_sub, on = 'person_id', how = 'outer')\n",
    "neighbor_survey_clean.head()"
   ]
  },
  {
   "cell_type": "markdown",
   "metadata": {},
   "source": [
    "### people hanging around streets"
   ]
  },
  {
   "cell_type": "code",
   "execution_count": null,
   "metadata": {},
   "outputs": [],
   "source": [
    "neighbor_survey_sub = neighbor_survey[neighbor_survey['question'].isin(['How much you agree or disagree that there are too many people hanging around on the streets near your home?'])]\n",
    "neighbor_survey_sub['answer'].value_counts()"
   ]
  },
  {
   "cell_type": "code",
   "execution_count": null,
   "metadata": {},
   "outputs": [],
   "source": [
    "neighbor_survey_sub.rename(columns = {'answer' : 'NEIGHBORHOOD_PPL_HANGING_AROUND_SURVEY'}, inplace = True)\n",
    "neighbor_survey_sub = neighbor_survey_sub[['person_id', 'NEIGHBORHOOD_PPL_HANGING_AROUND_SURVEY']]\n",
    "neighbor_survey_sub['NEIGHBORHOOD_PPL_HANGING_AROUND_SURVEY'] = neighbor_survey_sub['NEIGHBORHOOD_PPL_HANGING_AROUND_SURVEY'].replace({'Strongly disagree' : 3,\n",
    "                                                                                                                                       'Disagree' : 2,\n",
    "                                                                                                                                       'Agree' : 1,\n",
    "                                                                                                                                       'PMI: Skip' : np.nan,\n",
    "                                                                                                                                       'Strongly agree' : 0})\n",
    "neighbor_survey_sub['NEIGHBORHOOD_PPL_HANGING_AROUND_SURVEY'] = neighbor_survey_sub['NEIGHBORHOOD_PPL_HANGING_AROUND_SURVEY'].astype('Int64')\n",
    "print(neighbor_survey_sub['NEIGHBORHOOD_PPL_HANGING_AROUND_SURVEY'].value_counts(dropna = False))\n",
    "print(len(neighbor_survey_sub.index))\n",
    "print(len(neighbor_survey_sub['person_id'].unique()))\n",
    "neighbor_survey_sub.head()"
   ]
  },
  {
   "cell_type": "code",
   "execution_count": null,
   "metadata": {},
   "outputs": [],
   "source": [
    "neighbor_survey_clean = neighbor_survey_clean.merge(neighbor_survey_sub, on = 'person_id', how = 'outer')\n",
    "neighbor_survey_clean.head()"
   ]
  },
  {
   "cell_type": "markdown",
   "metadata": {},
   "source": [
    "### trouble"
   ]
  },
  {
   "cell_type": "code",
   "execution_count": null,
   "metadata": {},
   "outputs": [],
   "source": [
    "neighbor_survey_sub = neighbor_survey[neighbor_survey['question'].isin(['How much you agree or disagree that you are always having trouble with your neighbors?'])]\n",
    "neighbor_survey_sub['answer'].value_counts()"
   ]
  },
  {
   "cell_type": "code",
   "execution_count": null,
   "metadata": {},
   "outputs": [],
   "source": [
    "neighbor_survey_sub.rename(columns = {'answer' : 'NEIGHBORHOOD_TROUBLE_SURVEY'}, inplace = True)\n",
    "neighbor_survey_sub = neighbor_survey_sub[['person_id', 'NEIGHBORHOOD_TROUBLE_SURVEY']]\n",
    "neighbor_survey_sub['NEIGHBORHOOD_TROUBLE_SURVEY'] = neighbor_survey_sub['NEIGHBORHOOD_TROUBLE_SURVEY'].replace({'Strongly disagree' : 3,\n",
    "                                                                                                                 'Disagree' : 2,\n",
    "                                                                                                                 'PMI: Skip' : np.nan,\n",
    "                                                                                                                 'Agree' : 1,\n",
    "                                                                                                                 'Strongly agree' : 0})\n",
    "neighbor_survey_sub['NEIGHBORHOOD_TROUBLE_SURVEY'] = neighbor_survey_sub['NEIGHBORHOOD_TROUBLE_SURVEY'].astype('Int64')\n",
    "print(neighbor_survey_sub['NEIGHBORHOOD_TROUBLE_SURVEY'].value_counts(dropna = False))\n",
    "print(len(neighbor_survey_sub.index))\n",
    "print(len(neighbor_survey_sub['person_id'].unique()))\n",
    "neighbor_survey_sub.head()"
   ]
  },
  {
   "cell_type": "code",
   "execution_count": null,
   "metadata": {},
   "outputs": [],
   "source": [
    "neighbor_survey_clean = neighbor_survey_clean.merge(neighbor_survey_sub, on = 'person_id', how = 'outer')\n",
    "neighbor_survey_clean.head()"
   ]
  },
  {
   "cell_type": "markdown",
   "metadata": {},
   "source": [
    "### stores"
   ]
  },
  {
   "cell_type": "code",
   "execution_count": null,
   "metadata": {},
   "outputs": [],
   "source": [
    "neighbor_survey_sub = neighbor_survey[neighbor_survey['question'].isin(['Many shops, stores, markets or other places to buy things I need are within easy walking distance of my home. Would you say that you...'])]\n",
    "neighbor_survey_sub['answer'].value_counts()"
   ]
  },
  {
   "cell_type": "code",
   "execution_count": null,
   "metadata": {},
   "outputs": [],
   "source": [
    "neighbor_survey_sub.rename(columns = {'answer' : 'NEIGHBORHOOD_STORES_SURVEY'}, inplace = True)\n",
    "neighbor_survey_sub = neighbor_survey_sub[['person_id', 'NEIGHBORHOOD_STORES_SURVEY']]\n",
    "neighbor_survey_sub['NEIGHBORHOOD_STORES_SURVEY'] = neighbor_survey_sub['NEIGHBORHOOD_STORES_SURVEY'].replace({'Strongly disagree' : 0,\n",
    "                                                                                                               'Strongly agree' : 3,\n",
    "                                                                                                               'Somewhat agree' : 2,\n",
    "                                                                                                               'Somewhat disagree' : 1,\n",
    "                                                                                                               'PMI: Skip' : np.nan,\n",
    "                                                                                                               'PMI: Dont Know': np.nan})\n",
    "neighbor_survey_sub['NEIGHBORHOOD_STORES_SURVEY'] = neighbor_survey_sub['NEIGHBORHOOD_STORES_SURVEY'].astype('Int64')\n",
    "print(neighbor_survey_sub['NEIGHBORHOOD_STORES_SURVEY'].value_counts(dropna = False))\n",
    "print(len(neighbor_survey_sub.index))\n",
    "print(len(neighbor_survey_sub['person_id'].unique()))\n",
    "neighbor_survey_sub.head()"
   ]
  },
  {
   "cell_type": "code",
   "execution_count": null,
   "metadata": {},
   "outputs": [],
   "source": [
    "neighbor_survey_clean = neighbor_survey_clean.merge(neighbor_survey_sub, on = 'person_id', how = 'outer')\n",
    "neighbor_survey_clean.head()"
   ]
  },
  {
   "cell_type": "markdown",
   "metadata": {},
   "source": [
    "### transit"
   ]
  },
  {
   "cell_type": "code",
   "execution_count": null,
   "metadata": {},
   "outputs": [],
   "source": [
    "neighbor_survey_sub = neighbor_survey[neighbor_survey['question'].isin(['It is within a 10-15 minute walk to a transit stop (such as bus, train, trolley, or tram) from my home. Would you say that you...'])]\n",
    "neighbor_survey_sub['answer'].value_counts()"
   ]
  },
  {
   "cell_type": "code",
   "execution_count": null,
   "metadata": {},
   "outputs": [],
   "source": [
    "neighbor_survey_sub.rename(columns = {'answer' : 'NEIGHBORHOOD_TRANSIT_SURVEY'}, inplace = True)\n",
    "neighbor_survey_sub = neighbor_survey_sub[['person_id', 'NEIGHBORHOOD_TRANSIT_SURVEY']]\n",
    "neighbor_survey_sub['NEIGHBORHOOD_TRANSIT_SURVEY'] = neighbor_survey_sub['NEIGHBORHOOD_TRANSIT_SURVEY'].replace({'Strongly disagree' : 0,\n",
    "                                                                                                                 'Strongly agree' : 3,\n",
    "                                                                                                                 'Somewhat agree' : 2,\n",
    "                                                                                                                 'Somewhat disagree' : 1,\n",
    "                                                                                                                 'PMI: Skip' : np.nan,\n",
    "                                                                                                                 'PMI: Dont Know': np.nan})\n",
    "neighbor_survey_sub['NEIGHBORHOOD_TRANSIT_SURVEY'] = neighbor_survey_sub['NEIGHBORHOOD_TRANSIT_SURVEY'].astype('Int64')\n",
    "print(neighbor_survey_sub['NEIGHBORHOOD_TRANSIT_SURVEY'].value_counts(dropna = False))\n",
    "print(len(neighbor_survey_sub.index))\n",
    "print(len(neighbor_survey_sub['person_id'].unique()))\n",
    "neighbor_survey_sub.head()"
   ]
  },
  {
   "cell_type": "code",
   "execution_count": null,
   "metadata": {},
   "outputs": [],
   "source": [
    "neighbor_survey_clean = neighbor_survey_clean.merge(neighbor_survey_sub, on = 'person_id', how = 'outer')\n",
    "neighbor_survey_clean.head()"
   ]
  },
  {
   "cell_type": "markdown",
   "metadata": {},
   "source": [
    "### merge"
   ]
  },
  {
   "cell_type": "code",
   "execution_count": null,
   "metadata": {},
   "outputs": [],
   "source": [
    "hf_neighbor_survey = hf_education_survey.merge(neighbor_survey_clean, on = 'person_id', how = 'left')\n",
    "print(len(hf_neighbor_survey.index))\n",
    "hf_neighbor_survey.head()"
   ]
  },
  {
   "cell_type": "markdown",
   "metadata": {},
   "source": [
    "# clean AOU SDOH file"
   ]
  },
  {
   "cell_type": "markdown",
   "metadata": {},
   "source": [
    "## check for duplicates (no duplicates)"
   ]
  },
  {
   "cell_type": "code",
   "execution_count": null,
   "metadata": {},
   "outputs": [],
   "source": [
    "print(len(zip_code_socioeconomic.index))\n",
    "print(len(zip_code_socioeconomic['person_id'].unique()))"
   ]
  },
  {
   "cell_type": "markdown",
   "metadata": {},
   "source": [
    "## drop extra columns"
   ]
  },
  {
   "cell_type": "code",
   "execution_count": null,
   "metadata": {},
   "outputs": [],
   "source": [
    "zip_code_socioeconomic_sub = zip_code_socioeconomic[['person_id',\n",
    "                                                     'median_income',\n",
    "                                                     'deprivation_index']]\n",
    "zip_code_socioeconomic_sub.head()"
   ]
  },
  {
   "cell_type": "markdown",
   "metadata": {},
   "source": [
    "## rename columns"
   ]
  },
  {
   "cell_type": "code",
   "execution_count": null,
   "metadata": {},
   "outputs": [],
   "source": [
    "zip_code_socioeconomic_sub.rename(columns = {'median_income': 'CENSUS_MEDIAN_INCOME',\n",
    "                                             'deprivation_index' : 'SOCIAL_DEPRIVATION_INDEX'},\n",
    "                                  inplace = True)\n",
    "zip_code_socioeconomic_sub.head()"
   ]
  },
  {
   "cell_type": "markdown",
   "metadata": {},
   "source": [
    "## merge"
   ]
  },
  {
   "cell_type": "code",
   "execution_count": null,
   "metadata": {},
   "outputs": [],
   "source": [
    "hf_ses = hf_neighbor_survey.merge(zip_code_socioeconomic_sub, how = 'left', on = 'person_id')\n",
    "print(len(hf_ses.index))\n",
    "print(len(hf_ses['CENSUS_MEDIAN_INCOME'].dropna().index))\n",
    "print(len(hf_ses['SOCIAL_DEPRIVATION_INDEX'].dropna().index))\n",
    "hf_ses.head()"
   ]
  },
  {
   "cell_type": "markdown",
   "metadata": {},
   "source": [
    "# check if columns derived from observation and survey data are equal"
   ]
  },
  {
   "cell_type": "markdown",
   "metadata": {},
   "source": [
    "## neighborhood columns"
   ]
  },
  {
   "cell_type": "markdown",
   "metadata": {},
   "source": [
    "### neighborhood columns that don't match\n",
    "**NEIGHBORHOOD_WATCH != NEIGHBORHOOD_WATCH_SURVEY**\n",
    "- fixed. there are no neutrals in this df. so use the observation column. when you convert the survey column to the same encoding as observation, they are equal\n",
    "\n",
    "*NEIGHBORHOOD_WATCH (oberservation encoding): How much you agree or disagree that in your neighborhood people watch out for each other?*\n",
    "- 'LA15774-5' : 2 (Agree)\n",
    "- 'LA15237-3' : 3 (Strongly agree)\n",
    "- 'LA15773-7' : 1 (Disagree)\n",
    "- 'LA15236-5' : 0 (Strongly disagree)\n",
    "- 'PMI_Skip' : np.nan (Missing)\n",
    "\n",
    "*NEIGHBORHOOD_WATCH (survey encoding): How much you agree or disagree that in your neighborhood people watch out for each other?*\n",
    "- 'Agree' : 3,\n",
    "- 'Neutral (neither agree nor disagree)' : 2,\n",
    "- 'Strongly agree' : 4,\n",
    "- 'Disagree' : 1,\n",
    "- 'PMI: Skip' : np.nan,\n",
    "- 'Strongly disagree' : 0\n",
    "\n",
    "**NEIGHBORHOOD_GET_ALONG != NEIGHBORHOOD_GET_ALONG_SURVEY**\n",
    "- opposite questions. the opposite answers check out- use either question\n",
    "\n",
    "*NEIGHBORHOOD_GET_ALONG (observation encoding): People in this neighborhood generally don't get along with each other [PhenX]*\n",
    "- 'LA15774-5' : 1 (Agree)\n",
    "- 'LA15237-3' : 0 (Strongly agree)\n",
    "- 'LA15240-7' : 2 (Neither agree nor disagree)\n",
    "- 'LA15773-7' : 3 (Disagree)\n",
    "- 'PMI_Skip' : np.nan (Missing)\n",
    "- 'LA15236-5' : 4 (Strongly disagree)\n",
    "\n",
    "*NEIGHBORHOOD_GET_ALONG (survey encoding):How much you agree or disagree that people in your neighborhood generally get along with each other?*\n",
    "- 'Agree' : 3,\n",
    "- 'Neutral (neither agree nor disagree)' : 2,\n",
    "- 'Strongly agree' : 4,\n",
    "- 'Disagree' : 1,\n",
    "- 'PMI: Skip' : np.nan,\n",
    "- 'Strongly disagree' : 0"
   ]
  },
  {
   "cell_type": "markdown",
   "metadata": {},
   "source": [
    "### columns that match"
   ]
  },
  {
   "cell_type": "code",
   "execution_count": null,
   "metadata": {},
   "outputs": [],
   "source": [
    "hf_neighbor_survey[hf_neighbor_survey['NEIGHBORHOOD_SAFE_CRIME'] != hf_neighbor_survey['NEIGHBORHOOD_SAFE_SURVEY']]"
   ]
  },
  {
   "cell_type": "code",
   "execution_count": null,
   "metadata": {},
   "outputs": [],
   "source": [
    "hf_neighbor_survey[hf_neighbor_survey['NEIGHBORHOOD_FREE_AMENITIES'] != hf_neighbor_survey['NEIGHBORHOOD_FREE_AMENITIES_SURVEY']]"
   ]
  },
  {
   "cell_type": "code",
   "execution_count": null,
   "metadata": {},
   "outputs": [],
   "source": [
    "hf_neighbor_survey[hf_neighbor_survey['NEIGHBORHOOD_DRUG_USE'] != hf_neighbor_survey['NEIGHBORHOOD_DRUG_USE_SURVEY']]"
   ]
  },
  {
   "cell_type": "code",
   "execution_count": null,
   "metadata": {},
   "outputs": [],
   "source": [
    "hf_neighbor_survey[hf_neighbor_survey['NEIGHBORHOOD_TRUST'] != hf_neighbor_survey['NEIGHBORHOOD_TRUST_SURVEY']]"
   ]
  },
  {
   "cell_type": "code",
   "execution_count": null,
   "metadata": {},
   "outputs": [],
   "source": [
    "hf_neighbor_survey[hf_neighbor_survey['NEIGHBORHOOD_BUILDING'] != hf_neighbor_survey['NEIGHBORHOOD_BUILDING_SURVEY']]"
   ]
  },
  {
   "cell_type": "code",
   "execution_count": null,
   "metadata": {},
   "outputs": [],
   "source": [
    "hf_neighbor_survey[hf_neighbor_survey['NEIGHBORHOOD_ALCOHOL'] != hf_neighbor_survey['NEIGHBORHOOD_ALCOHOL_SURVEY']]"
   ]
  },
  {
   "cell_type": "code",
   "execution_count": null,
   "metadata": {},
   "outputs": [],
   "source": [
    "hf_neighbor_survey[hf_neighbor_survey['NEIGHBORHOOD_VANDALISM'] != hf_neighbor_survey['NEIGHBORHOOD_VANDALISM_SURVEY']]"
   ]
  },
  {
   "cell_type": "code",
   "execution_count": null,
   "metadata": {},
   "outputs": [],
   "source": [
    "hf_neighbor_survey[hf_neighbor_survey['NEIGHBORHOOD_SIDEWALK'] != hf_neighbor_survey['NEIGHBORHOOD_SIDEWALK_SURVEY']]"
   ]
  },
  {
   "cell_type": "code",
   "execution_count": null,
   "metadata": {},
   "outputs": [],
   "source": [
    "hf_neighbor_survey[hf_neighbor_survey['NEIGHBORHOOD_BIKE'] != hf_neighbor_survey['NEIGHBORHOOD_BIKE_SURVEY']]"
   ]
  },
  {
   "cell_type": "code",
   "execution_count": null,
   "metadata": {},
   "outputs": [],
   "source": [
    "hf_neighbor_survey[hf_neighbor_survey['NEIGHBORHOOD_CARE'] != hf_neighbor_survey['NEIGHBORHOOD_CARE_SURVEY']]"
   ]
  },
  {
   "cell_type": "code",
   "execution_count": null,
   "metadata": {},
   "outputs": [],
   "source": [
    "hf_neighbor_survey[hf_neighbor_survey['NEIGHBORHOOD_CLEAN'] != hf_neighbor_survey['NEIGHBORHOOD_CLEAN_SURVEY']]"
   ]
  },
  {
   "cell_type": "code",
   "execution_count": null,
   "metadata": {},
   "outputs": [],
   "source": [
    "hf_neighbor_survey[hf_neighbor_survey['NEIGHBORHOOD_HOUSING'] != hf_neighbor_survey['NEIGHBORHOOD_HOUSING_SURVEY']]"
   ]
  },
  {
   "cell_type": "code",
   "execution_count": null,
   "metadata": {},
   "outputs": [],
   "source": [
    "hf_neighbor_survey[hf_neighbor_survey['NEIGHBORHOOD_GRAFFITI'] != hf_neighbor_survey['NEIGHBORHOOD_GRAFFITI_SURVEY']][['person_id','NEIGHBORHOOD_GRAFFITI','NEIGHBORHOOD_GRAFFITI_SURVEY']]"
   ]
  },
  {
   "cell_type": "code",
   "execution_count": null,
   "metadata": {},
   "outputs": [],
   "source": [
    "hf_neighbor_survey[hf_neighbor_survey['NEIGHBORHOOD_NOISE'] != hf_neighbor_survey['NEIGHBORHOOD_NOISE_SURVEY']][['person_id','NEIGHBORHOOD_NOISE','NEIGHBORHOOD_NOISE_SURVEY']]"
   ]
  },
  {
   "cell_type": "code",
   "execution_count": null,
   "metadata": {},
   "outputs": [],
   "source": [
    "hf_neighbor_survey[hf_neighbor_survey['NEIGHBORHOOD_UNSAFE_WALK'] != hf_neighbor_survey['NEIGHBORHOOD_UNSAFE_WALK_SURVEY']]"
   ]
  },
  {
   "cell_type": "code",
   "execution_count": null,
   "metadata": {},
   "outputs": [],
   "source": [
    "hf_neighbor_survey[hf_neighbor_survey['NEIGHBORHOOD_CRIME_WALK'] != hf_neighbor_survey['NEIGHBORHOOD_CRIME_WALK_SURVEY']]"
   ]
  },
  {
   "cell_type": "code",
   "execution_count": null,
   "metadata": {},
   "outputs": [],
   "source": [
    "hf_neighbor_survey[hf_neighbor_survey['NEIGHBORHOOD_ALOT_CRIME'] != hf_neighbor_survey['NEIGHBORHOOD_ALOT_CRIME_SURVEY']]"
   ]
  },
  {
   "cell_type": "code",
   "execution_count": null,
   "metadata": {},
   "outputs": [],
   "source": [
    "hf_neighbor_survey[hf_neighbor_survey['NEIGHBORHOOD_SAME_VALUES'] != hf_neighbor_survey['NEIGHBORHOOD_SAME_VALUES_SURVEY']]"
   ]
  },
  {
   "cell_type": "code",
   "execution_count": null,
   "metadata": {},
   "outputs": [],
   "source": [
    "hf_neighbor_survey[hf_neighbor_survey['NEIGHBORHOOD_PPL_HANGING_AROUND'] != hf_neighbor_survey['NEIGHBORHOOD_PPL_HANGING_AROUND_SURVEY']]"
   ]
  },
  {
   "cell_type": "code",
   "execution_count": null,
   "metadata": {},
   "outputs": [],
   "source": [
    "hf_neighbor_survey[hf_neighbor_survey['NEIGHBORHOOD_TROUBLE'] != hf_neighbor_survey['NEIGHBORHOOD_TROUBLE_SURVEY']]"
   ]
  },
  {
   "cell_type": "code",
   "execution_count": null,
   "metadata": {},
   "outputs": [],
   "source": [
    "hf_neighbor_survey[hf_neighbor_survey['NEIGHBORHOOD_STORES'] != hf_neighbor_survey['NEIGHBORHOOD_STORES_SURVEY']]"
   ]
  },
  {
   "cell_type": "code",
   "execution_count": null,
   "metadata": {},
   "outputs": [],
   "source": [
    "hf_neighbor_survey[hf_neighbor_survey['NEIGHBORHOOD_TRANSIT'] != hf_neighbor_survey['NEIGHBORHOOD_TRANSIT_SURVEY']]"
   ]
  },
  {
   "cell_type": "markdown",
   "metadata": {},
   "source": [
    "### columns that don't match"
   ]
  },
  {
   "cell_type": "markdown",
   "metadata": {},
   "source": [
    "#### watch out for each other"
   ]
  },
  {
   "cell_type": "code",
   "execution_count": null,
   "metadata": {},
   "outputs": [],
   "source": [
    "hf_neighbor_survey[hf_neighbor_survey['NEIGHBORHOOD_WATCH'] != hf_neighbor_survey['NEIGHBORHOOD_WATCH_SURVEY']][['person_id','NEIGHBORHOOD_WATCH','NEIGHBORHOOD_WATCH_SURVEY']]"
   ]
  },
  {
   "cell_type": "code",
   "execution_count": null,
   "metadata": {},
   "outputs": [],
   "source": [
    "hf_neighbor_survey['NEIGHBORHOOD_WATCH_SURVEY'].value_counts()"
   ]
  },
  {
   "cell_type": "code",
   "execution_count": null,
   "metadata": {},
   "outputs": [],
   "source": [
    "hf_neighbor_survey['NEIGHBORHOOD_WATCH_SURVEY_dup'] = hf_neighbor_survey['NEIGHBORHOOD_WATCH_SURVEY']\n",
    "hf_neighbor_survey['NEIGHBORHOOD_WATCH_SURVEY_dup'] = hf_neighbor_survey['NEIGHBORHOOD_WATCH_SURVEY_dup'].replace({3 : 2,\n",
    "                                                                                                          4 : 3})\n",
    "hf_neighbor_survey['NEIGHBORHOOD_WATCH_SURVEY_dup'].value_counts()"
   ]
  },
  {
   "cell_type": "code",
   "execution_count": null,
   "metadata": {},
   "outputs": [],
   "source": [
    "hf_neighbor_survey[hf_neighbor_survey['NEIGHBORHOOD_WATCH'] != hf_neighbor_survey['NEIGHBORHOOD_WATCH_SURVEY_dup']][['person_id','NEIGHBORHOOD_WATCH','NEIGHBORHOOD_WATCH_SURVEY']]"
   ]
  },
  {
   "cell_type": "markdown",
   "metadata": {},
   "source": [
    "#### get along"
   ]
  },
  {
   "cell_type": "code",
   "execution_count": null,
   "metadata": {},
   "outputs": [],
   "source": [
    "hf_neighbor_survey[hf_neighbor_survey['NEIGHBORHOOD_GET_ALONG'] != hf_neighbor_survey['NEIGHBORHOOD_GET_ALONG_SURVEY']][['person_id','NEIGHBORHOOD_GET_ALONG','NEIGHBORHOOD_GET_ALONG_SURVEY']]"
   ]
  },
  {
   "cell_type": "code",
   "execution_count": null,
   "metadata": {},
   "outputs": [],
   "source": [
    "print(hf_neighbor_survey[(hf_neighbor_survey['NEIGHBORHOOD_GET_ALONG'] == 0) & (hf_neighbor_survey['NEIGHBORHOOD_GET_ALONG_SURVEY'] == 4)].shape[0])\n",
    "print(hf_neighbor_survey[(hf_neighbor_survey['NEIGHBORHOOD_GET_ALONG'] == 1) & (hf_neighbor_survey['NEIGHBORHOOD_GET_ALONG_SURVEY'] == 3)].shape[0])\n",
    "print(hf_neighbor_survey[(hf_neighbor_survey['NEIGHBORHOOD_GET_ALONG'] == 2) & (hf_neighbor_survey['NEIGHBORHOOD_GET_ALONG_SURVEY'] == 2)].shape[0])\n",
    "print(hf_neighbor_survey[(hf_neighbor_survey['NEIGHBORHOOD_GET_ALONG'] == 4) & (hf_neighbor_survey['NEIGHBORHOOD_GET_ALONG_SURVEY'] == 0)].shape[0])\n",
    "print(hf_neighbor_survey[(hf_neighbor_survey['NEIGHBORHOOD_GET_ALONG'] == 3) & (hf_neighbor_survey['NEIGHBORHOOD_GET_ALONG_SURVEY'] == 1)].shape[0])\n",
    "print(hf_neighbor_survey[(hf_neighbor_survey['NEIGHBORHOOD_GET_ALONG'].isna() == True) & (hf_neighbor_survey['NEIGHBORHOOD_GET_ALONG_SURVEY'].isna() == True)].shape[0])\n",
    "print(len(hf_neighbor_survey.index))"
   ]
  },
  {
   "cell_type": "markdown",
   "metadata": {},
   "source": [
    "### income\n",
    "\n",
    "**survey column = observation column**"
   ]
  },
  {
   "cell_type": "code",
   "execution_count": null,
   "metadata": {},
   "outputs": [],
   "source": [
    "hf_education_survey[hf_education_survey['INCOME'] != hf_education_survey['INCOME_ANNUAL_SURVEY']]['INCOME'].unique()"
   ]
  },
  {
   "cell_type": "markdown",
   "metadata": {},
   "source": [
    "### education\n",
    "\n",
    "**higher sample size in survey column than in observation columns**"
   ]
  },
  {
   "cell_type": "code",
   "execution_count": null,
   "metadata": {},
   "outputs": [],
   "source": [
    "print(len(hf_education_survey['EDUCATION_HIGHEST'].dropna().index))\n",
    "print(len(hf_education_survey['EDUCATION_HIGHEST_SURVEY'].dropna().index))\n",
    "print(len(hf_education_survey['EDUCATION_YEARS'].dropna().index))"
   ]
  },
  {
   "cell_type": "markdown",
   "metadata": {},
   "source": [
    "# clean up columns"
   ]
  },
  {
   "cell_type": "markdown",
   "metadata": {},
   "source": [
    "## drop duplicate columns between observation and survey data\n",
    "- keep neighborhood observation columns\n",
    "- keep income obeservation column\n",
    "- drop these columns due to low numbers\n",
    "    - EDUCATION_YEARS\n",
    "    - EDUCATION_HIGHEST\n",
    "- drop HF date- no longer needed"
   ]
  },
  {
   "cell_type": "code",
   "execution_count": null,
   "metadata": {},
   "outputs": [],
   "source": [
    "hf_ses_sub = hf_ses.drop(columns = ['NEIGHBORHOOD_HOUSING_SURVEY',\n",
    "                                    'NEIGHBORHOOD_SAFE_SURVEY',\n",
    "                                    'NEIGHBORHOOD_CLEAN_SURVEY',\n",
    "                                    'NEIGHBORHOOD_NOISE_SURVEY',\n",
    "                                    'NEIGHBORHOOD_VANDALISM_SURVEY',\n",
    "                                    'NEIGHBORHOOD_TRUST_SURVEY',\n",
    "                                    'NEIGHBORHOOD_ALOT_CRIME_SURVEY',\n",
    "                                    'NEIGHBORHOOD_GRAFFITI_SURVEY',\n",
    "                                    'NEIGHBORHOOD_DRUG_USE_SURVEY',\n",
    "                                    'NEIGHBORHOOD_SAME_VALUES_SURVEY',\n",
    "                                    'NEIGHBORHOOD_ALCOHOL_SURVEY',\n",
    "                                    'NEIGHBORHOOD_SIDEWALK_SURVEY',\n",
    "                                    'NEIGHBORHOOD_WATCH_SURVEY',\n",
    "                                    'NEIGHBORHOOD_BUILDING_SURVEY',\n",
    "                                    'NEIGHBORHOOD_GET_ALONG_SURVEY',\n",
    "                                    'NEIGHBORHOOD_UNSAFE_WALK_SURVEY',\n",
    "                                    'NEIGHBORHOOD_CRIME_WALK_SURVEY',\n",
    "                                    'NEIGHBORHOOD_CARE_SURVEY',\n",
    "                                    'NEIGHBORHOOD_BIKE_SURVEY',\n",
    "                                    'NEIGHBORHOOD_FREE_AMENITIES_SURVEY',\n",
    "                                    'NEIGHBORHOOD_PPL_HANGING_AROUND_SURVEY',\n",
    "                                    'NEIGHBORHOOD_TROUBLE_SURVEY',\n",
    "                                    'NEIGHBORHOOD_STORES_SURVEY',\n",
    "                                    'NEIGHBORHOOD_TRANSIT_SURVEY',\n",
    "                                    'EDUCATION_HIGHEST',\n",
    "                                    'EDUCATION_YEARS',\n",
    "                                    'INCOME_ANNUAL_SURVEY',\n",
    "                                    'HF_DATE'])\n",
    "hf_ses_sub.columns"
   ]
  },
  {
   "cell_type": "markdown",
   "metadata": {},
   "source": [
    "## rename remaining survey columns"
   ]
  },
  {
   "cell_type": "code",
   "execution_count": null,
   "metadata": {},
   "outputs": [],
   "source": [
    "hf_ses_sub.rename(columns = {'EDUCATION_HIGHEST_SURVEY' : 'EDUCATION_HIGHEST'}, inplace = True)\n",
    "hf_ses_sub.columns"
   ]
  },
  {
   "cell_type": "markdown",
   "metadata": {},
   "source": [
    "# merge with pgs df"
   ]
  },
  {
   "cell_type": "markdown",
   "metadata": {},
   "source": [
    "## subset and rename pgs df"
   ]
  },
  {
   "cell_type": "code",
   "execution_count": null,
   "metadata": {},
   "outputs": [],
   "source": [
    "pgs.rename(columns = {'IID' : 'person_id',\n",
    "                      'Z_norm2' : 'PGS'}, inplace = True)\n",
    "pgs.head()"
   ]
  },
  {
   "cell_type": "markdown",
   "metadata": {},
   "source": [
    "## remove non-AOU ids"
   ]
  },
  {
   "cell_type": "code",
   "execution_count": null,
   "metadata": {},
   "outputs": [],
   "source": [
    "pgs_filt = pgs[~pgs['person_id'].str.contains('NA|HG|SS')]\n",
    "print(len(pgs_filt.index))"
   ]
  },
  {
   "cell_type": "markdown",
   "metadata": {},
   "source": [
    "## convert dtype to int"
   ]
  },
  {
   "cell_type": "code",
   "execution_count": null,
   "metadata": {},
   "outputs": [],
   "source": [
    "pgs_filt['person_id'] = pgs_filt['person_id'].astype(int)\n",
    "pgs_filt['person_id'].dtype"
   ]
  },
  {
   "cell_type": "markdown",
   "metadata": {},
   "source": [
    "## merge"
   ]
  },
  {
   "cell_type": "code",
   "execution_count": null,
   "metadata": {},
   "outputs": [],
   "source": [
    "hf_pgs = hf_ses_sub.merge(pgs_filt, on = 'person_id', how = 'left')\n",
    "print(len(hf_pgs.dropna(subset = ['PGS']).index))\n",
    "print(len(hf_pgs.index))\n",
    "hf_pgs.head()"
   ]
  },
  {
   "cell_type": "markdown",
   "metadata": {},
   "source": [
    "## export"
   ]
  },
  {
   "cell_type": "code",
   "execution_count": null,
   "metadata": {},
   "outputs": [],
   "source": [
    "hf_pgs.to_csv('HF_Clinical_PGS.phenotype.csv', index = None)"
   ]
  },
  {
   "cell_type": "markdown",
   "metadata": {},
   "source": [
    "# examine and remove missingness"
   ]
  },
  {
   "cell_type": "markdown",
   "metadata": {},
   "source": [
    "## create column list"
   ]
  },
  {
   "cell_type": "code",
   "execution_count": null,
   "metadata": {},
   "outputs": [],
   "source": [
    "col_list = hf_pgs.columns.tolist()\n",
    "remove_list = ['person_id', 'HF', 'PGS']\n",
    "for col in remove_list:\n",
    "    col_list.remove(col)\n",
    "print(len(hf_pgs.index))\n",
    "col_list"
   ]
  },
  {
   "cell_type": "markdown",
   "metadata": {},
   "source": [
    "## get percent missingness"
   ]
  },
  {
   "cell_type": "code",
   "execution_count": null,
   "metadata": {},
   "outputs": [],
   "source": [
    "df_list = []\n",
    "\n",
    "for col in col_list:\n",
    "    percent = ((len(hf_pgs[col].dropna().index)) / 406513) * 100\n",
    "    df = pd.DataFrame(data = {'COLUMN' : [col],\n",
    "                              'PERCENT' : [percent]})\n",
    "    df_list.append(df)\n",
    "\n",
    "percent_df = pd.concat(df_list, axis = 0)\n",
    "percent_df"
   ]
  },
  {
   "cell_type": "markdown",
   "metadata": {},
   "source": [
    "## export percent missingness df"
   ]
  },
  {
   "cell_type": "code",
   "execution_count": null,
   "metadata": {},
   "outputs": [],
   "source": [
    "percent_df.to_csv('HF.risk_factors.percent_missingness.csv', index = None)"
   ]
  },
  {
   "cell_type": "markdown",
   "metadata": {},
   "source": [
    "## drop missing"
   ]
  },
  {
   "cell_type": "code",
   "execution_count": null,
   "metadata": {},
   "outputs": [],
   "source": [
    "hf_pgs_no_missing = hf_pgs.dropna()\n",
    "print(len(hf_pgs_no_missing.index))\n",
    "hf_pgs_no_missing['HF'].value_counts(dropna = False)"
   ]
  },
  {
   "cell_type": "markdown",
   "metadata": {},
   "source": [
    "## export df"
   ]
  },
  {
   "cell_type": "code",
   "execution_count": null,
   "metadata": {},
   "outputs": [],
   "source": [
    "hf_pgs_no_missing.to_csv('HF_Clinical_PGS.phenotype.no_missing', index = None)"
   ]
  },
  {
   "cell_type": "markdown",
   "metadata": {},
   "source": [
    "# normalize variables"
   ]
  },
  {
   "cell_type": "markdown",
   "metadata": {},
   "source": [
    "## define inverse normal transformation function"
   ]
  },
  {
   "cell_type": "code",
   "execution_count": null,
   "metadata": {},
   "outputs": [],
   "source": [
    "def inverse_normal_transform(x):\n",
    "    \"\"\"Applies rank-based inverse normal transformation.\"\"\"\n",
    "    ranks = x.rank(method='average', na_option='keep')\n",
    "    n = ranks.notna().sum()\n",
    "    transformed = norm.ppf((ranks - 0.5) / n)\n",
    "    return transformed"
   ]
  },
  {
   "cell_type": "markdown",
   "metadata": {},
   "source": [
    "## define min/max scaler function"
   ]
  },
  {
   "cell_type": "code",
   "execution_count": null,
   "metadata": {},
   "outputs": [],
   "source": [
    "crs_scaler = MinMaxScaler()"
   ]
  },
  {
   "cell_type": "code",
   "execution_count": null,
   "metadata": {},
   "outputs": [],
   "source": [
    "pxs_scaler =  MinMaxScaler(feature_range=(0, 2))"
   ]
  },
  {
   "cell_type": "markdown",
   "metadata": {},
   "source": [
    "## CRS risk factors"
   ]
  },
  {
   "cell_type": "markdown",
   "metadata": {},
   "source": [
    "### trig"
   ]
  },
  {
   "cell_type": "code",
   "execution_count": null,
   "metadata": {},
   "outputs": [],
   "source": [
    "sns.kdeplot(hf_pgs_no_missing['TRIG'], fill = True)\n",
    "plt.show()"
   ]
  },
  {
   "cell_type": "code",
   "execution_count": null,
   "metadata": {},
   "outputs": [],
   "source": [
    "hf_pgs_no_missing['TRIG_INV_NORMAL'] = inverse_normal_transform(hf_pgs_no_missing['TRIG'])\n",
    "sns.kdeplot(hf_pgs_no_missing['TRIG_INV_NORMAL'], fill = True)\n",
    "plt.show()\n",
    "hf_pgs_no_missing['TRIG_INV_NORMAL_SCALE'] = crs_scaler.fit_transform(hf_pgs_no_missing[['TRIG_INV_NORMAL']])\n",
    "sns.kdeplot(hf_pgs_no_missing['TRIG_INV_NORMAL_SCALE'], fill = True)\n",
    "plt.show()"
   ]
  },
  {
   "cell_type": "markdown",
   "metadata": {},
   "source": [
    "### LDL"
   ]
  },
  {
   "cell_type": "code",
   "execution_count": null,
   "metadata": {},
   "outputs": [],
   "source": [
    "sns.kdeplot(hf_pgs_no_missing['LDL'], fill = True)\n",
    "plt.show()"
   ]
  },
  {
   "cell_type": "code",
   "execution_count": null,
   "metadata": {},
   "outputs": [],
   "source": [
    "hf_pgs_no_missing['LDL_INV_NORMAL'] = inverse_normal_transform(hf_pgs_no_missing['LDL'])\n",
    "sns.kdeplot(hf_pgs_no_missing['LDL_INV_NORMAL'], fill = True)\n",
    "plt.show()\n",
    "hf_pgs_no_missing['LDL_INV_NORMAL_SCALE'] = crs_scaler.fit_transform(hf_pgs_no_missing[['LDL_INV_NORMAL']])\n",
    "sns.kdeplot(hf_pgs_no_missing['LDL_INV_NORMAL_SCALE'], fill = True)\n",
    "plt.show()"
   ]
  },
  {
   "cell_type": "markdown",
   "metadata": {},
   "source": [
    "### hdl"
   ]
  },
  {
   "cell_type": "code",
   "execution_count": null,
   "metadata": {},
   "outputs": [],
   "source": [
    "hf_pgs_no_missing['HDL_INV_NORMAL'] = inverse_normal_transform(hf_pgs_no_missing['HDL'])\n",
    "hf_pgs_no_missing['HDL_INV_NORMAL_SCALE'] = crs_scaler.fit_transform(hf_pgs_no_missing[['HDL_INV_NORMAL']])"
   ]
  },
  {
   "cell_type": "markdown",
   "metadata": {},
   "source": [
    "### glucose"
   ]
  },
  {
   "cell_type": "code",
   "execution_count": null,
   "metadata": {},
   "outputs": [],
   "source": [
    "hf_pgs_no_missing['GLUCOSE_INV_NORMAL'] = inverse_normal_transform(hf_pgs_no_missing['GLUCOSE'])\n",
    "hf_pgs_no_missing['GLUCOSE_INV_NORMAL_SCALE'] = crs_scaler.fit_transform(hf_pgs_no_missing[['GLUCOSE_INV_NORMAL']])"
   ]
  },
  {
   "cell_type": "markdown",
   "metadata": {},
   "source": [
    "### hba1c"
   ]
  },
  {
   "cell_type": "code",
   "execution_count": null,
   "metadata": {},
   "outputs": [],
   "source": [
    "hf_pgs_no_missing['HbA1c_INV_NORMAL'] = inverse_normal_transform(hf_pgs_no_missing['HbA1c'])\n",
    "hf_pgs_no_missing['HbA1c_INV_NORMAL_SCALE'] = crs_scaler.fit_transform(hf_pgs_no_missing[['HbA1c_INV_NORMAL']])"
   ]
  },
  {
   "cell_type": "markdown",
   "metadata": {},
   "source": [
    "### systolic"
   ]
  },
  {
   "cell_type": "code",
   "execution_count": null,
   "metadata": {},
   "outputs": [],
   "source": [
    "hf_pgs_no_missing['SBP_INV_NORMAL'] = inverse_normal_transform(hf_pgs_no_missing['SBP'])\n",
    "hf_pgs_no_missing['SBP_INV_NORMAL_SCALE'] = crs_scaler.fit_transform(hf_pgs_no_missing[['SBP_INV_NORMAL']])"
   ]
  },
  {
   "cell_type": "markdown",
   "metadata": {},
   "source": [
    "### diastolic"
   ]
  },
  {
   "cell_type": "code",
   "execution_count": null,
   "metadata": {},
   "outputs": [],
   "source": [
    "hf_pgs_no_missing['DBP_INV_NORMAL'] = inverse_normal_transform(hf_pgs_no_missing['DBP'])\n",
    "hf_pgs_no_missing['DBP_INV_NORMAL_SCALE'] = crs_scaler.fit_transform(hf_pgs_no_missing[['DBP_INV_NORMAL']])"
   ]
  },
  {
   "cell_type": "markdown",
   "metadata": {},
   "source": [
    "## PXS risk factors"
   ]
  },
  {
   "cell_type": "markdown",
   "metadata": {},
   "source": [
    "### bmi"
   ]
  },
  {
   "cell_type": "code",
   "execution_count": null,
   "metadata": {},
   "outputs": [],
   "source": [
    "hf_pgs_no_missing['BMI_INV_NORMAL'] = inverse_normal_transform(hf_pgs_no_missing['BMI'])\n",
    "hf_pgs_no_missing['BMI_INV_NORMAL_SCALE'] = pxs_scaler.fit_transform(hf_pgs_no_missing[['BMI_INV_NORMAL']])\n",
    "sns.kdeplot(hf_pgs_no_missing['BMI_INV_NORMAL_SCALE'], fill = True)\n",
    "plt.show()"
   ]
  },
  {
   "cell_type": "markdown",
   "metadata": {},
   "source": [
    "### physical activity"
   ]
  },
  {
   "cell_type": "code",
   "execution_count": null,
   "metadata": {},
   "outputs": [],
   "source": [
    "counts = hf_pgs_no_missing['PA_EVERYDAY'].value_counts().sort_index()\n",
    "plt.bar(counts.index, counts.values)\n",
    "plt.show()\n",
    "hf_pgs_no_missing['PA_EVERYDAY_SCALE'] = pxs_scaler.fit_transform(hf_pgs_no_missing[['PA_EVERYDAY']])\n",
    "counts = hf_pgs_no_missing['PA_EVERYDAY_SCALE'].value_counts().sort_index()\n",
    "plt.bar(counts.index, counts.values)\n",
    "plt.show()"
   ]
  },
  {
   "cell_type": "markdown",
   "metadata": {},
   "source": [
    "### neighborhood"
   ]
  },
  {
   "cell_type": "code",
   "execution_count": null,
   "metadata": {},
   "outputs": [],
   "source": [
    "hf_pgs_no_missing['NEIGHBORHOOD_DRUG_USE_SCALE'] = pxs_scaler.fit_transform(hf_pgs_no_missing[['NEIGHBORHOOD_DRUG_USE']])"
   ]
  },
  {
   "cell_type": "code",
   "execution_count": null,
   "metadata": {},
   "outputs": [],
   "source": [
    "hf_pgs_no_missing['NEIGHBORHOOD_SAFE_CRIME_SCALE'] = pxs_scaler.fit_transform(hf_pgs_no_missing[['NEIGHBORHOOD_SAFE_CRIME']])"
   ]
  },
  {
   "cell_type": "code",
   "execution_count": null,
   "metadata": {},
   "outputs": [],
   "source": [
    "counts = hf_pgs_no_missing['NEIGHBORHOOD_TRUST'].value_counts().sort_index()\n",
    "plt.bar(counts.index, counts.values)\n",
    "plt.show()\n",
    "hf_pgs_no_missing['NEIGHBORHOOD_TRUST_SCALE'] = pxs_scaler.fit_transform(hf_pgs_no_missing[['NEIGHBORHOOD_TRUST']])\n",
    "counts = hf_pgs_no_missing['NEIGHBORHOOD_TRUST_SCALE'].value_counts().sort_index()\n",
    "plt.bar(counts.index, counts.values)\n",
    "plt.show()"
   ]
  },
  {
   "cell_type": "code",
   "execution_count": null,
   "metadata": {},
   "outputs": [],
   "source": [
    "hf_pgs_no_missing['NEIGHBORHOOD_BUILDING_SCALE'] = pxs_scaler.fit_transform(hf_pgs_no_missing[['NEIGHBORHOOD_BUILDING']])"
   ]
  },
  {
   "cell_type": "code",
   "execution_count": null,
   "metadata": {},
   "outputs": [],
   "source": [
    "hf_pgs_no_missing['NEIGHBORHOOD_ALCOHOL_SCALE'] = pxs_scaler.fit_transform(hf_pgs_no_missing[['NEIGHBORHOOD_ALCOHOL']])"
   ]
  },
  {
   "cell_type": "code",
   "execution_count": null,
   "metadata": {},
   "outputs": [],
   "source": [
    "hf_pgs_no_missing['NEIGHBORHOOD_VANDALISM_SCALE'] = pxs_scaler.fit_transform(hf_pgs_no_missing[['NEIGHBORHOOD_VANDALISM']])"
   ]
  },
  {
   "cell_type": "code",
   "execution_count": null,
   "metadata": {},
   "outputs": [],
   "source": [
    "hf_pgs_no_missing['NEIGHBORHOOD_SIDEWALK_SCALE'] = pxs_scaler.fit_transform(hf_pgs_no_missing[['NEIGHBORHOOD_SIDEWALK']])"
   ]
  },
  {
   "cell_type": "code",
   "execution_count": null,
   "metadata": {},
   "outputs": [],
   "source": [
    "hf_pgs_no_missing['NEIGHBORHOOD_BIKE_SCALE'] = pxs_scaler.fit_transform(hf_pgs_no_missing[['NEIGHBORHOOD_BIKE']])"
   ]
  },
  {
   "cell_type": "code",
   "execution_count": null,
   "metadata": {},
   "outputs": [],
   "source": [
    "hf_pgs_no_missing['NEIGHBORHOOD_CLEAN_SCALE'] = pxs_scaler.fit_transform(hf_pgs_no_missing[['NEIGHBORHOOD_CLEAN']])"
   ]
  },
  {
   "cell_type": "code",
   "execution_count": null,
   "metadata": {},
   "outputs": [],
   "source": [
    "hf_pgs_no_missing['NEIGHBORHOOD_WATCH_SCALE'] = pxs_scaler.fit_transform(hf_pgs_no_missing[['NEIGHBORHOOD_WATCH']])"
   ]
  },
  {
   "cell_type": "code",
   "execution_count": null,
   "metadata": {},
   "outputs": [],
   "source": [
    "counts = hf_pgs_no_missing['NEIGHBORHOOD_HOUSING'].value_counts().sort_index()\n",
    "plt.bar(counts.index, counts.values)\n",
    "plt.show()\n",
    "hf_pgs_no_missing['NEIGHBORHOOD_HOUSING_SCALE'] = pxs_scaler.fit_transform(hf_pgs_no_missing[['NEIGHBORHOOD_HOUSING']])\n",
    "counts = hf_pgs_no_missing['NEIGHBORHOOD_HOUSING_SCALE'].value_counts().sort_index()\n",
    "plt.bar(counts.index, counts.values)\n",
    "plt.show()"
   ]
  },
  {
   "cell_type": "code",
   "execution_count": null,
   "metadata": {},
   "outputs": [],
   "source": [
    "counts = hf_pgs_no_missing['NEIGHBORHOOD_GET_ALONG'].value_counts().sort_index()\n",
    "plt.bar(counts.index, counts.values)\n",
    "plt.show()\n",
    "hf_pgs_no_missing['NEIGHBORHOOD_GET_ALONG_SCALE'] = pxs_scaler.fit_transform(hf_pgs_no_missing[['NEIGHBORHOOD_GET_ALONG']])\n",
    "counts = hf_pgs_no_missing['NEIGHBORHOOD_GET_ALONG_SCALE'].value_counts().sort_index()\n",
    "plt.bar(counts.index, counts.values)\n",
    "plt.show()"
   ]
  },
  {
   "cell_type": "code",
   "execution_count": null,
   "metadata": {},
   "outputs": [],
   "source": [
    "hf_pgs_no_missing['NEIGHBORHOOD_UNSAFE_WALK_SCALE'] = pxs_scaler.fit_transform(hf_pgs_no_missing[['NEIGHBORHOOD_UNSAFE_WALK']])"
   ]
  },
  {
   "cell_type": "code",
   "execution_count": null,
   "metadata": {},
   "outputs": [],
   "source": [
    "hf_pgs_no_missing['NEIGHBORHOOD_CARE_SCALE'] = pxs_scaler.fit_transform(hf_pgs_no_missing[['NEIGHBORHOOD_CARE']])"
   ]
  },
  {
   "cell_type": "code",
   "execution_count": null,
   "metadata": {},
   "outputs": [],
   "source": [
    "hf_pgs_no_missing['NEIGHBORHOOD_ALOT_CRIME_SCALE'] = pxs_scaler.fit_transform(hf_pgs_no_missing[['NEIGHBORHOOD_ALOT_CRIME']])"
   ]
  },
  {
   "cell_type": "code",
   "execution_count": null,
   "metadata": {},
   "outputs": [],
   "source": [
    "hf_pgs_no_missing['NEIGHBORHOOD_CRIME_WALK_SCALE'] = pxs_scaler.fit_transform(hf_pgs_no_missing[['NEIGHBORHOOD_CRIME_WALK']])"
   ]
  },
  {
   "cell_type": "code",
   "execution_count": null,
   "metadata": {},
   "outputs": [],
   "source": [
    "hf_pgs_no_missing['NEIGHBORHOOD_SAME_VALUES_SCALE'] = pxs_scaler.fit_transform(hf_pgs_no_missing[['NEIGHBORHOOD_SAME_VALUES']])"
   ]
  },
  {
   "cell_type": "code",
   "execution_count": null,
   "metadata": {},
   "outputs": [],
   "source": [
    "hf_pgs_no_missing['NEIGHBORHOOD_GRAFFITI_SCALE'] = pxs_scaler.fit_transform(hf_pgs_no_missing[['NEIGHBORHOOD_GRAFFITI']])"
   ]
  },
  {
   "cell_type": "code",
   "execution_count": null,
   "metadata": {},
   "outputs": [],
   "source": [
    "hf_pgs_no_missing['NEIGHBORHOOD_NOISE_SCALE'] = pxs_scaler.fit_transform(hf_pgs_no_missing[['NEIGHBORHOOD_NOISE']])"
   ]
  },
  {
   "cell_type": "code",
   "execution_count": null,
   "metadata": {},
   "outputs": [],
   "source": [
    "hf_pgs_no_missing['NEIGHBORHOOD_FREE_AMENITIES_SCALE'] = pxs_scaler.fit_transform(hf_pgs_no_missing[['NEIGHBORHOOD_FREE_AMENITIES']])"
   ]
  },
  {
   "cell_type": "code",
   "execution_count": null,
   "metadata": {},
   "outputs": [],
   "source": [
    "hf_pgs_no_missing['NEIGHBORHOOD_PPL_HANGING_AROUND_SCALE'] = pxs_scaler.fit_transform(hf_pgs_no_missing[['NEIGHBORHOOD_PPL_HANGING_AROUND']])"
   ]
  },
  {
   "cell_type": "code",
   "execution_count": null,
   "metadata": {},
   "outputs": [],
   "source": [
    "hf_pgs_no_missing['NEIGHBORHOOD_TROUBLE_SCALE'] = pxs_scaler.fit_transform(hf_pgs_no_missing[['NEIGHBORHOOD_TROUBLE']])"
   ]
  },
  {
   "cell_type": "code",
   "execution_count": null,
   "metadata": {},
   "outputs": [],
   "source": [
    "hf_pgs_no_missing['NEIGHBORHOOD_STORES_SCALE'] = pxs_scaler.fit_transform(hf_pgs_no_missing[['NEIGHBORHOOD_STORES']])"
   ]
  },
  {
   "cell_type": "code",
   "execution_count": null,
   "metadata": {},
   "outputs": [],
   "source": [
    "hf_pgs_no_missing['NEIGHBORHOOD_TRANSIT_SCALE'] = pxs_scaler.fit_transform(hf_pgs_no_missing[['NEIGHBORHOOD_TRANSIT']])"
   ]
  },
  {
   "cell_type": "markdown",
   "metadata": {},
   "source": [
    "### income"
   ]
  },
  {
   "cell_type": "code",
   "execution_count": null,
   "metadata": {},
   "outputs": [],
   "source": [
    "counts = hf_pgs_no_missing['INCOME'].value_counts().sort_index()\n",
    "plt.bar(counts.index, counts.values)\n",
    "plt.show()\n",
    "hf_pgs_no_missing['INCOME_SCALE'] = pxs_scaler.fit_transform(hf_pgs_no_missing[['INCOME']])\n",
    "counts = hf_pgs_no_missing['INCOME_SCALE'].value_counts().sort_index()\n",
    "plt.bar(counts.index, counts.values)\n",
    "plt.show()"
   ]
  },
  {
   "cell_type": "markdown",
   "metadata": {},
   "source": [
    "### highest education"
   ]
  },
  {
   "cell_type": "code",
   "execution_count": null,
   "metadata": {},
   "outputs": [],
   "source": [
    "counts = hf_pgs_no_missing['EDUCATION_HIGHEST'].value_counts().sort_index()\n",
    "plt.bar(counts.index, counts.values)\n",
    "plt.show()\n",
    "hf_pgs_no_missing['EDUCATION_HIGHEST_SCALE'] = pxs_scaler.fit_transform(hf_pgs_no_missing[['EDUCATION_HIGHEST']])\n",
    "counts = hf_pgs_no_missing['EDUCATION_HIGHEST_SCALE'].value_counts().sort_index()\n",
    "plt.bar(counts.index, counts.values)\n",
    "plt.show()"
   ]
  },
  {
   "cell_type": "markdown",
   "metadata": {},
   "source": [
    "### census median income"
   ]
  },
  {
   "cell_type": "code",
   "execution_count": null,
   "metadata": {},
   "outputs": [],
   "source": [
    "sns.kdeplot(hf_pgs_no_missing['CENSUS_MEDIAN_INCOME'], fill=True)\n",
    "plt.show()\n",
    "hf_pgs_no_missing['CENSUS_MEDIAN_INCOME_INV_NORMAL'] = inverse_normal_transform(hf_pgs_no_missing['CENSUS_MEDIAN_INCOME'])\n",
    "sns.kdeplot(hf_pgs_no_missing['CENSUS_MEDIAN_INCOME_INV_NORMAL'], fill=True)\n",
    "plt.show()\n",
    "hf_pgs_no_missing['CENSUS_MEDIAN_INCOME_INV_NORMAL_SCALE'] = pxs_scaler.fit_transform(hf_pgs_no_missing[['CENSUS_MEDIAN_INCOME_INV_NORMAL']])\n",
    "sns.kdeplot(hf_pgs_no_missing['CENSUS_MEDIAN_INCOME_INV_NORMAL_SCALE'], fill=True)\n",
    "plt.show()"
   ]
  },
  {
   "cell_type": "markdown",
   "metadata": {},
   "source": [
    "### social deprivation index"
   ]
  },
  {
   "cell_type": "code",
   "execution_count": null,
   "metadata": {},
   "outputs": [],
   "source": [
    "sns.kdeplot(hf_pgs_no_missing['SOCIAL_DEPRIVATION_INDEX'], fill = True)\n",
    "plt.show()\n",
    "hf_pgs_no_missing['SOCIAL_DEPRIVATION_INDEX_INV_NORMAL'] = inverse_normal_transform(hf_pgs_no_missing['SOCIAL_DEPRIVATION_INDEX'])\n",
    "sns.kdeplot(hf_pgs_no_missing['SOCIAL_DEPRIVATION_INDEX_INV_NORMAL'], fill = True)\n",
    "plt.show()\n",
    "hf_pgs_no_missing['SOCIAL_DEPRIVATION_INDEX_INV_NORMAL_SCALE'] = pxs_scaler.fit_transform(hf_pgs_no_missing[['SOCIAL_DEPRIVATION_INDEX_INV_NORMAL']])\n",
    "sns.kdeplot(hf_pgs_no_missing['SOCIAL_DEPRIVATION_INDEX_INV_NORMAL_SCALE'], fill=True)\n",
    "plt.show()"
   ]
  },
  {
   "cell_type": "markdown",
   "metadata": {},
   "source": [
    "## export df"
   ]
  },
  {
   "cell_type": "code",
   "execution_count": null,
   "metadata": {},
   "outputs": [],
   "source": [
    "hf_pgs_no_missing.to_csv('HF_Clinical_PGS.phenotype.no_missing.variable_transformation.csv', index = None)"
   ]
  },
  {
   "cell_type": "markdown",
   "metadata": {},
   "source": [
    "# read in outputs from feature selection 1000 iterations"
   ]
  },
  {
   "cell_type": "markdown",
   "metadata": {},
   "source": [
    "## read in and combine outputs"
   ]
  },
  {
   "cell_type": "code",
   "execution_count": null,
   "metadata": {},
   "outputs": [],
   "source": [
    "significant = []\n",
    "insignificant = []\n",
    "important = []\n",
    "unimportant = []\n",
    "beta = []\n",
    "pval = []\n",
    "coef = []\n",
    "\n",
    "for iter in list(range(1, 1001)):\n",
    "    significant_filename = 'train/LR_significant_ITER_' + str(iter) + '.txt'\n",
    "    insignificant_filename = 'train/LR_insignificant_ITER_' + str(iter) + '.txt'\n",
    "    beta_filename = 'train/LR_beta_ITER_' + str(iter) + '.txt'\n",
    "    pval_filename = 'train/LR_pval_ITER_' + str(iter) + '.txt'\n",
    "    important_filename = 'train/LASSO_important_ITER_' + str(iter) + '.txt'\n",
    "    unimportant_filename = 'train/LASSO_unimportant_ITER_' + str(iter) + '.txt'\n",
    "    coef_filename = 'train/LASSO_coef_ITER_' + str(iter) + '.txt'\n",
    "    \n",
    "    significant.append(pd.read_csv(significant_filename, sep = '\\t', index_col = 0))\n",
    "    insignificant.append(pd.read_csv(insignificant_filename, sep = '\\t', index_col = 0))\n",
    "    important.append(pd.read_csv(important_filename, sep = '\\t', index_col = 0))\n",
    "    unimportant.append(pd.read_csv(unimportant_filename, sep = '\\t', index_col = 0))\n",
    "    beta.append(pd.read_csv(beta_filename, sep = '\\t', index_col = 0))\n",
    "    pval.append(pd.read_csv(pval_filename, sep = '\\t', index_col = 0))\n",
    "    coef.append(pd.read_csv(coef_filename, sep = '\\t', index_col = 0))\n",
    "\n",
    "significant_df = pd.concat(significant, axis = 1)\n",
    "insignificant_df = pd.concat(insignificant, axis = 1)\n",
    "important_df = pd.concat(important, axis = 1)\n",
    "unimportant_df = pd.concat(unimportant, axis = 1)\n",
    "beta_df = pd.concat(beta, axis = 1)\n",
    "pval_df = pd.concat(pval, axis = 1)\n",
    "coef_df = pd.concat(coef, axis = 1)"
   ]
  },
  {
   "cell_type": "markdown",
   "metadata": {},
   "source": [
    "## identify number/percent significant"
   ]
  },
  {
   "cell_type": "code",
   "execution_count": null,
   "metadata": {},
   "outputs": [],
   "source": [
    "significant_df['num_sig'] = significant_df.notna().sum(axis = 1)\n",
    "significant_df['percent_sig'] = (significant_df['num_sig']/1000) * 100\n",
    "significant_df[['num_sig', 'percent_sig']]"
   ]
  },
  {
   "cell_type": "markdown",
   "metadata": {},
   "source": [
    "## identify number/percent insignificant"
   ]
  },
  {
   "cell_type": "code",
   "execution_count": null,
   "metadata": {},
   "outputs": [],
   "source": [
    "insignificant_df['num_insig'] = insignificant_df.notna().sum(axis = 1)\n",
    "insignificant_df['percent_insig'] = (insignificant_df['num_insig']/1000) * 100\n",
    "insignificant_df[['num_insig', 'percent_insig']]"
   ]
  },
  {
   "cell_type": "markdown",
   "metadata": {},
   "source": [
    "## identify number/percent important"
   ]
  },
  {
   "cell_type": "code",
   "execution_count": null,
   "metadata": {},
   "outputs": [],
   "source": [
    "important_df['num_important'] = important_df.notna().sum(axis = 1)\n",
    "important_df['percent_important'] = (important_df['num_important']/1000) * 100\n",
    "important_df[['num_important', 'percent_important']]"
   ]
  },
  {
   "cell_type": "markdown",
   "metadata": {},
   "source": [
    "## identify number/percent unimportant"
   ]
  },
  {
   "cell_type": "code",
   "execution_count": null,
   "metadata": {},
   "outputs": [],
   "source": [
    "unimportant_df['num_unimportant'] = unimportant_df.isna().sum(axis = 1)\n",
    "unimportant_df['percent_unimportant'] = (unimportant_df['num_unimportant']/1000) * 100\n",
    "unimportant_df[['num_unimportant', 'percent_unimportant']]"
   ]
  },
  {
   "cell_type": "markdown",
   "metadata": {},
   "source": [
    "## calculate mean beta"
   ]
  },
  {
   "cell_type": "code",
   "execution_count": null,
   "metadata": {},
   "outputs": [],
   "source": [
    "beta_df['MEAN_BETA'] = beta_df.mean(axis = 1)\n",
    "beta_df[['MEAN_BETA']]"
   ]
  },
  {
   "cell_type": "markdown",
   "metadata": {},
   "source": [
    "## calculate mean pval"
   ]
  },
  {
   "cell_type": "code",
   "execution_count": null,
   "metadata": {},
   "outputs": [],
   "source": [
    "pval_df['MEAN_PVAL'] = pval_df.mean(axis = 1)\n",
    "pval_df[['MEAN_PVAL']]"
   ]
  },
  {
   "cell_type": "markdown",
   "metadata": {},
   "source": [
    "## calculate mean absolute coefficient"
   ]
  },
  {
   "cell_type": "code",
   "execution_count": null,
   "metadata": {},
   "outputs": [],
   "source": [
    "coef_df['MEAN_COEF'] = coef_df.abs().mean(axis = 1)\n",
    "coef_df[['MEAN_COEF']]"
   ]
  },
  {
   "cell_type": "markdown",
   "metadata": {},
   "source": [
    "## filter columns to sig and important >= 95% time"
   ]
  },
  {
   "cell_type": "code",
   "execution_count": null,
   "metadata": {},
   "outputs": [],
   "source": [
    "significant_95 = significant_df[significant_df['percent_sig'] >= 95]\n",
    "significant_95[['num_sig', 'percent_sig']]"
   ]
  },
  {
   "cell_type": "code",
   "execution_count": null,
   "metadata": {},
   "outputs": [],
   "source": [
    "important_95 = important_df[important_df['percent_important'] >= 95]\n",
    "important_95[['num_important', 'percent_important']]"
   ]
  },
  {
   "cell_type": "code",
   "execution_count": null,
   "metadata": {},
   "outputs": [],
   "source": [
    "print(len(significant_95.index.intersection(important_95.index)))\n",
    "significant_95.index.intersection(important_95.index)"
   ]
  },
  {
   "cell_type": "markdown",
   "metadata": {},
   "source": [
    "## combine aggregate metrics into one df"
   ]
  },
  {
   "cell_type": "code",
   "execution_count": null,
   "metadata": {},
   "outputs": [],
   "source": [
    "sig_sub = significant_df[['percent_sig']]\n",
    "sig_sub.rename(columns = {'percent_sig' : 'PERCENT_SIGNIFICANT'}, inplace = True)\n",
    "important_sub = important_df[['percent_important']]\n",
    "important_sub.rename(columns = {'percent_important' : 'PERCENT_IMPORTANT'}, inplace = True)\n",
    "pval_sub = pval_df[['MEAN_PVAL']]\n",
    "coef_sub = coef_df[['MEAN_COEF']]\n",
    "beta_sub = beta_df[['MEAN_BETA']]\n",
    "sig_important = pd.concat([sig_sub, pval_sub, important_sub, coef_sub, beta_sub], axis = 1)\n",
    "sig_important"
   ]
  },
  {
   "cell_type": "markdown",
   "metadata": {},
   "source": [
    "## export"
   ]
  },
  {
   "cell_type": "code",
   "execution_count": null,
   "metadata": {},
   "outputs": [],
   "source": [
    "significant_95_sub = significant_95[['num_sig', 'percent_sig']]\n",
    "significant_95.to_csv('significant_vars_95.csv')"
   ]
  },
  {
   "cell_type": "code",
   "execution_count": null,
   "metadata": {},
   "outputs": [],
   "source": [
    "important_95_sub = important_95[['num_important', 'percent_important']]\n",
    "important_95.to_csv('important_vars_95.csv')"
   ]
  },
  {
   "cell_type": "code",
   "execution_count": null,
   "metadata": {},
   "outputs": [],
   "source": [
    "beta_df_export = beta_df.drop(columns = ['MEAN_BETA'])\n",
    "beta_df_export.to_csv('LR_beta_all_iter.csv')"
   ]
  },
  {
   "cell_type": "code",
   "execution_count": null,
   "metadata": {},
   "outputs": [],
   "source": [
    "sig_important.to_csv('all_vars_significant_important.csv')"
   ]
  },
  {
   "cell_type": "markdown",
   "metadata": {},
   "source": [
    "# read in outputs from model evaluation 1000 iterations"
   ]
  },
  {
   "cell_type": "markdown",
   "metadata": {},
   "source": [
    "## read in and combine outputs"
   ]
  },
  {
   "cell_type": "code",
   "execution_count": null,
   "metadata": {},
   "outputs": [],
   "source": [
    "auroc = []\n",
    "auprc = []\n",
    "f1 = []\n",
    "balanced_acc = []\n",
    "\n",
    "for iter in list(range(1, 1001)):\n",
    "    auroc_filename = 'eval/AUROC_ITER_' + str(iter) + '.txt'\n",
    "    auprc_filename = 'eval/AUPRC_ITER_' + str(iter) + '.txt'\n",
    "    f1_filename = 'eval/F1_SCORE_ITER_' + str(iter) + '.txt'\n",
    "    balanced_acc_filename = 'eval/BALANCED_ACCURACY_ITER_' + str(iter) + '.txt'\n",
    "    \n",
    "    auroc.append(pd.read_csv(auroc_filename, sep = '\\t', index_col = 0))\n",
    "    auprc.append(pd.read_csv(auprc_filename, sep = '\\t', index_col = 0))\n",
    "    f1.append(pd.read_csv(f1_filename, sep = '\\t', index_col = 0))\n",
    "    balanced_acc.append(pd.read_csv(balanced_acc_filename, sep = '\\t', index_col = 0))\n",
    "\n",
    "auroc_df = pd.concat(auroc, axis = 1)\n",
    "auprc_df = pd.concat(auprc, axis = 1)\n",
    "f1_df = pd.concat(f1, axis = 1)\n",
    "balanced_acc_df = pd.concat(balanced_acc, axis = 1)"
   ]
  },
  {
   "cell_type": "markdown",
   "metadata": {},
   "source": [
    "## calculate mean metrics"
   ]
  },
  {
   "cell_type": "code",
   "execution_count": null,
   "metadata": {},
   "outputs": [],
   "source": [
    "auroc_df['AUROC'] = auroc_df.mean(axis = 1)\n",
    "auroc_df_sub = auroc_df[['AUROC']]"
   ]
  },
  {
   "cell_type": "code",
   "execution_count": null,
   "metadata": {},
   "outputs": [],
   "source": [
    "auprc_df['AUPRC'] = auprc_df.mean(axis = 1)\n",
    "auprc_df_sub = auprc_df[['AUPRC']]"
   ]
  },
  {
   "cell_type": "code",
   "execution_count": null,
   "metadata": {},
   "outputs": [],
   "source": [
    "f1_df['F1_SCORE'] = f1_df.mean(axis = 1)\n",
    "f1_df_sub = f1_df[['F1_SCORE']]"
   ]
  },
  {
   "cell_type": "code",
   "execution_count": null,
   "metadata": {},
   "outputs": [],
   "source": [
    "balanced_acc_df['BALANCED_ACCURACY'] = balanced_acc_df.mean(axis = 1)\n",
    "balanced_acc_df_sub = balanced_acc_df[['BALANCED_ACCURACY']]"
   ]
  },
  {
   "cell_type": "markdown",
   "metadata": {},
   "source": [
    "## combine mean metrics into one df"
   ]
  },
  {
   "cell_type": "code",
   "execution_count": null,
   "metadata": {},
   "outputs": [],
   "source": [
    "all_metrics = pd.concat([auroc_df_sub, auprc_df_sub, f1_df_sub, balanced_acc_df_sub], axis = 1)\n",
    "all_metrics"
   ]
  },
  {
   "cell_type": "markdown",
   "metadata": {},
   "source": [
    "## reformat model names"
   ]
  },
  {
   "cell_type": "code",
   "execution_count": null,
   "metadata": {},
   "outputs": [],
   "source": [
    "all_metrics.index = all_metrics.index.map(lambda x: x.replace(\"'\", \"\"))\n",
    "all_metrics.index = all_metrics.index.map(lambda x: x.replace(\"(\", \"\"))\n",
    "all_metrics.index = all_metrics.index.map(lambda x: x.replace(\")\", \"\"))\n",
    "all_metrics.index = all_metrics.index.map(lambda x: x.replace(\",\", \" +\"))\n",
    "all_metrics.index = all_metrics.index.map(lambda x: x.replace(\"PGS + T2D + LDL_INV_NORMAL_SCALE + HDL_INV_NORMAL_SCALE + BMI_INV_NORMAL_SCALE + SMOKING + PA_EVERYDAY_SCALE + NEIGHBORHOOD_DRUG_USE_SCALE + NEIGHBORHOOD_SAFE_CRIME_SCALE + NEIGHBORHOOD_TRUST_SCALE + NEIGHBORHOOD_BUILDING_SCALE + NEIGHBORHOOD_VANDALISM_SCALE + NEIGHBORHOOD_SIDEWALK_SCALE + NEIGHBORHOOD_BIKE_SCALE + NEIGHBORHOOD_CLEAN_SCALE + NEIGHBORHOOD_UNSAFE_WALK_SCALE + NEIGHBORHOOD_CARE_SCALE + NEIGHBORHOOD_ALOT_CRIME_SCALE + NEIGHBORHOOD_CRIME_WALK_SCALE + NEIGHBORHOOD_GRAFFITI_SCALE + NEIGHBORHOOD_FREE_AMENITIES_SCALE + NEIGHBORHOOD_PPL_HANGING_AROUND_SCALE + NEIGHBORHOOD_TROUBLE_SCALE + NEIGHBORHOOD_STORES_SCALE + NEIGHBORHOOD_TRANSIT_SCALE + INCOME_SCALE + EDUCATION_HIGHEST_SCALE + CENSUS_MEDIAN_INCOME_INV_NORMAL_SCALE\",\n",
    "                                                              \"PGS + CRS Risk Factors + PXS Risk Factors\"))\n",
    "all_metrics.index = all_metrics.index.map(lambda x: x.replace(\"T2D + LDL_INV_NORMAL_SCALE + HDL_INV_NORMAL_SCALE + BMI_INV_NORMAL_SCALE + SMOKING + PA_EVERYDAY_SCALE + NEIGHBORHOOD_DRUG_USE_SCALE + NEIGHBORHOOD_SAFE_CRIME_SCALE + NEIGHBORHOOD_TRUST_SCALE + NEIGHBORHOOD_BUILDING_SCALE + NEIGHBORHOOD_VANDALISM_SCALE + NEIGHBORHOOD_SIDEWALK_SCALE + NEIGHBORHOOD_BIKE_SCALE + NEIGHBORHOOD_CLEAN_SCALE + NEIGHBORHOOD_UNSAFE_WALK_SCALE + NEIGHBORHOOD_CARE_SCALE + NEIGHBORHOOD_ALOT_CRIME_SCALE + NEIGHBORHOOD_CRIME_WALK_SCALE + NEIGHBORHOOD_GRAFFITI_SCALE + NEIGHBORHOOD_FREE_AMENITIES_SCALE + NEIGHBORHOOD_PPL_HANGING_AROUND_SCALE + NEIGHBORHOOD_TROUBLE_SCALE + NEIGHBORHOOD_STORES_SCALE + NEIGHBORHOOD_TRANSIT_SCALE + INCOME_SCALE + EDUCATION_HIGHEST_SCALE + CENSUS_MEDIAN_INCOME_INV_NORMAL_SCALE\",\n",
    "                                                              \"CRS Risk Factors + PXS Risk Factors\"))\n",
    "all_metrics.index = all_metrics.index.map(lambda x: x.replace(\"T2D + LDL_INV_NORMAL_SCALE + HDL_INV_NORMAL_SCALE\",\n",
    "                                                              \"CRS Risk Factors\"))\n",
    "all_metrics.index = all_metrics.index.map(lambda x: x.replace(\"BMI_INV_NORMAL_SCALE + SMOKING + PA_EVERYDAY_SCALE + NEIGHBORHOOD_DRUG_USE_SCALE + NEIGHBORHOOD_SAFE_CRIME_SCALE + NEIGHBORHOOD_TRUST_SCALE + NEIGHBORHOOD_BUILDING_SCALE + NEIGHBORHOOD_VANDALISM_SCALE + NEIGHBORHOOD_SIDEWALK_SCALE + NEIGHBORHOOD_BIKE_SCALE + NEIGHBORHOOD_CLEAN_SCALE + NEIGHBORHOOD_UNSAFE_WALK_SCALE + NEIGHBORHOOD_CARE_SCALE + NEIGHBORHOOD_ALOT_CRIME_SCALE + NEIGHBORHOOD_CRIME_WALK_SCALE + NEIGHBORHOOD_GRAFFITI_SCALE + NEIGHBORHOOD_FREE_AMENITIES_SCALE + NEIGHBORHOOD_PPL_HANGING_AROUND_SCALE + NEIGHBORHOOD_TROUBLE_SCALE + NEIGHBORHOOD_STORES_SCALE + NEIGHBORHOOD_TRANSIT_SCALE + INCOME_SCALE + EDUCATION_HIGHEST_SCALE + CENSUS_MEDIAN_INCOME_INV_NORMAL_SCALE\",\n",
    "                                                              \"PXS Risk Factors\"))\n",
    "\n",
    "all_metrics"
   ]
  },
  {
   "cell_type": "code",
   "execution_count": null,
   "metadata": {},
   "outputs": [],
   "source": [
    "row_order = ['PGS',\n",
    "            'CRS_SUM',\n",
    "            'CRS_WEIGHTED_SUM',\n",
    "            'PXS_SUM',\n",
    "            'PXS_WEIGHTED_SUM',\n",
    "            'PGS + CRS_SUM',\n",
    "            'PGS + CRS_WEIGHTED_SUM',\n",
    "            'PGS + PXS_SUM',\n",
    "            'PGS + PXS_WEIGHTED_SUM',\n",
    "            'CRS_SUM + PXS_SUM',\n",
    "            'CRS_WEIGHTED_SUM + PXS_WEIGHTED_SUM',\n",
    "            'PGS + CRS_SUM + PXS_SUM',\n",
    "            'PGS + CRS_WEIGHTED_SUM + PXS_WEIGHTED_SUM',\n",
    "            'CRS Risk Factors',\n",
    "            'PXS Risk Factors',\n",
    "            'CRS Risk Factors + PXS Risk Factors',\n",
    "            'PGS + CRS Risk Factors + PXS Risk Factors']"
   ]
  },
  {
   "cell_type": "code",
   "execution_count": null,
   "metadata": {},
   "outputs": [],
   "source": [
    "all_metrics = all_metrics.reindex(row_order)\n",
    "all_metrics"
   ]
  },
  {
   "cell_type": "code",
   "execution_count": null,
   "metadata": {},
   "outputs": [],
   "source": [
    "all_metrics.index = [f'Model {i + 1}: {idx}' for i, idx in enumerate(all_metrics.index)]\n",
    "all_metrics"
   ]
  },
  {
   "cell_type": "code",
   "execution_count": null,
   "metadata": {},
   "outputs": [],
   "source": []
  }
 ],
 "metadata": {
  "kernelspec": {
   "display_name": "Python 3",
   "language": "python",
   "name": "python3"
  },
  "language_info": {
   "codemirror_mode": {
    "name": "ipython",
    "version": 3
   },
   "file_extension": ".py",
   "mimetype": "text/x-python",
   "name": "python",
   "nbconvert_exporter": "python",
   "pygments_lexer": "ipython3",
   "version": "3.10.16"
  },
  "toc": {
   "base_numbering": 1,
   "nav_menu": {},
   "number_sections": true,
   "sideBar": true,
   "skip_h1_title": false,
   "title_cell": "Table of Contents",
   "title_sidebar": "Contents",
   "toc_cell": false,
   "toc_position": {},
   "toc_section_display": true,
   "toc_window_display": false
  }
 },
 "nbformat": 4,
 "nbformat_minor": 2
}
