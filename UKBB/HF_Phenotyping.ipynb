{
 "cells": [
  {
   "cell_type": "markdown",
   "id": "ff539bbc-de44-4a7b-bd80-9c9b0a520262",
   "metadata": {
    "tags": []
   },
   "source": [
    "# bring raw files into this workspace"
   ]
  },
  {
   "cell_type": "code",
   "execution_count": null,
   "id": "ce289bd2-1328-4cf1-b704-2917dc8b44e8",
   "metadata": {
    "tags": []
   },
   "outputs": [],
   "source": [
    "!dx download project-GgYky4QJj5pkv6G9P8Zp6P26:/HF_Clinical_PGS_pheno_pt1_participant.csv"
   ]
  },
  {
   "cell_type": "code",
   "execution_count": null,
   "id": "a27c0f01-3997-4f73-b5ad-e9f565b3e0d8",
   "metadata": {
    "tags": []
   },
   "outputs": [],
   "source": [
    "!dx download project-GgYky4QJj5pkv6G9P8Zp6P26:/HF_Clinical_PGS_pheno_pt2_participant.csv"
   ]
  },
  {
   "cell_type": "code",
   "execution_count": null,
   "id": "5297615a-cf33-4e48-938d-34f83f0d44ba",
   "metadata": {
    "tags": []
   },
   "outputs": [],
   "source": [
    "!dx download project-GgYky4QJj5pkv6G9P8Zp6P26:/HF_Clinical_PGS_pheno_pt3_participant.csv"
   ]
  },
  {
   "cell_type": "code",
   "execution_count": null,
   "id": "1deef8ff-a11e-4489-8439-1e3ee2442ee4",
   "metadata": {
    "tags": []
   },
   "outputs": [],
   "source": [
    "!dx download project-GgYky4QJj5pkv6G9P8Zp6P26:/HF_Clinical_PGS_pheno_pt4_participant.csv"
   ]
  },
  {
   "cell_type": "code",
   "execution_count": null,
   "id": "f87a9f19-8885-43f9-94a2-9a670e9d0b48",
   "metadata": {
    "tags": []
   },
   "outputs": [],
   "source": [
    "!dx download project-GgYky4QJj5pkv6G9P8Zp6P26:/HF_Clinical_PGS/output/pgsc_calc/UKBB/score/UKBB_pgs.txt.gz"
   ]
  },
  {
   "cell_type": "markdown",
   "id": "e1223b67-881a-4f11-ba24-a34a811771d4",
   "metadata": {
    "tags": []
   },
   "source": [
    "# install packages"
   ]
  },
  {
   "cell_type": "code",
   "execution_count": null,
   "id": "1040a122-835f-4933-812f-231af5acbf9c",
   "metadata": {
    "tags": []
   },
   "outputs": [],
   "source": [
    "pip install scikit-learn"
   ]
  },
  {
   "cell_type": "markdown",
   "id": "3382bac1-ea42-4fa3-b8c3-1583a753af68",
   "metadata": {
    "tags": []
   },
   "source": [
    "# load packages"
   ]
  },
  {
   "cell_type": "code",
   "execution_count": null,
   "id": "f81424b2-f274-477b-98ef-e27487c88dc0",
   "metadata": {
    "tags": []
   },
   "outputs": [],
   "source": [
    "import pandas as pd"
   ]
  },
  {
   "cell_type": "code",
   "execution_count": null,
   "id": "5ed276f5-c7fc-47bd-8a59-ce5fecadf03c",
   "metadata": {
    "tags": []
   },
   "outputs": [],
   "source": [
    "import numpy as np"
   ]
  },
  {
   "cell_type": "code",
   "execution_count": null,
   "id": "a787d914-eb06-445b-b5d8-acc067f4c11b",
   "metadata": {
    "tags": []
   },
   "outputs": [],
   "source": [
    "import sys"
   ]
  },
  {
   "cell_type": "code",
   "execution_count": null,
   "id": "f3eaf0ff-5102-4929-88b5-45a23703a7ce",
   "metadata": {
    "tags": []
   },
   "outputs": [],
   "source": [
    "from scipy.stats import norm"
   ]
  },
  {
   "cell_type": "code",
   "execution_count": null,
   "id": "2468b8c9-0665-4299-8c5e-c4b26da34eb8",
   "metadata": {
    "tags": []
   },
   "outputs": [],
   "source": [
    "from sklearn.preprocessing import MinMaxScaler"
   ]
  },
  {
   "cell_type": "code",
   "execution_count": null,
   "id": "3626339f-c0d9-4942-ae63-9f25c319d23b",
   "metadata": {
    "tags": []
   },
   "outputs": [],
   "source": [
    "import seaborn as sns"
   ]
  },
  {
   "cell_type": "code",
   "execution_count": null,
   "id": "dad48ccc-309b-4f6c-8d3b-f6349e00fa08",
   "metadata": {
    "tags": []
   },
   "outputs": [],
   "source": [
    "import matplotlib.pyplot as plt"
   ]
  },
  {
   "cell_type": "markdown",
   "id": "e927427b-64ac-4bdf-a00c-135345b9370c",
   "metadata": {
    "tags": []
   },
   "source": [
    "# read in input files"
   ]
  },
  {
   "cell_type": "code",
   "execution_count": null,
   "id": "caa89531-5f91-4224-9510-ea1d5b3356f4",
   "metadata": {
    "tags": []
   },
   "outputs": [],
   "source": [
    "pt1 = pd.read_csv('HF_Clinical_PGS_pheno_pt1_participant.csv', low_memory = False)\n",
    "print(pt1.shape)\n",
    "pt1.head()"
   ]
  },
  {
   "cell_type": "code",
   "execution_count": null,
   "id": "ac2f2766-af7d-4ec9-a366-4f95761fe953",
   "metadata": {
    "tags": []
   },
   "outputs": [],
   "source": [
    "pt2 = pd.read_csv('HF_Clinical_PGS_pheno_pt2_participant.csv', low_memory = False)\n",
    "print(pt2.shape)\n",
    "pt2.head()"
   ]
  },
  {
   "cell_type": "code",
   "execution_count": null,
   "id": "2990963f-ad97-4249-8919-0c083cd91c7a",
   "metadata": {
    "tags": []
   },
   "outputs": [],
   "source": [
    "pt3 = pd.read_csv('HF_Clinical_PGS_pheno_pt3_participant.csv', low_memory = False)\n",
    "print(pt3.shape)\n",
    "pt3.head()"
   ]
  },
  {
   "cell_type": "code",
   "execution_count": null,
   "id": "b163f4da-36d4-4d2d-9d87-9c9507d07356",
   "metadata": {
    "tags": []
   },
   "outputs": [],
   "source": [
    "pt4 = pd.read_csv('HF_Clinical_PGS_pheno_pt4_participant.csv', low_memory = False)\n",
    "print(pt4.shape)\n",
    "pt4.head()"
   ]
  },
  {
   "cell_type": "code",
   "execution_count": null,
   "id": "04f950d4-7b88-4a12-81b4-3bd129537540",
   "metadata": {
    "tags": []
   },
   "outputs": [],
   "source": [
    "pgs = pd.read_csv('UKBB_pgs.txt.gz', sep = '\\t', low_memory = False)\n",
    "print(pgs.shape)\n",
    "pgs"
   ]
  },
  {
   "cell_type": "markdown",
   "id": "4fdfeff4-8d5e-43d6-bed2-455d74b0acbf",
   "metadata": {
    "tags": []
   },
   "source": [
    "# merge"
   ]
  },
  {
   "cell_type": "code",
   "execution_count": null,
   "id": "7cd84dc7-f8ad-48f0-98a5-ef1e658ac18c",
   "metadata": {
    "tags": []
   },
   "outputs": [],
   "source": [
    "raw = pt1.merge(pt2, on = 'eid', how = 'inner').merge(pt3, on = 'eid', how = 'inner').merge(pt4, on = 'eid', how = 'inner')\n",
    "print(len(pt1.index))\n",
    "print(len(pt2.index))\n",
    "print(len(pt3.index))\n",
    "print(len(pt4.index))\n",
    "print(len(raw.index))\n",
    "raw.head()"
   ]
  },
  {
   "cell_type": "markdown",
   "id": "68c8599b-b5d0-4fb6-9e0f-1a56b03c41eb",
   "metadata": {
    "tags": []
   },
   "source": [
    "# rename columns"
   ]
  },
  {
   "cell_type": "code",
   "execution_count": null,
   "id": "2684e332-d4a4-41b0-9464-de6070f00533",
   "metadata": {
    "tags": []
   },
   "outputs": [],
   "source": [
    "for col in raw.columns:\n",
    "    print(col)"
   ]
  },
  {
   "cell_type": "code",
   "execution_count": null,
   "id": "3bb8a5a2-1422-4444-93a2-4494483742b2",
   "metadata": {
    "tags": []
   },
   "outputs": [],
   "source": [
    "raw_rename = raw.drop(columns = ['p94_i0_a0_y'])\n",
    "raw_rename = raw_rename.rename(columns = {'p52' : 'MONTH_BIRTH',\n",
    "                                   'p34' : 'YEAR_BIRTH',\n",
    "                                   'p22189' : 'TOWNSEND_DEP_INDEX',\n",
    "                                   'p31' : 'SEX',\n",
    "                                   'p6138_i0' : 'EDUCATION_0',\n",
    "                                   'p6138_i1' : 'EDUCATION_1',\n",
    "                                   'p6138_i2' : 'EDUCATION_2',\n",
    "                                   'p6138_i3' : 'EDUCATION_3',\n",
    "                                   'p670_i0' : 'HOUSING_0',\n",
    "                                   'p670_i1' : 'HOUSING_1',\n",
    "                                   'p670_i2' : 'HOUSING_2',\n",
    "                                   'p670_i3' : 'HOUSING_3',\n",
    "                                   'p680_i0' : 'OWN_RENT_0',\n",
    "                                   'p680_i1' : 'OWN_RENT_1',\n",
    "                                   'p680_i2' : 'OWN_RENT_2',\n",
    "                                   'p680_i3' : 'OWN_RENT_3',\n",
    "                                   'p738_i0' : 'INCOME_0',\n",
    "                                   'p738_i1' : 'INCOME_1',\n",
    "                                   'p738_i2' : 'INCOME_2',\n",
    "                                   'p738_i3' : 'INCOME_3',\n",
    "                                   'p22035_i0' : 'PA_at_above_mod_vig_rec_0',\n",
    "                                   'p22035_i1' : 'PA_at_above_mod_vig_rec_1',\n",
    "                                   'p22035_i2' : 'PA_at_above_mod_vig_rec_2',\n",
    "                                   'p22035_i3' : 'PA_at_above_mod_vig_rec_3',\n",
    "                                   'p22036_i0' : 'PA_at_above_mod_vig_walk_rec_0',\n",
    "                                   'p22036_i1' : 'PA_at_above_mod_vig_walk_rec_1',\n",
    "                                   'p22036_i2' : 'PA_at_above_mod_vig_walk_rec_2',\n",
    "                                   'p22036_i3' : 'PA_at_above_mod_vig_walk_rec_3',\n",
    "                                   'p22032_i0' : 'PA_ipaq_activity_group_0',\n",
    "                                   'p22032_i1' : 'PA_ipaq_activity_group_1',\n",
    "                                   'p22032_i2' : 'PA_ipaq_activity_group_2',\n",
    "                                   'p22032_i3' : 'PA_ipaq_activity_group_3',\n",
    "                                   'p22038_i0' : 'PA_met_mins_week_mod_0',\n",
    "                                   'p22038_i1' : 'PA_met_mins_week_mod_1',\n",
    "                                   'p22038_i2' : 'PA_met_mins_week_mod_2',\n",
    "                                   'p22038_i3' : 'PA_met_mins_week_mod_3',\n",
    "                                   'p22039_i0' : 'PA_met_mins_week_vig_0',\n",
    "                                   'p22039_i1' : 'PA_met_mins_week_vig_1',\n",
    "                                   'p22039_i2' : 'PA_met_mins_week_vig_2',\n",
    "                                   'p22039_i3' : 'PA_met_mins_week_vig_3',\n",
    "                                   'p22037_i0' : 'PA_met_mins_week_walk_0',\n",
    "                                   'p22037_i1' : 'PA_met_mins_week_walk_1',\n",
    "                                   'p22037_i2' : 'PA_met_mins_week_walk_2',\n",
    "                                   'p22037_i3' : 'PA_met_mins_week_walk_3',\n",
    "                                   'p22040_i0' : 'PA_sum_met_mins_week_0',\n",
    "                                   'p22040_i1' : 'PA_sum_met_mins_week_1',\n",
    "                                   'p22040_i2' : 'PA_sum_met_mins_week_2',\n",
    "                                   'p22040_i3' : 'PA_sum_met_mins_week_3',\n",
    "                                   'p22033_i0' : 'PA_sum_days_activity_0',\n",
    "                                   'p22033_i1' : 'PA_sum_days_activity_1',\n",
    "                                   'p22033_i2' : 'PA_sum_days_activity_2',\n",
    "                                   'p22033_i3' : 'PA_sum_days_activity_3',\n",
    "                                   'p22034_i0' : 'PA_sum_min_activity_0',\n",
    "                                   'p22034_i1' : 'PA_sum_min_activity_1',\n",
    "                                   'p22034_i2' : 'PA_sum_min_activity_2',\n",
    "                                   'p22034_i3' : 'PA_sum_min_activity_3',\n",
    "                                   'p2634_i0' : 'PA_dur_heavy_diy_0',\n",
    "                                   'p2634_i1' : 'PA_dur_heavy_diy_1',\n",
    "                                   'p2634_i2' : 'PA_dur_heavy_diy_2',\n",
    "                                   'p2634_i3' : 'PA_dur_heavy_diy_3',\n",
    "                                   'p1021_i0' : 'PA_dur_light_diy_0',\n",
    "                                   'p1021_i1' : 'PA_dur_light_diy_1',\n",
    "                                   'p1021_i2' : 'PA_dur_light_diy_2',\n",
    "                                   'p1021_i3' : 'PA_dur_light_diy_3',\n",
    "                                   'p894_i0' : 'PA_dur_mod_activity_0',\n",
    "                                   'p894_i1' : 'PA_dur_mod_activity_1',\n",
    "                                   'p894_i2' : 'PA_dur_mod_activity_2',\n",
    "                                   'p894_i3' : 'PA_dur_mod_activity_3',\n",
    "                                   'p3647_i0' : 'PA_dur_oth_exercises_0',\n",
    "                                   'p3647_i1' : 'PA_dur_oth_exercises_1',\n",
    "                                   'p3647_i2' : 'PA_dur_oth_exercises_2',\n",
    "                                   'p3647_i3' : 'PA_dur_oth_exercises_3',\n",
    "                                   'p1001_i0' : 'PA_dur_stren_sports_0',\n",
    "                                   'p1001_i1' : 'PA_dur_stren_sports_1',\n",
    "                                   'p1001_i2' : 'PA_dur_stren_sports_2',\n",
    "                                   'p1001_i3' : 'PA_dur_stren_sports_3',\n",
    "                                   'p914_i0' : 'PA_dur_vig_activity_0',\n",
    "                                   'p914_i1' : 'PA_dur_vig_activity_1',\n",
    "                                   'p914_i2' : 'PA_dur_vig_activity_2',\n",
    "                                   'p914_i3' : 'PA_dur_vig_activity_3',\n",
    "                                   'p874_i0' : 'PA_dur_walk_0',\n",
    "                                   'p874_i1' : 'PA_dur_walk_1',\n",
    "                                   'p874_i2' : 'PA_dur_walk_2',\n",
    "                                   'p874_i3' : 'PA_dur_walk_3',\n",
    "                                   'p981_i0' : 'PA_dur_walk_pleasure_0',\n",
    "                                   'p981_i1' : 'PA_dur_walk_pleasure_1',\n",
    "                                   'p981_i2' : 'PA_dur_walk_pleasure_2',\n",
    "                                   'p981_i3' : 'PA_dur_walk_pleasure_3',\n",
    "                                   'p2624_i0' : 'PA_freq_heavy_diy_0',\n",
    "                                   'p2624_i1' : 'PA_freq_heavy_diy_1',\n",
    "                                   'p2624_i2' : 'PA_freq_heavy_diy_2',\n",
    "                                   'p2624_i3' : 'PA_freq_heavy_diy_3',\n",
    "                                   'p1011_i0' : 'PA_freq_light_diy_0',\n",
    "                                   'p1011_i1' : 'PA_freq_light_diy_1',\n",
    "                                   'p1011_i2' : 'PA_freq_light_diy_2',\n",
    "                                   'p1011_i3' : 'PA_freq_light_diy_3',\n",
    "                                   'p3637_i0' : 'PA_freq_other_exercises_0',\n",
    "                                   'p3637_i1' : 'PA_freq_other_exercises_1',\n",
    "                                   'p3637_i2' : 'PA_freq_other_exercises_2',\n",
    "                                   'p3637_i3' : 'PA_freq_other_exercises_3',\n",
    "                                   'p943_i0' : 'PA_freq_stair_0',\n",
    "                                   'p943_i1' : 'PA_freq_stair_1',\n",
    "                                   'p943_i2' : 'PA_freq_stair_2',\n",
    "                                   'p943_i3' : 'PA_freq_stair_3',\n",
    "                                   'p991_i0' : 'PA_freq_stren_sports_0',\n",
    "                                   'p991_i1' : 'PA_freq_stren_sports_1',\n",
    "                                   'p991_i2' : 'PA_freq_stren_sports_2',\n",
    "                                   'p991_i3' : 'PA_freq_stren_sports_3',\n",
    "                                   'p971_i0' : 'PA_freq_walk_pleasure_0',\n",
    "                                   'p971_i1' : 'PA_freq_walk_pleasure_1',\n",
    "                                   'p971_i2' : 'PA_freq_walk_pleasure_2',\n",
    "                                   'p971_i3' : 'PA_freq_walk_pleasure_3',\n",
    "                                   'p884_i0' : 'PA_n_days_mod_activity_10+_mins_0',\n",
    "                                   'p884_i1' : 'PA_n_days_mod_activity_10+_mins_1',\n",
    "                                   'p884_i2' : 'PA_n_days_mod_activity_10+_mins_2',\n",
    "                                   'p884_i3' : 'PA_n_days_mod_activity_10+_mins_3',\n",
    "                                   'p904_i0' : 'PA_n_days_vig_activity_10+_mins_0',\n",
    "                                   'p904_i1' : 'PA_n_days_vig_activity_10+_mins_1',\n",
    "                                   'p904_i2' : 'PA_n_days_vig_activity_10+_mins_2',\n",
    "                                   'p904_i3' : 'PA_n_days_vig_activity_10+_mins_3',\n",
    "                                   'p864_i0' : 'PA_n_days_walk_10+_mins_0',\n",
    "                                   'p864_i1' : 'PA_n_days_walk_10+_mins_1',\n",
    "                                   'p864_i2' : 'PA_n_days_walk_10+_mins_2',\n",
    "                                   'p864_i3' : 'PA_n_days_walk_10+_mins_3',\n",
    "                                   'p20160_i0' : 'SMOKING_ever_smoked_0',\n",
    "                                   'p20160_i1' : 'SMOKING_ever_smoked_1',\n",
    "                                   'p20160_i2' : 'SMOKING_ever_smoked_2',\n",
    "                                   'p20160_i3' : 'SMOKING_ever_smoked_3',\n",
    "                                   'p20162_i0' : 'SMOKING_pack_years_per_life_span_0',\n",
    "                                   'p20162_i1' : 'SMOKING_pack_years_per_life_span_1',\n",
    "                                   'p20162_i2' : 'SMOKING_pack_years_per_life_span_2',\n",
    "                                   'p20162_i3' : 'SMOKING_pack_years_per_life_span_3',\n",
    "                                   'p20161_i0' : 'SMOKING_pack_years_0',\n",
    "                                   'p20161_i1' : 'SMOKING_pack_years_1',\n",
    "                                   'p20161_i2' : 'SMOKING_pack_years_2',\n",
    "                                   'p20161_i3' : 'SMOKING_pack_years_3',\n",
    "                                   'p20116_i0' : 'SMOKING_status_0',\n",
    "                                   'p20116_i1' : 'SMOKING_status_1',\n",
    "                                   'p20116_i2' : 'SMOKING_status_2',\n",
    "                                   'p20116_i3' : 'SMOKING_status_3',\n",
    "                                   'p1239_i0' : 'SMOKING_current_tobacco_0',\n",
    "                                   'p1239_i1' : 'SMOKING_current_tobacco_1',\n",
    "                                   'p1239_i2' : 'SMOKING_current_tobacco_2',\n",
    "                                   'p1239_i3' : 'SMOKING_current_tobacco_3',\n",
    "                                   'p1249_i0' : 'SMOKING_past_tobacco_0',\n",
    "                                   'p1249_i1' : 'SMOKING_past_tobacco_1',\n",
    "                                   'p1249_i2' : 'SMOKING_past_tobacco_2',\n",
    "                                   'p1249_i3' : 'SMOKING_past_tobacco_3',\n",
    "                                   'p2644_i0' : 'SMOKING_light_smoker_0',\n",
    "                                   'p2644_i1' : 'SMOKING_light_smoker_1',\n",
    "                                   'p2644_i2' : 'SMOKING_light_smoker_2',\n",
    "                                   'p2644_i3' : 'SMOKING_light_smoker_3',\n",
    "                                   'p3436_i0' : 'SMOKING_age_start_current_0',\n",
    "                                   'p3436_i1' : 'SMOKING_age_start_current_1',\n",
    "                                   'p3436_i2' : 'SMOKING_age_start_current_2',\n",
    "                                   'p3436_i3' : 'SMOKING_age_start_current_3',\n",
    "                                   'p3446_i0' : 'SMOKING_type_tobacco_current_0',\n",
    "                                   'p3446_i1' : 'SMOKING_type_tobacco_current_1',\n",
    "                                   'p3446_i2' : 'SMOKING_type_tobacco_current_2',\n",
    "                                   'p3446_i3' : 'SMOKING_type_tobacco_current_3',\n",
    "                                   'p5959_i0' : 'SMOKING_prev_cig_most_all_days_0',\n",
    "                                   'p5959_i1' : 'SMOKING_prev_cig_most_all_days_1',\n",
    "                                   'p5959_i2' : 'SMOKING_prev_cig_most_all_days_2',\n",
    "                                   'p5959_i3' : 'SMOKING_prev_cig_most_all_days_3',\n",
    "                                   'p3456_i0' : 'SMOKING_n_cig_daily_current_0',\n",
    "                                   'p3456_i1' : 'SMOKING_n_cig_daily_current_1',\n",
    "                                   'p3456_i2' : 'SMOKING_n_cig_daily_current_2',\n",
    "                                   'p3456_i3' : 'SMOKING_n_cig_daily_current_3',\n",
    "                                   'p6194_i0' : 'SMOKING_age_stop_cigar_0',\n",
    "                                   'p6194_i1' : 'SMOKING_age_stop_cigar_1',\n",
    "                                   'p6194_i2' : 'SMOKING_age_stop_cigar_2',\n",
    "                                   'p6194_i3' : 'SMOKING_age_stop_cigar_3',\n",
    "                                   'p6183_i0' : 'SMOKING_n_cig_prev_smoke_0',\n",
    "                                   'p6183_i1' : 'SMOKING_n_cig_prev_smoke_1',\n",
    "                                   'p6183_i2' : 'SMOKING_n_cig_prev_smoke_2',\n",
    "                                   'p6183_i3' : 'SMOKING_n_cig_prev_smoke_3',\n",
    "                                   'p2867_i0' : 'SMOKING_age_start_former_0',\n",
    "                                   'p2867_i1' : 'SMOKING_age_start_former_1',\n",
    "                                   'p2867_i2' : 'SMOKING_age_start_former_2',\n",
    "                                   'p2867_i3' : 'SMOKING_age_start_former_3',\n",
    "                                   'p2897_i0' : 'SMOKING_age_stop_0',\n",
    "                                   'p2897_i1' : 'SMOKING_age_stop_1',\n",
    "                                   'p2897_i2' : 'SMOKING_age_stop_2',\n",
    "                                   'p2897_i3' : 'SMOKING_age_stop_3',\n",
    "                                   'p4079_i0_a0' : 'DBP_auto_0.0',\n",
    "                                   'p4079_i0_a1' : 'DBP_auto_0.1',\n",
    "                                   'p4079_i1_a0' : 'DBP_auto_1.0',\n",
    "                                   'p4079_i1_a1' : 'DBP_auto_1.1',\n",
    "                                   'p4079_i2_a0' : 'DBP_auto_2.0',\n",
    "                                   'p4079_i2_a1' : 'DBP_auto_2.1',\n",
    "                                   'p4079_i3_a0' : 'DBP_auto_3.0',\n",
    "                                   'p4079_i3_a1' : 'DBP_auto_3.1',\n",
    "                                   'p94_i0_a0_x' : 'DBP_man_0.0',\n",
    "                                   'p94_i0_a1' : 'DBP_man_0.1',\n",
    "                                   'p94_i1_a0' : 'DBP_man_1.0',\n",
    "                                   'p94_i1_a1' : 'DBP_man_1.1',\n",
    "                                   'p94_i2_a0' : 'DBP_man_2.0',\n",
    "                                   'p94_i2_a1' : 'DBP_man_2.1',\n",
    "                                   'p94_i3_a0' : 'DBP_man_3.0',\n",
    "                                   'p94_i3_a1' : 'DBP_man_3.1',\n",
    "                                   'p4080_i0_a0' : 'SBP_auto_0.0',\n",
    "                                   'p4080_i0_a1' : 'SBP_auto_0.1',\n",
    "                                   'p4080_i1_a0' : 'SBP_auto_1.0',\n",
    "                                   'p4080_i1_a1' : 'SBP_auto_1.1',\n",
    "                                   'p4080_i2_a0' : 'SBP_auto_2.0',\n",
    "                                   'p4080_i2_a1' : 'SBP_auto_2.1',\n",
    "                                   'p4080_i3_a0' : 'SBP_auto_3.0',\n",
    "                                   'p4080_i3_a1' : 'SBP_auto_3.1',\n",
    "                                   'p93_i0_a0' : 'SBP_man_0.0',\n",
    "                                   'p93_i0_a1' : 'SBP_man_0.1',\n",
    "                                   'p93_i1_a0' : 'SBP_man_1.0',\n",
    "                                   'p93_i1_a1' : 'SBP_man_1.1',\n",
    "                                   'p93_i2_a0' : 'SBP_man_2.0',\n",
    "                                   'p93_i2_a1' : 'SBP_man_2.1',\n",
    "                                   'p93_i3_a0' : 'SBP_man_3.0',\n",
    "                                   'p93_i3_a1' : 'SBP_man_3.1',\n",
    "                                   'p30740_i0' : 'GLUCOSE_0',\n",
    "                                   'p30740_i1' : 'GLUCOSE_1',\n",
    "                                   'p30750_i0' : 'HbA1c_0',\n",
    "                                   'p30750_i1' : 'HbA1c_1',\n",
    "                                   'p30760_i0' : 'HDL_0',\n",
    "                                   'p30760_i1' : 'HDL_1',\n",
    "                                   'p30780_i0' : 'LDL_direct_0',\n",
    "                                   'p30780_i1' : 'LDL_direct_1',\n",
    "                                   'p30870_i0' : 'TRIG_0',\n",
    "                                   'p30870_i1' : 'TRIG_1',\n",
    "                                   'p41270' : 'ICD10',\n",
    "                                   'p41202' : 'ICD10_main',\n",
    "                                   'p41204' : 'ICD10_secondary',\n",
    "                                   'p131284' : 'I09_first_date',\n",
    "                                   'p131288' : 'I11_first_date',\n",
    "                                   'p131292' : 'I13_first_date',\n",
    "                                   'p131354' : 'I50_first_date',\n",
    "                                   'p21001_i0' : 'BMI_man_0',\n",
    "                                   'p21001_i1' : 'BMI_man_1',\n",
    "                                   'p21001_i2' : 'BMI_man_2',\n",
    "                                   'p21001_i3' : 'BMI_man_3',\n",
    "                                   'p23104_i0' : 'BMI_auto_0',\n",
    "                                   'p23104_i1' : 'BMI_auto_1',\n",
    "                                   'p23104_i2' : 'BMI_auto_2',\n",
    "                                   'p23104_i3' : 'BMI_auto_3',\n",
    "                                   'p26410' : 'MULT_DEV_INDEX_england',\n",
    "                                   'p26427' : 'MULT_DEV_INDEX_scotland',\n",
    "                                   'p26426' : 'MULT_DEV_INDEX_wales',\n",
    "                                   'p26411' : 'INCOME_SCORE_england',\n",
    "                                   'p26428' : 'INCOME_SCORE_scotland',\n",
    "                                   'p26418' : 'INCOME_SCORE_wales',\n",
    "                                         'p53_i0' : 'DATE_0',\n",
    "                                         'p53_i1' : 'DATE_1',\n",
    "                                         'p53_i2' : 'DATE_2',\n",
    "                                         'p53_i3' : 'DATE_3',\n",
    "                                         'p74_i0' : 'FASTING_TIME_0',\n",
    "                                         'p74_i1' : 'FASTING_TIME_1'})"
   ]
  },
  {
   "cell_type": "code",
   "execution_count": null,
   "id": "27ae6f51-9d7e-40c7-8d10-d0e639cb10c1",
   "metadata": {
    "tags": []
   },
   "outputs": [],
   "source": [
    "for col in raw_rename.columns:\n",
    "    print(col)"
   ]
  },
  {
   "cell_type": "markdown",
   "id": "b957e033-3b7b-48ac-8551-8977c444d9bd",
   "metadata": {
    "tags": []
   },
   "source": [
    "# clean demo data\n",
    "\n",
    "Month birth, year birth, sex"
   ]
  },
  {
   "cell_type": "markdown",
   "id": "9646427e-eed6-4712-80ae-0026e627d641",
   "metadata": {},
   "source": [
    "## date"
   ]
  },
  {
   "cell_type": "markdown",
   "id": "d4aa3a73-48d1-42de-8cec-9a524871a877",
   "metadata": {},
   "source": [
    "### recode month birth column"
   ]
  },
  {
   "cell_type": "code",
   "execution_count": null,
   "id": "fe74133a-3503-457a-a064-fcc1fc3170c8",
   "metadata": {
    "tags": []
   },
   "outputs": [],
   "source": [
    "raw_rename['MONTH_BIRTH'] = raw_rename['MONTH_BIRTH'].replace({'January' : 1,\n",
    "                                                               'February' : 2,\n",
    "                                                               'March' : 3,\n",
    "                                                               'April' : 4,\n",
    "                                                               'May' : 5,\n",
    "                                                               'June' : 6,\n",
    "                                                               'July' : 7,\n",
    "                                                               'August' : 8,\n",
    "                                                               'September' : 9,\n",
    "                                                               'October' : 10,\n",
    "                                                               'November' : 11,\n",
    "                                                               'December' : 12})"
   ]
  },
  {
   "cell_type": "markdown",
   "id": "1b34645f-ac3f-4ba5-ba1c-9001bafdbc15",
   "metadata": {},
   "source": [
    "### make dob column"
   ]
  },
  {
   "cell_type": "code",
   "execution_count": null,
   "id": "6427b0f0-37b5-4cf9-9659-754460eb338e",
   "metadata": {
    "tags": []
   },
   "outputs": [],
   "source": [
    "raw_rename[\"DOB\"] = pd.to_datetime({'year' : raw_rename[\"YEAR_BIRTH\"], \n",
    "                                    'month' : raw_rename[\"MONTH_BIRTH\"], \n",
    "                                    'day' : 1})\n",
    "raw_rename.head()"
   ]
  },
  {
   "cell_type": "markdown",
   "id": "000d8f64-c733-48f7-9e02-5a3bae63762c",
   "metadata": {},
   "source": [
    "### drop month and year birth columns"
   ]
  },
  {
   "cell_type": "code",
   "execution_count": null,
   "id": "b7c92732-e5de-4648-abc7-ddedc1cad318",
   "metadata": {
    "tags": []
   },
   "outputs": [],
   "source": [
    "raw_demo = raw_rename.drop(columns = ['MONTH_BIRTH', 'YEAR_BIRTH'])"
   ]
  },
  {
   "cell_type": "markdown",
   "id": "1357068d-6101-420c-9967-8271f65ea4c9",
   "metadata": {},
   "source": [
    "## recode sex column"
   ]
  },
  {
   "cell_type": "code",
   "execution_count": null,
   "id": "9026396a-036a-4f66-a572-da5eef979101",
   "metadata": {
    "tags": []
   },
   "outputs": [],
   "source": [
    "raw_demo['SEX'].unique()"
   ]
  },
  {
   "cell_type": "code",
   "execution_count": null,
   "id": "baa3b39e-93c6-46e0-936f-e509f34b1c12",
   "metadata": {
    "tags": []
   },
   "outputs": [],
   "source": [
    "raw_demo['SEX'] = raw_demo['SEX'].replace({'Male' : 1,\n",
    "                                           'Female' : 2})\n",
    "raw_demo['SEX'].unique()"
   ]
  },
  {
   "cell_type": "markdown",
   "id": "dce2fd12-65a1-4a79-8e84-83b0d71dfb0e",
   "metadata": {
    "tags": []
   },
   "source": [
    "# ICD codes"
   ]
  },
  {
   "cell_type": "markdown",
   "id": "75279500-f29a-4c8f-9230-e4f70b532a76",
   "metadata": {},
   "source": [
    "## drop ICD main and secondary columns"
   ]
  },
  {
   "cell_type": "code",
   "execution_count": null,
   "id": "4c1f1b35-0b92-4e01-97da-f1b7fdaf44eb",
   "metadata": {
    "tags": []
   },
   "outputs": [],
   "source": [
    "raw_icd = raw_demo.drop(columns = ['ICD10_main', 'ICD10_secondary'])"
   ]
  },
  {
   "cell_type": "markdown",
   "id": "4189cb87-8ac2-4263-af5e-0101f7070641",
   "metadata": {},
   "source": [
    "## check for missing"
   ]
  },
  {
   "cell_type": "code",
   "execution_count": null,
   "id": "d1184cc9-f0b2-4635-a393-cc5abd5c5f2f",
   "metadata": {
    "tags": []
   },
   "outputs": [],
   "source": [
    "raw_icd['ICD10'].isna().sum()"
   ]
  },
  {
   "cell_type": "code",
   "execution_count": null,
   "id": "20ca0e09-83e9-45dc-9cfb-aec2db8641c5",
   "metadata": {
    "tags": []
   },
   "outputs": [],
   "source": [
    "raw_icd['ICD10'].notna().sum()"
   ]
  },
  {
   "cell_type": "markdown",
   "id": "9702001c-7c70-414d-bd59-4b87140db215",
   "metadata": {},
   "source": [
    "## HF "
   ]
  },
  {
   "cell_type": "markdown",
   "id": "a779a397-e380-4c3c-833f-4fc12d68d9d1",
   "metadata": {},
   "source": [
    "### cases"
   ]
  },
  {
   "cell_type": "markdown",
   "id": "3dd80a56-79a2-4fb6-a7be-e18fcbdfb550",
   "metadata": {},
   "source": [
    "#### define cases and add HF column"
   ]
  },
  {
   "cell_type": "code",
   "execution_count": null,
   "id": "2281ffe9-b4e3-4a8f-bd42-4a815232e9bd",
   "metadata": {
    "tags": []
   },
   "outputs": [],
   "source": [
    "raw_icd.loc[0, 'ICD10']"
   ]
  },
  {
   "cell_type": "code",
   "execution_count": null,
   "id": "71e0f2a1-bd95-4279-8f4d-1682643661d7",
   "metadata": {
    "tags": []
   },
   "outputs": [],
   "source": [
    "hf_case = raw_icd[raw_icd['ICD10'].str.contains('I50|I13.0|I13.2|I11.0|I09.81', na = False)]\n",
    "hf_case['HF'] = 1\n",
    "print(len(hf_case.index))\n",
    "hf_case.loc[32, 'ICD10']"
   ]
  },
  {
   "cell_type": "markdown",
   "id": "81b12a18-cfd4-4a4c-88ad-d96e3f4c5f37",
   "metadata": {},
   "source": [
    "#### get earliest date"
   ]
  },
  {
   "cell_type": "code",
   "execution_count": null,
   "id": "6d934ba1-30d4-48ce-accf-c32c6a0b40c0",
   "metadata": {
    "tags": []
   },
   "outputs": [],
   "source": [
    "hf_case['I09_first_date'] = pd.to_datetime(hf_case['I09_first_date'])\n",
    "hf_case['I11_first_date'] = pd.to_datetime(hf_case['I11_first_date'])\n",
    "hf_case['I13_first_date'] = pd.to_datetime(hf_case['I13_first_date'])\n",
    "hf_case['I50_first_date'] = pd.to_datetime(hf_case['I50_first_date'])"
   ]
  },
  {
   "cell_type": "code",
   "execution_count": null,
   "id": "34468702-a558-4b37-a899-07c95355910a",
   "metadata": {
    "tags": []
   },
   "outputs": [],
   "source": [
    "hf_case[\"HF_first_date\"] = hf_case[[\"I09_first_date\", \"I11_first_date\", \"I13_first_date\", \"I50_first_date\"]].min(axis=1)\n",
    "print(hf_case[\"HF_first_date\"].isna().sum())\n",
    "hf_case.head()"
   ]
  },
  {
   "cell_type": "markdown",
   "id": "1838bde6-9239-40b3-ad8b-d3579284b15a",
   "metadata": {},
   "source": [
    "#### calculate age"
   ]
  },
  {
   "cell_type": "code",
   "execution_count": null,
   "id": "61ef1069-112e-4a73-accb-e688b8c5ea2b",
   "metadata": {
    "tags": []
   },
   "outputs": [],
   "source": [
    "hf_case['AGE'] = hf_case['HF_first_date'] - hf_case['DOB']\n",
    "hf_case['AGE'] = hf_case['AGE'].astype(str).str.replace(' days', '')\n",
    "hf_case['AGE'] = hf_case['AGE'].astype(float) / 365.25\n",
    "hf_case.head()"
   ]
  },
  {
   "cell_type": "markdown",
   "id": "ba6af5ed-ae5a-4bee-82c8-b7c3628a7a78",
   "metadata": {},
   "source": [
    "#### drop other columns"
   ]
  },
  {
   "cell_type": "code",
   "execution_count": null,
   "id": "b23f2bf9-a7f1-4cca-8c21-679c231d89d5",
   "metadata": {
    "tags": []
   },
   "outputs": [],
   "source": [
    "hf_case = hf_case.drop(columns = ['I09_first_date', 'I11_first_date', 'I13_first_date', 'I50_first_date', 'DOB'])\n",
    "hf_case = hf_case.rename(columns = {'HF_first_date' : 'HF_DATE'})"
   ]
  },
  {
   "cell_type": "markdown",
   "id": "f203a3ef-0906-4f8a-94d8-bc3092728c50",
   "metadata": {},
   "source": [
    "### controls"
   ]
  },
  {
   "cell_type": "markdown",
   "id": "f9226e02-5f45-4f3a-a162-5bc9ba0a09d5",
   "metadata": {},
   "source": [
    "#### define controls"
   ]
  },
  {
   "cell_type": "code",
   "execution_count": null,
   "id": "442938f3-8d07-4676-8c45-8b26849dd0eb",
   "metadata": {
    "tags": []
   },
   "outputs": [],
   "source": [
    "hf_control = raw_icd[~raw_icd['eid'].isin(hf_case['eid'])]\n",
    "hf_control['HF'] = 0\n",
    "hf_control.loc[hf_control[\"ICD10\"].isna(), \"HF\"] = np.nan\n",
    "print(len(raw_icd.index))\n",
    "print(len(hf_control.index))\n",
    "hf_control['HF'].value_counts(dropna = False)"
   ]
  },
  {
   "cell_type": "markdown",
   "id": "54a73dde-1ff9-423b-a09c-472b08111dd0",
   "metadata": {},
   "source": [
    "#### calculate age"
   ]
  },
  {
   "cell_type": "code",
   "execution_count": null,
   "id": "a2b276af-0e9f-44c4-9ba2-b54147390687",
   "metadata": {
    "tags": []
   },
   "outputs": [],
   "source": [
    "hf_control['DATA_RELEASE'] = pd.to_datetime(\"2025-03-01\")\n",
    "hf_control['AGE'] = hf_control['DATA_RELEASE'] - hf_control['DOB']\n",
    "hf_control['AGE'] = hf_control['AGE'].astype(str).str.replace(' days', '')\n",
    "hf_control['AGE'] = hf_control['AGE'].astype(float) / 365.25\n",
    "hf_control.head()"
   ]
  },
  {
   "cell_type": "markdown",
   "id": "afdb66cf-6fd9-459d-894a-c2d76dc19057",
   "metadata": {},
   "source": [
    "#### drop extra columns"
   ]
  },
  {
   "cell_type": "code",
   "execution_count": null,
   "id": "0da33265-fdf1-4d6e-8128-1b2b1c6d3526",
   "metadata": {
    "tags": []
   },
   "outputs": [],
   "source": [
    "hf_control = hf_control.drop(columns = ['I09_first_date', 'I11_first_date', 'I13_first_date', 'I50_first_date', 'DOB'])\n",
    "hf_control = hf_control.rename(columns = {'DATA_RELEASE' : 'HF_DATE'})"
   ]
  },
  {
   "cell_type": "markdown",
   "id": "247a751b-d641-4ef9-bbc9-68ff32c197d2",
   "metadata": {},
   "source": [
    "### reconcat"
   ]
  },
  {
   "cell_type": "code",
   "execution_count": null,
   "id": "5d48e41c-a6df-47f1-b2c9-3e1acb43c094",
   "metadata": {
    "tags": []
   },
   "outputs": [],
   "source": [
    "raw_hf = pd.concat([hf_case, hf_control], axis = 0)\n",
    "print(len(raw_hf.index))\n",
    "raw_hf['HF'].value_counts(dropna = False)"
   ]
  },
  {
   "cell_type": "markdown",
   "id": "1d59f849-0761-4415-8873-e670523bb47f",
   "metadata": {},
   "source": [
    "## T2D"
   ]
  },
  {
   "cell_type": "markdown",
   "id": "715853ae-0d07-411c-a11f-175361b6c456",
   "metadata": {},
   "source": [
    "### define cases and make T2D column"
   ]
  },
  {
   "cell_type": "code",
   "execution_count": null,
   "id": "874178cb-079d-4e5e-9b67-22a63ca98291",
   "metadata": {
    "tags": []
   },
   "outputs": [],
   "source": [
    "t2d_case = raw_hf[raw_hf['ICD10'].str.contains('E11|O24.11|O24.12|O24.13', na = False)]\n",
    "t2d_case['T2D'] = 1\n",
    "print(len(t2d_case.index))\n",
    "t2d_case.loc[32, 'ICD10']"
   ]
  },
  {
   "cell_type": "markdown",
   "id": "619de512-8940-4b5b-964f-10ffbf34e264",
   "metadata": {},
   "source": [
    "### define controls and make T2D columns"
   ]
  },
  {
   "cell_type": "code",
   "execution_count": null,
   "id": "33d1026e-4da3-4f4a-9ad1-e434bc3816bd",
   "metadata": {
    "tags": []
   },
   "outputs": [],
   "source": [
    "t2d_control = raw_hf[~raw_hf['eid'].isin(t2d_case['eid'])]\n",
    "t2d_control['T2D'] = 0\n",
    "t2d_control.loc[t2d_control[\"ICD10\"].isna(), \"T2D\"] = np.nan\n",
    "print(len(t2d_control.index))\n",
    "print(len(raw_hf.index))\n",
    "t2d_control['T2D'].value_counts(dropna = False)"
   ]
  },
  {
   "cell_type": "markdown",
   "id": "2aa6c795-5417-4c1f-9474-795add4a9781",
   "metadata": {},
   "source": [
    "### reconcat and remove ICD column"
   ]
  },
  {
   "cell_type": "code",
   "execution_count": null,
   "id": "0aeb1427-fa27-4351-8f4b-c14202b78e6d",
   "metadata": {
    "tags": []
   },
   "outputs": [],
   "source": [
    "raw_t2d = pd.concat([t2d_case, t2d_control], axis = 0)\n",
    "raw_t2d = raw_t2d.drop(columns = ['ICD10'])\n",
    "print(len(raw_t2d.index))\n",
    "print(raw_t2d['T2D'].value_counts(dropna = False))\n",
    "raw_t2d.head()"
   ]
  },
  {
   "cell_type": "markdown",
   "id": "e138c5c4-fa7a-4e59-a393-f8f1e01f76af",
   "metadata": {
    "tags": []
   },
   "source": [
    "# create functions"
   ]
  },
  {
   "cell_type": "markdown",
   "id": "09ca4ed2-1f0f-4320-aec9-2503304b621e",
   "metadata": {
    "tags": []
   },
   "source": [
    "## calculate age at dates"
   ]
  },
  {
   "cell_type": "code",
   "execution_count": null,
   "id": "20534e4e-f37b-435c-af82-adeae45e85c0",
   "metadata": {
    "tags": []
   },
   "outputs": [],
   "source": [
    "raw_t2d['AGE_0'] = raw_t2d['HF_DATE'] - pd.to_datetime(raw_t2d['DATE_0'])\n",
    "raw_t2d['AGE_0'] = raw_t2d['AGE_0'].astype(str).str.replace(' days', '').replace('NaT', np.nan).astype(float)\n",
    "\n",
    "raw_t2d['AGE_1'] = raw_t2d['HF_DATE'] - pd.to_datetime(raw_t2d['DATE_1'])\n",
    "raw_t2d['AGE_1'] = raw_t2d['AGE_1'].astype(str).str.replace(' days', '').replace('NaT', np.nan).astype(float)\n",
    "\n",
    "raw_t2d['AGE_2'] = raw_t2d['HF_DATE'] - pd.to_datetime(raw_t2d['DATE_2'])\n",
    "raw_t2d['AGE_2'] = raw_t2d['AGE_2'].astype(str).str.replace(' days', '').replace('NaT', np.nan).astype(float)\n",
    "\n",
    "raw_t2d['AGE_3'] = raw_t2d['HF_DATE'] - pd.to_datetime(raw_t2d['DATE_3'])\n",
    "raw_t2d['AGE_3'] = raw_t2d['AGE_3'].astype(str).str.replace(' days', '').replace('NaT', np.nan).astype(float)\n",
    "\n",
    "raw_t2d[\"MIN_AGE_COL\"] = raw_t2d[[\"AGE_0\", \"AGE_1\", \"AGE_2\", \"AGE_3\"]].idxmin(axis = 1)\n",
    "raw_t2d['MIN_AGE'] = raw_t2d[['AGE_0', 'AGE_1', 'AGE_2', 'AGE_3']].min(axis = 1)\n",
    "raw_t2d.head()"
   ]
  },
  {
   "cell_type": "code",
   "execution_count": null,
   "id": "c42e91f9-85cb-4683-a84d-18d00f1b9d60",
   "metadata": {
    "tags": []
   },
   "outputs": [],
   "source": [
    "raw_date = raw_t2d[(raw_t2d['MIN_AGE'] >= 0)]\n",
    "print(len(raw_t2d.index))\n",
    "print(len(raw_date.index))"
   ]
  },
  {
   "cell_type": "code",
   "execution_count": null,
   "id": "27c53495-a491-4c4e-9e7b-f89536836ef0",
   "metadata": {
    "tags": []
   },
   "outputs": [],
   "source": [
    "raw_date = raw_date.drop(columns = ['HF_DATE', 'DATE_0', 'DATE_1', 'DATE_2', 'DATE_3', 'AGE_0', 'AGE_1', 'AGE_2', 'AGE_3', 'MIN_AGE'])"
   ]
  },
  {
   "cell_type": "markdown",
   "id": "b285ff2c-212e-4e03-93fa-2f91f2e86695",
   "metadata": {
    "tags": []
   },
   "source": [
    "## create function identify instance closest to HF date"
   ]
  },
  {
   "cell_type": "code",
   "execution_count": null,
   "id": "e8abc127-43d4-4eae-9d0b-d45b72612b5b",
   "metadata": {
    "tags": []
   },
   "outputs": [],
   "source": [
    "def select_instance(df, var, n_instances):\n",
    "    \n",
    "    cols = [f\"{var}_{i}\" for i in range(n_instances)]\n",
    "    fallback_cols = list(reversed(cols))\n",
    "    \n",
    "    all_missing_mask = df[cols].isna().all(axis = 1)\n",
    "    \n",
    "    preferred_col = df['MIN_AGE_COL'].str.replace(\"AGE\", var)\n",
    "    \n",
    "    preferred_col = preferred_col.where(preferred_col.isin(df.columns), np.nan)\n",
    "    \n",
    "    preferred_idx = df.columns.get_indexer(preferred_col)\n",
    "    \n",
    "    valid_mask = preferred_idx != -1\n",
    "    \n",
    "    preferred_values = np.full(len(df), np.nan, dtype=object)\n",
    "    \n",
    "    preferred_values[valid_mask] = df.to_numpy()[np.arange(len(df))[valid_mask], preferred_idx[valid_mask]]\n",
    "    \n",
    "    fallback_values = df[fallback_cols].bfill(axis=1).iloc[:, 0]\n",
    "    \n",
    "    selected_values = np.where(pd.notna(preferred_values), preferred_values, fallback_values)\n",
    "    \n",
    "    selected_values[all_missing_mask] = np.nan\n",
    "    \n",
    "    return pd.Series(selected_values)"
   ]
  },
  {
   "cell_type": "markdown",
   "id": "e69e71df-4fb5-4a0c-9b46-8cfe8b59613b",
   "metadata": {
    "tags": []
   },
   "source": [
    "## create function to identify first instance"
   ]
  },
  {
   "cell_type": "code",
   "execution_count": null,
   "id": "c8d33135-a4f3-4849-9346-de87f3ff4a64",
   "metadata": {
    "tags": []
   },
   "outputs": [],
   "source": [
    "def select_first_instance(df, var, n_instances):\n",
    "    \n",
    "    cols = [f\"{var}_{i}\" for i in range(n_instances)]\n",
    "    \n",
    "    col_0 = var + '_0'\n",
    "    \n",
    "    all_missing_mask = df[cols].isna().all(axis = 1)\n",
    "    \n",
    "    preferred_values = df[col_0]\n",
    "    \n",
    "    fallback_values = df[cols].bfill(axis=1).iloc[:, 0]\n",
    "    \n",
    "    selected_values = np.where(pd.notna(preferred_values), preferred_values, fallback_values)\n",
    "    \n",
    "    selected_values[all_missing_mask] = np.nan\n",
    "    \n",
    "    return pd.Series(selected_values)"
   ]
  },
  {
   "cell_type": "markdown",
   "id": "96b7ad58-27ea-4caf-97bc-97d2eac7e003",
   "metadata": {
    "tags": []
   },
   "source": [
    "# labs"
   ]
  },
  {
   "cell_type": "markdown",
   "id": "29ce0c98-535a-44da-acec-39702e5d33cb",
   "metadata": {},
   "source": [
    "## create median absolute deviance function"
   ]
  },
  {
   "cell_type": "code",
   "execution_count": null,
   "id": "fc7d4fdb-e7de-4777-b925-9a40ebff5de1",
   "metadata": {
    "tags": []
   },
   "outputs": [],
   "source": [
    "def mad_filter(df, column, threshold = 5):\n",
    "    values = df[column].dropna()\n",
    "    \n",
    "    # Compute median and MAD\n",
    "    median = values.median()\n",
    "    mad = np.median(np.abs(values - median))\n",
    "    \n",
    "    # Define limits\n",
    "    lower_limit = median - threshold * mad\n",
    "    upper_limit = median + threshold * mad\n",
    "\n",
    "    # Filter and add top/bottom limits\n",
    "    #filtered_df = df[(df[column] >= lower_limit) & (df[column] <= upper_limit)].copy()\n",
    "    filtered_df = df.copy()\n",
    "    filtered_df[column] = df[column].where(df[column].between(lower_limit, upper_limit))\n",
    "\n",
    "    return filtered_df"
   ]
  },
  {
   "cell_type": "markdown",
   "id": "e7c1955c-a479-4c32-a968-005d21202898",
   "metadata": {
    "tags": []
   },
   "source": [
    "## glucose"
   ]
  },
  {
   "cell_type": "markdown",
   "id": "5ab76b91-9d3a-41c3-b735-c1795b17df3e",
   "metadata": {},
   "source": [
    "### reset index"
   ]
  },
  {
   "cell_type": "code",
   "execution_count": null,
   "id": "30f889fa-5917-4fd5-b1ce-c080e31d68f3",
   "metadata": {
    "tags": []
   },
   "outputs": [],
   "source": [
    "raw_date.reset_index(drop = True, inplace = True)"
   ]
  },
  {
   "cell_type": "markdown",
   "id": "60b89ac4-f937-430f-a60d-1211628bfad8",
   "metadata": {},
   "source": [
    "### apply function to glucose"
   ]
  },
  {
   "cell_type": "code",
   "execution_count": null,
   "id": "8f985d26-8032-43a4-8e11-688937f88378",
   "metadata": {
    "tags": []
   },
   "outputs": [],
   "source": [
    "raw_date['GLUCOSE'] = select_instance(raw_date, 'GLUCOSE', 2).astype(float)\n",
    "raw_date[['GLUCOSE_0', 'GLUCOSE_1', 'GLUCOSE', 'MIN_AGE_COL']]"
   ]
  },
  {
   "cell_type": "markdown",
   "id": "69bca7d8-9b39-4b3e-a99e-139919bdd393",
   "metadata": {},
   "source": [
    "### remove outliers"
   ]
  },
  {
   "cell_type": "code",
   "execution_count": null,
   "id": "8c510b20-ec20-401a-9e6f-972099c8378c",
   "metadata": {
    "tags": []
   },
   "outputs": [],
   "source": [
    "print(raw_date['GLUCOSE'].describe())\n",
    "raw_date = mad_filter(raw_date, 'GLUCOSE')\n",
    "raw_date['GLUCOSE'].describe()"
   ]
  },
  {
   "cell_type": "markdown",
   "id": "b3d5e512-0c85-45ce-a47f-9d95a6c18d31",
   "metadata": {},
   "source": [
    "### drop columns"
   ]
  },
  {
   "cell_type": "code",
   "execution_count": null,
   "id": "4fed1c15-8fb9-4a97-bbcc-7953d69c221d",
   "metadata": {
    "tags": []
   },
   "outputs": [],
   "source": [
    "raw_glucose = raw_date.drop(columns = ['GLUCOSE_0', 'GLUCOSE_1', 'FASTING_TIME_0', 'FASTING_TIME_1'])"
   ]
  },
  {
   "cell_type": "markdown",
   "id": "81af0c34-4d60-43a3-bd98-4a4d60a2ef5c",
   "metadata": {},
   "source": [
    "## HbA1c"
   ]
  },
  {
   "cell_type": "markdown",
   "id": "552178a1-e715-4c68-bc8c-ad5e0bdb9171",
   "metadata": {},
   "source": [
    "### look at cols"
   ]
  },
  {
   "cell_type": "code",
   "execution_count": null,
   "id": "b29276a9-b259-4a98-ab3d-795f5d13b9a0",
   "metadata": {
    "tags": []
   },
   "outputs": [],
   "source": [
    "[col for col in raw_glucose.columns if \"HbA1c\" in col]"
   ]
  },
  {
   "cell_type": "markdown",
   "id": "7990f217-5fe2-48cc-991d-87a56fc90490",
   "metadata": {},
   "source": [
    "### reset index"
   ]
  },
  {
   "cell_type": "code",
   "execution_count": null,
   "id": "d1ac96b8-dcf1-4b8f-af6e-223b77690c4c",
   "metadata": {
    "tags": []
   },
   "outputs": [],
   "source": [
    "raw_glucose.reset_index(inplace = True, drop = True)"
   ]
  },
  {
   "cell_type": "markdown",
   "id": "48e04da7-a0eb-4639-9856-f99b968ce3c0",
   "metadata": {},
   "source": [
    "### apply function"
   ]
  },
  {
   "cell_type": "code",
   "execution_count": null,
   "id": "5c162bcf-749b-40b9-b4e3-4e6ac2749070",
   "metadata": {
    "tags": []
   },
   "outputs": [],
   "source": [
    "raw_glucose['HbA1c'] = select_instance(raw_glucose, 'HbA1c', 2).astype(float)\n",
    "print(raw_glucose[['HbA1c_0', 'HbA1c_1', 'HbA1c', 'MIN_AGE_COL']])\n",
    "raw_glucose['HbA1c'].describe()"
   ]
  },
  {
   "cell_type": "markdown",
   "id": "4d1f0948-1a83-4301-b242-0203fd65989f",
   "metadata": {},
   "source": [
    "### remove outliers"
   ]
  },
  {
   "cell_type": "code",
   "execution_count": null,
   "id": "f8cb6bc5-797f-49a3-93ee-30381249c77e",
   "metadata": {
    "tags": []
   },
   "outputs": [],
   "source": [
    "raw_glucose = mad_filter(raw_glucose, 'HbA1c')\n",
    "raw_glucose['HbA1c'].describe()"
   ]
  },
  {
   "cell_type": "markdown",
   "id": "88e386b3-f403-4083-b7ff-c76c69f1546f",
   "metadata": {},
   "source": [
    "### drop cols"
   ]
  },
  {
   "cell_type": "code",
   "execution_count": null,
   "id": "5d59cdf8-b900-4a1b-9fef-3293291ee4a7",
   "metadata": {
    "tags": []
   },
   "outputs": [],
   "source": [
    "raw_hba1c = raw_glucose.drop(columns = ['HbA1c_0', 'HbA1c_1'])"
   ]
  },
  {
   "cell_type": "markdown",
   "id": "7b123060-79f4-419d-b808-ace831d49360",
   "metadata": {},
   "source": [
    "## HDL"
   ]
  },
  {
   "cell_type": "markdown",
   "id": "1e033063-d6d7-4d31-91dd-138941a4be58",
   "metadata": {},
   "source": [
    "### find HDL columns"
   ]
  },
  {
   "cell_type": "code",
   "execution_count": null,
   "id": "3b314b93-aaad-4dfc-8491-400b43b06406",
   "metadata": {
    "tags": []
   },
   "outputs": [],
   "source": [
    "[col for col in raw_t2d.columns if \"HDL\" in col]"
   ]
  },
  {
   "cell_type": "markdown",
   "id": "b06f9889-bd92-4691-97e3-dde491a1226a",
   "metadata": {},
   "source": [
    "### reset index"
   ]
  },
  {
   "cell_type": "code",
   "execution_count": null,
   "id": "cc6d31a7-c714-47d0-9c49-cd02adc0dcf6",
   "metadata": {
    "tags": []
   },
   "outputs": [],
   "source": [
    "raw_hba1c.reset_index(drop = True, inplace = True)"
   ]
  },
  {
   "cell_type": "markdown",
   "id": "8debc19c-814b-40c4-84ea-063fd4766c03",
   "metadata": {},
   "source": [
    "### apply function"
   ]
  },
  {
   "cell_type": "code",
   "execution_count": null,
   "id": "366f9d34-37ea-4d42-80aa-65ed13a6f6e7",
   "metadata": {
    "tags": []
   },
   "outputs": [],
   "source": [
    "raw_hba1c['HDL'] = select_instance(raw_hba1c, 'HDL', 2).astype(float)\n",
    "raw_hba1c[['HDL_0', 'HDL_1', 'HDL', 'MIN_AGE_COL']]"
   ]
  },
  {
   "cell_type": "markdown",
   "id": "fffd0485-f304-4fed-9ee1-ae1a0910fd43",
   "metadata": {},
   "source": [
    "### remove outliers"
   ]
  },
  {
   "cell_type": "code",
   "execution_count": null,
   "id": "df046b30-8dc8-4fe0-b2ae-ff010f049d7f",
   "metadata": {
    "tags": []
   },
   "outputs": [],
   "source": [
    "print(raw_hba1c['HDL'].describe())\n",
    "raw_hba1c = mad_filter(raw_hba1c, 'HDL')\n",
    "raw_hba1c['HDL'].describe()"
   ]
  },
  {
   "cell_type": "code",
   "execution_count": null,
   "id": "0fcc08c9-1005-4307-8cc4-e6871564db05",
   "metadata": {
    "tags": []
   },
   "outputs": [],
   "source": [
    "raw_hba1c['HDL'] = raw_hba1c[['HDL_0', 'HDL_1']].mean(axis = 1)\n",
    "raw_hba1c['HDL'].describe().apply(lambda x: f'{x:,.2f}')"
   ]
  },
  {
   "cell_type": "markdown",
   "id": "2a057746-b3a3-4f39-bc30-31bc6f39d80e",
   "metadata": {},
   "source": [
    "### drop columns"
   ]
  },
  {
   "cell_type": "code",
   "execution_count": null,
   "id": "6fb4ec30-476e-4fb8-8593-624b7466e883",
   "metadata": {
    "tags": []
   },
   "outputs": [],
   "source": [
    "raw_hdl = raw_hba1c.drop(columns = ['HDL_0', 'HDL_1'])"
   ]
  },
  {
   "cell_type": "markdown",
   "id": "8a03a9f3-f505-4a76-98c5-5993dee98f57",
   "metadata": {},
   "source": [
    "## LDL"
   ]
  },
  {
   "cell_type": "markdown",
   "id": "1d6cea11-f662-48f4-ac6d-11c02e5e1afc",
   "metadata": {},
   "source": [
    "### look at columns"
   ]
  },
  {
   "cell_type": "code",
   "execution_count": null,
   "id": "c44ca8cb-dd3a-4fe6-ab06-9f1bf2823c31",
   "metadata": {
    "tags": []
   },
   "outputs": [],
   "source": [
    "[col for col in raw_t2d.columns if \"LDL\" in col]"
   ]
  },
  {
   "cell_type": "markdown",
   "id": "adba8dd6-30d5-4220-863c-8ecdcf8f4eec",
   "metadata": {},
   "source": [
    "### reset index"
   ]
  },
  {
   "cell_type": "code",
   "execution_count": null,
   "id": "926c5bd5-d702-4956-9a5d-91b725c354fb",
   "metadata": {
    "tags": []
   },
   "outputs": [],
   "source": [
    "raw_hdl.reset_index(drop = True, inplace = True)"
   ]
  },
  {
   "cell_type": "markdown",
   "id": "e07765c4-4de9-4797-b5c4-d55159291e22",
   "metadata": {},
   "source": [
    "### apply function"
   ]
  },
  {
   "cell_type": "code",
   "execution_count": null,
   "id": "9dbed77a-9a0a-4eae-90df-7e10bac37f83",
   "metadata": {
    "tags": []
   },
   "outputs": [],
   "source": [
    "raw_hdl['LDL'] = select_instance(raw_hdl, 'LDL_direct', 2).astype(float)\n",
    "raw_hdl[['LDL_direct_0', 'LDL_direct_1', 'LDL', 'MIN_AGE_COL']]"
   ]
  },
  {
   "cell_type": "markdown",
   "id": "fddbc5b5-e0a5-4f8b-82a6-fa3a7f4c671c",
   "metadata": {},
   "source": [
    "### remove outliers"
   ]
  },
  {
   "cell_type": "code",
   "execution_count": null,
   "id": "241bea89-f2f8-419b-bb71-0d2ffe3f0f81",
   "metadata": {
    "tags": []
   },
   "outputs": [],
   "source": [
    "print(raw_hdl['LDL'].describe())\n",
    "raw_hdl = mad_filter(raw_hdl, 'LDL')\n",
    "raw_hdl['LDL'].describe()"
   ]
  },
  {
   "cell_type": "markdown",
   "id": "c8ca5903-9f2b-4ded-8a66-335da5e03168",
   "metadata": {},
   "source": [
    "### drop columns"
   ]
  },
  {
   "cell_type": "code",
   "execution_count": null,
   "id": "7e636312-da9c-4e73-a350-24267d0c1e35",
   "metadata": {
    "tags": []
   },
   "outputs": [],
   "source": [
    "raw_ldl = raw_hdl.drop(columns = ['LDL_direct_0', 'LDL_direct_1'])"
   ]
  },
  {
   "cell_type": "markdown",
   "id": "dbe2636f-f924-4b9f-af07-551576b79cd6",
   "metadata": {},
   "source": [
    "## triglyercides"
   ]
  },
  {
   "cell_type": "markdown",
   "id": "a0df0d14-9663-4630-ba7a-736cfb091ea0",
   "metadata": {},
   "source": [
    "### look at columns"
   ]
  },
  {
   "cell_type": "code",
   "execution_count": null,
   "id": "4a95b6cd-e210-4843-b4bc-b07cefc394ae",
   "metadata": {
    "tags": []
   },
   "outputs": [],
   "source": [
    "[col for col in raw_t2d.columns if \"TRIG\" in col]"
   ]
  },
  {
   "cell_type": "markdown",
   "id": "12959a34-92f8-40e7-9eeb-6b61161d5ca7",
   "metadata": {},
   "source": [
    "### reset index"
   ]
  },
  {
   "cell_type": "code",
   "execution_count": null,
   "id": "760c26e0-03de-4fd7-8357-265021560044",
   "metadata": {
    "tags": []
   },
   "outputs": [],
   "source": [
    "raw_ldl.reset_index(drop = True, inplace = True)"
   ]
  },
  {
   "cell_type": "markdown",
   "id": "c9152746-91b3-4217-8b22-42c351e3ba2f",
   "metadata": {},
   "source": [
    "### apply function"
   ]
  },
  {
   "cell_type": "code",
   "execution_count": null,
   "id": "c92a639d-461f-491a-b784-ab8db862b7d6",
   "metadata": {
    "tags": []
   },
   "outputs": [],
   "source": [
    "raw_ldl['TRIG'] = select_instance(raw_ldl, 'TRIG', 2).astype(float)\n",
    "raw_ldl[['TRIG_0', 'TRIG_1', 'TRIG', 'MIN_AGE_COL']]"
   ]
  },
  {
   "cell_type": "markdown",
   "id": "8c188914-5f51-49b5-8d20-fa78fb865606",
   "metadata": {},
   "source": [
    "### remove outliers"
   ]
  },
  {
   "cell_type": "code",
   "execution_count": null,
   "id": "75f0bd04-0beb-4dd8-8f64-4083439e9afc",
   "metadata": {
    "tags": []
   },
   "outputs": [],
   "source": [
    "print(raw_ldl['TRIG'].describe())\n",
    "raw_ldl = mad_filter(raw_ldl, 'TRIG')\n",
    "raw_ldl['TRIG'].describe()"
   ]
  },
  {
   "cell_type": "markdown",
   "id": "95042b8c-283a-46ee-a457-9f8152c51894",
   "metadata": {},
   "source": [
    "### drop columns"
   ]
  },
  {
   "cell_type": "code",
   "execution_count": null,
   "id": "5d5d25b2-8549-4f38-8aa1-b36d3d524ffc",
   "metadata": {
    "tags": []
   },
   "outputs": [],
   "source": [
    "raw_trig = raw_ldl.drop(columns = ['TRIG_0', 'TRIG_1'])"
   ]
  },
  {
   "cell_type": "markdown",
   "id": "40905c3f-d5c6-4f60-9d60-35769760d9a2",
   "metadata": {},
   "source": [
    "## SBP"
   ]
  },
  {
   "cell_type": "markdown",
   "id": "4adc2055-96da-47f2-a487-4e8ee26e7002",
   "metadata": {},
   "source": [
    "### look at columns"
   ]
  },
  {
   "cell_type": "code",
   "execution_count": null,
   "id": "ce5edd19-48f9-4154-9927-dacdde78223a",
   "metadata": {
    "tags": []
   },
   "outputs": [],
   "source": [
    "[col for col in raw_t2d.columns if \"SBP\" in col]"
   ]
  },
  {
   "cell_type": "markdown",
   "id": "42b9d01e-0cad-4f05-9259-250eeea68c15",
   "metadata": {},
   "source": [
    "### take mean of different arrays from the same instance"
   ]
  },
  {
   "cell_type": "code",
   "execution_count": null,
   "id": "6a19cb17-7e9c-4875-8597-b1f72306088c",
   "metadata": {
    "tags": []
   },
   "outputs": [],
   "source": [
    "raw_trig['SBP_auto_0'] = raw_trig[['SBP_auto_0.0', 'SBP_auto_0.1']].mean(axis = 1)\n",
    "raw_trig['SBP_auto_1'] = raw_trig[['SBP_auto_1.0', 'SBP_auto_1.1']].mean(axis = 1)\n",
    "raw_trig['SBP_auto_2'] = raw_trig[['SBP_auto_2.0', 'SBP_auto_2.1']].mean(axis = 1)\n",
    "raw_trig['SBP_auto_3'] = raw_trig[['SBP_auto_3.0', 'SBP_auto_3.1']].mean(axis = 1)"
   ]
  },
  {
   "cell_type": "markdown",
   "id": "17883736-c81e-4ba5-a48c-fc5ec53ea787",
   "metadata": {},
   "source": [
    "### reset index"
   ]
  },
  {
   "cell_type": "code",
   "execution_count": null,
   "id": "ac1d6c86-ac50-4413-b6d8-81e99073dca7",
   "metadata": {
    "tags": []
   },
   "outputs": [],
   "source": [
    "raw_trig.reset_index(drop = True, inplace = True)"
   ]
  },
  {
   "cell_type": "markdown",
   "id": "9e2aee1c-6a23-4607-81eb-4f79d7aa4062",
   "metadata": {},
   "source": [
    "### apply function"
   ]
  },
  {
   "cell_type": "code",
   "execution_count": null,
   "id": "a91dd658-5094-4982-9d30-39e84524b3c4",
   "metadata": {
    "tags": []
   },
   "outputs": [],
   "source": [
    "raw_trig['SBP'] = select_instance(raw_trig, 'SBP_auto', 4).astype(float)\n",
    "raw_trig[['SBP_auto_0', 'SBP_auto_1', 'SBP_auto_2', 'SBP_auto_3', 'SBP', 'MIN_AGE_COL']]"
   ]
  },
  {
   "cell_type": "markdown",
   "id": "39ee1a78-822e-444f-b69a-7137112724b6",
   "metadata": {},
   "source": [
    "### remove outliers"
   ]
  },
  {
   "cell_type": "code",
   "execution_count": null,
   "id": "9acac26b-f3d0-4e98-b684-c31df5a33616",
   "metadata": {
    "tags": []
   },
   "outputs": [],
   "source": [
    "print(raw_trig['SBP'].describe())\n",
    "raw_trig = mad_filter(raw_trig, 'SBP')\n",
    "raw_trig['SBP'].describe()"
   ]
  },
  {
   "cell_type": "markdown",
   "id": "beb03e96-752e-477f-8fcb-b66998f90882",
   "metadata": {},
   "source": [
    "### drop columns"
   ]
  },
  {
   "cell_type": "code",
   "execution_count": null,
   "id": "0410986c-bc47-4404-a892-75fd3d14087a",
   "metadata": {
    "tags": []
   },
   "outputs": [],
   "source": [
    "raw_sbp = raw_trig.drop(columns = ['SBP_auto_0.0',\n",
    "                                   'SBP_auto_0.1',\n",
    "                                   'SBP_auto_1.0',\n",
    "                                   'SBP_auto_1.1',\n",
    "                                   'SBP_auto_2.0',\n",
    "                                   'SBP_auto_2.1',\n",
    "                                   'SBP_auto_3.0',\n",
    "                                   'SBP_auto_3.1',\n",
    "                                   'SBP_man_0.0',\n",
    "                                   'SBP_man_0.1',\n",
    "                                   'SBP_man_1.0',\n",
    "                                   'SBP_man_1.1',\n",
    "                                   'SBP_man_2.0',\n",
    "                                   'SBP_man_2.1',\n",
    "                                   'SBP_man_3.0',\n",
    "                                   'SBP_man_3.1',\n",
    "                                   'SBP_auto_0',\n",
    "                                   'SBP_auto_1',\n",
    "                                   'SBP_auto_2',\n",
    "                                   'SBP_auto_3'])"
   ]
  },
  {
   "cell_type": "markdown",
   "id": "52156b99-1f56-4dbf-b30d-342444553b88",
   "metadata": {},
   "source": [
    "## DBP"
   ]
  },
  {
   "cell_type": "markdown",
   "id": "ee3bd188-19b0-4ed7-8e3b-34acd1653594",
   "metadata": {},
   "source": [
    "### take means of arrays from the same instance"
   ]
  },
  {
   "cell_type": "code",
   "execution_count": null,
   "id": "f0933acd-ac07-4f89-b12d-33ba516d5506",
   "metadata": {
    "tags": []
   },
   "outputs": [],
   "source": [
    "raw_sbp['DBP_auto_0'] = raw_sbp[['DBP_auto_0.0', 'DBP_auto_0.1']].mean(axis = 1)\n",
    "raw_sbp['DBP_auto_1'] = raw_sbp[['DBP_auto_1.0', 'DBP_auto_1.1']].mean(axis = 1)\n",
    "raw_sbp['DBP_auto_2'] = raw_sbp[['DBP_auto_2.0', 'DBP_auto_2.1']].mean(axis = 1)\n",
    "raw_sbp['DBP_auto_3'] = raw_sbp[['DBP_auto_3.0', 'DBP_auto_3.1']].mean(axis = 1)"
   ]
  },
  {
   "cell_type": "markdown",
   "id": "26a301d7-3aad-46ae-94b6-f041bf5073e0",
   "metadata": {},
   "source": [
    "### reset index"
   ]
  },
  {
   "cell_type": "code",
   "execution_count": null,
   "id": "b7d29259-7932-4603-9ad7-9d52b50ffd84",
   "metadata": {
    "tags": []
   },
   "outputs": [],
   "source": [
    "raw_sbp.reset_index(drop = True, inplace = True)"
   ]
  },
  {
   "cell_type": "markdown",
   "id": "deb76aad-4cd5-4fbd-ad5d-437c0a618abb",
   "metadata": {},
   "source": [
    "### apply function"
   ]
  },
  {
   "cell_type": "code",
   "execution_count": null,
   "id": "d8694b54-fe13-431e-9923-a5cbe0921b21",
   "metadata": {
    "tags": []
   },
   "outputs": [],
   "source": [
    "raw_sbp['DBP'] = select_instance(raw_sbp, 'DBP_auto', 4).astype(float)\n",
    "raw_sbp[['DBP_auto_0', 'DBP_auto_1', 'DBP_auto_2', 'DBP_auto_3', 'DBP', 'MIN_AGE_COL']]"
   ]
  },
  {
   "cell_type": "markdown",
   "id": "14f6e1ab-d11e-495b-9561-b8b20ea05c82",
   "metadata": {},
   "source": [
    "### remove outliers"
   ]
  },
  {
   "cell_type": "code",
   "execution_count": null,
   "id": "a2129f2b-5a06-4b1c-a482-d06b2f6f7ea6",
   "metadata": {
    "tags": []
   },
   "outputs": [],
   "source": [
    "print(raw_sbp['DBP'].describe())\n",
    "raw_sbp = mad_filter(raw_sbp, 'DBP')\n",
    "raw_sbp['DBP'].describe()"
   ]
  },
  {
   "cell_type": "markdown",
   "id": "d2927ee2-cd89-448f-91c2-31a6b6193d36",
   "metadata": {},
   "source": [
    "### drop columns"
   ]
  },
  {
   "cell_type": "code",
   "execution_count": null,
   "id": "685baeef-1083-4348-be48-6370b8e0b5b6",
   "metadata": {
    "tags": []
   },
   "outputs": [],
   "source": [
    "raw_dbp = raw_sbp.drop(columns = ['DBP_auto_0.0',\n",
    "                                  'DBP_auto_0.1',\n",
    "                                  'DBP_auto_1.0',\n",
    "                                  'DBP_auto_1.1',\n",
    "                                  'DBP_auto_2.0',\n",
    "                                  'DBP_auto_2.1',\n",
    "                                  'DBP_auto_3.0',\n",
    "                                  'DBP_auto_3.1',\n",
    "                                  'DBP_man_0.0',\n",
    "                                  'DBP_man_0.1',\n",
    "                                  'DBP_man_1.0',\n",
    "                                  'DBP_man_1.1',\n",
    "                                  'DBP_man_2.0',\n",
    "                                  'DBP_man_2.1',\n",
    "                                  'DBP_man_3.0',\n",
    "                                  'DBP_man_3.1',\n",
    "                                  'DBP_auto_0',\n",
    "                                  'DBP_auto_1',\n",
    "                                  'DBP_auto_2',\n",
    "                                  'DBP_auto_3'])"
   ]
  },
  {
   "cell_type": "markdown",
   "id": "de8b79ed-8dad-46ef-a362-5b6533e565d9",
   "metadata": {},
   "source": [
    "### BMI"
   ]
  },
  {
   "cell_type": "code",
   "execution_count": null,
   "id": "76bfa50e-771f-4a65-b7f4-7b5e8f31f1dd",
   "metadata": {
    "tags": []
   },
   "outputs": [],
   "source": [
    "[col for col in raw_dbp.columns if \"BMI\" in col]"
   ]
  },
  {
   "cell_type": "markdown",
   "id": "e3f36c9f-91cb-4c5e-b97c-8ebd41c0c191",
   "metadata": {},
   "source": [
    "### reset index"
   ]
  },
  {
   "cell_type": "code",
   "execution_count": null,
   "id": "4cc2d99b-b768-4683-b16a-a004d94a9abb",
   "metadata": {
    "tags": []
   },
   "outputs": [],
   "source": [
    "raw_dbp.reset_index(drop = True, inplace = True)"
   ]
  },
  {
   "cell_type": "markdown",
   "id": "2617b504-b5b7-4c21-81d3-b6b66472d3cc",
   "metadata": {},
   "source": [
    "### apply function"
   ]
  },
  {
   "cell_type": "code",
   "execution_count": null,
   "id": "ed60a021-1757-493b-9ac1-99fa69282d1f",
   "metadata": {
    "tags": []
   },
   "outputs": [],
   "source": [
    "raw_dbp['BMI'] = select_instance(raw_dbp, 'BMI_auto', 4).astype(float)\n",
    "raw_dbp[['BMI_auto_0', 'BMI_auto_1', 'BMI_auto_2', 'BMI_auto_3', 'BMI', 'MIN_AGE_COL']]"
   ]
  },
  {
   "cell_type": "markdown",
   "id": "3868ad7a-e54b-4b1b-aee3-b830b88bb16a",
   "metadata": {},
   "source": [
    "### remove outliers"
   ]
  },
  {
   "cell_type": "code",
   "execution_count": null,
   "id": "d70978b9-6d4d-4ec7-9393-3f702a94d61b",
   "metadata": {
    "tags": []
   },
   "outputs": [],
   "source": [
    "print(raw_dbp['BMI'].describe())\n",
    "raw_dbp = mad_filter(raw_dbp, 'BMI')\n",
    "raw_dbp['BMI'].describe()"
   ]
  },
  {
   "cell_type": "markdown",
   "id": "79e62d11-7597-4d8f-ac27-c97c4bdac348",
   "metadata": {},
   "source": [
    "### drop columns"
   ]
  },
  {
   "cell_type": "code",
   "execution_count": null,
   "id": "977b8740-b53e-4c13-be54-dfda1dcd038b",
   "metadata": {
    "tags": []
   },
   "outputs": [],
   "source": [
    "raw_bmi = raw_dbp.drop(columns = ['BMI_auto_0',\n",
    "                                  'BMI_auto_1',\n",
    "                                  'BMI_auto_2',\n",
    "                                  'BMI_auto_3',\n",
    "                                  'BMI_man_0',\n",
    "                                  'BMI_man_1',\n",
    "                                  'BMI_man_2',\n",
    "                                  'BMI_man_3'])"
   ]
  },
  {
   "cell_type": "markdown",
   "id": "82a1f77d-64cc-454e-8214-3a421a6ca29d",
   "metadata": {
    "tags": []
   },
   "source": [
    "# lifestyle risk factors"
   ]
  },
  {
   "cell_type": "markdown",
   "id": "0e83576b-c13d-4a2a-8783-6f430b716c1b",
   "metadata": {
    "tags": []
   },
   "source": [
    "## smoking"
   ]
  },
  {
   "cell_type": "code",
   "execution_count": null,
   "id": "5a27c538-0c79-4b42-8e70-c9986b2c89c8",
   "metadata": {
    "tags": []
   },
   "outputs": [],
   "source": [
    "[col for col in raw_t2d.columns if \"SMOKING\" in col]"
   ]
  },
  {
   "cell_type": "markdown",
   "id": "c1121086-6009-4580-bff5-b61008643989",
   "metadata": {
    "tags": []
   },
   "source": [
    "### ever smoked"
   ]
  },
  {
   "cell_type": "code",
   "execution_count": null,
   "id": "417b2469-1128-46ed-a071-cb8742dd3c9f",
   "metadata": {
    "tags": []
   },
   "outputs": [],
   "source": [
    "raw_bmi['SMOKING_ever_smoked_0'] = raw_bmi['SMOKING_ever_smoked_0'].replace({'Yes' : 2, 'No' : 0})\n",
    "raw_bmi['SMOKING_ever_smoked_1'] = raw_bmi['SMOKING_ever_smoked_1'].replace({'Yes' : 2, 'No' : 0})\n",
    "raw_bmi['SMOKING_ever_smoked_2'] = raw_bmi['SMOKING_ever_smoked_2'].replace({'Yes' : 2, 'No' : 0})\n",
    "raw_bmi['SMOKING_ever_smoked_3'] = raw_bmi['SMOKING_ever_smoked_3'].replace({'Yes' : 2, 'No' : 0})"
   ]
  },
  {
   "cell_type": "code",
   "execution_count": null,
   "id": "62ecfa81-9aa5-45d2-ac8d-37246d6b72d9",
   "metadata": {
    "tags": []
   },
   "outputs": [],
   "source": [
    "raw_bmi['SMOKING_ever_smoked'] = raw_bmi[['SMOKING_ever_smoked_0',\n",
    "                                          'SMOKING_ever_smoked_1',\n",
    "                                          'SMOKING_ever_smoked_2',\n",
    "                                          'SMOKING_ever_smoked_3']].sum(axis = 1)\n",
    "raw_bmi['SMOKING_ever_smoked'].unique()"
   ]
  },
  {
   "cell_type": "code",
   "execution_count": null,
   "id": "01c066ba-e835-4f93-95b9-b47d13f6867a",
   "metadata": {
    "tags": []
   },
   "outputs": [],
   "source": [
    "raw_bmi.loc[raw_bmi[\"SMOKING_ever_smoked\"] > 0, \"SMOKING_ever_smoked\"] = 2\n",
    "raw_bmi['SMOKING_ever_smoked'].unique()"
   ]
  },
  {
   "cell_type": "code",
   "execution_count": null,
   "id": "f6ef6a45-64d8-4c3c-9386-20d6b970e59b",
   "metadata": {
    "tags": []
   },
   "outputs": [],
   "source": [
    "raw_smoking = raw_bmi.drop(columns = ['SMOKING_ever_smoked_0',\n",
    "                                      'SMOKING_ever_smoked_1',\n",
    "                                      'SMOKING_ever_smoked_2',\n",
    "                                      'SMOKING_ever_smoked_3',\n",
    "                                      'SMOKING_pack_years_per_life_span_0',\n",
    "                                      'SMOKING_pack_years_per_life_span_1',\n",
    "                                      'SMOKING_pack_years_per_life_span_2',\n",
    "                                      'SMOKING_pack_years_per_life_span_3'])"
   ]
  },
  {
   "cell_type": "markdown",
   "id": "f0f0c3c8-efe5-496e-a683-90816ca83d3b",
   "metadata": {},
   "source": [
    "### pack years"
   ]
  },
  {
   "cell_type": "code",
   "execution_count": null,
   "id": "383e5643-3d18-4ec3-bd1d-b18d9c33ee5c",
   "metadata": {
    "tags": []
   },
   "outputs": [],
   "source": [
    "raw_smoking['SMOKING_pack_years_0'].describe()"
   ]
  },
  {
   "cell_type": "code",
   "execution_count": null,
   "id": "ffc8948a-2360-4f5c-bbad-3dfdb4f95418",
   "metadata": {
    "tags": []
   },
   "outputs": [],
   "source": [
    "raw_smoking['SMOKING_pack_years'] = raw_smoking[['SMOKING_pack_years_0',\n",
    "                                                 'SMOKING_pack_years_1',\n",
    "                                                 'SMOKING_pack_years_2',\n",
    "                                                 'SMOKING_pack_years_3']].max(axis = 1)\n",
    "raw_smoking['SMOKING_pack_years'].describe()"
   ]
  },
  {
   "cell_type": "code",
   "execution_count": null,
   "id": "b8faff9f-e884-4f0b-9a3c-ed200dd0d151",
   "metadata": {
    "tags": []
   },
   "outputs": [],
   "source": [
    "raw_smoking.loc[raw_smoking[\"SMOKING_pack_years\"] > 0, \"SMOKING_pack_years\"] = 2\n",
    "raw_smoking['SMOKING_pack_years'].unique()"
   ]
  },
  {
   "cell_type": "code",
   "execution_count": null,
   "id": "fd83d6a7-df40-464b-bca8-96967209caf8",
   "metadata": {
    "tags": []
   },
   "outputs": [],
   "source": [
    "raw_smoking = raw_smoking.drop(columns = ['SMOKING_pack_years_0',\n",
    "                                          'SMOKING_pack_years_1',\n",
    "                                          'SMOKING_pack_years_2',\n",
    "                                          'SMOKING_pack_years_3'])"
   ]
  },
  {
   "cell_type": "markdown",
   "id": "854a5b34-f6d2-4337-9be5-b6bc27348fda",
   "metadata": {
    "tags": []
   },
   "source": [
    "### smoking status"
   ]
  },
  {
   "cell_type": "code",
   "execution_count": null,
   "id": "f331a96a-6541-4f94-8e12-93f6c78a3323",
   "metadata": {
    "tags": []
   },
   "outputs": [],
   "source": [
    "raw_smoking['SMOKING_status_0'] = raw_smoking['SMOKING_status_0'].replace({'Current' : 2, 'Previous' : 1, 'Never' : 0, 'Prefer not to answer' : np.nan})\n",
    "raw_smoking['SMOKING_status_1'] = raw_smoking['SMOKING_status_1'].replace({'Current' : 2, 'Previous' : 1, 'Never' : 0, 'Prefer not to answer' : np.nan})\n",
    "raw_smoking['SMOKING_status_2'] = raw_smoking['SMOKING_status_2'].replace({'Current' : 2, 'Previous' : 1, 'Never' : 0, 'Prefer not to answer' : np.nan})\n",
    "raw_smoking['SMOKING_status_3'] = raw_smoking['SMOKING_status_3'].replace({'Current' : 2, 'Previous' : 1, 'Never' : 0, 'Prefer not to answer' : np.nan})\n",
    "raw_smoking['SMOKING_status_0'].unique()"
   ]
  },
  {
   "cell_type": "code",
   "execution_count": null,
   "id": "276b8c55-003a-495e-9cfd-9d4b40afe9f9",
   "metadata": {
    "tags": []
   },
   "outputs": [],
   "source": [
    "raw_smoking[['SMOKING_status_0', 'SMOKING_status_1', 'SMOKING_status_2', 'SMOKING_status_3']]"
   ]
  },
  {
   "cell_type": "code",
   "execution_count": null,
   "id": "ad022908-49bc-41fe-bea1-c2e6236871cf",
   "metadata": {
    "tags": []
   },
   "outputs": [],
   "source": [
    "raw_smoking['SMOKING_status'] = 1  \n",
    "raw_smoking.loc[raw_smoking[['SMOKING_status_0', 'SMOKING_status_1', 'SMOKING_status_2', 'SMOKING_status_3']].eq(2).any(axis = 1), \"SMOKING_status\"] = 2  \n",
    "raw_smoking.loc[raw_smoking[['SMOKING_status_0', 'SMOKING_status_1', 'SMOKING_status_2', 'SMOKING_status_3']].fillna(0).eq(0).all(axis = 1), \"SMOKING_status\"] = 0  \n",
    "print(raw_smoking['SMOKING_status'].value_counts(dropna = False))\n",
    "raw_smoking[['SMOKING_status_0', 'SMOKING_status_1', 'SMOKING_status_2', 'SMOKING_status_3', 'SMOKING_status']]"
   ]
  },
  {
   "cell_type": "code",
   "execution_count": null,
   "id": "cd23f25e-add4-4f89-9cdf-c6b014f2ec5e",
   "metadata": {
    "tags": []
   },
   "outputs": [],
   "source": [
    "raw_smoking = raw_smoking.drop(columns = ['SMOKING_status_0',\n",
    "                                          'SMOKING_status_1',\n",
    "                                          'SMOKING_status_2',\n",
    "                                          'SMOKING_status_3'])"
   ]
  },
  {
   "cell_type": "markdown",
   "id": "8d4d8a8b-31f9-40d5-b052-3036b5c5c5bb",
   "metadata": {
    "tags": []
   },
   "source": [
    "### current tobacco"
   ]
  },
  {
   "cell_type": "code",
   "execution_count": null,
   "id": "5de9d563-1d0e-4dc5-b544-f878cba1fb55",
   "metadata": {
    "tags": []
   },
   "outputs": [],
   "source": [
    "raw_smoking['SMOKING_current_tobacco_0'] = raw_smoking['SMOKING_current_tobacco_0'].replace({'Yes, on most or all days' : 2, 'Only occasionally' : 2, 'No' : 0, 'Prefer not to answer' : np.nan})\n",
    "raw_smoking['SMOKING_current_tobacco_1'] = raw_smoking['SMOKING_current_tobacco_1'].replace({'Yes, on most or all days' : 2, 'Only occasionally' : 2, 'No' : 0, 'Prefer not to answer' : np.nan})\n",
    "raw_smoking['SMOKING_current_tobacco_2'] = raw_smoking['SMOKING_current_tobacco_2'].replace({'Yes, on most or all days' : 2, 'Only occasionally' : 2, 'No' : 0, 'Prefer not to answer' : np.nan})\n",
    "raw_smoking['SMOKING_current_tobacco_3'] = raw_smoking['SMOKING_current_tobacco_3'].replace({'Yes, on most or all days' : 2, 'Only occasionally' : 2, 'No' : 0, 'Prefer not to answer' : np.nan})\n",
    "raw_smoking['SMOKING_current_tobacco_0'].unique()"
   ]
  },
  {
   "cell_type": "code",
   "execution_count": null,
   "id": "477ecbbc-10c0-41b3-a886-eb363bdf4404",
   "metadata": {
    "tags": []
   },
   "outputs": [],
   "source": [
    "raw_smoking['SMOKING_current_tobacco'] = raw_smoking[['SMOKING_current_tobacco_0',\n",
    "                                                      'SMOKING_current_tobacco_1',\n",
    "                                                      'SMOKING_current_tobacco_2',\n",
    "                                                      'SMOKING_current_tobacco_3']].sum(axis = 1)\n",
    "raw_smoking.loc[raw_smoking[\"SMOKING_current_tobacco\"] > 0, \"SMOKING_current_tobacco\"] = 2\n",
    "raw_smoking['SMOKING_current_tobacco'].unique()"
   ]
  },
  {
   "cell_type": "code",
   "execution_count": null,
   "id": "3759f0b9-ed53-42f7-bca8-7045a755eeb4",
   "metadata": {
    "tags": []
   },
   "outputs": [],
   "source": [
    "raw_smoking = raw_smoking.drop(columns = ['SMOKING_current_tobacco_0',\n",
    "                                          'SMOKING_current_tobacco_1',\n",
    "                                          'SMOKING_current_tobacco_2',\n",
    "                                          'SMOKING_current_tobacco_3'])"
   ]
  },
  {
   "cell_type": "markdown",
   "id": "a22a3fd9-4875-4954-9a49-d0c87591aeeb",
   "metadata": {
    "tags": []
   },
   "source": [
    "### light smoker"
   ]
  },
  {
   "cell_type": "code",
   "execution_count": null,
   "id": "75b4c5e3-78ad-461c-9457-b88db1386404",
   "metadata": {
    "tags": []
   },
   "outputs": [],
   "source": [
    "raw_smoking['SMOKING_light_smoker_0'] = raw_smoking['SMOKING_light_smoker_0'].replace({'Yes' : 2, 'Do not know' : np.nan, 'No' : 0, 'Prefer not to answer' : np.nan})\n",
    "raw_smoking['SMOKING_light_smoker_1'] = raw_smoking['SMOKING_light_smoker_1'].replace({'Yes' : 2, 'Do not know' : np.nan, 'No' : 0, 'Prefer not to answer' : np.nan})\n",
    "raw_smoking['SMOKING_light_smoker_2'] = raw_smoking['SMOKING_light_smoker_2'].replace({'Yes' : 2, 'Do not know' : np.nan, 'No' : 0, 'Prefer not to answer' : np.nan})\n",
    "raw_smoking['SMOKING_light_smoker_3'] = raw_smoking['SMOKING_light_smoker_3'].replace({'Yes' : 2, 'Do not know' : np.nan, 'No' : 0, 'Prefer not to answer' : np.nan})\n",
    "raw_smoking['SMOKING_light_smoker_0'].unique()"
   ]
  },
  {
   "cell_type": "code",
   "execution_count": null,
   "id": "6a27e23a-7e03-4c17-97c4-ea55e786e9c6",
   "metadata": {
    "tags": []
   },
   "outputs": [],
   "source": [
    "raw_smoking['SMOKING_light_smoker'] = raw_smoking[['SMOKING_light_smoker_0',\n",
    "                                                   'SMOKING_light_smoker_1',\n",
    "                                                   'SMOKING_light_smoker_2',\n",
    "                                                   'SMOKING_light_smoker_3']].sum(axis = 1)\n",
    "raw_smoking.loc[raw_smoking[\"SMOKING_light_smoker\"] > 0, \"SMOKING_light_smoker\"] = 2\n",
    "raw_smoking['SMOKING_light_smoker'].unique()"
   ]
  },
  {
   "cell_type": "code",
   "execution_count": null,
   "id": "9c10b61f-93f7-4044-bbe9-e281e92369ec",
   "metadata": {
    "tags": []
   },
   "outputs": [],
   "source": [
    "raw_smoking = raw_smoking.drop(columns = ['SMOKING_light_smoker_0',\n",
    "                                          'SMOKING_light_smoker_1',\n",
    "                                          'SMOKING_light_smoker_2',\n",
    "                                          'SMOKING_light_smoker_3',\n",
    "                                          'SMOKING_past_tobacco_0',\n",
    "                                          'SMOKING_past_tobacco_1',\n",
    "                                          'SMOKING_past_tobacco_2',\n",
    "                                          'SMOKING_past_tobacco_3',\n",
    "                                          'SMOKING_age_start_current_0',\n",
    "                                          'SMOKING_age_start_current_1',\n",
    "                                          'SMOKING_age_start_current_2',\n",
    "                                          'SMOKING_age_start_current_3',\n",
    "                                          'SMOKING_type_tobacco_current_0',\n",
    "                                          'SMOKING_type_tobacco_current_1',\n",
    "                                          'SMOKING_type_tobacco_current_2',\n",
    "                                          'SMOKING_type_tobacco_current_3',\n",
    "                                          'SMOKING_prev_cig_most_all_days_0',\n",
    "                                          'SMOKING_prev_cig_most_all_days_1',\n",
    "                                          'SMOKING_prev_cig_most_all_days_2',\n",
    "                                          'SMOKING_prev_cig_most_all_days_3',\n",
    "                                          'SMOKING_n_cig_prev_smoke_0',\n",
    "                                          'SMOKING_n_cig_prev_smoke_1',\n",
    "                                          'SMOKING_n_cig_prev_smoke_2',\n",
    "                                          'SMOKING_n_cig_prev_smoke_3',\n",
    "                                          'SMOKING_age_start_former_0',\n",
    "                                          'SMOKING_age_start_former_1',\n",
    "                                          'SMOKING_age_start_former_2',\n",
    "                                          'SMOKING_age_start_former_3'])"
   ]
  },
  {
   "cell_type": "markdown",
   "id": "74b2d99a-72a9-48d7-8bfe-11d34ba62a3f",
   "metadata": {},
   "source": [
    "### number of cigarettes per day for current smokers"
   ]
  },
  {
   "cell_type": "code",
   "execution_count": null,
   "id": "7ab444f0-a415-40aa-b5a9-df812eb2ee9b",
   "metadata": {
    "tags": []
   },
   "outputs": [],
   "source": [
    "raw_smoking['SMOKING_n_cig_daily_current_0'].unique()"
   ]
  },
  {
   "cell_type": "code",
   "execution_count": null,
   "id": "fd11c27d-2571-4b46-9207-56587482b994",
   "metadata": {
    "tags": []
   },
   "outputs": [],
   "source": [
    "raw_smoking['SMOKING_n_cig_daily_current_0'] = raw_smoking['SMOKING_n_cig_daily_current_0'].replace({'Do not know' : np.nan, 'Prefer not to answer' : np.nan, 'Less than one a day' : 1}).astype(float)\n",
    "raw_smoking['SMOKING_n_cig_daily_current_1'] = raw_smoking['SMOKING_n_cig_daily_current_1'].replace({'Do not know' : np.nan, 'Prefer not to answer' : np.nan, 'Less than one a day' : 1}).astype(float)\n",
    "raw_smoking['SMOKING_n_cig_daily_current_2'] = raw_smoking['SMOKING_n_cig_daily_current_2'].replace({'Do not know' : np.nan, 'Prefer not to answer' : np.nan, 'Less than one a day' : 1}).astype(float)\n",
    "raw_smoking['SMOKING_n_cig_daily_current_3'] = raw_smoking['SMOKING_n_cig_daily_current_3'].replace({'Do not know' : np.nan, 'Prefer not to answer' : np.nan, 'Less than one a day' : 1}).astype(float)\n",
    "raw_smoking['SMOKING_n_cig_daily_current_0'].unique()"
   ]
  },
  {
   "cell_type": "code",
   "execution_count": null,
   "id": "da3655cb-bd35-47db-902e-48b1f2efd696",
   "metadata": {
    "tags": []
   },
   "outputs": [],
   "source": [
    "raw_smoking['SMOKING_n_cig_daily_current'] = raw_smoking[['SMOKING_n_cig_daily_current_0',\n",
    "                                                          'SMOKING_n_cig_daily_current_1',\n",
    "                                                          'SMOKING_n_cig_daily_current_2',\n",
    "                                                          'SMOKING_n_cig_daily_current_3']].max(axis = 1)\n",
    "raw_smoking['SMOKING_n_cig_daily_current'].describe()"
   ]
  },
  {
   "cell_type": "code",
   "execution_count": null,
   "id": "3c1e33dd-0a3e-4fbc-8a67-17ece984ab59",
   "metadata": {
    "tags": []
   },
   "outputs": [],
   "source": [
    "raw_smoking.loc[raw_smoking[\"SMOKING_n_cig_daily_current\"] > 0, \"SMOKING_n_cig_daily_current\"] = 2\n",
    "raw_smoking['SMOKING_n_cig_daily_current'].unique()"
   ]
  },
  {
   "cell_type": "code",
   "execution_count": null,
   "id": "1df5fdb1-1e68-4fa5-a734-4e82518c23a4",
   "metadata": {
    "tags": []
   },
   "outputs": [],
   "source": [
    "raw_smoking = raw_smoking.drop(columns = ['SMOKING_n_cig_daily_current_0',\n",
    "                                          'SMOKING_n_cig_daily_current_1',\n",
    "                                          'SMOKING_n_cig_daily_current_2',\n",
    "                                          'SMOKING_n_cig_daily_current_3',\n",
    "                                          'SMOKING_age_stop_cigar_0',\n",
    "                                          'SMOKING_age_stop_cigar_1',\n",
    "                                          'SMOKING_age_stop_cigar_2',\n",
    "                                          'SMOKING_age_stop_cigar_3'])"
   ]
  },
  {
   "cell_type": "markdown",
   "id": "b03ccc77-ca94-48b2-a1db-04baca65fedb",
   "metadata": {},
   "source": [
    "### age stop"
   ]
  },
  {
   "cell_type": "code",
   "execution_count": null,
   "id": "da28015b-ba55-44e3-adeb-62a23ff4141f",
   "metadata": {
    "tags": []
   },
   "outputs": [],
   "source": [
    "raw_smoking['SMOKING_age_stop_0'] = raw_smoking['SMOKING_age_stop_0'].replace({'Do not know' : np.nan, 'Prefer not to answer' : np.nan}).astype(float)\n",
    "raw_smoking['SMOKING_age_stop_1'] = raw_smoking['SMOKING_age_stop_1'].replace({'Do not know' : np.nan, 'Prefer not to answer' : np.nan}).astype(float)\n",
    "raw_smoking['SMOKING_age_stop_2'] = raw_smoking['SMOKING_age_stop_2'].replace({'Do not know' : np.nan, 'Prefer not to answer' : np.nan}).astype(float)\n",
    "raw_smoking['SMOKING_age_stop_3'] = raw_smoking['SMOKING_age_stop_3'].replace({'Do not know' : np.nan, 'Prefer not to answer' : np.nan}).astype(float)"
   ]
  },
  {
   "cell_type": "code",
   "execution_count": null,
   "id": "c111ce78-03ce-4771-bedc-8403d04cdfd1",
   "metadata": {
    "tags": []
   },
   "outputs": [],
   "source": [
    "raw_smoking['SMOKING_age_stop'] = raw_smoking[['SMOKING_age_stop_0',\n",
    "                                                   'SMOKING_age_stop_1',\n",
    "                                                   'SMOKING_age_stop_2',\n",
    "                                                   'SMOKING_age_stop_3']].max(axis = 1)"
   ]
  },
  {
   "cell_type": "code",
   "execution_count": null,
   "id": "253e145c-5e12-4de4-a95e-567dea43584f",
   "metadata": {
    "tags": []
   },
   "outputs": [],
   "source": [
    "raw_smoking = raw_smoking.drop(columns = ['SMOKING_age_stop_0',\n",
    "                                                   'SMOKING_age_stop_1',\n",
    "                                                   'SMOKING_age_stop_2',\n",
    "                                                   'SMOKING_age_stop_3'])"
   ]
  },
  {
   "cell_type": "markdown",
   "id": "cc32935f-a220-4898-99f4-4036c92a8fa8",
   "metadata": {},
   "source": [
    "### create final smoking column"
   ]
  },
  {
   "cell_type": "code",
   "execution_count": null,
   "id": "897c39b8-3541-4442-b374-2c1d551f6a3e",
   "metadata": {
    "tags": []
   },
   "outputs": [],
   "source": [
    "[col for col in raw_smoking.columns if \"SMOKING\" in col]"
   ]
  },
  {
   "cell_type": "code",
   "execution_count": null,
   "id": "fa7458d2-fc62-4728-8159-c78c4b56f629",
   "metadata": {
    "tags": []
   },
   "outputs": [],
   "source": [
    "raw_smoking['SMOKING'] = raw_smoking[['SMOKING_ever_smoked',\n",
    "                                      'SMOKING_status',\n",
    "                                      'SMOKING_current_tobacco',\n",
    "                                      'SMOKING_light_smoker',\n",
    "                                      'SMOKING_pack_years',\n",
    "                                      'SMOKING_n_cig_daily_current']].sum(axis = 1)\n",
    "raw_smoking['SMOKING'].unique()"
   ]
  },
  {
   "cell_type": "code",
   "execution_count": null,
   "id": "9e936024-eccc-433a-bb95-3a4627e54b6b",
   "metadata": {
    "tags": []
   },
   "outputs": [],
   "source": [
    "raw_smoking.loc[raw_smoking[\"SMOKING\"] > 0, \"SMOKING\"] = 2\n",
    "raw_smoking['SMOKING'].value_counts(dropna = False)"
   ]
  },
  {
   "cell_type": "code",
   "execution_count": null,
   "id": "c86d27a1-a4f4-4855-9521-f8c28ccf9ed1",
   "metadata": {
    "tags": []
   },
   "outputs": [],
   "source": [
    "raw_smoking.loc[((raw_smoking['SMOKING_status'] == 1) | (raw_smoking['SMOKING_status'].isna() == True)) & (raw_smoking[\"SMOKING_age_stop\"] < raw_smoking[\"AGE\"]), \"SMOKING\"] = 1\n",
    "raw_smoking['SMOKING'].value_counts(dropna = False)"
   ]
  },
  {
   "cell_type": "code",
   "execution_count": null,
   "id": "e6b0459f-54ab-4597-bfe8-19db751f375e",
   "metadata": {
    "tags": []
   },
   "outputs": [],
   "source": [
    "raw_smoking = raw_smoking.drop(columns = ['SMOKING_ever_smoked',\n",
    "                                          'SMOKING_status',\n",
    "                                          'SMOKING_current_tobacco',\n",
    "                                          'SMOKING_light_smoker',\n",
    "                                          'SMOKING_age_stop',\n",
    "                                          'SMOKING_pack_years',\n",
    "                                          'SMOKING_n_cig_daily_current'])"
   ]
  },
  {
   "cell_type": "code",
   "execution_count": null,
   "id": "7cd75f90-ace1-4cde-bb91-e1c4aca924db",
   "metadata": {
    "tags": []
   },
   "outputs": [],
   "source": [
    "[col for col in raw_smoking.columns if \"SMOKING\" in col]"
   ]
  },
  {
   "cell_type": "markdown",
   "id": "1ab47d5b-6fcb-43e2-912a-baee695cc78b",
   "metadata": {
    "tags": []
   },
   "source": [
    "## physical activity"
   ]
  },
  {
   "cell_type": "code",
   "execution_count": null,
   "id": "3ad4171b-9b5b-4629-9e66-153caa261d9f",
   "metadata": {
    "tags": []
   },
   "outputs": [],
   "source": [
    "print(raw_smoking.shape)"
   ]
  },
  {
   "cell_type": "code",
   "execution_count": null,
   "id": "b54df1a7-b459-4245-a642-4dec9c2ab703",
   "metadata": {
    "tags": []
   },
   "outputs": [],
   "source": [
    "[col for col in raw_smoking.columns if \"PA\" in col]"
   ]
  },
  {
   "cell_type": "markdown",
   "id": "9d2d4284-fed3-4175-bbef-cfa69afae0f2",
   "metadata": {
    "tags": []
   },
   "source": [
    "### at/above moderate/vigerous recommendation"
   ]
  },
  {
   "cell_type": "markdown",
   "id": "71230ca9-c7f1-49d5-b54d-ce7a359b3e19",
   "metadata": {},
   "source": [
    "#### reset index"
   ]
  },
  {
   "cell_type": "code",
   "execution_count": null,
   "id": "6d757f4e-a716-40fb-b1a1-ce9b6c9a8f2d",
   "metadata": {
    "tags": []
   },
   "outputs": [],
   "source": [
    "raw_smoking.reset_index(inplace = True, drop = True)"
   ]
  },
  {
   "cell_type": "markdown",
   "id": "65a5de23-91e3-4cc1-a4a7-c8bd6677eca5",
   "metadata": {},
   "source": [
    "#### apply function"
   ]
  },
  {
   "cell_type": "code",
   "execution_count": null,
   "id": "7bf8b980-33b0-42e0-b2e4-d1989cde54a9",
   "metadata": {
    "tags": []
   },
   "outputs": [],
   "source": [
    "raw_smoking['PA_at_above_mod_vig_rec'] = select_instance(raw_smoking, 'PA_at_above_mod_vig_rec', 4)\n",
    "raw_smoking[['PA_at_above_mod_vig_rec_0', 'PA_at_above_mod_vig_rec_1', 'PA_at_above_mod_vig_rec_2', 'PA_at_above_mod_vig_rec_3', 'PA_at_above_mod_vig_rec', 'MIN_AGE_COL']]"
   ]
  },
  {
   "cell_type": "markdown",
   "id": "4b733104-3509-4f95-9c68-9065e3c3450f",
   "metadata": {},
   "source": [
    "#### recode variable"
   ]
  },
  {
   "cell_type": "code",
   "execution_count": null,
   "id": "383e15d7-e108-4586-ade2-cba794dea536",
   "metadata": {
    "tags": []
   },
   "outputs": [],
   "source": [
    "raw_smoking['PA_at_above_mod_vig_rec'] = raw_smoking['PA_at_above_mod_vig_rec'].replace({'Yes' : 1, 'No' : 0})\n",
    "raw_smoking['PA_at_above_mod_vig_rec'].unique()"
   ]
  },
  {
   "cell_type": "markdown",
   "id": "6a5b6aaa-5c69-42e4-b289-0ea917fa05d0",
   "metadata": {},
   "source": [
    "#### drop columns"
   ]
  },
  {
   "cell_type": "code",
   "execution_count": null,
   "id": "207dabb2-c395-45a1-a8ef-d67a598274ce",
   "metadata": {
    "tags": []
   },
   "outputs": [],
   "source": [
    "raw_pa = raw_smoking.drop(columns = ['PA_at_above_mod_vig_rec_0',\n",
    "                                     'PA_at_above_mod_vig_rec_1',\n",
    "                                     'PA_at_above_mod_vig_rec_2',\n",
    "                                     'PA_at_above_mod_vig_rec_3'])"
   ]
  },
  {
   "cell_type": "markdown",
   "id": "d2946d4c-cdde-4368-9bbd-adc0fa3f64ba",
   "metadata": {
    "tags": []
   },
   "source": [
    "### at/above moderate/vigerous/walking recommendation"
   ]
  },
  {
   "cell_type": "markdown",
   "id": "d192c2a0-0e71-4e16-89ca-bbc157445848",
   "metadata": {},
   "source": [
    "#### reset index"
   ]
  },
  {
   "cell_type": "code",
   "execution_count": null,
   "id": "49af1c97-c761-4b3b-99dc-2e43e1010072",
   "metadata": {
    "tags": []
   },
   "outputs": [],
   "source": [
    "raw_pa.reset_index(inplace = True, drop = True)"
   ]
  },
  {
   "cell_type": "markdown",
   "id": "ad88fd78-4f39-45c8-81ea-0800c6e9048a",
   "metadata": {},
   "source": [
    "#### apply function"
   ]
  },
  {
   "cell_type": "code",
   "execution_count": null,
   "id": "5dd52b43-c30f-4544-ad98-6a2db93218de",
   "metadata": {
    "tags": []
   },
   "outputs": [],
   "source": [
    "raw_pa['PA_at_above_mod_vig_walk_rec'] = select_instance(raw_pa, 'PA_at_above_mod_vig_walk_rec', 4)\n",
    "raw_pa[['PA_at_above_mod_vig_walk_rec_0', 'PA_at_above_mod_vig_walk_rec_1', 'PA_at_above_mod_vig_walk_rec_2', 'PA_at_above_mod_vig_walk_rec_3', 'PA_at_above_mod_vig_walk_rec', 'MIN_AGE_COL']]"
   ]
  },
  {
   "cell_type": "markdown",
   "id": "fdd700fc-f5cd-4312-bb76-2ef52207ed4f",
   "metadata": {
    "tags": []
   },
   "source": [
    "#### recode variable"
   ]
  },
  {
   "cell_type": "code",
   "execution_count": null,
   "id": "358fc74f-b53b-4761-896a-e89334c8c485",
   "metadata": {
    "tags": []
   },
   "outputs": [],
   "source": [
    "raw_pa['PA_at_above_mod_vig_walk_rec'] = raw_pa['PA_at_above_mod_vig_walk_rec'].replace({'Yes' : 1, 'No' : 0})\n",
    "raw_pa['PA_at_above_mod_vig_walk_rec'].unique()"
   ]
  },
  {
   "cell_type": "markdown",
   "id": "ab8296f4-d9fe-4175-b1b9-d613c048b242",
   "metadata": {},
   "source": [
    "#### drop columns"
   ]
  },
  {
   "cell_type": "code",
   "execution_count": null,
   "id": "bc6d632c-4b88-49df-931f-c8a6d1be7d6d",
   "metadata": {
    "tags": []
   },
   "outputs": [],
   "source": [
    "raw_pa = raw_pa.drop(columns = ['PA_at_above_mod_vig_walk_rec_0',\n",
    "                                'PA_at_above_mod_vig_walk_rec_1',\n",
    "                                'PA_at_above_mod_vig_walk_rec_2',\n",
    "                                'PA_at_above_mod_vig_walk_rec_3'])"
   ]
  },
  {
   "cell_type": "markdown",
   "id": "92229a67-985e-4b34-b2ee-1d6e249ad8be",
   "metadata": {
    "tags": []
   },
   "source": [
    "### met mins per week of moderate activity"
   ]
  },
  {
   "cell_type": "markdown",
   "id": "a502c159-f4d3-4519-982c-0d75410f9b7d",
   "metadata": {},
   "source": [
    "#### reset index"
   ]
  },
  {
   "cell_type": "code",
   "execution_count": null,
   "id": "528cd1f1-8ee6-4a32-bca8-295232468e91",
   "metadata": {
    "tags": []
   },
   "outputs": [],
   "source": [
    "raw_pa.reset_index(inplace = True, drop = True)"
   ]
  },
  {
   "cell_type": "markdown",
   "id": "d3043fd7-a48f-4d90-adde-8d41b68bb2a2",
   "metadata": {},
   "source": [
    "#### apply function"
   ]
  },
  {
   "cell_type": "code",
   "execution_count": null,
   "id": "06460ca0-a861-4edb-a599-d79fe5f24bcc",
   "metadata": {
    "tags": []
   },
   "outputs": [],
   "source": [
    "raw_pa['PA_met_mins_week_mod'] = select_instance(raw_pa, 'PA_met_mins_week_mod', 4)\n",
    "raw_pa[['PA_met_mins_week_mod_0', 'PA_met_mins_week_mod_1', 'PA_met_mins_week_mod_2', 'PA_met_mins_week_mod_3', 'PA_met_mins_week_mod', 'MIN_AGE_COL']]"
   ]
  },
  {
   "cell_type": "markdown",
   "id": "e59bc863-186a-4d1e-96cc-e2637ddc68c9",
   "metadata": {},
   "source": [
    "#### drop columns"
   ]
  },
  {
   "cell_type": "code",
   "execution_count": null,
   "id": "b72497aa-79f8-4dad-b34b-ec1cce065ca5",
   "metadata": {
    "tags": []
   },
   "outputs": [],
   "source": [
    "raw_pa = raw_pa.drop(columns = ['PA_met_mins_week_mod_0',\n",
    "                                'PA_met_mins_week_mod_1',\n",
    "                                'PA_met_mins_week_mod_2',\n",
    "                                'PA_met_mins_week_mod_3'])"
   ]
  },
  {
   "cell_type": "markdown",
   "id": "5051a706-cb67-4f6a-a778-86139da33d1f",
   "metadata": {
    "tags": []
   },
   "source": [
    "### met mins per week of vigorous activity"
   ]
  },
  {
   "cell_type": "markdown",
   "id": "30f03863-b727-46ac-a5ea-deb931952657",
   "metadata": {},
   "source": [
    "#### reset index"
   ]
  },
  {
   "cell_type": "code",
   "execution_count": null,
   "id": "0f8e2b45-c274-48c7-be54-1689800aac2e",
   "metadata": {
    "tags": []
   },
   "outputs": [],
   "source": [
    "raw_pa.reset_index(inplace = True, drop = True)"
   ]
  },
  {
   "cell_type": "markdown",
   "id": "1c39d78e-fded-4f00-87d9-57a8d949f9f2",
   "metadata": {},
   "source": [
    "#### apply function"
   ]
  },
  {
   "cell_type": "code",
   "execution_count": null,
   "id": "70ed4184-27e6-4c13-ab07-1004b53f63a7",
   "metadata": {
    "tags": []
   },
   "outputs": [],
   "source": [
    "raw_pa['PA_met_mins_week_vig'] = select_instance(raw_pa, 'PA_met_mins_week_vig', 4)\n",
    "raw_pa[['PA_met_mins_week_vig_0', 'PA_met_mins_week_vig_1', 'PA_met_mins_week_vig_2', 'PA_met_mins_week_vig_3', 'PA_met_mins_week_vig', 'MIN_AGE_COL']].head()"
   ]
  },
  {
   "cell_type": "code",
   "execution_count": null,
   "id": "832b094c-bb7d-494b-8f47-db062a922475",
   "metadata": {
    "tags": []
   },
   "outputs": [],
   "source": [
    "raw_pa['PA_met_mins_week_vig'] = raw_pa[['PA_met_mins_week_vig_0',\n",
    "                                         'PA_met_mins_week_vig_1',\n",
    "                                         'PA_met_mins_week_vig_2',\n",
    "                                         'PA_met_mins_week_vig_3']].mean(axis = 1)"
   ]
  },
  {
   "cell_type": "markdown",
   "id": "b18ebd3e-20a8-44b9-8979-cfeddb565946",
   "metadata": {
    "tags": []
   },
   "source": [
    "#### drop columns"
   ]
  },
  {
   "cell_type": "code",
   "execution_count": null,
   "id": "4545c107-0786-48e7-ae4b-e4d5ba0c09b1",
   "metadata": {
    "tags": []
   },
   "outputs": [],
   "source": [
    "raw_pa = raw_pa.drop(columns = ['PA_met_mins_week_vig_0',\n",
    "                                'PA_met_mins_week_vig_1',\n",
    "                                'PA_met_mins_week_vig_2',\n",
    "                                'PA_met_mins_week_vig_3'])"
   ]
  },
  {
   "cell_type": "markdown",
   "id": "b2807ef5-1e2e-4233-a158-19a5b5a80eaa",
   "metadata": {
    "tags": []
   },
   "source": [
    "### met mins per week walking"
   ]
  },
  {
   "cell_type": "markdown",
   "id": "456be486-1b93-41b3-b808-b9d141c95ee1",
   "metadata": {},
   "source": [
    "#### reset index"
   ]
  },
  {
   "cell_type": "code",
   "execution_count": null,
   "id": "72f676a7-df77-4faa-baf3-befdbd42bddc",
   "metadata": {
    "tags": []
   },
   "outputs": [],
   "source": [
    "raw_pa.reset_index(inplace = True, drop = True)"
   ]
  },
  {
   "cell_type": "markdown",
   "id": "4a60e959-990c-4d42-bf99-406f15829300",
   "metadata": {},
   "source": [
    "#### apply function"
   ]
  },
  {
   "cell_type": "code",
   "execution_count": null,
   "id": "553c8357-e89d-4121-8041-5e50494dfe78",
   "metadata": {
    "tags": []
   },
   "outputs": [],
   "source": [
    "raw_pa['PA_met_mins_week_walk'] = select_instance(raw_pa, 'PA_met_mins_week_walk', 4)\n",
    "raw_pa[['PA_met_mins_week_walk_0', 'PA_met_mins_week_walk_1', 'PA_met_mins_week_walk_2', 'PA_met_mins_week_walk_3', 'PA_met_mins_week_walk', 'MIN_AGE_COL']].head()"
   ]
  },
  {
   "cell_type": "markdown",
   "id": "2453a98a-8528-4603-b41b-0627c34beb89",
   "metadata": {},
   "source": [
    "#### drop columns"
   ]
  },
  {
   "cell_type": "code",
   "execution_count": null,
   "id": "d96e48cb-778e-41ac-ba5f-4c41dffaf73a",
   "metadata": {
    "tags": []
   },
   "outputs": [],
   "source": [
    "raw_pa = raw_pa.drop(columns = ['PA_met_mins_week_walk_0',\n",
    "                                'PA_met_mins_week_walk_1',\n",
    "                                'PA_met_mins_week_walk_2',\n",
    "                                'PA_met_mins_week_walk_3'])"
   ]
  },
  {
   "cell_type": "markdown",
   "id": "0233ebd7-4a83-4de9-892b-1e63a5279bc4",
   "metadata": {
    "tags": []
   },
   "source": [
    "### summed met mins per week for all activities"
   ]
  },
  {
   "cell_type": "markdown",
   "id": "18f539d3-181b-4bf8-a1d3-7eceffaec6c0",
   "metadata": {},
   "source": [
    "#### reset index"
   ]
  },
  {
   "cell_type": "code",
   "execution_count": null,
   "id": "9aae8efb-9f53-47ca-ad03-1f251112f11f",
   "metadata": {
    "tags": []
   },
   "outputs": [],
   "source": [
    "raw_pa.reset_index(inplace = True, drop = True)"
   ]
  },
  {
   "cell_type": "markdown",
   "id": "8ff7afa5-703d-4721-a4cf-c7d4b9d0c9f9",
   "metadata": {},
   "source": [
    "#### apply function"
   ]
  },
  {
   "cell_type": "code",
   "execution_count": null,
   "id": "a4f958a7-7a0a-4cd1-b19c-5d1d229fa331",
   "metadata": {
    "tags": []
   },
   "outputs": [],
   "source": [
    "raw_pa['PA_sum_met_mins_week'] = select_instance(raw_pa, 'PA_sum_met_mins_week', 4)\n",
    "raw_pa[['PA_sum_met_mins_week_0', 'PA_sum_met_mins_week_1', 'PA_sum_met_mins_week_2', 'PA_sum_met_mins_week_3', 'PA_sum_met_mins_week', 'MIN_AGE_COL']].head()"
   ]
  },
  {
   "cell_type": "markdown",
   "id": "02caa8f5-0cc9-4098-afee-b4870311393b",
   "metadata": {},
   "source": [
    "#### drop columns"
   ]
  },
  {
   "cell_type": "code",
   "execution_count": null,
   "id": "1fa4e4ec-e89e-451f-8593-1a5ddcbb6f13",
   "metadata": {
    "tags": []
   },
   "outputs": [],
   "source": [
    "raw_pa = raw_pa.drop(columns = ['PA_sum_met_mins_week_0',\n",
    "                                'PA_sum_met_mins_week_1',\n",
    "                                'PA_sum_met_mins_week_2',\n",
    "                                'PA_sum_met_mins_week_3'])"
   ]
  },
  {
   "cell_type": "markdown",
   "id": "a9036355-d00e-444c-b6b1-5148d2317a1d",
   "metadata": {
    "tags": []
   },
   "source": [
    "### summed met days activity"
   ]
  },
  {
   "cell_type": "markdown",
   "id": "7c6b18cf-7a6d-46ed-aa58-8c166cf11935",
   "metadata": {},
   "source": [
    "#### reset index"
   ]
  },
  {
   "cell_type": "code",
   "execution_count": null,
   "id": "a682598f-4458-4729-9e21-d652763b3694",
   "metadata": {
    "tags": []
   },
   "outputs": [],
   "source": [
    "raw_pa.reset_index(inplace = True, drop = True)"
   ]
  },
  {
   "cell_type": "markdown",
   "id": "3fb0271c-d66f-4895-afa9-7fbc4843662a",
   "metadata": {},
   "source": [
    "#### apply function"
   ]
  },
  {
   "cell_type": "code",
   "execution_count": null,
   "id": "81946724-ee84-4796-aa6c-56dd0aae4375",
   "metadata": {
    "tags": []
   },
   "outputs": [],
   "source": [
    "raw_pa['PA_sum_days_activity'] = select_instance(raw_pa, 'PA_sum_days_activity', 4)\n",
    "raw_pa[['PA_sum_days_activity_0', 'PA_sum_days_activity_1', 'PA_sum_days_activity_2', 'PA_sum_days_activity_3', 'PA_sum_days_activity', 'MIN_AGE_COL']].head()"
   ]
  },
  {
   "cell_type": "markdown",
   "id": "0deae781-f45e-451e-9210-e98713ff0a6c",
   "metadata": {},
   "source": [
    "#### drop columns"
   ]
  },
  {
   "cell_type": "code",
   "execution_count": null,
   "id": "fcda1443-f2c8-45c8-a8d3-678f924d5e42",
   "metadata": {
    "tags": []
   },
   "outputs": [],
   "source": [
    "raw_pa = raw_pa.drop(columns = ['PA_sum_days_activity_0',\n",
    "                                'PA_sum_days_activity_1',\n",
    "                                'PA_sum_days_activity_2',\n",
    "                                'PA_sum_days_activity_3'])"
   ]
  },
  {
   "cell_type": "markdown",
   "id": "a301df9d-8636-4f85-aad8-0925bb65cef5",
   "metadata": {
    "tags": []
   },
   "source": [
    "### summed met mins activity"
   ]
  },
  {
   "cell_type": "markdown",
   "id": "564e608e-c384-468c-82a1-4d766bd0b0cc",
   "metadata": {},
   "source": [
    "#### reset index"
   ]
  },
  {
   "cell_type": "code",
   "execution_count": null,
   "id": "61e5f92f-4674-4f69-b50b-8537792cee69",
   "metadata": {
    "tags": []
   },
   "outputs": [],
   "source": [
    "raw_pa.reset_index(inplace = True, drop = True)"
   ]
  },
  {
   "cell_type": "markdown",
   "id": "edbdfef7-fae3-4f12-8f61-4be02c9684df",
   "metadata": {},
   "source": [
    "#### apply function"
   ]
  },
  {
   "cell_type": "code",
   "execution_count": null,
   "id": "19143815-64d7-401d-8204-3d5a564a84c0",
   "metadata": {
    "tags": []
   },
   "outputs": [],
   "source": [
    "raw_pa['PA_sum_min_activity'] = select_instance(raw_pa, 'PA_sum_min_activity', 4)\n",
    "raw_pa[['PA_sum_min_activity_0', 'PA_sum_min_activity_1', 'PA_sum_min_activity_2', 'PA_sum_min_activity_3', 'PA_sum_min_activity', 'MIN_AGE_COL']].head()"
   ]
  },
  {
   "cell_type": "markdown",
   "id": "300fc76b-c16a-4d26-9d7d-cc9839e28dc5",
   "metadata": {},
   "source": [
    "#### drop columns"
   ]
  },
  {
   "cell_type": "code",
   "execution_count": null,
   "id": "8232abea-fdd0-4bca-9828-f2893fc30c9e",
   "metadata": {
    "tags": []
   },
   "outputs": [],
   "source": [
    "raw_pa = raw_pa.drop(columns = ['PA_sum_min_activity_0',\n",
    "                                'PA_sum_min_activity_1',\n",
    "                                'PA_sum_min_activity_2',\n",
    "                                'PA_sum_min_activity_3'])"
   ]
  },
  {
   "cell_type": "markdown",
   "id": "50c563ea-254f-4750-b572-b6d129b23508",
   "metadata": {
    "tags": []
   },
   "source": [
    "### duration of heavy diy"
   ]
  },
  {
   "cell_type": "markdown",
   "id": "254c80ff-e886-4e4a-b9f0-35294e8df4ed",
   "metadata": {},
   "source": [
    "#### reset index"
   ]
  },
  {
   "cell_type": "code",
   "execution_count": null,
   "id": "26166818-6cbe-4c59-9ec4-4c4551f0f1f6",
   "metadata": {
    "tags": []
   },
   "outputs": [],
   "source": [
    "raw_pa.reset_index(inplace = True, drop = True)"
   ]
  },
  {
   "cell_type": "markdown",
   "id": "1bc31b92-aa73-418d-9d42-e4cb5678c7b0",
   "metadata": {},
   "source": [
    "#### apply function"
   ]
  },
  {
   "cell_type": "code",
   "execution_count": null,
   "id": "69bcb819-718b-48cb-819d-b2f9dbc74418",
   "metadata": {
    "tags": []
   },
   "outputs": [],
   "source": [
    "raw_pa['PA_dur_heavy_diy'] = select_instance(raw_pa, 'PA_dur_heavy_diy', 4)\n",
    "raw_pa[['PA_dur_heavy_diy_0', 'PA_dur_heavy_diy_1', 'PA_dur_heavy_diy_2', 'PA_dur_heavy_diy_3', 'PA_dur_heavy_diy', 'MIN_AGE_COL']].tail()"
   ]
  },
  {
   "cell_type": "markdown",
   "id": "4e642763-5949-4c10-a6f8-53f04680d9b4",
   "metadata": {},
   "source": [
    "#### recode variable"
   ]
  },
  {
   "cell_type": "code",
   "execution_count": null,
   "id": "692a8799-7d53-481a-9570-9e9abbfe29c0",
   "metadata": {
    "tags": []
   },
   "outputs": [],
   "source": [
    "raw_pa['PA_dur_heavy_diy'] = raw_pa['PA_dur_heavy_diy'].replace({'Less than 15 minutes' : 0,\n",
    "                                                                     'Between 15 and 30 minutes' : 1,\n",
    "                                                                     'Between 30 minutes and 1 hour' : 2,\n",
    "                                                                     'Between 1 and 1.5 hours' : 3,\n",
    "                                                                     'Between 1.5 and 2 hours' : 4,\n",
    "                                                                     'Between 2 and 3 hours' : 5,\n",
    "                                                                     'Over 3 hours' : 6,\n",
    "                                                                     'Do not know' : np.nan,\n",
    "                                                                     'Prefer not to answer' : np.nan})\n",
    "raw_pa['PA_dur_heavy_diy'].unique()"
   ]
  },
  {
   "cell_type": "markdown",
   "id": "ac757a80-0ed7-4cf8-8947-127612732788",
   "metadata": {},
   "source": [
    "#### drop columns"
   ]
  },
  {
   "cell_type": "code",
   "execution_count": null,
   "id": "23d49776-3a99-4ceb-be04-169e9c79e5ea",
   "metadata": {
    "tags": []
   },
   "outputs": [],
   "source": [
    "raw_pa = raw_pa.drop(columns = ['PA_dur_heavy_diy_0',\n",
    "                                'PA_dur_heavy_diy_1',\n",
    "                                'PA_dur_heavy_diy_2',\n",
    "                                'PA_dur_heavy_diy_3'])"
   ]
  },
  {
   "cell_type": "markdown",
   "id": "74d483ad-5531-48e8-9c30-eb782f4fe4ac",
   "metadata": {
    "tags": []
   },
   "source": [
    "### duration of light diy"
   ]
  },
  {
   "cell_type": "markdown",
   "id": "a5bb9081-26ac-4c2a-a619-9ed1fde771cb",
   "metadata": {},
   "source": [
    "#### reset index"
   ]
  },
  {
   "cell_type": "code",
   "execution_count": null,
   "id": "eb2e04e8-e0c3-499f-aaaf-6101109b6098",
   "metadata": {
    "tags": []
   },
   "outputs": [],
   "source": [
    "raw_pa.reset_index(inplace = True, drop = True)"
   ]
  },
  {
   "cell_type": "markdown",
   "id": "ce8549d4-4e86-4575-891f-a477d9e6c93d",
   "metadata": {},
   "source": [
    "#### apply function"
   ]
  },
  {
   "cell_type": "code",
   "execution_count": null,
   "id": "8bd36b82-cca0-4073-b991-16d187b99f4f",
   "metadata": {
    "tags": []
   },
   "outputs": [],
   "source": [
    "raw_pa['PA_dur_light_diy'] = select_instance(raw_pa, 'PA_dur_light_diy', 4)\n",
    "raw_pa[['PA_dur_light_diy_0', 'PA_dur_light_diy_1', 'PA_dur_light_diy_2', 'PA_dur_light_diy_3', 'PA_dur_light_diy', 'MIN_AGE_COL']].tail()"
   ]
  },
  {
   "cell_type": "markdown",
   "id": "7b17cb03-c8f2-48d7-8226-49a7532a28c9",
   "metadata": {},
   "source": [
    "#### recode variable"
   ]
  },
  {
   "cell_type": "code",
   "execution_count": null,
   "id": "2ff1fa81-f3c1-4c4e-bac9-34e998d1ab3d",
   "metadata": {
    "tags": []
   },
   "outputs": [],
   "source": [
    "raw_pa['PA_dur_light_diy'] = raw_pa['PA_dur_light_diy'].replace({'Less than 15 minutes' : 0,\n",
    "                                                                     'Between 15 and 30 minutes' : 1,\n",
    "                                                                     'Between 30 minutes and 1 hour' : 2,\n",
    "                                                                     'Between 1 and 1.5 hours' : 3,\n",
    "                                                                     'Between 1.5 and 2 hours' : 4,\n",
    "                                                                     'Between 2 and 3 hours' : 5,\n",
    "                                                                     'Over 3 hours' : 6,\n",
    "                                                                     'Do not know' : np.nan,\n",
    "                                                                     'Prefer not to answer' : np.nan})\n",
    "raw_pa['PA_dur_light_diy'].unique()"
   ]
  },
  {
   "cell_type": "markdown",
   "id": "69a8d4f8-1756-429b-80c7-c11646012454",
   "metadata": {},
   "source": [
    "#### drop columns"
   ]
  },
  {
   "cell_type": "code",
   "execution_count": null,
   "id": "378b885a-a49b-4922-92a9-28ef20a0dfab",
   "metadata": {
    "tags": []
   },
   "outputs": [],
   "source": [
    "raw_pa = raw_pa.drop(columns = ['PA_dur_light_diy_0',\n",
    "                                'PA_dur_light_diy_1',\n",
    "                                'PA_dur_light_diy_2',\n",
    "                                'PA_dur_light_diy_3'])"
   ]
  },
  {
   "cell_type": "markdown",
   "id": "c159f4ec-2af9-418d-ace8-a046be4ba541",
   "metadata": {
    "tags": []
   },
   "source": [
    "### duration of moderate activity"
   ]
  },
  {
   "cell_type": "markdown",
   "id": "01cecd96-5d51-4b59-a3d3-f70592f12567",
   "metadata": {},
   "source": [
    "#### reset index"
   ]
  },
  {
   "cell_type": "code",
   "execution_count": null,
   "id": "d90f06ea-1631-466b-9426-67d84ace1507",
   "metadata": {
    "tags": []
   },
   "outputs": [],
   "source": [
    "raw_pa.reset_index(inplace = True, drop = True)"
   ]
  },
  {
   "cell_type": "markdown",
   "id": "745c17b9-3e3f-4831-901e-5f02dfd698ef",
   "metadata": {},
   "source": [
    "#### apply function"
   ]
  },
  {
   "cell_type": "code",
   "execution_count": null,
   "id": "0de50a17-23e8-47b8-a0c1-f7fec060d7dd",
   "metadata": {
    "tags": []
   },
   "outputs": [],
   "source": [
    "raw_pa['PA_dur_mod_activity'] = select_instance(raw_pa, 'PA_dur_mod_activity', 4)\n",
    "raw_pa[['PA_dur_mod_activity_0', 'PA_dur_mod_activity_1', 'PA_dur_mod_activity_2', 'PA_dur_mod_activity_3', 'PA_dur_mod_activity', 'MIN_AGE_COL']].tail()"
   ]
  },
  {
   "cell_type": "markdown",
   "id": "46ad32a0-66d2-4f44-9ac2-909596f5e7b8",
   "metadata": {},
   "source": [
    "#### recode variable"
   ]
  },
  {
   "cell_type": "code",
   "execution_count": null,
   "id": "81eaed87-c245-478b-9da1-26188b73a169",
   "metadata": {
    "tags": []
   },
   "outputs": [],
   "source": [
    "raw_pa['PA_dur_mod_activity'] = raw_pa['PA_dur_mod_activity'].replace({'Prefer not to answer' : np.nan, 'Do not know' : np.nan}).astype(float)"
   ]
  },
  {
   "cell_type": "markdown",
   "id": "7d058a5b-4bf3-41cf-a418-abe96d835bfb",
   "metadata": {},
   "source": [
    "#### drop columns"
   ]
  },
  {
   "cell_type": "code",
   "execution_count": null,
   "id": "c47b0ce5-4f45-4101-b683-16ca818334f0",
   "metadata": {
    "tags": []
   },
   "outputs": [],
   "source": [
    "raw_pa = raw_pa.drop(columns = ['PA_dur_mod_activity_0',\n",
    "                                'PA_dur_mod_activity_1',\n",
    "                                'PA_dur_mod_activity_2',\n",
    "                                'PA_dur_mod_activity_3'])"
   ]
  },
  {
   "cell_type": "markdown",
   "id": "ba0d4a71-47ba-4a12-908d-6545151f95a1",
   "metadata": {
    "tags": []
   },
   "source": [
    "### duration of other exercises"
   ]
  },
  {
   "cell_type": "markdown",
   "id": "098ca3e8-8cc4-4770-b664-f8d44189ee9d",
   "metadata": {},
   "source": [
    "#### reset index"
   ]
  },
  {
   "cell_type": "code",
   "execution_count": null,
   "id": "5905bff5-3354-48d5-9c70-49f494e22e14",
   "metadata": {
    "tags": []
   },
   "outputs": [],
   "source": [
    "raw_pa.reset_index(inplace = True, drop = True)"
   ]
  },
  {
   "cell_type": "markdown",
   "id": "1a51ed87-7a84-47e4-83b1-843ab2275817",
   "metadata": {},
   "source": [
    "#### apply function"
   ]
  },
  {
   "cell_type": "code",
   "execution_count": null,
   "id": "52d86c8d-1b28-4cf3-a8c5-4d494e145ed8",
   "metadata": {
    "tags": []
   },
   "outputs": [],
   "source": [
    "raw_pa['PA_dur_oth_exercises'] = select_instance(raw_pa, 'PA_dur_oth_exercises', 4)\n",
    "raw_pa[['PA_dur_oth_exercises_0', 'PA_dur_oth_exercises_1', 'PA_dur_oth_exercises_2', 'PA_dur_oth_exercises_3', 'PA_dur_oth_exercises', 'MIN_AGE_COL']].tail()"
   ]
  },
  {
   "cell_type": "markdown",
   "id": "51489622-170e-4f69-83b8-a6730d5b663f",
   "metadata": {},
   "source": [
    "#### recode variable"
   ]
  },
  {
   "cell_type": "code",
   "execution_count": null,
   "id": "1928e5dd-adae-4450-a9ee-23a8bc6e0ca5",
   "metadata": {
    "tags": []
   },
   "outputs": [],
   "source": [
    "raw_pa['PA_dur_oth_exercises'] = raw_pa['PA_dur_oth_exercises'].replace({'Less than 15 minutes' : 0,\n",
    "                                                                             'Between 15 and 30 minutes' : 1,\n",
    "                                                                             'Between 30 minutes and 1 hour' : 2,\n",
    "                                                                             'Between 1 and 1.5 hours' : 3,\n",
    "                                                                             'Between 1.5 and 2 hours' : 4,\n",
    "                                                                             'Between 2 and 3 hours' : 5,\n",
    "                                                                             'Over 3 hours' : 6,\n",
    "                                                                             'Do not know' : np.nan,\n",
    "                                                                             'Prefer not to answer' : np.nan})\n",
    "raw_pa['PA_dur_oth_exercises'].unique()"
   ]
  },
  {
   "cell_type": "markdown",
   "id": "6619ec9d-556e-4308-9191-6856b9f55608",
   "metadata": {},
   "source": [
    "#### drop columns"
   ]
  },
  {
   "cell_type": "code",
   "execution_count": null,
   "id": "a5daa1fa-614e-46bf-a175-32d9bffa1c29",
   "metadata": {
    "tags": []
   },
   "outputs": [],
   "source": [
    "raw_pa = raw_pa.drop(columns = ['PA_dur_oth_exercises_0',\n",
    "                                'PA_dur_oth_exercises_1',\n",
    "                                'PA_dur_oth_exercises_2',\n",
    "                                'PA_dur_oth_exercises_3'])"
   ]
  },
  {
   "cell_type": "markdown",
   "id": "396a5d95-00bc-4035-97b8-08584650735d",
   "metadata": {
    "tags": []
   },
   "source": [
    "### duration of strenuous sports"
   ]
  },
  {
   "cell_type": "markdown",
   "id": "b0e995d6-0e63-48c2-aa2e-2f3fdc9487d8",
   "metadata": {},
   "source": [
    "#### reset index"
   ]
  },
  {
   "cell_type": "code",
   "execution_count": null,
   "id": "8d25f244-cb49-457c-ae50-fe0ea801823e",
   "metadata": {
    "tags": []
   },
   "outputs": [],
   "source": [
    "raw_pa.reset_index(inplace = True, drop = True)"
   ]
  },
  {
   "cell_type": "markdown",
   "id": "594b74ae-fb57-47ea-bf53-d2c0f23eab3c",
   "metadata": {},
   "source": [
    "#### apply function"
   ]
  },
  {
   "cell_type": "code",
   "execution_count": null,
   "id": "e9bdcc28-4870-4d40-9048-9121e7bf2a00",
   "metadata": {
    "tags": []
   },
   "outputs": [],
   "source": [
    "raw_pa['PA_dur_stren_sports'] = select_instance(raw_pa, 'PA_dur_stren_sports', 4)\n",
    "raw_pa[['PA_dur_stren_sports_0', 'PA_dur_stren_sports_1', 'PA_dur_stren_sports_2', 'PA_dur_stren_sports_3', 'PA_dur_stren_sports', 'MIN_AGE_COL']].head()"
   ]
  },
  {
   "cell_type": "markdown",
   "id": "3ec68ed0-014d-4465-93cc-88b008a297ba",
   "metadata": {},
   "source": [
    "#### recode variables"
   ]
  },
  {
   "cell_type": "code",
   "execution_count": null,
   "id": "baec2d82-491d-497d-9625-33822e04c821",
   "metadata": {
    "tags": []
   },
   "outputs": [],
   "source": [
    "raw_pa['PA_dur_stren_sports'] = raw_pa['PA_dur_stren_sports'].replace({'Less than 15 minutes' : 0,\n",
    "                                                                           'Between 15 and 30 minutes' : 1,\n",
    "                                                                           'Between 30 minutes and 1 hour' : 2,\n",
    "                                                                           'Between 1 and 1.5 hours' : 3,\n",
    "                                                                           'Between 1.5 and 2 hours' : 4,\n",
    "                                                                           'Between 2 and 3 hours' : 5,\n",
    "                                                                           'Over 3 hours' : 6,\n",
    "                                                                           'Do not know' : np.nan,\n",
    "                                                                           'Prefer not to answer' : np.nan})\n",
    "raw_pa['PA_dur_stren_sports'].unique()"
   ]
  },
  {
   "cell_type": "markdown",
   "id": "beb39ee8-e4ea-4324-ba0d-56c767e4cb3e",
   "metadata": {},
   "source": [
    "#### drop columns"
   ]
  },
  {
   "cell_type": "code",
   "execution_count": null,
   "id": "5bdd16fe-9946-4558-8a7d-b1e1cf972d88",
   "metadata": {
    "tags": []
   },
   "outputs": [],
   "source": [
    "raw_pa = raw_pa.drop(columns = ['PA_dur_stren_sports_0',\n",
    "                                'PA_dur_stren_sports_1',\n",
    "                                'PA_dur_stren_sports_2',\n",
    "                                'PA_dur_stren_sports_3'])"
   ]
  },
  {
   "cell_type": "markdown",
   "id": "206eac98-c54b-4c5d-bcce-d29f96edb4e5",
   "metadata": {
    "tags": []
   },
   "source": [
    "### duration of vigorous activity"
   ]
  },
  {
   "cell_type": "markdown",
   "id": "1f78d22b-ad78-4e51-9ca2-1bdc6d536a29",
   "metadata": {},
   "source": [
    "#### reset index"
   ]
  },
  {
   "cell_type": "code",
   "execution_count": null,
   "id": "0d0486f8-8235-4cd5-9cf5-b23ff9e27752",
   "metadata": {
    "tags": []
   },
   "outputs": [],
   "source": [
    "raw_pa.reset_index(inplace = True, drop = True)"
   ]
  },
  {
   "cell_type": "markdown",
   "id": "fb094aff-ecb4-4c6a-866a-177d15b79f41",
   "metadata": {},
   "source": [
    "#### apply function"
   ]
  },
  {
   "cell_type": "code",
   "execution_count": null,
   "id": "bd85b34b-be69-4726-8062-35965d02775a",
   "metadata": {
    "tags": []
   },
   "outputs": [],
   "source": [
    "raw_pa['PA_dur_vig_activity'] = select_instance(raw_pa, 'PA_dur_vig_activity', 4)\n",
    "raw_pa[['PA_dur_vig_activity_0', 'PA_dur_vig_activity_1', 'PA_dur_vig_activity_2', 'PA_dur_vig_activity_3', 'PA_dur_vig_activity', 'MIN_AGE_COL']].head()"
   ]
  },
  {
   "cell_type": "markdown",
   "id": "2c712275-3d45-4492-8483-d73f8f42c418",
   "metadata": {},
   "source": [
    "#### recode variable"
   ]
  },
  {
   "cell_type": "code",
   "execution_count": null,
   "id": "aaccdb1f-5688-45e2-9e96-7980ede9a33f",
   "metadata": {
    "tags": []
   },
   "outputs": [],
   "source": [
    "raw_pa['PA_dur_vig_activity'] = raw_pa['PA_dur_vig_activity'].replace({'Prefer not to answer' : np.nan, 'Do not know' : np.nan}).astype(float)"
   ]
  },
  {
   "cell_type": "markdown",
   "id": "695ade3a-e319-4ef9-9857-456955472124",
   "metadata": {},
   "source": [
    "#### drop columns"
   ]
  },
  {
   "cell_type": "code",
   "execution_count": null,
   "id": "de2a7410-a270-4c0c-8644-e28df6e9c573",
   "metadata": {
    "tags": []
   },
   "outputs": [],
   "source": [
    "raw_pa = raw_pa.drop(columns = ['PA_dur_vig_activity_0',\n",
    "                                'PA_dur_vig_activity_1',\n",
    "                                'PA_dur_vig_activity_2',\n",
    "                                'PA_dur_vig_activity_3'])"
   ]
  },
  {
   "cell_type": "markdown",
   "id": "8c253857-5dea-414f-828e-a6de6b239732",
   "metadata": {
    "tags": []
   },
   "source": [
    "### duration of walks"
   ]
  },
  {
   "cell_type": "markdown",
   "id": "314e4ec4-4daf-4e52-b929-3eca3c711e47",
   "metadata": {},
   "source": [
    "#### reset index"
   ]
  },
  {
   "cell_type": "code",
   "execution_count": null,
   "id": "34d32a29-4ac8-4efa-9df0-23f7f3b11dde",
   "metadata": {
    "tags": []
   },
   "outputs": [],
   "source": [
    "raw_pa.reset_index(inplace = True, drop = True)"
   ]
  },
  {
   "cell_type": "markdown",
   "id": "1d2aba5d-5d9a-407a-a6ad-0bbbb7b63b43",
   "metadata": {},
   "source": [
    "#### apply function"
   ]
  },
  {
   "cell_type": "code",
   "execution_count": null,
   "id": "78c28aac-94bf-4821-907c-bbc98419d512",
   "metadata": {
    "tags": []
   },
   "outputs": [],
   "source": [
    "raw_pa['PA_dur_walk'] = select_instance(raw_pa, 'PA_dur_walk', 4)\n",
    "raw_pa[['PA_dur_walk_0', 'PA_dur_walk_1', 'PA_dur_walk_2', 'PA_dur_walk_3', 'PA_dur_walk', 'MIN_AGE_COL']].head()"
   ]
  },
  {
   "cell_type": "markdown",
   "id": "f1c476bd-ef2e-479d-ab4a-c92cc93601cb",
   "metadata": {},
   "source": [
    "#### recode variable"
   ]
  },
  {
   "cell_type": "code",
   "execution_count": null,
   "id": "8b13df51-e452-4294-a801-760290cb4ccd",
   "metadata": {
    "tags": []
   },
   "outputs": [],
   "source": [
    "raw_pa['PA_dur_walk'] = raw_pa['PA_dur_walk'].replace({'Prefer not to answer' : np.nan, 'Do not know' : np.nan}).astype(float)"
   ]
  },
  {
   "cell_type": "markdown",
   "id": "389c8f51-6f2e-4105-8956-5380948ee8c9",
   "metadata": {},
   "source": [
    "#### drop columns"
   ]
  },
  {
   "cell_type": "code",
   "execution_count": null,
   "id": "f8408eb0-aba4-4f3f-8291-2b3c96fd0860",
   "metadata": {
    "tags": []
   },
   "outputs": [],
   "source": [
    "raw_pa = raw_pa.drop(columns = ['PA_dur_walk_0',\n",
    "                                'PA_dur_walk_1',\n",
    "                                'PA_dur_walk_2',\n",
    "                                'PA_dur_walk_3'])"
   ]
  },
  {
   "cell_type": "markdown",
   "id": "b95cdff7-1271-4c12-8814-b2d16fbc52d7",
   "metadata": {
    "tags": []
   },
   "source": [
    "### duration of walks for pleasure"
   ]
  },
  {
   "cell_type": "markdown",
   "id": "cfe6ec8c-0dbb-4af9-b3c9-f6defddffcf2",
   "metadata": {},
   "source": [
    "#### reset index"
   ]
  },
  {
   "cell_type": "code",
   "execution_count": null,
   "id": "66887645-2a53-46ac-a1e9-11c92e6abcd9",
   "metadata": {
    "tags": []
   },
   "outputs": [],
   "source": [
    "raw_pa.reset_index(inplace = True, drop = True)"
   ]
  },
  {
   "cell_type": "markdown",
   "id": "703ab026-c0a9-4ecf-b005-5207b2333aa9",
   "metadata": {},
   "source": [
    "#### apply function"
   ]
  },
  {
   "cell_type": "code",
   "execution_count": null,
   "id": "507a1478-ecb3-45b3-8b26-9122e2a0d61e",
   "metadata": {
    "tags": []
   },
   "outputs": [],
   "source": [
    "raw_pa['PA_dur_walk_pleasure'] = select_instance(raw_pa, 'PA_dur_walk_pleasure', 4)\n",
    "raw_pa[['PA_dur_walk_pleasure_0', 'PA_dur_walk_pleasure_1', 'PA_dur_walk_pleasure_2', 'PA_dur_walk_pleasure_3', 'PA_dur_walk_pleasure', 'MIN_AGE_COL']].head()"
   ]
  },
  {
   "cell_type": "markdown",
   "id": "5038a534-5ad2-4257-abb3-fe6078491bbf",
   "metadata": {},
   "source": [
    "#### recode variable"
   ]
  },
  {
   "cell_type": "code",
   "execution_count": null,
   "id": "dd573642-473a-46fc-8d36-515b99150ae2",
   "metadata": {
    "tags": []
   },
   "outputs": [],
   "source": [
    "raw_pa['PA_dur_walk_pleasure'] = raw_pa['PA_dur_walk_pleasure'].replace({'Less than 15 minutes' : 0,\n",
    "                                                                            'Between 15 and 30 minutes' : 1,\n",
    "                                                                            'Between 30 minutes and 1 hour' : 2,\n",
    "                                                                            'Between 1 and 1.5 hours' : 3,\n",
    "                                                                            'Between 1.5 and 2 hours' : 4,\n",
    "                                                                            'Between 2 and 3 hours' : 5,\n",
    "                                                                            'Over 3 hours' : 6,\n",
    "                                                                            'Do not know' : np.nan,\n",
    "                                                                            'Prefer not to answer' : np.nan})\n",
    "raw_pa['PA_dur_walk_pleasure'].unique()"
   ]
  },
  {
   "cell_type": "markdown",
   "id": "e639c748-662f-4e12-9f6e-ecf83020dbb3",
   "metadata": {},
   "source": [
    "#### drop columns"
   ]
  },
  {
   "cell_type": "code",
   "execution_count": null,
   "id": "b3de8f5d-915e-4492-86c1-8b81162cf5cb",
   "metadata": {
    "tags": []
   },
   "outputs": [],
   "source": [
    "raw_pa = raw_pa.drop(columns = ['PA_dur_walk_pleasure_0',\n",
    "                                'PA_dur_walk_pleasure_1',\n",
    "                                'PA_dur_walk_pleasure_2',\n",
    "                                'PA_dur_walk_pleasure_3'])"
   ]
  },
  {
   "cell_type": "markdown",
   "id": "9dfda371-7dcc-4b19-a131-dcc5f835c717",
   "metadata": {
    "tags": []
   },
   "source": [
    "### freq heavy diy"
   ]
  },
  {
   "cell_type": "markdown",
   "id": "d88ee128-9ba9-48fe-bc5a-b7c31b629fe6",
   "metadata": {},
   "source": [
    "#### reset index"
   ]
  },
  {
   "cell_type": "code",
   "execution_count": null,
   "id": "77ba6ded-5bc2-4bd1-ba52-c7dc5e4bafb3",
   "metadata": {
    "tags": []
   },
   "outputs": [],
   "source": [
    "raw_pa.reset_index(inplace = True, drop = True)"
   ]
  },
  {
   "cell_type": "markdown",
   "id": "efa366da-d1f5-41c6-aaa3-c9ddd33e8e2f",
   "metadata": {},
   "source": [
    "#### apply function"
   ]
  },
  {
   "cell_type": "code",
   "execution_count": null,
   "id": "3ae6ebcc-80b9-48ff-8c94-af9c7d6b3b04",
   "metadata": {
    "tags": []
   },
   "outputs": [],
   "source": [
    "raw_pa['PA_freq_heavy_diy'] = select_instance(raw_pa, 'PA_freq_heavy_diy', 4)\n",
    "raw_pa[['PA_freq_heavy_diy_0', 'PA_freq_heavy_diy_1', 'PA_freq_heavy_diy_2', 'PA_freq_heavy_diy_3', 'PA_freq_heavy_diy', 'MIN_AGE_COL']].head()"
   ]
  },
  {
   "cell_type": "markdown",
   "id": "f6a8bb58-3094-40eb-b6f9-1a7bcbee5438",
   "metadata": {},
   "source": [
    "#### look at variable"
   ]
  },
  {
   "cell_type": "code",
   "execution_count": null,
   "id": "22d623d7-b145-4398-b0f2-9f03da3677ad",
   "metadata": {
    "tags": []
   },
   "outputs": [],
   "source": [
    "raw_pa['PA_freq_heavy_diy_0'].unique()"
   ]
  },
  {
   "cell_type": "markdown",
   "id": "e47ff7da-6c41-4df1-a7ec-fbf743c64aff",
   "metadata": {},
   "source": [
    "#### recode variable"
   ]
  },
  {
   "cell_type": "code",
   "execution_count": null,
   "id": "132b3cba-9e51-4ccc-bf67-23e7d11e4ced",
   "metadata": {
    "tags": []
   },
   "outputs": [],
   "source": [
    "raw_pa['PA_freq_heavy_diy'] = raw_pa['PA_freq_heavy_diy'].replace({'Once in the last 4 weeks' : 0,\n",
    "                                                                      '2-3 times in the last 4 weeks' : 1,\n",
    "                                                                      'Once a week' : 2,\n",
    "                                                                      '2-3 times a week' : 3,\n",
    "                                                                      '4-5 times a week' : 4,\n",
    "                                                                      'Every day' : 5,\n",
    "                                                                      'Do not know' : np.nan,\n",
    "                                                                      'Prefer not to answer' : np.nan})\n",
    "raw_pa['PA_freq_heavy_diy'].unique()"
   ]
  },
  {
   "cell_type": "markdown",
   "id": "8caa1b7c-1a10-4a57-a726-71fe99892ea2",
   "metadata": {},
   "source": [
    "#### drop columns"
   ]
  },
  {
   "cell_type": "code",
   "execution_count": null,
   "id": "21e3801a-f86d-4309-825f-e4d0d0103886",
   "metadata": {
    "tags": []
   },
   "outputs": [],
   "source": [
    "raw_pa = raw_pa.drop(columns = ['PA_freq_heavy_diy_0',\n",
    "                                'PA_freq_heavy_diy_1',\n",
    "                                'PA_freq_heavy_diy_2',\n",
    "                                'PA_freq_heavy_diy_3'])"
   ]
  },
  {
   "cell_type": "markdown",
   "id": "26b3ebef-57f2-4970-8e39-faab3a33de36",
   "metadata": {
    "tags": []
   },
   "source": [
    "### freq light diy"
   ]
  },
  {
   "cell_type": "markdown",
   "id": "649f7929-f7a0-4d47-beb6-93801b601add",
   "metadata": {},
   "source": [
    "#### reset index"
   ]
  },
  {
   "cell_type": "code",
   "execution_count": null,
   "id": "12556e97-e434-447b-a58f-8a8d33e27cf6",
   "metadata": {
    "tags": []
   },
   "outputs": [],
   "source": [
    "raw_pa.reset_index(inplace = True, drop = True)"
   ]
  },
  {
   "cell_type": "markdown",
   "id": "a4a5cf37-eee9-4301-9780-b45a7bb41df2",
   "metadata": {},
   "source": [
    "#### apply function"
   ]
  },
  {
   "cell_type": "code",
   "execution_count": null,
   "id": "e2b426ef-0a38-4693-a58e-413a9c6b49c8",
   "metadata": {
    "tags": []
   },
   "outputs": [],
   "source": [
    "raw_pa['PA_freq_light_diy'] = select_instance(raw_pa, 'PA_freq_light_diy', 4)\n",
    "raw_pa[['PA_freq_light_diy_0', 'PA_freq_light_diy_1', 'PA_freq_light_diy_2', 'PA_freq_light_diy_3', 'PA_freq_light_diy', 'MIN_AGE_COL']].head()"
   ]
  },
  {
   "cell_type": "markdown",
   "id": "f654ce88-44a1-47e5-a20f-10504219ffa0",
   "metadata": {},
   "source": [
    "#### recode variable"
   ]
  },
  {
   "cell_type": "code",
   "execution_count": null,
   "id": "a0294721-6686-449a-b3d6-3d2f40f28e67",
   "metadata": {
    "tags": []
   },
   "outputs": [],
   "source": [
    "raw_pa['PA_freq_light_diy'] = raw_pa['PA_freq_light_diy'].replace({'Once in the last 4 weeks' : 0,\n",
    "                                                                      '2-3 times in the last 4 weeks' : 1,\n",
    "                                                                      'Once a week' : 2,\n",
    "                                                                      '2-3 times a week' : 3,\n",
    "                                                                      '4-5 times a week' : 4,\n",
    "                                                                      'Every day' : 5,\n",
    "                                                                      'Do not know' : np.nan,\n",
    "                                                                      'Prefer not to answer' : np.nan})\n",
    "raw_pa['PA_freq_light_diy'].unique()"
   ]
  },
  {
   "cell_type": "markdown",
   "id": "7e4e6ff5-8988-424e-8927-52ad2b6c3481",
   "metadata": {},
   "source": [
    "#### drop columns"
   ]
  },
  {
   "cell_type": "code",
   "execution_count": null,
   "id": "879721da-cd42-48f9-921f-d3f61f1f172e",
   "metadata": {
    "tags": []
   },
   "outputs": [],
   "source": [
    "raw_pa = raw_pa.drop(columns = ['PA_freq_light_diy_0',\n",
    "                                'PA_freq_light_diy_1',\n",
    "                                'PA_freq_light_diy_2',\n",
    "                                'PA_freq_light_diy_3'])"
   ]
  },
  {
   "cell_type": "markdown",
   "id": "9176a1bb-f499-4072-a503-f191a8bc21ca",
   "metadata": {
    "tags": []
   },
   "source": [
    "### frequency of other exercises"
   ]
  },
  {
   "cell_type": "markdown",
   "id": "693ad584-4cd6-4c73-b229-919540dda729",
   "metadata": {},
   "source": [
    "#### reset index"
   ]
  },
  {
   "cell_type": "code",
   "execution_count": null,
   "id": "bcf3a6c3-0f73-47fd-9a67-ae0d4ee9b48c",
   "metadata": {
    "tags": []
   },
   "outputs": [],
   "source": [
    "raw_pa.reset_index(inplace = True, drop = True)"
   ]
  },
  {
   "cell_type": "markdown",
   "id": "62f941c1-1cea-4d0d-a4e9-48b57aa557ac",
   "metadata": {},
   "source": [
    "#### apply function"
   ]
  },
  {
   "cell_type": "code",
   "execution_count": null,
   "id": "9a4e50ba-a137-4a01-bbed-9f448f532e83",
   "metadata": {
    "tags": []
   },
   "outputs": [],
   "source": [
    "raw_pa['PA_freq_other_exercises'] = select_instance(raw_pa, 'PA_freq_other_exercises', 4)\n",
    "raw_pa[['PA_freq_other_exercises_0', 'PA_freq_other_exercises_1', 'PA_freq_other_exercises_2', 'PA_freq_other_exercises_3', 'PA_freq_other_exercises', 'MIN_AGE_COL']].head()"
   ]
  },
  {
   "cell_type": "markdown",
   "id": "f210f176-b90c-416e-adbf-c87eb9d97d22",
   "metadata": {},
   "source": [
    "#### recode variable"
   ]
  },
  {
   "cell_type": "code",
   "execution_count": null,
   "id": "125b1563-9c1d-48b1-8ba8-b1707f7635be",
   "metadata": {
    "tags": []
   },
   "outputs": [],
   "source": [
    "raw_pa['PA_freq_other_exercises'] = raw_pa['PA_freq_other_exercises'].replace({'Once in the last 4 weeks' : 0,\n",
    "                                                                                   '2-3 times in the last 4 weeks' : 1,\n",
    "                                                                                   'Once a week' : 2,\n",
    "                                                                                   '2-3 times a week' : 3,\n",
    "                                                                                   '4-5 times a week' : 4,\n",
    "                                                                                   'Every day' : 5,\n",
    "                                                                                   'Do not know' : np.nan,\n",
    "                                                                                   'Prefer not to answer' : np.nan})\n",
    "raw_pa['PA_freq_other_exercises'].unique()"
   ]
  },
  {
   "cell_type": "markdown",
   "id": "f0957fa6-d8fd-4568-8dd8-6424890c3d44",
   "metadata": {},
   "source": [
    "#### drop columns"
   ]
  },
  {
   "cell_type": "code",
   "execution_count": null,
   "id": "e4edd97c-dfdc-4764-9c5f-3a08829df86d",
   "metadata": {
    "tags": []
   },
   "outputs": [],
   "source": [
    "raw_pa = raw_pa.drop(columns = ['PA_freq_other_exercises_0',\n",
    "                                'PA_freq_other_exercises_1',\n",
    "                                'PA_freq_other_exercises_2',\n",
    "                                'PA_freq_other_exercises_3'])"
   ]
  },
  {
   "cell_type": "markdown",
   "id": "ca9a2928-55cb-4c7d-8cae-21f1d474f672",
   "metadata": {
    "tags": []
   },
   "source": [
    "### frequency of stair climbing"
   ]
  },
  {
   "cell_type": "markdown",
   "id": "22f29022-b514-4b5c-8419-165eac2cd425",
   "metadata": {},
   "source": [
    "#### reset index"
   ]
  },
  {
   "cell_type": "code",
   "execution_count": null,
   "id": "0e72708f-54e8-46d3-9391-9f9fc68e76e6",
   "metadata": {
    "tags": []
   },
   "outputs": [],
   "source": [
    "raw_pa.reset_index(inplace = True, drop = True)"
   ]
  },
  {
   "cell_type": "markdown",
   "id": "5b1584ad-a8c7-4870-b147-0f35f5f37a94",
   "metadata": {},
   "source": [
    "#### apply function"
   ]
  },
  {
   "cell_type": "code",
   "execution_count": null,
   "id": "8ba43122-5a6b-48e3-b57e-86bf0cac9b88",
   "metadata": {
    "tags": []
   },
   "outputs": [],
   "source": [
    "raw_pa['PA_freq_stair'] = select_instance(raw_pa, 'PA_freq_stair', 4)\n",
    "raw_pa[['PA_freq_stair_0', 'PA_freq_stair_1', 'PA_freq_stair_2', 'PA_freq_stair_3', 'PA_freq_stair', 'MIN_AGE_COL']].head()"
   ]
  },
  {
   "cell_type": "markdown",
   "id": "4f9ed121-d87f-4562-a0f7-511ef492ab9f",
   "metadata": {},
   "source": [
    "#### look at variable encoding"
   ]
  },
  {
   "cell_type": "code",
   "execution_count": null,
   "id": "958a3493-3c19-4062-80f7-474d6a88ad38",
   "metadata": {
    "tags": []
   },
   "outputs": [],
   "source": [
    "raw_pa['PA_freq_stair_0'].unique()"
   ]
  },
  {
   "cell_type": "markdown",
   "id": "bed6c57a-71cb-4798-96b8-540ba07f7d7f",
   "metadata": {},
   "source": [
    "#### recode variable"
   ]
  },
  {
   "cell_type": "code",
   "execution_count": null,
   "id": "4ea5b18f-85d7-4e76-85af-780583418230",
   "metadata": {
    "tags": []
   },
   "outputs": [],
   "source": [
    "raw_pa['PA_freq_stair'] = raw_pa['PA_freq_stair'].replace({'1-5 times a day' : 0,\n",
    "                                                               '6-10 times a day' : 1,\n",
    "                                                               '11-15 times a day' : 2,\n",
    "                                                               '16-20 times a day' : 3,\n",
    "                                                               'More than 20 times a day' : 4,\n",
    "                                                               'Do not know' : np.nan,\n",
    "                                                               'Prefer not to answer' : np.nan})\n",
    "raw_pa['PA_freq_stair'].unique()"
   ]
  },
  {
   "cell_type": "markdown",
   "id": "91e21152-e53d-40ef-941e-8da514900a73",
   "metadata": {},
   "source": [
    "#### drop columns"
   ]
  },
  {
   "cell_type": "code",
   "execution_count": null,
   "id": "2acf81b1-e7d1-47f9-8467-f4b7ed0c7326",
   "metadata": {
    "tags": []
   },
   "outputs": [],
   "source": [
    "raw_pa = raw_pa.drop(columns = ['PA_freq_stair_0',\n",
    "                                'PA_freq_stair_1',\n",
    "                                'PA_freq_stair_2',\n",
    "                                'PA_freq_stair_3'])"
   ]
  },
  {
   "cell_type": "markdown",
   "id": "f06e01f8-e2d3-48af-844c-f9e204dea787",
   "metadata": {
    "tags": []
   },
   "source": [
    "### frequency of strenuous sports"
   ]
  },
  {
   "cell_type": "markdown",
   "id": "758f353e-81ad-4a5c-af98-e08c2d9bf749",
   "metadata": {},
   "source": [
    "#### reset index"
   ]
  },
  {
   "cell_type": "code",
   "execution_count": null,
   "id": "44fb2be4-fa06-45d4-8741-408624efab3b",
   "metadata": {
    "tags": []
   },
   "outputs": [],
   "source": [
    "raw_pa.reset_index(inplace = True, drop = True)"
   ]
  },
  {
   "cell_type": "markdown",
   "id": "5f01c0f8-734d-4927-aa45-646b6c3ce895",
   "metadata": {},
   "source": [
    "#### apply function"
   ]
  },
  {
   "cell_type": "code",
   "execution_count": null,
   "id": "4877e262-6664-45fb-9b52-7d999ea21afb",
   "metadata": {
    "tags": []
   },
   "outputs": [],
   "source": [
    "raw_pa['PA_freq_stren_sports'] = select_instance(raw_pa, 'PA_freq_stren_sports', 4)\n",
    "raw_pa[['PA_freq_stren_sports_0', 'PA_freq_stren_sports_1', 'PA_freq_stren_sports_2', 'PA_freq_stren_sports_3', 'PA_freq_stren_sports', 'MIN_AGE_COL']].head()"
   ]
  },
  {
   "cell_type": "markdown",
   "id": "fabea6e6-ee48-465e-ae4f-400ef9ab3476",
   "metadata": {},
   "source": [
    "#### recode variable"
   ]
  },
  {
   "cell_type": "code",
   "execution_count": null,
   "id": "79cf930c-e593-4d99-beba-035acabf47ce",
   "metadata": {
    "tags": []
   },
   "outputs": [],
   "source": [
    "raw_pa['PA_freq_stren_sports'] = raw_pa['PA_freq_stren_sports_0'].replace({'Once in the last 4 weeks' : 0,\n",
    "                                                                             '2-3 times in the last 4 weeks' : 1,\n",
    "                                                                             'Once a week' : 2,\n",
    "                                                                             '2-3 times a week' : 3,\n",
    "                                                                             '4-5 times a week' : 4,\n",
    "                                                                             'Every day' : 5,\n",
    "                                                                             'Do not know' : np.nan,\n",
    "                                                                             'Prefer not to answer' : np.nan})\n",
    "raw_pa['PA_freq_stren_sports'].unique()"
   ]
  },
  {
   "cell_type": "markdown",
   "id": "9cb44f34-45b8-4f59-af4f-d7b49ba35969",
   "metadata": {},
   "source": [
    "#### drop columns"
   ]
  },
  {
   "cell_type": "code",
   "execution_count": null,
   "id": "0cc6c225-0c3f-4f33-a984-8f4b3ed6ee2f",
   "metadata": {
    "tags": []
   },
   "outputs": [],
   "source": [
    "raw_pa = raw_pa.drop(columns = ['PA_freq_stren_sports_0',\n",
    "                                'PA_freq_stren_sports_1',\n",
    "                                'PA_freq_stren_sports_2',\n",
    "                                'PA_freq_stren_sports_3'])"
   ]
  },
  {
   "cell_type": "markdown",
   "id": "aeb49bfb-efe0-4dd8-8c12-736f09ff5d9e",
   "metadata": {
    "tags": []
   },
   "source": [
    "### frequency of walks for pleasure"
   ]
  },
  {
   "cell_type": "markdown",
   "id": "4857aae3-44b1-46c6-97a0-f33a137ac4e4",
   "metadata": {},
   "source": [
    "#### reset index"
   ]
  },
  {
   "cell_type": "code",
   "execution_count": null,
   "id": "76ea34d1-bdb5-4d14-aeca-b60465ab001c",
   "metadata": {
    "tags": []
   },
   "outputs": [],
   "source": [
    "raw_pa.reset_index(inplace = True, drop = True)"
   ]
  },
  {
   "cell_type": "markdown",
   "id": "f8743770-c478-456d-b5cf-1b59b45cca83",
   "metadata": {},
   "source": [
    "#### apply function"
   ]
  },
  {
   "cell_type": "code",
   "execution_count": null,
   "id": "964eeae3-d469-480a-80dd-1fed00b703fa",
   "metadata": {
    "tags": []
   },
   "outputs": [],
   "source": [
    "raw_pa['PA_freq_walk_pleasure'] = select_instance(raw_pa, 'PA_freq_walk_pleasure', 4)\n",
    "raw_pa[['PA_freq_walk_pleasure_0', 'PA_freq_walk_pleasure_1', 'PA_freq_walk_pleasure_2', 'PA_freq_walk_pleasure_3', 'PA_freq_walk_pleasure', 'MIN_AGE_COL']].head()"
   ]
  },
  {
   "cell_type": "markdown",
   "id": "4af63dd6-d97d-4c45-94de-d631460990ae",
   "metadata": {},
   "source": [
    "#### recode variable"
   ]
  },
  {
   "cell_type": "code",
   "execution_count": null,
   "id": "b48646cc-0349-4c1b-98a1-d64b47709e5f",
   "metadata": {
    "tags": []
   },
   "outputs": [],
   "source": [
    "raw_pa['PA_freq_walk_pleasure'] = raw_pa['PA_freq_walk_pleasure'].replace({'Once in the last 4 weeks' : 0,\n",
    "                                                                               '2-3 times in the last 4 weeks' : 1,\n",
    "                                                                               'Once a week' : 2,\n",
    "                                                                               '2-3 times a week' : 3,\n",
    "                                                                               '4-5 times a week' : 4,\n",
    "                                                                               'Every day' : 5,\n",
    "                                                                               'Do not know' : np.nan,\n",
    "                                                                               'Prefer not to answer' : np.nan})\n",
    "raw_pa['PA_freq_walk_pleasure'].unique()"
   ]
  },
  {
   "cell_type": "markdown",
   "id": "b63f0224-25df-4727-9ead-0128e1f77729",
   "metadata": {},
   "source": [
    "#### drop columns"
   ]
  },
  {
   "cell_type": "code",
   "execution_count": null,
   "id": "67a672f1-b774-4b1f-8948-bee91e21dce1",
   "metadata": {
    "tags": []
   },
   "outputs": [],
   "source": [
    "raw_pa = raw_pa.drop(columns = ['PA_freq_walk_pleasure_0',\n",
    "                                'PA_freq_walk_pleasure_1',\n",
    "                                'PA_freq_walk_pleasure_2',\n",
    "                                'PA_freq_walk_pleasure_3'])"
   ]
  },
  {
   "cell_type": "markdown",
   "id": "e9cde0f2-3e7c-4b62-b310-0ec60869453a",
   "metadata": {
    "tags": []
   },
   "source": [
    "### n days per week with moderate physical activity 10+ mins"
   ]
  },
  {
   "cell_type": "markdown",
   "id": "6fa902fa-17aa-4d4a-a483-e98cf61fdb7b",
   "metadata": {},
   "source": [
    "#### reset index"
   ]
  },
  {
   "cell_type": "code",
   "execution_count": null,
   "id": "b4706071-6c06-48a9-8649-a559a4b1d9a9",
   "metadata": {
    "tags": []
   },
   "outputs": [],
   "source": [
    "raw_pa.reset_index(inplace = True, drop = True)"
   ]
  },
  {
   "cell_type": "markdown",
   "id": "4cfef065-6201-4037-8c84-fffb87205553",
   "metadata": {},
   "source": [
    "#### apply function"
   ]
  },
  {
   "cell_type": "code",
   "execution_count": null,
   "id": "cdbc73f9-79ea-49d0-bb43-5918fd8ff746",
   "metadata": {
    "tags": []
   },
   "outputs": [],
   "source": [
    "raw_pa['PA_n_days_mod_activity_10+_mins'] = select_instance(raw_pa, 'PA_n_days_mod_activity_10+_mins', 4)\n",
    "raw_pa[['PA_n_days_mod_activity_10+_mins_0', 'PA_n_days_mod_activity_10+_mins_1', 'PA_n_days_mod_activity_10+_mins_2', 'PA_n_days_mod_activity_10+_mins_3', 'PA_n_days_mod_activity_10+_mins', 'MIN_AGE_COL']].head()"
   ]
  },
  {
   "cell_type": "markdown",
   "id": "0cc1fdfd-5b12-44ab-9308-b9e4afc8aad1",
   "metadata": {},
   "source": [
    "#### recode variable"
   ]
  },
  {
   "cell_type": "code",
   "execution_count": null,
   "id": "6ff620bc-859f-402d-9e58-cfe6fc1fcadf",
   "metadata": {
    "tags": []
   },
   "outputs": [],
   "source": [
    "raw_pa['PA_n_days_mod_activity_10+_mins'] = raw_pa['PA_n_days_mod_activity_10+_mins'].replace({'Do not know' : np.nan, 'Prefer not to answer' : np.nan}).astype(float)\n",
    "raw_pa['PA_n_days_mod_activity_10+_mins'].unique()"
   ]
  },
  {
   "cell_type": "markdown",
   "id": "8af3aa3a-375b-4e54-b61d-f11d8a216fef",
   "metadata": {},
   "source": [
    "#### drop variables"
   ]
  },
  {
   "cell_type": "code",
   "execution_count": null,
   "id": "bd3c0223-81f7-42c1-bc04-b125cdcecaaa",
   "metadata": {
    "tags": []
   },
   "outputs": [],
   "source": [
    "raw_pa = raw_pa.drop(columns = ['PA_n_days_mod_activity_10+_mins_0',\n",
    "                                'PA_n_days_mod_activity_10+_mins_1',\n",
    "                                'PA_n_days_mod_activity_10+_mins_2',\n",
    "                                'PA_n_days_mod_activity_10+_mins_3'])"
   ]
  },
  {
   "cell_type": "markdown",
   "id": "9e751b04-c40b-43c6-95ff-f2e3cc4cfc25",
   "metadata": {
    "tags": []
   },
   "source": [
    "### n days per week with vigorous physical activity 10+ mins"
   ]
  },
  {
   "cell_type": "markdown",
   "id": "6113fcd7-4b7f-4664-a14a-558014290460",
   "metadata": {},
   "source": [
    "#### reset index"
   ]
  },
  {
   "cell_type": "code",
   "execution_count": null,
   "id": "6c6e0c74-08cc-4a54-951e-fb1770df05e2",
   "metadata": {
    "tags": []
   },
   "outputs": [],
   "source": [
    "raw_pa.reset_index(inplace = True, drop = True)"
   ]
  },
  {
   "cell_type": "markdown",
   "id": "92d69904-0d35-4c16-be1c-1ff4590adc04",
   "metadata": {},
   "source": [
    "#### apply function"
   ]
  },
  {
   "cell_type": "code",
   "execution_count": null,
   "id": "611dabfa-4e37-481a-8231-cd4dbed3e66c",
   "metadata": {
    "tags": []
   },
   "outputs": [],
   "source": [
    "raw_pa['PA_n_days_vig_activity_10+_mins'] = select_instance(raw_pa, 'PA_n_days_vig_activity_10+_mins', 4)\n",
    "raw_pa[['PA_n_days_vig_activity_10+_mins_0', 'PA_n_days_vig_activity_10+_mins_1', 'PA_n_days_vig_activity_10+_mins_2', 'PA_n_days_vig_activity_10+_mins_3', 'PA_n_days_vig_activity_10+_mins', 'MIN_AGE_COL']].head()"
   ]
  },
  {
   "cell_type": "markdown",
   "id": "23c12bdc-0ce6-4285-8bab-0e4ffd403045",
   "metadata": {},
   "source": [
    "#### recode variable"
   ]
  },
  {
   "cell_type": "code",
   "execution_count": null,
   "id": "b5cea985-dd89-4b2e-b53c-71e937ab7d36",
   "metadata": {
    "tags": []
   },
   "outputs": [],
   "source": [
    "raw_pa['PA_n_days_vig_activity_10+_mins'] = raw_pa['PA_n_days_vig_activity_10+_mins'].replace({'Do not know' : np.nan, 'Prefer not to answer' : np.nan}).astype(float)\n",
    "raw_pa['PA_n_days_vig_activity_10+_mins'].unique()"
   ]
  },
  {
   "cell_type": "markdown",
   "id": "9e35d95e-7402-40b8-b392-89fd2552bdb1",
   "metadata": {},
   "source": [
    "#### drop columns"
   ]
  },
  {
   "cell_type": "code",
   "execution_count": null,
   "id": "c7b1678a-f08b-461f-9eec-d36648de31c7",
   "metadata": {
    "tags": []
   },
   "outputs": [],
   "source": [
    "raw_pa = raw_pa.drop(columns = ['PA_n_days_vig_activity_10+_mins_0',\n",
    "                                'PA_n_days_vig_activity_10+_mins_1',\n",
    "                                'PA_n_days_vig_activity_10+_mins_2',\n",
    "                                'PA_n_days_vig_activity_10+_mins_3'])"
   ]
  },
  {
   "cell_type": "markdown",
   "id": "32bda152-d098-4e15-b015-8e1492009b53",
   "metadata": {},
   "source": [
    "### n days per week walking 10+ mins"
   ]
  },
  {
   "cell_type": "markdown",
   "id": "4855a19e-799c-4185-ba59-d821915a6b21",
   "metadata": {},
   "source": [
    "#### reset index"
   ]
  },
  {
   "cell_type": "code",
   "execution_count": null,
   "id": "9d1f289d-53bb-4d46-b4fb-9781599f6832",
   "metadata": {
    "tags": []
   },
   "outputs": [],
   "source": [
    "raw_pa.reset_index(inplace = True, drop = True)"
   ]
  },
  {
   "cell_type": "markdown",
   "id": "3823c177-94b0-4ecd-bd40-8a232337c88e",
   "metadata": {},
   "source": [
    "#### apply function"
   ]
  },
  {
   "cell_type": "code",
   "execution_count": null,
   "id": "692d1b58-24dc-400b-a692-a46947a9f612",
   "metadata": {
    "tags": []
   },
   "outputs": [],
   "source": [
    "raw_pa['PA_n_days_walk_10+_mins'] = select_instance(raw_pa, 'PA_n_days_walk_10+_mins', 4)\n",
    "raw_pa[['PA_n_days_walk_10+_mins_0', 'PA_n_days_walk_10+_mins_1', 'PA_n_days_walk_10+_mins_2', 'PA_n_days_walk_10+_mins_3', 'PA_n_days_walk_10+_mins', 'MIN_AGE_COL']].head()"
   ]
  },
  {
   "cell_type": "markdown",
   "id": "8d65051e-2d69-4f60-8c4d-338652bd1b9b",
   "metadata": {},
   "source": [
    "#### look at variable encodings"
   ]
  },
  {
   "cell_type": "code",
   "execution_count": null,
   "id": "c805d06c-4aec-45e0-9d04-86d81f005076",
   "metadata": {
    "tags": []
   },
   "outputs": [],
   "source": [
    "raw_pa['PA_n_days_walk_10+_mins_0'].unique()"
   ]
  },
  {
   "cell_type": "markdown",
   "id": "706ccdd1-56dd-429b-bc40-724c4e587a0a",
   "metadata": {},
   "source": [
    "#### recode variable"
   ]
  },
  {
   "cell_type": "code",
   "execution_count": null,
   "id": "bcae1c7d-ca27-4c68-a368-91f05ba689f8",
   "metadata": {
    "tags": []
   },
   "outputs": [],
   "source": [
    "raw_pa['PA_n_days_walk_10+_mins'] = raw_pa['PA_n_days_walk_10+_mins'].replace({'Do not know' : np.nan, 'Prefer not to answer' : np.nan, 'Unable to walk' : np.nan}).astype(float)\n",
    "raw_pa['PA_n_days_walk_10+_mins'].unique()"
   ]
  },
  {
   "cell_type": "markdown",
   "id": "43e29a05-5357-4946-ac93-39a3ae26b837",
   "metadata": {},
   "source": [
    "#### drop columns"
   ]
  },
  {
   "cell_type": "code",
   "execution_count": null,
   "id": "5b38e602-37bc-418b-a018-676f2cae02a8",
   "metadata": {
    "tags": []
   },
   "outputs": [],
   "source": [
    "raw_pa = raw_pa.drop(columns = ['PA_n_days_walk_10+_mins_0',\n",
    "                                'PA_n_days_walk_10+_mins_1',\n",
    "                                'PA_n_days_walk_10+_mins_2',\n",
    "                                'PA_n_days_walk_10+_mins_3'])"
   ]
  },
  {
   "cell_type": "markdown",
   "id": "d985839b-a590-47e0-8a75-b386eb60f45c",
   "metadata": {},
   "source": [
    "### clean up final PA columns"
   ]
  },
  {
   "cell_type": "code",
   "execution_count": null,
   "id": "746bcbdf-10f5-46f2-a9d4-ccbb675b0694",
   "metadata": {
    "tags": []
   },
   "outputs": [],
   "source": [
    "raw_pa = raw_pa.drop(columns = ['PA_ipaq_activity_group_0',\n",
    "                                'PA_ipaq_activity_group_1',\n",
    "                                'PA_ipaq_activity_group_2',\n",
    "                                'PA_ipaq_activity_group_3'])"
   ]
  },
  {
   "cell_type": "code",
   "execution_count": null,
   "id": "a45f24d6-5acb-481f-af25-0f17cc38475d",
   "metadata": {
    "tags": []
   },
   "outputs": [],
   "source": [
    "[col for col in raw_pa.columns if \"PA\" in col]"
   ]
  },
  {
   "cell_type": "code",
   "execution_count": null,
   "id": "2581dda4-aeff-45fe-8b0e-5a088417c030",
   "metadata": {
    "tags": []
   },
   "outputs": [],
   "source": [
    "print(raw_pa.shape)\n",
    "raw_pa.head()"
   ]
  },
  {
   "cell_type": "code",
   "execution_count": null,
   "id": "156f3fa0-9e32-41dd-996d-7661f44d7ec8",
   "metadata": {
    "tags": []
   },
   "outputs": [],
   "source": [
    "raw_pa.to_csv('in_progress_pheno.csv', index = None)"
   ]
  },
  {
   "cell_type": "code",
   "execution_count": null,
   "id": "1db62b6e-d40b-4d03-a63a-2b928ae5123c",
   "metadata": {
    "tags": []
   },
   "outputs": [],
   "source": [
    "!dx download project-GgYky4QJj5pkv6G9P8Zp6P26:/HF_Clinical_PGS/input/in_progress_pheno.csv"
   ]
  },
  {
   "cell_type": "code",
   "execution_count": null,
   "id": "34df5a3a-6e29-4e21-92c9-3e6c11b6a83b",
   "metadata": {
    "tags": []
   },
   "outputs": [],
   "source": [
    "raw_pa = pd.read_csv('in_progress_pheno.csv')"
   ]
  },
  {
   "cell_type": "markdown",
   "id": "6439d3a2-6c33-45e8-992e-002fbdce215c",
   "metadata": {
    "tags": []
   },
   "source": [
    "# SDOH variables"
   ]
  },
  {
   "cell_type": "code",
   "execution_count": null,
   "id": "f0082ed7-8844-4a06-a954-b25761b493aa",
   "metadata": {
    "tags": []
   },
   "outputs": [],
   "source": [
    "for col in raw_pa.columns:\n",
    "    print(col)"
   ]
  },
  {
   "cell_type": "markdown",
   "id": "356149fc-5206-46f8-8314-62a1b54f1702",
   "metadata": {
    "tags": []
   },
   "source": [
    "## avg total household income before tax"
   ]
  },
  {
   "cell_type": "markdown",
   "id": "b7ac2679-70e6-45f8-8c88-e029b2002d71",
   "metadata": {},
   "source": [
    "### reset index"
   ]
  },
  {
   "cell_type": "code",
   "execution_count": null,
   "id": "d94aedc1-91e6-4f46-833a-7aed361f4015",
   "metadata": {
    "tags": []
   },
   "outputs": [],
   "source": [
    "raw_pa.reset_index(inplace = True, drop = True)"
   ]
  },
  {
   "cell_type": "markdown",
   "id": "bbc5fd38-7224-4400-aec9-a3ba575be9b2",
   "metadata": {},
   "source": [
    "### apply function"
   ]
  },
  {
   "cell_type": "code",
   "execution_count": null,
   "id": "a5535554-0851-4fc5-96dc-7c4e0adf8d69",
   "metadata": {
    "tags": []
   },
   "outputs": [],
   "source": [
    "raw_pa['INCOME'] = select_first_instance(raw_pa, 'INCOME', 4)\n",
    "raw_pa[['INCOME_0', 'INCOME_1', 'INCOME_2', 'INCOME_3', 'INCOME', 'MIN_AGE_COL']]"
   ]
  },
  {
   "cell_type": "markdown",
   "id": "320a6ceb-c86c-4f6c-bf2b-b719c808b4fa",
   "metadata": {},
   "source": [
    "### look at variable encodings"
   ]
  },
  {
   "cell_type": "code",
   "execution_count": null,
   "id": "faadc053-7292-4283-8b40-eb4909547ac4",
   "metadata": {
    "tags": []
   },
   "outputs": [],
   "source": [
    "raw_pa['INCOME_0'].unique()"
   ]
  },
  {
   "cell_type": "markdown",
   "id": "bad3e1d3-5a3d-4b0e-be2f-91b4055b7847",
   "metadata": {},
   "source": [
    "### recode variable"
   ]
  },
  {
   "cell_type": "code",
   "execution_count": null,
   "id": "a97c3865-b7e8-42b8-8385-e4a4da903aa2",
   "metadata": {
    "tags": []
   },
   "outputs": [],
   "source": [
    "raw_pa['INCOME'] = raw_pa['INCOME'].replace({'Less than 18,000' : 0,\n",
    "                                                 '18,000 to 30,999' : 1,\n",
    "                                                 '31,000 to 51,999' : 2,\n",
    "                                                 '52,000 to 100,000' : 3,\n",
    "                                                 'Greater than 100,000' : 4,\n",
    "                                                 'Do not know' : np.nan,\n",
    "                                                 'Prefer not to answer' : np.nan})\n",
    "raw_pa['INCOME'].unique()"
   ]
  },
  {
   "cell_type": "markdown",
   "id": "7110eb91-7e04-4bc3-bf38-64aad932290b",
   "metadata": {},
   "source": [
    "### drop columns"
   ]
  },
  {
   "cell_type": "code",
   "execution_count": null,
   "id": "8cd0d25f-e232-46d0-816a-211b251c5a05",
   "metadata": {
    "tags": []
   },
   "outputs": [],
   "source": [
    "raw_income = raw_pa.drop(columns = ['INCOME_0', 'INCOME_1', 'INCOME_2', 'INCOME_3'])"
   ]
  },
  {
   "cell_type": "markdown",
   "id": "3966cee4-1f36-49a3-bd61-b3ad66bd27e8",
   "metadata": {
    "tags": []
   },
   "source": [
    "## education"
   ]
  },
  {
   "cell_type": "markdown",
   "id": "024877ef-a0c1-4400-990a-10a862330162",
   "metadata": {},
   "source": [
    "### reset index"
   ]
  },
  {
   "cell_type": "code",
   "execution_count": null,
   "id": "047e3406-2d73-41d5-8e94-d6c69722b794",
   "metadata": {
    "tags": []
   },
   "outputs": [],
   "source": [
    "raw_income.reset_index(inplace = True, drop = True)"
   ]
  },
  {
   "cell_type": "markdown",
   "id": "a39d4eec-0919-4289-a604-2fad63de81e2",
   "metadata": {},
   "source": [
    "### apply function"
   ]
  },
  {
   "cell_type": "code",
   "execution_count": null,
   "id": "e0c3c433-d186-4167-ab2f-7d57b4549300",
   "metadata": {
    "tags": []
   },
   "outputs": [],
   "source": [
    "raw_income['EDUCATION'] = select_first_instance(raw_income, 'EDUCATION', 4)\n",
    "raw_income[['EDUCATION_0', 'EDUCATION_1', 'EDUCATION_2', 'EDUCATION_3', 'EDUCATION']]"
   ]
  },
  {
   "cell_type": "markdown",
   "id": "62732b55-51ec-4ef8-8399-5c1a11732098",
   "metadata": {
    "tags": []
   },
   "source": [
    "### look at variable encodings"
   ]
  },
  {
   "cell_type": "code",
   "execution_count": null,
   "id": "330dacb6-a38f-47f4-a54f-365bf39a0500",
   "metadata": {
    "tags": []
   },
   "outputs": [],
   "source": [
    "raw_income['EDUCATION_0'].unique()"
   ]
  },
  {
   "cell_type": "markdown",
   "id": "6860656f-f4f0-49f8-b074-d6c35c7f8881",
   "metadata": {},
   "source": [
    "### recode variable"
   ]
  },
  {
   "cell_type": "code",
   "execution_count": null,
   "id": "5bca805e-55a6-49af-9734-10cbb9a31c57",
   "metadata": {
    "tags": []
   },
   "outputs": [],
   "source": [
    "raw_income.loc[raw_income['EDUCATION'].str.contains('College or University degree', na = False), 'EDUCATION'] = 'College or University degree'\n",
    "raw_income.loc[raw_income['EDUCATION'].str.contains('Other professional qualifications eg: nursing, teaching', na = False), 'EDUCATION'] = 'Other professional qualifications eg: nursing, teaching'\n",
    "raw_income.loc[raw_income['EDUCATION'].str.contains('NVQ or HND or HNC or equivalent', na = False), 'EDUCATION'] = 'NVQ or HND or HNC or equivalent'\n",
    "raw_income.loc[raw_income['EDUCATION'].str.contains('A levels/AS levels or equivalent', na = False), 'EDUCATION'] = 'A levels/AS levels or equivalent'\n",
    "raw_income.loc[raw_income['EDUCATION'].str.contains('O levels/GCSEs or equivalent', na = False), 'EDUCATION'] = 'O levels/GCSEs or equivalent'\n",
    "\n",
    "raw_income['EDUCATION'] = raw_income['EDUCATION'].replace({\"College or University degree\": 5,\n",
    "                                                               \"Other professional qualifications eg: nursing, teaching\": 4,\n",
    "                                                               \"NVQ or HND or HNC or equivalent\": 3,\n",
    "                                                               \"A levels/AS levels or equivalent\": 2,\n",
    "                                                               \"O levels/GCSEs or equivalent\": 1,\n",
    "                                                               \"CSEs or equivalent\": 0,\n",
    "                                                               'Prefer not to answer' : np.nan,\n",
    "                                                               'None of the above' : np.nan})\n",
    "raw_income['EDUCATION'].unique()"
   ]
  },
  {
   "cell_type": "markdown",
   "id": "50e13c9c-7858-4580-ab56-efa4bf79e6f4",
   "metadata": {},
   "source": [
    "### drop columns"
   ]
  },
  {
   "cell_type": "code",
   "execution_count": null,
   "id": "ca9c047f-d6b9-4f4e-aacd-040126be08b3",
   "metadata": {
    "tags": []
   },
   "outputs": [],
   "source": [
    "raw_education = raw_income.drop(columns = ['EDUCATION_0', 'EDUCATION_1', 'EDUCATION_2', 'EDUCATION_3'])"
   ]
  },
  {
   "cell_type": "markdown",
   "id": "a7e10f50-134e-4d4b-bb21-53cf4c5528a7",
   "metadata": {},
   "source": [
    "## neighborhood: housing type"
   ]
  },
  {
   "cell_type": "markdown",
   "id": "94717a9b-beff-4582-a5a7-ae70b71ba5ac",
   "metadata": {},
   "source": [
    "### reset index"
   ]
  },
  {
   "cell_type": "code",
   "execution_count": null,
   "id": "e266d4ba-60cf-4d98-ba3a-084f71ecb325",
   "metadata": {
    "tags": []
   },
   "outputs": [],
   "source": [
    "raw_education.reset_index(inplace = True, drop = True)"
   ]
  },
  {
   "cell_type": "markdown",
   "id": "98ff43de-53d3-414d-8da6-7fd87eec7f65",
   "metadata": {},
   "source": [
    "### apply function"
   ]
  },
  {
   "cell_type": "code",
   "execution_count": null,
   "id": "e7abc0f2-a8c3-44b5-915a-0003cf098c36",
   "metadata": {
    "tags": []
   },
   "outputs": [],
   "source": [
    "raw_education['HOUSING'] = select_first_instance(raw_education, 'HOUSING', 4)\n",
    "raw_education[['HOUSING_0', 'HOUSING_1', 'HOUSING_2', 'HOUSING_3', 'HOUSING']].head()"
   ]
  },
  {
   "cell_type": "markdown",
   "id": "965c6797-eddb-47e1-8cfd-3eb30293b0f3",
   "metadata": {},
   "source": [
    "### look at variable encodings"
   ]
  },
  {
   "cell_type": "code",
   "execution_count": null,
   "id": "de5a2685-4388-4403-a942-3fbc0d39d5ad",
   "metadata": {
    "tags": []
   },
   "outputs": [],
   "source": [
    "raw_education['HOUSING_0'].unique()"
   ]
  },
  {
   "cell_type": "markdown",
   "id": "5a73670d-a859-418c-87bc-89826be5ee2e",
   "metadata": {},
   "source": [
    "### recode variable"
   ]
  },
  {
   "cell_type": "code",
   "execution_count": null,
   "id": "48e9f621-f24f-4207-875c-3b7c614be3b2",
   "metadata": {
    "tags": []
   },
   "outputs": [],
   "source": [
    "raw_education['HOUSING'] = raw_education['HOUSING'].replace({\"A house or bungalow\": 4,\n",
    "                                                                 \"A flat, maisonette or apartment\": 3,\n",
    "                                                                 \"Sheltered accommodation\": 2,\n",
    "                                                                 \"Care home\": 1,\n",
    "                                                                 \"Mobile or temporary structure (i.e. caravan)\": 0,\n",
    "                                                                 'Prefer not to answer' : np.nan,\n",
    "                                                                 'None of the above' : np.nan})\n",
    "raw_education['HOUSING'].unique()"
   ]
  },
  {
   "cell_type": "markdown",
   "id": "3a6a2916-64a2-4953-84b7-2ad56a06a223",
   "metadata": {},
   "source": [
    "### drop columns"
   ]
  },
  {
   "cell_type": "code",
   "execution_count": null,
   "id": "25c31a8c-c33b-4c0d-af91-a7e48891b4d6",
   "metadata": {
    "tags": []
   },
   "outputs": [],
   "source": [
    "raw_housing = raw_education.drop(columns = ['HOUSING_0',\n",
    "                                            'HOUSING_1',\n",
    "                                            'HOUSING_2',\n",
    "                                            'HOUSING_3',\n",
    "                                            'OWN_RENT_0',\n",
    "                                            'OWN_RENT_1',\n",
    "                                            'OWN_RENT_2',\n",
    "                                            'OWN_RENT_3',\n",
    "                                            'INCOME_SCORE_england',\n",
    "                                            'INCOME_SCORE_scotland',\n",
    "                                            'INCOME_SCORE_wales',\n",
    "                                            'MULT_DEV_INDEX_england',\n",
    "                                            'MULT_DEV_INDEX_scotland',\n",
    "                                            'MULT_DEV_INDEX_wales',\n",
    "                                            'MIN_AGE_COL'])"
   ]
  },
  {
   "cell_type": "markdown",
   "id": "da9674cb-cec8-4303-8f4f-ee1ca749d5b6",
   "metadata": {
    "tags": []
   },
   "source": [
    "# PGS"
   ]
  },
  {
   "cell_type": "markdown",
   "id": "645d49cc-d906-49ea-bead-5387cf4d03d2",
   "metadata": {
    "tags": []
   },
   "source": [
    "## subset and rename"
   ]
  },
  {
   "cell_type": "code",
   "execution_count": null,
   "id": "7eec82ff-d9b0-428f-920a-e498d1b71163",
   "metadata": {
    "tags": []
   },
   "outputs": [],
   "source": [
    "pgs_sub = pgs[['IID', 'Z_norm2']]\n",
    "pgs_sub = pgs_sub.rename(columns = {'IID' : 'eid',\n",
    "                                    'Z_norm2' : 'PGS'})\n",
    "pgs_sub = pgs_sub[~pgs_sub['eid'].str.contains('NA|SS|HG')].astype(int)\n",
    "pgs_sub.head()"
   ]
  },
  {
   "cell_type": "markdown",
   "id": "5fb7d618-6b4a-4aa6-a32d-d340cfbcea46",
   "metadata": {},
   "source": [
    "## merge"
   ]
  },
  {
   "cell_type": "code",
   "execution_count": null,
   "id": "635024f5-c23e-48e6-a8e4-9a6ad1cc9ab9",
   "metadata": {
    "tags": []
   },
   "outputs": [],
   "source": [
    "hf_pgs = raw_housing.merge(pgs_sub, on = 'eid', how = 'inner')\n",
    "print(len(hf_pgs.index))\n",
    "hf_pgs.head()"
   ]
  },
  {
   "cell_type": "markdown",
   "id": "a2df300f-9f88-420e-aa6f-b712af67d186",
   "metadata": {},
   "source": [
    "## drop rows with missing case/control info"
   ]
  },
  {
   "cell_type": "code",
   "execution_count": null,
   "id": "02391033-e1f6-481e-a1f7-f0b1a11e85a8",
   "metadata": {
    "tags": []
   },
   "outputs": [],
   "source": [
    "hf_pgs.dropna(subset = ['HF'], inplace = True)"
   ]
  },
  {
   "cell_type": "markdown",
   "id": "f5ef7cb9-1e7e-4706-8b4a-a3a69280ecc4",
   "metadata": {
    "tags": []
   },
   "source": [
    "## export df"
   ]
  },
  {
   "cell_type": "code",
   "execution_count": null,
   "id": "411d25a0-59d3-4b0d-98b6-ba83cf98c63c",
   "metadata": {
    "tags": []
   },
   "outputs": [],
   "source": [
    "hf_pgs.to_csv('HF_Clinical_PGS.phenotype.csv', index = None)"
   ]
  },
  {
   "cell_type": "code",
   "execution_count": null,
   "id": "5207c60f-c239-4e75-8d9f-09b6ebcfa855",
   "metadata": {
    "tags": []
   },
   "outputs": [],
   "source": [
    "!dx upload HF_Clinical_PGS.phenotype.csv --path project-GgYky4QJj5pkv6G9P8Zp6P26:/HF_Clinical_PGS/input/"
   ]
  },
  {
   "cell_type": "markdown",
   "id": "c2dd0975-96c7-46d1-9114-2e9fa83bd35b",
   "metadata": {
    "tags": []
   },
   "source": [
    "# examine missingness"
   ]
  },
  {
   "cell_type": "markdown",
   "id": "c172c368-e4ff-4c1b-84d7-01c41a64ae74",
   "metadata": {},
   "source": [
    "## create column list to examine"
   ]
  },
  {
   "cell_type": "code",
   "execution_count": null,
   "id": "76d5be05-13e4-41f8-8895-b0e7f3d3da33",
   "metadata": {
    "tags": []
   },
   "outputs": [],
   "source": [
    "col_list = hf_pgs.columns.tolist()\n",
    "remove_list = ['eid', 'HF', 'PGS']\n",
    "for col in remove_list:\n",
    "    col_list.remove(col)"
   ]
  },
  {
   "cell_type": "markdown",
   "id": "da0738d6-8d9c-4f52-924a-aaf91f018ece",
   "metadata": {},
   "source": [
    "## get percent missingness per column"
   ]
  },
  {
   "cell_type": "code",
   "execution_count": null,
   "id": "4c1dac75-42a5-4bdc-b28d-cfa61b1ba3d0",
   "metadata": {
    "tags": []
   },
   "outputs": [],
   "source": [
    "df_list = []\n",
    "\n",
    "for col in col_list:\n",
    "    percent = ((len(hf_pgs[col].dropna().index)) / 430015) * 100\n",
    "    df = pd.DataFrame(data = {'COLUMN' : [col],\n",
    "                              'PERCENT' : [percent]})\n",
    "    df_list.append(df)\n",
    "\n",
    "percent_df = pd.concat(df_list, axis = 0)\n",
    "percent_df"
   ]
  },
  {
   "cell_type": "markdown",
   "id": "509a74f1-98a9-46a7-aeb9-d01f34df5bc5",
   "metadata": {},
   "source": [
    "## export percent missingness file"
   ]
  },
  {
   "cell_type": "code",
   "execution_count": null,
   "id": "8fb8e845-3dd9-4772-8d56-0a1ba32fb403",
   "metadata": {
    "tags": []
   },
   "outputs": [],
   "source": [
    "percent_df.to_csv('UKBB.HF_Clinical_PGS.percent_missingness.csv', index = None)"
   ]
  },
  {
   "cell_type": "code",
   "execution_count": null,
   "id": "1bee911c-4f19-4d0c-a17b-adfc5784cc09",
   "metadata": {
    "tags": []
   },
   "outputs": [],
   "source": [
    "!dx upload UKBB.HF_Clinical_PGS.percent_missingness.csv --path project-GgYky4QJj5pkv6G9P8Zp6P26:/HF_Clinical_PGS/output/"
   ]
  },
  {
   "cell_type": "markdown",
   "id": "54af1822-011d-443e-8497-a837d6b2854a",
   "metadata": {},
   "source": [
    "## remove missing and assess sample size\n",
    "\n",
    "cols to exclude due to high missingness:\n",
    "- PA_dur_stren_sports\n",
    "- PA_freq_stren_sports bc of low percentage"
   ]
  },
  {
   "cell_type": "code",
   "execution_count": null,
   "id": "b66b19e5-5c66-41a0-965e-027c2c305908",
   "metadata": {
    "tags": []
   },
   "outputs": [],
   "source": [
    "remove_list = ['PA_dur_stren_sports', 'PA_freq_stren_sports']\n",
    "for col in remove_list:\n",
    "    col_list.remove(col)"
   ]
  },
  {
   "cell_type": "code",
   "execution_count": null,
   "id": "87c4be7c-f3c1-48f9-984b-af0c3bc7b335",
   "metadata": {
    "tags": []
   },
   "outputs": [],
   "source": [
    "print(len(hf_pgs.index))\n",
    "print(hf_pgs['HF'].value_counts())"
   ]
  },
  {
   "cell_type": "code",
   "execution_count": null,
   "id": "7fbbb364-60e2-473e-a324-4e43f9cbb195",
   "metadata": {
    "tags": []
   },
   "outputs": [],
   "source": [
    "hf_pgs_no_missing = hf_pgs.dropna(subset = col_list)\n",
    "print(len(hf_pgs_no_missing.index))\n",
    "print(hf_pgs_no_missing['HF'].value_counts())"
   ]
  },
  {
   "cell_type": "markdown",
   "id": "1c1f8200-4712-4432-ae67-64ceed0e04b1",
   "metadata": {},
   "source": [
    "## export file"
   ]
  },
  {
   "cell_type": "code",
   "execution_count": null,
   "id": "5fae4168-3b04-4dc9-bd44-3dab271492ff",
   "metadata": {
    "tags": []
   },
   "outputs": [],
   "source": [
    "hf_pgs_no_missing.to_csv('HF_Clinical_PGS.phenotype.no_missing.csv', index = None)"
   ]
  },
  {
   "cell_type": "code",
   "execution_count": null,
   "id": "205d32e3-7e7d-4fb4-a073-c14b1a5767ec",
   "metadata": {
    "tags": []
   },
   "outputs": [],
   "source": [
    "!dx upload HF_Clinical_PGS.phenotype.no_missing.csv --path project-GgYky4QJj5pkv6G9P8Zp6P26:/HF_Clinical_PGS/input/"
   ]
  },
  {
   "cell_type": "markdown",
   "id": "c79e69df-819f-40e4-a1a3-f7a8e4930acc",
   "metadata": {
    "tags": []
   },
   "source": [
    "# transform variables"
   ]
  },
  {
   "cell_type": "markdown",
   "id": "88a06f2d-634a-4eab-8726-a1c2659b03b6",
   "metadata": {},
   "source": [
    "## create functions"
   ]
  },
  {
   "cell_type": "markdown",
   "id": "47830c80-b040-4d70-9627-2347c3d4dad8",
   "metadata": {},
   "source": [
    "### inverse normal transformtion"
   ]
  },
  {
   "cell_type": "code",
   "execution_count": null,
   "id": "07cdfe89-61ac-430b-bb8a-7385717120d1",
   "metadata": {
    "tags": []
   },
   "outputs": [],
   "source": [
    "def inverse_normal_transform(x):\n",
    "    \"\"\"Applies rank-based inverse normal transformation.\"\"\"\n",
    "    ranks = x.rank(method='average', na_option='keep')\n",
    "    n = ranks.notna().sum()\n",
    "    transformed = norm.ppf((ranks - 0.5) / n)\n",
    "    return transformed"
   ]
  },
  {
   "cell_type": "markdown",
   "id": "2625359b-d6be-40ab-b8a2-a7683635980f",
   "metadata": {},
   "source": [
    "### scaler"
   ]
  },
  {
   "cell_type": "code",
   "execution_count": null,
   "id": "763d9967-d7f8-4845-a2cb-b3d7b19d0c54",
   "metadata": {
    "tags": []
   },
   "outputs": [],
   "source": [
    "scaler = MinMaxScaler()"
   ]
  },
  {
   "cell_type": "markdown",
   "id": "01832273-9b35-4d89-bfce-694d9fb83639",
   "metadata": {
    "tags": []
   },
   "source": [
    "## CRS variables"
   ]
  },
  {
   "cell_type": "markdown",
   "id": "88fb8c67-54f6-407b-bf01-64a3120f6bd9",
   "metadata": {},
   "source": [
    "### triglycerides"
   ]
  },
  {
   "cell_type": "code",
   "execution_count": null,
   "id": "4c515d0e-3ca9-435a-9c35-8bca62db11e7",
   "metadata": {
    "tags": []
   },
   "outputs": [],
   "source": [
    "sns.kdeplot(hf_pgs_no_missing['TRIG'], fill=True)\n",
    "plt.show()\n",
    "hf_pgs_no_missing['TRIG_INV_NORMAL'] = inverse_normal_transform(hf_pgs_no_missing['TRIG'])\n",
    "sns.kdeplot(hf_pgs_no_missing['TRIG_INV_NORMAL'], fill=True)\n",
    "plt.show()\n",
    "hf_pgs_no_missing['TRIG_INV_NORMAL_SCALE'] = scaler.fit_transform(hf_pgs_no_missing[['TRIG_INV_NORMAL']])\n",
    "sns.kdeplot(hf_pgs_no_missing['TRIG_INV_NORMAL_SCALE'], fill=True)\n",
    "plt.show()\n",
    "hf_pgs_no_missing = hf_pgs_no_missing.drop(columns = ['TRIG', 'TRIG_INV_NORMAL'])"
   ]
  },
  {
   "cell_type": "markdown",
   "id": "57c2280e-2d11-451c-8587-17b9114489ac",
   "metadata": {},
   "source": [
    "### ldl"
   ]
  },
  {
   "cell_type": "code",
   "execution_count": null,
   "id": "c92ba8fd-bac1-40bc-a1b7-f9cba816e51a",
   "metadata": {
    "tags": []
   },
   "outputs": [],
   "source": [
    "hf_pgs_no_missing['LDL_INV_NORMAL'] = inverse_normal_transform(hf_pgs_no_missing['LDL'])\n",
    "hf_pgs_no_missing['LDL_INV_NORMAL_SCALE'] = scaler.fit_transform(hf_pgs_no_missing[['LDL_INV_NORMAL']])\n",
    "hf_pgs_no_missing = hf_pgs_no_missing.drop(columns = ['LDL', 'LDL_INV_NORMAL'])"
   ]
  },
  {
   "cell_type": "markdown",
   "id": "19e04377-7884-4fcb-a4fe-2f28aaa1fad6",
   "metadata": {},
   "source": [
    "### hdl"
   ]
  },
  {
   "cell_type": "code",
   "execution_count": null,
   "id": "2b83da15-afd1-4e21-a1cf-012c88a5b4f8",
   "metadata": {
    "tags": []
   },
   "outputs": [],
   "source": [
    "hf_pgs_no_missing['HDL_INV_NORMAL'] = inverse_normal_transform(hf_pgs_no_missing['HDL'])\n",
    "hf_pgs_no_missing['HDL_INV_NORMAL_SCALE'] = scaler.fit_transform(hf_pgs_no_missing[['HDL_INV_NORMAL']])\n",
    "hf_pgs_no_missing = hf_pgs_no_missing.drop(columns = ['HDL', 'HDL_INV_NORMAL'])"
   ]
  },
  {
   "cell_type": "markdown",
   "id": "f3722ebe-c8e2-4723-8b2f-4710ffd977be",
   "metadata": {},
   "source": [
    "### hba1c"
   ]
  },
  {
   "cell_type": "code",
   "execution_count": null,
   "id": "85fd98e9-3da6-4e2b-b8fc-bfd57cd58924",
   "metadata": {
    "tags": []
   },
   "outputs": [],
   "source": [
    "hf_pgs_no_missing['HbA1c_INV_NORMAL'] = inverse_normal_transform(hf_pgs_no_missing['HbA1c'])\n",
    "hf_pgs_no_missing['HbA1c_INV_NORMAL_SCALE'] = scaler.fit_transform(hf_pgs_no_missing[['HbA1c_INV_NORMAL']])\n",
    "hf_pgs_no_missing = hf_pgs_no_missing.drop(columns = ['HbA1c', 'HbA1c_INV_NORMAL'])"
   ]
  },
  {
   "cell_type": "markdown",
   "id": "ddd5cd0b-3cc9-4816-b79e-4810738ee9c1",
   "metadata": {},
   "source": [
    "### glucose"
   ]
  },
  {
   "cell_type": "code",
   "execution_count": null,
   "id": "d2d9754f-968c-40d4-b1a6-554c9c6014f2",
   "metadata": {
    "tags": []
   },
   "outputs": [],
   "source": [
    "hf_pgs_no_missing['GLUCOSE_INV_NORMAL'] = inverse_normal_transform(hf_pgs_no_missing['GLUCOSE'])\n",
    "hf_pgs_no_missing['GLUCOSE_INV_NORMAL_SCALE'] = scaler.fit_transform(hf_pgs_no_missing[['GLUCOSE_INV_NORMAL']])\n",
    "hf_pgs_no_missing = hf_pgs_no_missing.drop(columns = ['GLUCOSE', 'GLUCOSE_INV_NORMAL'])"
   ]
  },
  {
   "cell_type": "markdown",
   "id": "08403fd6-0897-4adc-8504-b8b85157af63",
   "metadata": {},
   "source": [
    "### SBP"
   ]
  },
  {
   "cell_type": "code",
   "execution_count": null,
   "id": "3ee9ffda-8633-4e83-beb0-be23b2d7d18a",
   "metadata": {
    "tags": []
   },
   "outputs": [],
   "source": [
    "hf_pgs_no_missing['SBP_INV_NORMAL'] = inverse_normal_transform(hf_pgs_no_missing['SBP'])\n",
    "hf_pgs_no_missing['SBP_INV_NORMAL_SCALE'] = scaler.fit_transform(hf_pgs_no_missing[['SBP_INV_NORMAL']])\n",
    "hf_pgs_no_missing = hf_pgs_no_missing.drop(columns = ['SBP', 'SBP_INV_NORMAL'])"
   ]
  },
  {
   "cell_type": "markdown",
   "id": "336667d5-003e-4fc8-876f-62ee527bd0b6",
   "metadata": {},
   "source": [
    "### DBP"
   ]
  },
  {
   "cell_type": "code",
   "execution_count": null,
   "id": "750cdcf0-7046-49a5-8822-4af1b80d9aad",
   "metadata": {
    "tags": []
   },
   "outputs": [],
   "source": [
    "hf_pgs_no_missing['DBP_INV_NORMAL'] = inverse_normal_transform(hf_pgs_no_missing['DBP'])\n",
    "hf_pgs_no_missing['DBP_INV_NORMAL_SCALE'] = scaler.fit_transform(hf_pgs_no_missing[['DBP_INV_NORMAL']])\n",
    "hf_pgs_no_missing = hf_pgs_no_missing.drop(columns = ['DBP', 'DBP_INV_NORMAL'])"
   ]
  },
  {
   "cell_type": "markdown",
   "id": "952caf9d-5b03-4fe9-a6e7-4b44ba7b65fc",
   "metadata": {},
   "source": [
    "## PXS variables"
   ]
  },
  {
   "cell_type": "markdown",
   "id": "6116e1ef-9d19-4696-8ee8-87176ce774d2",
   "metadata": {},
   "source": [
    "### BMI"
   ]
  },
  {
   "cell_type": "code",
   "execution_count": null,
   "id": "ed0ae11c-f8cc-4f32-b639-340b94643d02",
   "metadata": {
    "tags": []
   },
   "outputs": [],
   "source": [
    "hf_pgs_no_missing['BMI_INV_NORMAL'] = inverse_normal_transform(hf_pgs_no_missing['BMI'])\n",
    "hf_pgs_no_missing['BMI_INV_NORMAL_SCALE'] = scaler.fit_transform(hf_pgs_no_missing[['BMI_INV_NORMAL']])\n",
    "sns.kdeplot(hf_pgs_no_missing['BMI_INV_NORMAL_SCALE'], fill=True)\n",
    "plt.show()\n",
    "hf_pgs_no_missing = hf_pgs_no_missing.drop(columns = ['BMI', 'BMI_INV_NORMAL'])"
   ]
  },
  {
   "cell_type": "markdown",
   "id": "72d688a6-ed51-4757-8198-ca191cf23e09",
   "metadata": {},
   "source": [
    "### smoking"
   ]
  },
  {
   "cell_type": "code",
   "execution_count": null,
   "id": "d81428cd-611c-4f03-8757-c9dd331823d4",
   "metadata": {
    "tags": []
   },
   "outputs": [],
   "source": [
    "hf_pgs_no_missing['SMOKING_SCALE'] = scaler.fit_transform(hf_pgs_no_missing[['SMOKING']])\n",
    "sns.kdeplot(hf_pgs_no_missing['SMOKING_SCALE'], fill=True)\n",
    "plt.show()\n",
    "hf_pgs_no_missing = hf_pgs_no_missing.drop(columns = ['SMOKING'])"
   ]
  },
  {
   "cell_type": "markdown",
   "id": "010a6477-0d21-4828-8a82-42c8ae539654",
   "metadata": {},
   "source": [
    "### income"
   ]
  },
  {
   "cell_type": "code",
   "execution_count": null,
   "id": "9b5f921f-d679-4f0c-af15-de2df00df8e6",
   "metadata": {
    "tags": []
   },
   "outputs": [],
   "source": [
    "hf_pgs_no_missing['INCOME_SCALE'] = scaler.fit_transform(hf_pgs_no_missing[['INCOME']])\n",
    "hf_pgs_no_missing = hf_pgs_no_missing.drop(columns = ['INCOME'])"
   ]
  },
  {
   "cell_type": "markdown",
   "id": "8c472104-8aca-44cc-9e2a-eb830258811e",
   "metadata": {},
   "source": [
    "### education"
   ]
  },
  {
   "cell_type": "code",
   "execution_count": null,
   "id": "39c1f861-6f67-4dcc-a20c-f264aaac0f2a",
   "metadata": {
    "tags": []
   },
   "outputs": [],
   "source": [
    "hf_pgs_no_missing['EDUCATION_SCALE'] = scaler.fit_transform(hf_pgs_no_missing[['EDUCATION']])\n",
    "hf_pgs_no_missing = hf_pgs_no_missing.drop(columns = ['EDUCATION'])"
   ]
  },
  {
   "cell_type": "markdown",
   "id": "83296e4e-0657-4a86-887f-cc9189cf970f",
   "metadata": {},
   "source": [
    "### housing"
   ]
  },
  {
   "cell_type": "code",
   "execution_count": null,
   "id": "61cbbcc6-595f-4c54-b7ad-be3bfb347987",
   "metadata": {
    "tags": []
   },
   "outputs": [],
   "source": [
    "hf_pgs.dropna(subset = col_list)['HOUSING'].unique()"
   ]
  },
  {
   "cell_type": "code",
   "execution_count": null,
   "id": "bae6adaf-3475-439f-826d-b3f8f4803366",
   "metadata": {
    "tags": []
   },
   "outputs": [],
   "source": [
    "hf_pgs_no_missing['HOUSING_SCALE'] = scaler.fit_transform(hf_pgs_no_missing[['HOUSING']])\n",
    "sns.kdeplot(hf_pgs_no_missing['HOUSING_SCALE'], fill=True)\n",
    "plt.show()\n",
    "hf_pgs_no_missing = hf_pgs_no_missing.drop(columns = ['HOUSING'])"
   ]
  },
  {
   "cell_type": "markdown",
   "id": "0b0915c5-92b5-4dba-86d9-9eaeee38186a",
   "metadata": {},
   "source": [
    "### Townsend deprivation index"
   ]
  },
  {
   "cell_type": "code",
   "execution_count": null,
   "id": "5df603c3-c998-4820-a346-6b9d93034e3f",
   "metadata": {
    "tags": []
   },
   "outputs": [],
   "source": [
    "sns.kdeplot(hf_pgs_no_missing['TOWNSEND_DEP_INDEX'], fill = True)\n",
    "plt.show()\n",
    "hf_pgs_no_missing['TOWNSEND_DEP_INDEX_INV_NORMAL'] = inverse_normal_transform(hf_pgs_no_missing['TOWNSEND_DEP_INDEX'])\n",
    "sns.kdeplot(hf_pgs_no_missing['TOWNSEND_DEP_INDEX_INV_NORMAL'], fill = True)\n",
    "plt.show()\n",
    "hf_pgs_no_missing['TOWNSEND_DEP_INDEX_INV_NORMAL_SCALE'] = scaler.fit_transform(hf_pgs_no_missing[['TOWNSEND_DEP_INDEX_INV_NORMAL']])\n",
    "sns.kdeplot(hf_pgs_no_missing['TOWNSEND_DEP_INDEX_INV_NORMAL_SCALE'], fill = True)\n",
    "plt.show()\n",
    "hf_pgs_no_missing = hf_pgs_no_missing.drop(columns = ['TOWNSEND_DEP_INDEX', 'TOWNSEND_DEP_INDEX_INV_NORMAL'])"
   ]
  },
  {
   "cell_type": "markdown",
   "id": "22e6911d-d4c0-4a1f-88db-eb6eb7f44950",
   "metadata": {},
   "source": [
    "### physical activity"
   ]
  },
  {
   "cell_type": "code",
   "execution_count": null,
   "id": "b2b16d0c-c748-482f-aca3-1b48fe39ef72",
   "metadata": {
    "tags": []
   },
   "outputs": [],
   "source": [
    "[col for col in hf_pgs_no_missing.columns if 'PA' in col]"
   ]
  },
  {
   "cell_type": "markdown",
   "id": "134c60fd-26a5-4084-bae6-11f7bd4ab047",
   "metadata": {},
   "source": [
    "#### PA_met_mins_week_mod"
   ]
  },
  {
   "cell_type": "code",
   "execution_count": null,
   "id": "1412fd67-6608-43fc-82e0-5f49516d75ea",
   "metadata": {
    "tags": []
   },
   "outputs": [],
   "source": [
    "hf_pgs_no_missing['PA_met_mins_week_mod_INV_NORMAL'] = inverse_normal_transform(hf_pgs_no_missing['PA_met_mins_week_mod'])\n",
    "hf_pgs_no_missing['PA_met_mins_week_mod_INV_NORMAL_SCALE'] = scaler.fit_transform(hf_pgs_no_missing[['PA_met_mins_week_mod_INV_NORMAL']])\n",
    "sns.kdeplot(hf_pgs_no_missing['PA_met_mins_week_mod_INV_NORMAL_SCALE'], fill = True)\n",
    "plt.show()\n",
    "hf_pgs_no_missing = hf_pgs_no_missing.drop(columns = ['PA_met_mins_week_mod', 'PA_met_mins_week_mod_INV_NORMAL'])"
   ]
  },
  {
   "cell_type": "markdown",
   "id": "422b1df7-86de-44a9-8654-abfb51106474",
   "metadata": {},
   "source": [
    "#### PA_met_mins_week_vig"
   ]
  },
  {
   "cell_type": "code",
   "execution_count": null,
   "id": "25ecdaba-5dd3-4a3e-ab68-fba31af486bb",
   "metadata": {
    "tags": []
   },
   "outputs": [],
   "source": [
    "hf_pgs_no_missing['PA_met_mins_week_vig_INV_NORMAL'] = inverse_normal_transform(hf_pgs_no_missing['PA_met_mins_week_vig'])\n",
    "hf_pgs_no_missing['PA_met_mins_week_vig_INV_NORMAL_SCALE'] = scaler.fit_transform(hf_pgs_no_missing[['PA_met_mins_week_vig_INV_NORMAL']])\n",
    "hf_pgs_no_missing = hf_pgs_no_missing.drop(columns = ['PA_met_mins_week_vig', 'PA_met_mins_week_vig_INV_NORMAL'])"
   ]
  },
  {
   "cell_type": "markdown",
   "id": "5a3d9ef2-7847-455f-b349-fd4399014940",
   "metadata": {},
   "source": [
    "#### PA_met_mins_week_walk"
   ]
  },
  {
   "cell_type": "code",
   "execution_count": null,
   "id": "1ae8be25-3810-4e08-b9b7-e31a21c80693",
   "metadata": {
    "tags": []
   },
   "outputs": [],
   "source": [
    "hf_pgs_no_missing['PA_met_mins_week_walk_INV_NORMAL'] = inverse_normal_transform(hf_pgs_no_missing['PA_met_mins_week_walk'])\n",
    "hf_pgs_no_missing['PA_met_mins_week_walk_INV_NORMAL_SCALE'] = scaler.fit_transform(hf_pgs_no_missing[['PA_met_mins_week_walk_INV_NORMAL']])\n",
    "hf_pgs_no_missing = hf_pgs_no_missing.drop(columns = ['PA_met_mins_week_walk', 'PA_met_mins_week_walk_INV_NORMAL'])"
   ]
  },
  {
   "cell_type": "markdown",
   "id": "edae7ad6-14e4-475c-854a-5aeee6f246c2",
   "metadata": {},
   "source": [
    "#### PA_sum_met_mins_week"
   ]
  },
  {
   "cell_type": "code",
   "execution_count": null,
   "id": "bf39cafa-176c-441b-8176-0a8b085a3b19",
   "metadata": {
    "tags": []
   },
   "outputs": [],
   "source": [
    "hf_pgs_no_missing['PA_sum_met_mins_week_INV_NORMAL'] = inverse_normal_transform(hf_pgs_no_missing['PA_sum_met_mins_week'])\n",
    "hf_pgs_no_missing['PA_sum_met_mins_week_INV_NORMAL_SCALE'] = scaler.fit_transform(hf_pgs_no_missing[['PA_sum_met_mins_week_INV_NORMAL']])\n",
    "hf_pgs_no_missing = hf_pgs_no_missing.drop(columns = ['PA_sum_met_mins_week', 'PA_sum_met_mins_week_INV_NORMAL'])"
   ]
  },
  {
   "cell_type": "markdown",
   "id": "8ac4e17d-b8be-4236-a2bd-857c4be7dd50",
   "metadata": {},
   "source": [
    "#### PA_sum_days_activity"
   ]
  },
  {
   "cell_type": "code",
   "execution_count": null,
   "id": "d669a2f6-4900-4048-a845-574d8ba3b1f2",
   "metadata": {
    "tags": []
   },
   "outputs": [],
   "source": [
    "hf_pgs_no_missing['PA_sum_days_activity_INV_NORMAL'] = inverse_normal_transform(hf_pgs_no_missing['PA_sum_days_activity'])\n",
    "hf_pgs_no_missing['PA_sum_days_activity_INV_NORMAL_SCALE'] = scaler.fit_transform(hf_pgs_no_missing[['PA_sum_days_activity_INV_NORMAL']])\n",
    "hf_pgs_no_missing = hf_pgs_no_missing.drop(columns = ['PA_sum_days_activity', 'PA_sum_days_activity_INV_NORMAL'])"
   ]
  },
  {
   "cell_type": "markdown",
   "id": "ba7d1424-e50e-409f-bbff-bf2424259bcb",
   "metadata": {},
   "source": [
    "#### PA_sum_min_activity"
   ]
  },
  {
   "cell_type": "code",
   "execution_count": null,
   "id": "037619df-ad6e-4255-ba27-d4cddef753fc",
   "metadata": {
    "tags": []
   },
   "outputs": [],
   "source": [
    "hf_pgs_no_missing['PA_sum_min_activity_INV_NORMAL'] = inverse_normal_transform(hf_pgs_no_missing['PA_sum_min_activity'])\n",
    "hf_pgs_no_missing['PA_sum_min_activity_INV_NORMAL_SCALE'] = scaler.fit_transform(hf_pgs_no_missing[['PA_sum_min_activity_INV_NORMAL']])\n",
    "hf_pgs_no_missing = hf_pgs_no_missing.drop(columns = ['PA_sum_min_activity', 'PA_sum_min_activity_INV_NORMAL'])"
   ]
  },
  {
   "cell_type": "markdown",
   "id": "379fd64b-52e6-4177-9adb-221de46a974c",
   "metadata": {},
   "source": [
    "#### PA_dur_heavy_diy"
   ]
  },
  {
   "cell_type": "code",
   "execution_count": null,
   "id": "018a420d-9e0f-4751-9dfd-499002ccdbb9",
   "metadata": {
    "tags": []
   },
   "outputs": [],
   "source": [
    "hf_pgs_no_missing['PA_dur_heavy_diy_SCALE'] = scaler.fit_transform(hf_pgs_no_missing[['PA_dur_heavy_diy']])\n",
    "hf_pgs_no_missing = hf_pgs_no_missing.drop(columns = ['PA_dur_heavy_diy'])"
   ]
  },
  {
   "cell_type": "markdown",
   "id": "79fbc0ff-abc3-4120-90f5-e435f8249eac",
   "metadata": {},
   "source": [
    "#### PA_dur_light_diy"
   ]
  },
  {
   "cell_type": "code",
   "execution_count": null,
   "id": "8669ffa7-21da-4a3c-8982-81e62a024dda",
   "metadata": {
    "tags": []
   },
   "outputs": [],
   "source": [
    "hf_pgs_no_missing['PA_dur_light_diy_SCALE'] = scaler.fit_transform(hf_pgs_no_missing[['PA_dur_light_diy']])\n",
    "sns.kdeplot(hf_pgs_no_missing['PA_dur_light_diy_SCALE'], fill = True)\n",
    "plt.show()\n",
    "hf_pgs_no_missing = hf_pgs_no_missing.drop(columns = ['PA_dur_light_diy'])"
   ]
  },
  {
   "cell_type": "markdown",
   "id": "4edffc3d-a12e-4ced-8772-014b6be8c216",
   "metadata": {},
   "source": [
    "#### PA_dur_mod_activity"
   ]
  },
  {
   "cell_type": "code",
   "execution_count": null,
   "id": "36e51f07-7826-4cb6-8fc3-904e6ff5293f",
   "metadata": {
    "tags": []
   },
   "outputs": [],
   "source": [
    "hf_pgs_no_missing['PA_dur_mod_activity_INV_NORMAL'] = inverse_normal_transform(hf_pgs_no_missing['PA_dur_mod_activity'])\n",
    "hf_pgs_no_missing['PA_dur_mod_activity_INV_NORMAL_SCALE'] = scaler.fit_transform(hf_pgs_no_missing[['PA_dur_mod_activity_INV_NORMAL']])\n",
    "sns.kdeplot(hf_pgs_no_missing['PA_dur_mod_activity_INV_NORMAL_SCALE'], fill = True)\n",
    "plt.show()\n",
    "hf_pgs_no_missing = hf_pgs_no_missing.drop(columns = ['PA_dur_mod_activity', 'PA_dur_mod_activity_INV_NORMAL'])"
   ]
  },
  {
   "cell_type": "markdown",
   "id": "a5ded47c-26ad-439a-bf39-657682658bf0",
   "metadata": {},
   "source": [
    "#### PA_dur_vig_activity"
   ]
  },
  {
   "cell_type": "code",
   "execution_count": null,
   "id": "8ef4d424-56b5-484b-99e3-0db348be0e69",
   "metadata": {
    "tags": []
   },
   "outputs": [],
   "source": [
    "hf_pgs_no_missing['PA_dur_vig_activity_INV_NORMAL'] = inverse_normal_transform(hf_pgs_no_missing['PA_dur_vig_activity'])\n",
    "hf_pgs_no_missing['PA_dur_vig_activity_INV_NORMAL_SCALE'] = scaler.fit_transform(hf_pgs_no_missing[['PA_dur_vig_activity_INV_NORMAL']])\n",
    "hf_pgs_no_missing = hf_pgs_no_missing.drop(columns = ['PA_dur_vig_activity', 'PA_dur_vig_activity_INV_NORMAL'])"
   ]
  },
  {
   "cell_type": "markdown",
   "id": "f9b009f5-516a-457a-b659-f484bde10001",
   "metadata": {},
   "source": [
    "#### PA_dur_walk"
   ]
  },
  {
   "cell_type": "code",
   "execution_count": null,
   "id": "9831ae07-95d0-470c-b68c-e2d0e7adc9ed",
   "metadata": {
    "tags": []
   },
   "outputs": [],
   "source": [
    "hf_pgs_no_missing['PA_dur_walk_INV_NORMAL'] = inverse_normal_transform(hf_pgs_no_missing['PA_dur_walk'])\n",
    "hf_pgs_no_missing['PA_dur_walk_INV_NORMAL_SCALE'] = scaler.fit_transform(hf_pgs_no_missing[['PA_dur_walk_INV_NORMAL']])\n",
    "hf_pgs_no_missing = hf_pgs_no_missing.drop(columns = ['PA_dur_walk', 'PA_dur_walk_INV_NORMAL'])"
   ]
  },
  {
   "cell_type": "markdown",
   "id": "674d62f4-e876-4c56-8d33-8a409462e37a",
   "metadata": {},
   "source": [
    "#### PA_dur_walk_pleasure"
   ]
  },
  {
   "cell_type": "code",
   "execution_count": null,
   "id": "52987060-8a58-4a61-a077-8061d90253cd",
   "metadata": {
    "tags": []
   },
   "outputs": [],
   "source": [
    "hf_pgs_no_missing['PA_dur_walk_pleasure_SCALE'] = scaler.fit_transform(hf_pgs_no_missing[['PA_dur_walk_pleasure']])\n",
    "hf_pgs_no_missing = hf_pgs_no_missing.drop(columns = ['PA_dur_walk_pleasure'])"
   ]
  },
  {
   "cell_type": "markdown",
   "id": "4a451b22-87c8-4a95-b4b3-0b0eab3f078a",
   "metadata": {},
   "source": [
    "#### PA_dur_oth_exercises"
   ]
  },
  {
   "cell_type": "code",
   "execution_count": null,
   "id": "ea3fc8eb-96c2-433d-b38c-60c51440fb6a",
   "metadata": {
    "tags": []
   },
   "outputs": [],
   "source": [
    "hf_pgs_no_missing['PA_dur_oth_exercises_SCALE'] = scaler.fit_transform(hf_pgs_no_missing[['PA_dur_oth_exercises']])\n",
    "hf_pgs_no_missing = hf_pgs_no_missing.drop(columns = ['PA_dur_oth_exercises'])"
   ]
  },
  {
   "cell_type": "markdown",
   "id": "c9c3d9c1-a2ca-46b9-94a6-2284ff2ebb06",
   "metadata": {},
   "source": [
    "#### PA_freq_heavy_diy"
   ]
  },
  {
   "cell_type": "code",
   "execution_count": null,
   "id": "bad9cb8a-f705-4689-9c1b-bde7e43d3315",
   "metadata": {
    "tags": []
   },
   "outputs": [],
   "source": [
    "hf_pgs_no_missing['PA_freq_heavy_diy_SCALE'] = scaler.fit_transform(hf_pgs_no_missing[['PA_freq_heavy_diy']])\n",
    "hf_pgs_no_missing = hf_pgs_no_missing.drop(columns = ['PA_freq_heavy_diy'])"
   ]
  },
  {
   "cell_type": "markdown",
   "id": "f6a1c571-1278-4d2d-97bf-7f4cf1f3c776",
   "metadata": {},
   "source": [
    "#### PA_freq_light_diy"
   ]
  },
  {
   "cell_type": "code",
   "execution_count": null,
   "id": "4de90561-570b-4694-b476-25287fa72dac",
   "metadata": {
    "tags": []
   },
   "outputs": [],
   "source": [
    "hf_pgs_no_missing['PA_freq_light_diy_SCALE'] = scaler.fit_transform(hf_pgs_no_missing[['PA_freq_light_diy']])\n",
    "hf_pgs_no_missing = hf_pgs_no_missing.drop(columns = ['PA_freq_light_diy'])"
   ]
  },
  {
   "cell_type": "markdown",
   "id": "d2e8dd3b-b2a5-4a01-89af-81854af0cda1",
   "metadata": {},
   "source": [
    "#### PA_freq_stair"
   ]
  },
  {
   "cell_type": "code",
   "execution_count": null,
   "id": "6a85f4f0-4861-4bb6-8712-e9854526d7a9",
   "metadata": {
    "tags": []
   },
   "outputs": [],
   "source": [
    "hf_pgs_no_missing['PA_freq_stair_SCALE'] = scaler.fit_transform(hf_pgs_no_missing[['PA_freq_stair']])\n",
    "sns.kdeplot(hf_pgs_no_missing['PA_freq_stair_SCALE'], fill = True)\n",
    "plt.show()\n",
    "hf_pgs_no_missing = hf_pgs_no_missing.drop(columns = ['PA_freq_stair'])"
   ]
  },
  {
   "cell_type": "markdown",
   "id": "ac671b54-2afa-4c75-ab7a-3131a9c7fcc7",
   "metadata": {},
   "source": [
    "#### PA_freq_other_exercises"
   ]
  },
  {
   "cell_type": "code",
   "execution_count": null,
   "id": "a3b75bdd-4fdd-4d87-894b-8ec174b25b33",
   "metadata": {
    "tags": []
   },
   "outputs": [],
   "source": [
    "hf_pgs_no_missing['PA_freq_other_exercises_SCALE'] = scaler.fit_transform(hf_pgs_no_missing[['PA_freq_other_exercises']])\n",
    "hf_pgs_no_missing = hf_pgs_no_missing.drop(columns = ['PA_freq_other_exercises'])"
   ]
  },
  {
   "cell_type": "markdown",
   "id": "27fa8f1e-61ec-411e-8533-04aec00da04b",
   "metadata": {},
   "source": [
    "#### PA_freq_walk_pleasure"
   ]
  },
  {
   "cell_type": "code",
   "execution_count": null,
   "id": "506ac474-ecdd-4928-90d9-3126e08e6137",
   "metadata": {
    "tags": []
   },
   "outputs": [],
   "source": [
    "hf_pgs_no_missing['PA_freq_walk_pleasure_SCALE'] = scaler.fit_transform(hf_pgs_no_missing[['PA_freq_walk_pleasure']])\n",
    "hf_pgs_no_missing = hf_pgs_no_missing.drop(columns = ['PA_freq_walk_pleasure'])"
   ]
  },
  {
   "cell_type": "markdown",
   "id": "e767aa3f-a2de-4aee-a388-228fce4b900a",
   "metadata": {},
   "source": [
    "#### PA_n_days_mod_activity_10+_mins"
   ]
  },
  {
   "cell_type": "code",
   "execution_count": null,
   "id": "a6164be3-fb40-413b-aaf0-2341ad9d068b",
   "metadata": {
    "tags": []
   },
   "outputs": [],
   "source": [
    "hf_pgs_no_missing['PA_n_days_mod_activity_10+_mins_SCALE'] = scaler.fit_transform(hf_pgs_no_missing[['PA_n_days_mod_activity_10+_mins']])\n",
    "hf_pgs_no_missing = hf_pgs_no_missing.drop(columns = ['PA_n_days_mod_activity_10+_mins'])"
   ]
  },
  {
   "cell_type": "markdown",
   "id": "3fde9e78-ba3a-4020-9698-8350cdfa0114",
   "metadata": {},
   "source": [
    "#### PA_n_days_vig_activity_10+_mins"
   ]
  },
  {
   "cell_type": "code",
   "execution_count": null,
   "id": "5b67824e-99cc-4ced-b457-3359a56d384d",
   "metadata": {
    "tags": []
   },
   "outputs": [],
   "source": [
    "hf_pgs_no_missing['PA_n_days_vig_activity_10+_mins_SCALE'] = scaler.fit_transform(hf_pgs_no_missing[['PA_n_days_vig_activity_10+_mins']])\n",
    "hf_pgs_no_missing = hf_pgs_no_missing.drop(columns = ['PA_n_days_vig_activity_10+_mins'])"
   ]
  },
  {
   "cell_type": "markdown",
   "id": "d6ed163c-8647-4b6c-999c-c5bd9136b787",
   "metadata": {},
   "source": [
    "#### PA_n_days_walk_10+_mins"
   ]
  },
  {
   "cell_type": "code",
   "execution_count": null,
   "id": "f85634ee-0042-460d-9422-42dfd76ee7cb",
   "metadata": {
    "tags": []
   },
   "outputs": [],
   "source": [
    "hf_pgs_no_missing['PA_n_days_walk_10+_mins'].unique()"
   ]
  },
  {
   "cell_type": "code",
   "execution_count": null,
   "id": "57035426-d535-46d2-83f9-d2b894712d1c",
   "metadata": {
    "tags": []
   },
   "outputs": [],
   "source": [
    "hf_pgs_no_missing['PA_n_days_walk_10+_mins_SCALE'] = scaler.fit_transform(hf_pgs_no_missing[['PA_n_days_walk_10+_mins']])\n",
    "hf_pgs_no_missing = hf_pgs_no_missing.drop(columns = ['PA_n_days_walk_10+_mins'])"
   ]
  },
  {
   "cell_type": "markdown",
   "id": "81801590-c3c1-4fff-adec-40c0fe2762ff",
   "metadata": {},
   "source": [
    "## drop any remaining columns"
   ]
  },
  {
   "cell_type": "code",
   "execution_count": null,
   "id": "e0c47862-26e5-4764-a119-3c6758510acd",
   "metadata": {
    "tags": []
   },
   "outputs": [],
   "source": [
    "hf_pgs_no_missing.columns"
   ]
  },
  {
   "cell_type": "code",
   "execution_count": null,
   "id": "0530b450-b1c4-460e-b160-47da03a09432",
   "metadata": {
    "tags": []
   },
   "outputs": [],
   "source": [
    "hf_pgs_no_missing = hf_pgs_no_missing.drop(columns = ['PA_dur_stren_sports', 'PA_freq_stren_sports'])"
   ]
  },
  {
   "cell_type": "markdown",
   "id": "35e9f77d-c466-4904-9aa3-2ca50c3fc6eb",
   "metadata": {},
   "source": [
    "## export"
   ]
  },
  {
   "cell_type": "code",
   "execution_count": null,
   "id": "8b2fc74f-ba62-442a-8294-989e71298337",
   "metadata": {
    "tags": []
   },
   "outputs": [],
   "source": [
    "hf_pgs_no_missing.to_csv('HF_Clinical_PGS.phenotype.no_missing.variable_transformation.csv', index = None)"
   ]
  },
  {
   "cell_type": "code",
   "execution_count": null,
   "id": "2656b8f5-fb2e-4dc9-937b-857f226be8fc",
   "metadata": {
    "tags": []
   },
   "outputs": [],
   "source": [
    "!dx upload HF_Clinical_PGS.phenotype.no_missing.variable_transformation.csv --path project-GgYky4QJj5pkv6G9P8Zp6P26:/HF_Clinical_PGS/input/"
   ]
  },
  {
   "cell_type": "markdown",
   "id": "5640a465-bf40-4a3b-9b6b-08cc9ba2b45f",
   "metadata": {
    "tags": []
   },
   "source": [
    "# aggregate results from 1000 training iterations"
   ]
  },
  {
   "cell_type": "markdown",
   "id": "86da8b5d-aec5-4c10-82af-c0ad51b3e3b1",
   "metadata": {},
   "source": [
    "## read in and combine inputs"
   ]
  },
  {
   "cell_type": "code",
   "execution_count": null,
   "id": "4694827c-b7cd-45e7-895a-bbf6eb2f097d",
   "metadata": {
    "tags": []
   },
   "outputs": [],
   "source": [
    "import pandas as pd"
   ]
  },
  {
   "cell_type": "code",
   "execution_count": null,
   "id": "25932182-c011-4527-81ba-f784d6df775e",
   "metadata": {
    "tags": []
   },
   "outputs": [],
   "source": [
    "significant = []\n",
    "insignificant = []\n",
    "important = []\n",
    "unimportant = []\n",
    "beta = []\n",
    "pval = []\n",
    "coef = []\n",
    "\n",
    "for iter in list(range(1, 1001)):\n",
    "    significant_filename = 'training/LR_significant_' + str(iter) + '.txt'\n",
    "    insignificant_filename = 'training/LR_insignificant_' + str(iter) + '.txt'\n",
    "    beta_filename = 'training/LR_beta_' + str(iter) + '.txt'\n",
    "    pval_filename = 'training/LR_pval_' + str(iter) + '.txt'\n",
    "    important_filename = 'training/LASSO_important_' + str(iter) + '.txt'\n",
    "    unimportant_filename = 'training/LASSO_unimportant_' + str(iter) + '.txt'\n",
    "    coef_filename = 'training/LASSO_coef_' + str(iter) + '.txt'\n",
    "    \n",
    "    significant.append(pd.read_csv(significant_filename, sep = '\\t', index_col = 0))\n",
    "    insignificant.append(pd.read_csv(insignificant_filename, sep = '\\t', index_col = 0))\n",
    "    important.append(pd.read_csv(important_filename, sep = '\\t', index_col = 0))\n",
    "    unimportant.append(pd.read_csv(unimportant_filename, sep = '\\t', index_col = 0))\n",
    "    beta.append(pd.read_csv(beta_filename, sep = '\\t', index_col = 0))\n",
    "    pval.append(pd.read_csv(pval_filename, sep = '\\t', index_col = 0))\n",
    "    coef.append(pd.read_csv(coef_filename, sep = '\\t', index_col = 0))\n",
    "\n",
    "significant_df = pd.concat(significant, axis = 1)\n",
    "insignificant_df = pd.concat(insignificant, axis = 1)\n",
    "important_df = pd.concat(important, axis = 1)\n",
    "unimportant_df = pd.concat(unimportant, axis = 1)\n",
    "beta_df = pd.concat(beta, axis = 1)\n",
    "pval_df = pd.concat(pval, axis = 1)\n",
    "coef_df = pd.concat(coef, axis = 1)"
   ]
  },
  {
   "cell_type": "markdown",
   "id": "6ba1fd7d-3278-4dda-a8bf-5f75c4bebd6f",
   "metadata": {},
   "source": [
    "## get number/percent significant"
   ]
  },
  {
   "cell_type": "code",
   "execution_count": null,
   "id": "29b95518-e445-4923-b1d6-4a53dfa0c945",
   "metadata": {
    "tags": []
   },
   "outputs": [],
   "source": [
    "significant_df['num_sig'] = significant_df.notna().sum(axis = 1)\n",
    "significant_df['percent_sig'] = (significant_df['num_sig']/1000) * 100\n",
    "significant_df[['num_sig', 'percent_sig']]"
   ]
  },
  {
   "cell_type": "markdown",
   "id": "ea8fc119-5ae0-4adb-97fd-9989bc8400db",
   "metadata": {},
   "source": [
    "## get number/percent insignificant"
   ]
  },
  {
   "cell_type": "code",
   "execution_count": null,
   "id": "00129ad0-30cc-43c7-8aab-ab6c6222717f",
   "metadata": {
    "tags": []
   },
   "outputs": [],
   "source": [
    "insignificant_df['num_insig'] = insignificant_df.notna().sum(axis = 1)\n",
    "insignificant_df['percent_insig'] = (insignificant_df['num_insig']/1000) * 100\n",
    "insignificant_df[['num_insig', 'percent_insig']]"
   ]
  },
  {
   "cell_type": "markdown",
   "id": "518a38d8-65c9-4ac0-b364-88eaeca714b4",
   "metadata": {},
   "source": [
    "## get number/percent important"
   ]
  },
  {
   "cell_type": "code",
   "execution_count": null,
   "id": "0eaa41c9-b35e-4d72-89de-cfafbef32ef9",
   "metadata": {
    "tags": []
   },
   "outputs": [],
   "source": [
    "important_df['num_important'] = important_df.notna().sum(axis = 1)\n",
    "important_df['percent_important'] = (important_df['num_important']/1000) * 100\n",
    "important_df[['num_important', 'percent_important']]"
   ]
  },
  {
   "cell_type": "markdown",
   "id": "097aa2e8-85a8-4d3b-9548-15728f178f17",
   "metadata": {},
   "source": [
    "## get number/percent unimportant"
   ]
  },
  {
   "cell_type": "code",
   "execution_count": null,
   "id": "4ae30df9-ac8d-4b57-ba86-33c87e3ab016",
   "metadata": {
    "tags": []
   },
   "outputs": [],
   "source": [
    "unimportant_df['num_unimportant'] = unimportant_df.notna().sum(axis = 1)\n",
    "unimportant_df['percent_unimportant'] = (unimportant_df['num_unimportant']/1000) * 100\n",
    "unimportant_df[['num_unimportant', 'percent_unimportant']]"
   ]
  },
  {
   "cell_type": "markdown",
   "id": "a43ef195-9cb3-46c9-93e5-24b3facc0bf4",
   "metadata": {},
   "source": [
    "## calculate mean beta"
   ]
  },
  {
   "cell_type": "code",
   "execution_count": null,
   "id": "5fc09503-5ce2-447f-8561-16fb61d2034a",
   "metadata": {
    "tags": []
   },
   "outputs": [],
   "source": [
    "beta_df['MEAN_BETA'] = beta_df.mean(axis = 1)\n",
    "beta_df[['MEAN_BETA']]"
   ]
  },
  {
   "cell_type": "markdown",
   "id": "e35a7bf4-f617-41ef-aaf7-d49865de9bea",
   "metadata": {},
   "source": [
    "## calculate mean pval"
   ]
  },
  {
   "cell_type": "code",
   "execution_count": null,
   "id": "ff5714b2-90e3-4b61-9f75-a55c4f3b5de4",
   "metadata": {
    "tags": []
   },
   "outputs": [],
   "source": [
    "pval_df['MEAN_PVAL'] = pval_df.mean(axis = 1)\n",
    "pval_df[['MEAN_PVAL']]"
   ]
  },
  {
   "cell_type": "markdown",
   "id": "dd66a96d-ea2f-49e6-b519-a237b63ec6ea",
   "metadata": {},
   "source": [
    "## calculate mean absolute coef"
   ]
  },
  {
   "cell_type": "code",
   "execution_count": null,
   "id": "ceacc25b-82fc-4e30-af6d-9278618d9d5b",
   "metadata": {
    "tags": []
   },
   "outputs": [],
   "source": [
    "coef_df['MEAN_COEF'] = coef_df.abs().mean(axis=1)\n",
    "coef_df[['MEAN_COEF']]"
   ]
  },
  {
   "cell_type": "markdown",
   "id": "df1ab194-ba88-4298-bc42-04b0a32e98d2",
   "metadata": {},
   "source": [
    "## filter columns to sig and important >= 95% time"
   ]
  },
  {
   "cell_type": "code",
   "execution_count": null,
   "id": "1344a5c1-3687-4600-847e-bb3372ca3d97",
   "metadata": {
    "tags": []
   },
   "outputs": [],
   "source": [
    "significant_95 = significant_df[significant_df['percent_sig'] >= 95]\n",
    "significant_95[['num_sig', 'percent_sig']]"
   ]
  },
  {
   "cell_type": "code",
   "execution_count": null,
   "id": "6c5be1f5-4f7e-4d91-bb03-4fb6a862adcc",
   "metadata": {
    "tags": []
   },
   "outputs": [],
   "source": [
    "important_95 = important_df[important_df['percent_important'] >= 95]\n",
    "important_95[['num_important', 'percent_important']]"
   ]
  },
  {
   "cell_type": "code",
   "execution_count": null,
   "id": "edcd9a57-0726-44d6-8368-a8842f4cf76c",
   "metadata": {
    "tags": []
   },
   "outputs": [],
   "source": [
    "print(len(significant_95.index.intersection(important_95.index)))\n",
    "significant_95.index.intersection(important_95.index)"
   ]
  },
  {
   "cell_type": "markdown",
   "id": "3b0d8f4d-576b-4fb6-a3d8-a0d5763b7198",
   "metadata": {},
   "source": [
    "## combine important columns into one df"
   ]
  },
  {
   "cell_type": "code",
   "execution_count": null,
   "id": "68de79af-1e55-463f-85de-92ed1ded600e",
   "metadata": {
    "tags": []
   },
   "outputs": [],
   "source": [
    "sig_sub = significant_df[['percent_sig']]\n",
    "sig_sub.rename(columns = {'percent_sig' : 'PERCENT_SIGNIFICANT'}, inplace = True)\n",
    "important_sub = important_df[['percent_important']]\n",
    "important_sub.rename(columns = {'percent_important' : 'PERCENT_IMPORTANT'}, inplace = True)\n",
    "pval_sub = pval_df[['MEAN_PVAL']]\n",
    "coef_sub = coef_df[['MEAN_COEF']]\n",
    "beta_sub = beta_df[['MEAN_BETA']]\n",
    "sig_important = pd.concat([sig_sub, pval_sub, important_sub, coef_sub, beta_sub], axis = 1)\n",
    "sig_important"
   ]
  },
  {
   "cell_type": "markdown",
   "id": "cac89cdb-9843-441f-b56d-4156e125b1a5",
   "metadata": {},
   "source": [
    "## export dfs"
   ]
  },
  {
   "cell_type": "code",
   "execution_count": null,
   "id": "df4d3ef3-beee-4c58-abdf-09c2311fc999",
   "metadata": {
    "tags": []
   },
   "outputs": [],
   "source": [
    "significant_95_sub = significant_95[['num_sig', 'percent_sig']]\n",
    "significant_95.to_csv('UKBB.significant_vars_95.csv')"
   ]
  },
  {
   "cell_type": "code",
   "execution_count": null,
   "id": "f98279c9-a600-4bef-9fcd-8b4a61fe80f7",
   "metadata": {
    "tags": []
   },
   "outputs": [],
   "source": [
    "important_95_sub = important_95[['num_important', 'percent_important']]\n",
    "important_95.to_csv('UKBB.important_vars_95.csv')"
   ]
  },
  {
   "cell_type": "code",
   "execution_count": null,
   "id": "32999c70-87ef-40e8-a5f6-ba806c207d20",
   "metadata": {
    "tags": []
   },
   "outputs": [],
   "source": [
    "beta_sub = beta_df.drop(columns = ['MEAN_BETA'])\n",
    "beta_df.to_csv('UKBB.LR_beta_all_iter.csv')"
   ]
  },
  {
   "cell_type": "code",
   "execution_count": null,
   "id": "707ff247-77c3-4bbd-b488-bcd98a3c3188",
   "metadata": {
    "tags": []
   },
   "outputs": [],
   "source": [
    "sig_important.to_csv('UKBB.all_vars_significant_important.csv')"
   ]
  },
  {
   "cell_type": "code",
   "execution_count": null,
   "id": "e2579124-aba8-4704-92d0-db1715e3dc11",
   "metadata": {
    "tags": []
   },
   "outputs": [],
   "source": [
    "!dx upload UKBB* --path project-GgYky4QJj5pkv6G9P8Zp6P26:/HF_Clinical_PGS/input/"
   ]
  },
  {
   "cell_type": "markdown",
   "id": "152ba813-ba0a-42b0-9155-1747bdc56156",
   "metadata": {
    "tags": []
   },
   "source": [
    "# aggregate results from 1000 evaluation iterations"
   ]
  },
  {
   "cell_type": "markdown",
   "id": "ad3333f9-f2cc-4d09-8e91-58d360dfad32",
   "metadata": {},
   "source": [
    "## read in and combine results"
   ]
  },
  {
   "cell_type": "code",
   "execution_count": null,
   "id": "b5bb9a4a-0ab4-424c-aca0-bbdd11245d0b",
   "metadata": {
    "tags": []
   },
   "outputs": [],
   "source": [
    "auroc = []\n",
    "auprc = []\n",
    "f1 = []\n",
    "balanced_acc = []\n",
    "\n",
    "for iter in list(range(1, 1001)):\n",
    "    auroc_filename = 'eval/AUROC_' + str(iter) + '.txt'\n",
    "    auprc_filename = 'eval/AUPRC_' + str(iter) + '.txt'\n",
    "    f1_filename = 'eval/F1_SCORE_' + str(iter) + '.txt'\n",
    "    balanced_acc_filename = 'eval/BALANCED_ACCURACY_' + str(iter) + '.txt'\n",
    "    \n",
    "    auroc.append(pd.read_csv(auroc_filename, sep = '\\t', index_col = 0))\n",
    "    auprc.append(pd.read_csv(auprc_filename, sep = '\\t', index_col = 0))\n",
    "    f1.append(pd.read_csv(f1_filename, sep = '\\t', index_col = 0))\n",
    "    balanced_acc.append(pd.read_csv(balanced_acc_filename, sep = '\\t', index_col = 0))\n",
    "\n",
    "auroc_df = pd.concat(auroc, axis = 1)\n",
    "auprc_df = pd.concat(auprc, axis = 1)\n",
    "f1_df = pd.concat(f1, axis = 1)\n",
    "balanced_acc_df = pd.concat(balanced_acc, axis = 1)"
   ]
  },
  {
   "cell_type": "markdown",
   "id": "3320ac55-ed76-4b81-88bf-0138c479cc1f",
   "metadata": {},
   "source": [
    "## compute mean metrics"
   ]
  },
  {
   "cell_type": "markdown",
   "id": "07be7181-6057-44af-8584-f51dc676486f",
   "metadata": {},
   "source": [
    "### auroc"
   ]
  },
  {
   "cell_type": "code",
   "execution_count": null,
   "id": "72687a68-585e-45ac-9207-126e70ed69d5",
   "metadata": {
    "tags": []
   },
   "outputs": [],
   "source": [
    "auroc_df['AUROC'] = auroc_df.mean(axis = 1)\n",
    "auroc_df_sub = auroc_df[['AUROC']]"
   ]
  },
  {
   "cell_type": "markdown",
   "id": "f15ccdbb-72d9-4a75-a140-a6317acdcf2c",
   "metadata": {},
   "source": [
    "### auprc"
   ]
  },
  {
   "cell_type": "code",
   "execution_count": null,
   "id": "2f40c769-9e22-4352-bb37-a13711d039ee",
   "metadata": {
    "tags": []
   },
   "outputs": [],
   "source": [
    "auprc_df['AUPRC'] = auprc_df.mean(axis = 1)\n",
    "auprc_df_sub = auprc_df[['AUPRC']]"
   ]
  },
  {
   "cell_type": "markdown",
   "id": "bb262a2e-a8ee-4b76-9780-bf458adf414c",
   "metadata": {},
   "source": [
    "### f1"
   ]
  },
  {
   "cell_type": "code",
   "execution_count": null,
   "id": "f7e08ec1-9be1-4c06-9b84-a3bb7c043cee",
   "metadata": {
    "tags": []
   },
   "outputs": [],
   "source": [
    "f1_df['F1_SCORE'] = f1_df.mean(axis = 1)\n",
    "f1_df_sub = f1_df[['F1_SCORE']]"
   ]
  },
  {
   "cell_type": "markdown",
   "id": "ddb3c5a4-8032-46b7-b8c8-6d59e19b36df",
   "metadata": {},
   "source": [
    "### balanced accuracy"
   ]
  },
  {
   "cell_type": "code",
   "execution_count": null,
   "id": "9fbf03be-923e-458e-a497-a592ad619a2a",
   "metadata": {
    "tags": []
   },
   "outputs": [],
   "source": [
    "balanced_acc_df['BALANCED_ACCURACY'] = balanced_acc_df.mean(axis = 1)\n",
    "balanced_acc_df_sub = balanced_acc_df[['BALANCED_ACCURACY']]"
   ]
  },
  {
   "cell_type": "markdown",
   "id": "5ad234ab-db36-4dcf-9d22-e1c9a6b7d234",
   "metadata": {},
   "source": [
    "## combine mean columns into one df"
   ]
  },
  {
   "cell_type": "code",
   "execution_count": null,
   "id": "b99e4132-d8e7-49df-9c74-7956a2a80d97",
   "metadata": {
    "tags": []
   },
   "outputs": [],
   "source": [
    "all_metrics = pd.concat([auroc_df_sub, auprc_df_sub, f1_df_sub, balanced_acc_df_sub], axis = 1)\n",
    "all_metrics"
   ]
  },
  {
   "cell_type": "markdown",
   "id": "20d1ab9c-fab9-479b-9aa6-e749049a4e05",
   "metadata": {},
   "source": [
    "## reformat model names"
   ]
  },
  {
   "cell_type": "code",
   "execution_count": null,
   "id": "62d5eefc-433f-4b1e-bede-0e3a2b15f40a",
   "metadata": {
    "tags": []
   },
   "outputs": [],
   "source": [
    "all_metrics.index = all_metrics.index.map(lambda x: x.replace(\"'\", \"\"))\n",
    "all_metrics.index = all_metrics.index.map(lambda x: x.replace(\"(\", \"\"))\n",
    "all_metrics.index = all_metrics.index.map(lambda x: x.replace(\")\", \"\"))\n",
    "all_metrics.index = all_metrics.index.map(lambda x: x.replace(\",\", \" +\"))\n",
    "all_metrics.index = all_metrics.index.map(lambda x: x.replace(\"PGS + T2D + HDL_INV_NORMAL_SCALE + GLUCOSE_INV_NORMAL_SCALE + HbA1c_INV_NORMAL_SCALE + SBP_INV_NORMAL_SCALE + DBP_INV_NORMAL_SCALE + BMI_INV_NORMAL_SCALE + PA_dur_mod_activity_INV_NORMAL_SCALE + PA_met_mins_week_mod_INV_NORMAL_SCALE + INCOME_SCALE + HOUSING_SCALE\",\n",
    "                                                              \"PGS + CRS Risk Factors + PXS Risk Factors\"))\n",
    "all_metrics.index = all_metrics.index.map(lambda x: x.replace(\"T2D + HDL_INV_NORMAL_SCALE + GLUCOSE_INV_NORMAL_SCALE + HbA1c_INV_NORMAL_SCALE + SBP_INV_NORMAL_SCALE + DBP_INV_NORMAL_SCALE + BMI_INV_NORMAL_SCALE + PA_dur_mod_activity_INV_NORMAL_SCALE + PA_met_mins_week_mod_INV_NORMAL_SCALE + INCOME_SCALE + HOUSING_SCALE\",\n",
    "                                                              \"CRS Risk Factors + PXS Risk Factors\"))\n",
    "all_metrics.index = all_metrics.index.map(lambda x: x.replace(\"T2D + HDL_INV_NORMAL_SCALE + GLUCOSE_INV_NORMAL_SCALE + HbA1c_INV_NORMAL_SCALE + SBP_INV_NORMAL_SCALE + DBP_INV_NORMAL_SCALE\",\n",
    "                                                              \"CRS Risk Factors\"))\n",
    "all_metrics.index = all_metrics.index.map(lambda x: x.replace(\"BMI_INV_NORMAL_SCALE + PA_dur_mod_activity_INV_NORMAL_SCALE + PA_met_mins_week_mod_INV_NORMAL_SCALE + INCOME_SCALE + HOUSING_SCALE\",\n",
    "                                                              \"PXS Risk Factors\"))\n",
    "\n",
    "all_metrics"
   ]
  },
  {
   "cell_type": "code",
   "execution_count": null,
   "id": "dfe689b8-371d-44d5-851f-95d23ceab9bc",
   "metadata": {
    "tags": []
   },
   "outputs": [],
   "source": [
    "row_order = ['PGS',\n",
    "            'CRS_SUM',\n",
    "            'CRS_WEIGHTED_SUM',\n",
    "            'PXS_SUM',\n",
    "            'PXS_WEIGHTED_SUM',\n",
    "            'PGS + CRS_SUM',\n",
    "            'PGS + CRS_WEIGHTED_SUM',\n",
    "            'PGS + PXS_SUM',\n",
    "            'PGS + PXS_WEIGHTED_SUM',\n",
    "            'CRS_SUM + PXS_SUM',\n",
    "            'CRS_WEIGHTED_SUM + PXS_WEIGHTED_SUM',\n",
    "            'PGS + CRS_SUM + PXS_SUM',\n",
    "            'PGS + CRS_WEIGHTED_SUM + PXS_WEIGHTED_SUM',\n",
    "            'CRS Risk Factors',\n",
    "            'PXS Risk Factors',\n",
    "            'CRS Risk Factors + PXS Risk Factors',\n",
    "            'PGS + CRS Risk Factors + PXS Risk Factors']"
   ]
  },
  {
   "cell_type": "code",
   "execution_count": null,
   "id": "4b1286ba-e356-405e-895c-377836856775",
   "metadata": {
    "tags": []
   },
   "outputs": [],
   "source": [
    "all_metrics = all_metrics.reindex(row_order)\n",
    "all_metrics"
   ]
  },
  {
   "cell_type": "code",
   "execution_count": null,
   "id": "807daffe-ec24-4e14-a678-fe653eb9a009",
   "metadata": {
    "tags": []
   },
   "outputs": [],
   "source": [
    "all_metrics.index = [f'Model {i + 1}: {idx}' for i, idx in enumerate(all_metrics.index)]\n",
    "all_metrics"
   ]
  },
  {
   "cell_type": "markdown",
   "id": "f62378b8-c799-490b-bbaa-dbfc24192c99",
   "metadata": {},
   "source": [
    "## export file"
   ]
  },
  {
   "cell_type": "code",
   "execution_count": null,
   "id": "2eb92615-6b08-4b07-baf0-643cf4e8af37",
   "metadata": {},
   "outputs": [],
   "source": [
    "all_metrics.to_csv('UKBB.HF_eval_sum.csv')"
   ]
  },
  {
   "cell_type": "code",
   "execution_count": null,
   "id": "5256bf56-ef2c-463d-a6e2-cb8b6ddfe1f9",
   "metadata": {},
   "outputs": [],
   "source": [
    "!dx upload UKBB.HF_eval_sum.csv --path project-GgYky4QJj5pkv6G9P8Zp6P26:/HF_Clinical_PGS/output/"
   ]
  },
  {
   "cell_type": "markdown",
   "id": "cfcb6b18-88b9-40bb-b5d6-932ebdab9060",
   "metadata": {},
   "source": [
    "## make combined eval results with AOU and UKBB"
   ]
  },
  {
   "cell_type": "markdown",
   "id": "ecbf0db3-e537-4424-bbc4-9b02453853dc",
   "metadata": {},
   "source": [
    "### read in input files"
   ]
  },
  {
   "cell_type": "code",
   "execution_count": null,
   "id": "d32acddd-c3c3-45e6-8d0f-5136bca105ab",
   "metadata": {
    "tags": []
   },
   "outputs": [],
   "source": [
    "!dx download project-GgYky4QJj5pkv6G9P8Zp6P26:/HF_Clinical_PGS/output/UKBB.HF_eval_sum.csv"
   ]
  },
  {
   "cell_type": "code",
   "execution_count": null,
   "id": "ba3d781c-4146-40a0-8724-293c0c2d4ef6",
   "metadata": {
    "tags": []
   },
   "outputs": [],
   "source": [
    "!dx download project-GgYky4QJj5pkv6G9P8Zp6P26:/HF_Clinical_PGS/output/AOU.HF_eval_sum.csv"
   ]
  },
  {
   "cell_type": "code",
   "execution_count": null,
   "id": "6f3eca7d-76f6-41fd-b49d-afafe0b373b8",
   "metadata": {
    "tags": []
   },
   "outputs": [],
   "source": [
    "all_metrics_ukbb = pd.read_csv('UKBB.HF_eval_sum.csv', index_col = 0)\n",
    "all_metrics_ukbb"
   ]
  },
  {
   "cell_type": "code",
   "execution_count": null,
   "id": "ff82a48c-09e8-4a6c-af22-7d5d13d500a3",
   "metadata": {
    "tags": []
   },
   "outputs": [],
   "source": [
    "all_metrics_aou = pd.read_csv('AOU.HF_eval_sum.csv', index_col = 0)\n",
    "all_metrics_aou"
   ]
  },
  {
   "cell_type": "markdown",
   "id": "bc63ac65-1414-4641-9648-62e3f86b833a",
   "metadata": {},
   "source": [
    "### convert to 3 decimal places"
   ]
  },
  {
   "cell_type": "code",
   "execution_count": null,
   "id": "654706d4-5f6a-4d9b-9633-c798b686bb35",
   "metadata": {
    "tags": []
   },
   "outputs": [],
   "source": [
    "all_metrics_ukbb = all_metrics_ukbb.round(3)\n",
    "all_metrics_ukbb.head()"
   ]
  },
  {
   "cell_type": "markdown",
   "id": "03d9dc3f-57f1-4236-b17e-f4358c512310",
   "metadata": {},
   "source": [
    "### rename columns"
   ]
  },
  {
   "cell_type": "code",
   "execution_count": null,
   "id": "9cc0fd1a-94c8-4429-b406-ed76feef3eb2",
   "metadata": {
    "tags": []
   },
   "outputs": [],
   "source": [
    "all_metrics_ukbb = all_metrics_ukbb.rename(columns = {'AUROC' : 'AUROC_UKBB',\n",
    "                                                      'AUPRC' : 'AUPRC_UKBB',\n",
    "                                                      'F1_SCORE' : 'F1_SCORE_UKBB',\n",
    "                                                      'BALANCED_ACCURACY' : 'BALANCED_ACCURACY_UKBB'})"
   ]
  },
  {
   "cell_type": "code",
   "execution_count": null,
   "id": "934beaab-e41c-4f6b-84cf-16f3678b6c3d",
   "metadata": {
    "tags": []
   },
   "outputs": [],
   "source": [
    "all_metrics_aou = all_metrics_aou.rename(columns = {'AUROC' : 'AUROC_AOU',\n",
    "                                                      'AUPRC' : 'AUPRC_AOU',\n",
    "                                                      'F1_SCORE' : 'F1_SCORE_AOU',\n",
    "                                                      'BALANCED_ACCURACY' : 'BALANCED_ACCURACY_AOU'})"
   ]
  },
  {
   "cell_type": "markdown",
   "id": "c2a6ec71-0a40-485c-83be-d5b9fd270024",
   "metadata": {},
   "source": [
    "### merge"
   ]
  },
  {
   "cell_type": "code",
   "execution_count": null,
   "id": "c55a3439-298a-4326-8466-3d9ff27e23e0",
   "metadata": {
    "tags": []
   },
   "outputs": [],
   "source": [
    "all_metrics_merge = all_metrics_ukbb.merge(all_metrics_aou, left_index = True, right_index = True)\n",
    "all_metrics_merge"
   ]
  },
  {
   "cell_type": "markdown",
   "id": "acbf15a0-3cbd-49ed-865b-620b860f33b8",
   "metadata": {},
   "source": [
    "### make new columns"
   ]
  },
  {
   "cell_type": "code",
   "execution_count": null,
   "id": "424f6d2e-89a4-480f-8e1b-3c01a3914b39",
   "metadata": {
    "tags": []
   },
   "outputs": [],
   "source": [
    "all_metrics_merge['AUROC'] = all_metrics_merge['AUROC_AOU'].astype(str) + ' / ' + all_metrics_merge['AUROC_UKBB'].astype(str)\n",
    "all_metrics_merge['AUPRC'] = all_metrics_merge['AUPRC_AOU'].astype(str) + ' / ' + all_metrics_merge['AUPRC_UKBB'].astype(str)\n",
    "all_metrics_merge['F1_SCORE'] = all_metrics_merge['F1_SCORE_AOU'].astype(str) + ' / ' + all_metrics_merge['F1_SCORE_UKBB'].astype(str)\n",
    "all_metrics_merge['BALANCED_ACCURACY'] = all_metrics_merge['BALANCED_ACCURACY_AOU'].astype(str) + ' / ' + all_metrics_merge['BALANCED_ACCURACY_UKBB'].astype(str)\n",
    "all_metrics_merge"
   ]
  },
  {
   "cell_type": "markdown",
   "id": "d182780d-704b-47cf-b6ab-843c07fad043",
   "metadata": {},
   "source": [
    "### drop old columns"
   ]
  },
  {
   "cell_type": "code",
   "execution_count": null,
   "id": "fe142c6c-465b-478f-b2a9-deef514b7318",
   "metadata": {
    "tags": []
   },
   "outputs": [],
   "source": [
    "all_metrics_merge = all_metrics_merge[['AUROC', 'AUPRC', 'F1_SCORE', 'BALANCED_ACCURACY']]\n",
    "all_metrics_merge"
   ]
  },
  {
   "cell_type": "markdown",
   "id": "09ae758f-48cc-4fec-8cc4-a1623f3c36da",
   "metadata": {},
   "source": [
    "## export file"
   ]
  },
  {
   "cell_type": "code",
   "execution_count": null,
   "id": "ddbd14f2-2d16-4885-ae2b-46e4e253467c",
   "metadata": {
    "tags": []
   },
   "outputs": [],
   "source": [
    "all_metrics_merge.to_csv('AOU_UKBB.HF_eval_sum.csv')"
   ]
  },
  {
   "cell_type": "code",
   "execution_count": null,
   "id": "ba7a3cd7-afea-4d85-982c-2c361e0c5e26",
   "metadata": {
    "tags": []
   },
   "outputs": [],
   "source": [
    "!dx upload AOU_UKBB.HF_eval_sum.csv --path project-GgYky4QJj5pkv6G9P8Zp6P26:/HF_Clinical_PGS/output/"
   ]
  },
  {
   "cell_type": "markdown",
   "id": "f53fed47-80ab-4caa-b145-d473a082f389",
   "metadata": {},
   "source": [
    "# reupload notebook"
   ]
  },
  {
   "cell_type": "code",
   "execution_count": 1,
   "id": "74a5391f-db3d-4e99-88de-4cc47e3b75d0",
   "metadata": {
    "tags": []
   },
   "outputs": [
    {
     "name": "stdout",
     "output_type": "stream",
     "text": [
      "[===========================================================>] Uploaded 225,467 of 225,467 bytes (100%) HF_Phenotyping.ipynb\n",
      "ID                                file-J3JFBkjJj5pqxV0Z27YG25BP\n",
      "Class                             file\n",
      "Project                           project-GgYky4QJj5pkv6G9P8Zp6P26\n",
      "Folder                            /HF_Clinical_PGS/scripts\n",
      "Name                              HF_Phenotyping.ipynb\n",
      "State                             \u001b[33mclosing\u001b[0m\n",
      "Visibility                        visible\n",
      "Types                             -\n",
      "Properties                        -\n",
      "Tags                              -\n",
      "Outgoing links                    -\n",
      "Created                           Mon Sep 29 16:35:51 2025\n",
      "Created by                        katiecardone26\n",
      " via the job                      job-J3JF2X0Jj5pp4F05q29ZFP7g\n",
      "Last modified                     Mon Sep 29 16:35:51 2025\n",
      "Media type                        \n",
      "archivalState                     \"live\"\n",
      "cloudAccount                      \"cloudaccount-dnanexus\"\n"
     ]
    }
   ],
   "source": [
    "!dx upload HF_Phenotyping.ipynb --path project-GgYky4QJj5pkv6G9P8Zp6P26:/HF_Clinical_PGS/scripts/"
   ]
  },
  {
   "cell_type": "code",
   "execution_count": null,
   "id": "e9f022fc-4d78-4bcc-9129-58325bd46e32",
   "metadata": {},
   "outputs": [],
   "source": []
  }
 ],
 "metadata": {
  "kernelspec": {
   "display_name": "Python 3 (ipykernel)",
   "language": "python",
   "name": "python3"
  },
  "language_info": {
   "codemirror_mode": {
    "name": "ipython",
    "version": 3
   },
   "file_extension": ".py",
   "mimetype": "text/x-python",
   "name": "python",
   "nbconvert_exporter": "python",
   "pygments_lexer": "ipython3",
   "version": "3.12.9"
  }
 },
 "nbformat": 4,
 "nbformat_minor": 5
}
